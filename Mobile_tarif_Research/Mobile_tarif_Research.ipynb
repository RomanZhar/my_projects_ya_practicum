{
 "cells": [
  {
   "cell_type": "markdown",
   "metadata": {},
   "source": [
    "# Determination of a promising tariff for a telecom company #\n",
    "\n",
    "The purpose of the study is to identify the most cost-effective tariff of the two currently existing in the company.  \n",
    "To achieve this goal, we will analyze the behavior of subscribers using one of the studied tariffs.  \n",
    "For the analysis, we will use a data sample of 5,000 subscribers.  \n",
    "\n",
    "Content:\n",
    "1. [Getting to know the data](#paragraph1)  \n",
    " 1.1. [General information](#paragraph1.1)  \n",
    "   1.1.1. [Users](#paragraph1.1.1)  \n",
    "   1.1.2. [Calls](#paragraph1.1.2)  \n",
    "   1.1.3. [Messages](#paragraph1.1.3)  \n",
    "   1.1.4. [Internet](#paragraph1.1.4)  \n",
    "   1.1.5. [Tariffs](#paragraph1.1.5)  \n",
    "2. [Calculation of subscribers expenses](#paragraph2)  \n",
    "3. [Data analysis](#paragraph3)\n",
    "4. [Description of the client's behavior](#paragraph4)\n",
    "5. [Hypothesis testing](#paragraph5)  \n",
    " 5.1. [The average revenue of users of the \"Ultra\" and \"Smart\" tariffs differs](#paragraph5_1)  \n",
    " 5.2. [The average revenue of users from Moscow differs from the revenue of users from other regions](#paragraph5_2)\n",
    "6. [General conclusion](#paragraph6)\n",
    "   "
   ]
  },
  {
   "cell_type": "markdown",
   "metadata": {},
   "source": [
    "## 1. Getting to know the data  <a name=\"paragraph1\"></a>"
   ]
  },
  {
   "cell_type": "code",
   "execution_count": 1,
   "metadata": {},
   "outputs": [],
   "source": [
    "import pandas as pd\n",
    "import numpy as np\n",
    "import matplotlib.pyplot as plt\n",
    "\n"
   ]
  },
  {
   "cell_type": "markdown",
   "metadata": {},
   "source": [
    "Let's upload the data and take a close look at them:"
   ]
  },
  {
   "cell_type": "code",
   "execution_count": 2,
   "metadata": {},
   "outputs": [],
   "source": [
    "users = pd.read_csv('/datasets/users.csv')\n",
    "calls = pd.read_csv('/datasets/calls.csv')\n",
    "internet = pd.read_csv('/datasets/internet.csv')\n",
    "messages = pd.read_csv('/datasets/messages.csv')\n",
    "tariffs = pd.read_csv('/datasets/tariffs.csv')"
   ]
  },
  {
   "cell_type": "markdown",
   "metadata": {},
   "source": [
    "### 1.1. Let's study the general information and put the data in order  <a name=\"#paragraph1.1\"></a>"
   ]
  },
  {
   "cell_type": "markdown",
   "metadata": {},
   "source": [
    "#### 1.1.1. Users <a name=\"paragraph1.1.1\"></a>"
   ]
  },
  {
   "cell_type": "code",
   "execution_count": 3,
   "metadata": {},
   "outputs": [
    {
     "data": {
      "text/html": [
       "<div>\n",
       "<style scoped>\n",
       "    .dataframe tbody tr th:only-of-type {\n",
       "        vertical-align: middle;\n",
       "    }\n",
       "\n",
       "    .dataframe tbody tr th {\n",
       "        vertical-align: top;\n",
       "    }\n",
       "\n",
       "    .dataframe thead th {\n",
       "        text-align: right;\n",
       "    }\n",
       "</style>\n",
       "<table border=\"1\" class=\"dataframe\">\n",
       "  <thead>\n",
       "    <tr style=\"text-align: right;\">\n",
       "      <th></th>\n",
       "      <th>user_id</th>\n",
       "      <th>age</th>\n",
       "      <th>churn_date</th>\n",
       "      <th>city</th>\n",
       "      <th>first_name</th>\n",
       "      <th>last_name</th>\n",
       "      <th>reg_date</th>\n",
       "      <th>tariff</th>\n",
       "    </tr>\n",
       "  </thead>\n",
       "  <tbody>\n",
       "    <tr>\n",
       "      <td>0</td>\n",
       "      <td>1000</td>\n",
       "      <td>52</td>\n",
       "      <td>NaN</td>\n",
       "      <td>Краснодар</td>\n",
       "      <td>Рафаил</td>\n",
       "      <td>Верещагин</td>\n",
       "      <td>2018-05-25</td>\n",
       "      <td>ultra</td>\n",
       "    </tr>\n",
       "    <tr>\n",
       "      <td>1</td>\n",
       "      <td>1001</td>\n",
       "      <td>41</td>\n",
       "      <td>NaN</td>\n",
       "      <td>Москва</td>\n",
       "      <td>Иван</td>\n",
       "      <td>Ежов</td>\n",
       "      <td>2018-11-01</td>\n",
       "      <td>smart</td>\n",
       "    </tr>\n",
       "    <tr>\n",
       "      <td>2</td>\n",
       "      <td>1002</td>\n",
       "      <td>59</td>\n",
       "      <td>NaN</td>\n",
       "      <td>Стерлитамак</td>\n",
       "      <td>Евгений</td>\n",
       "      <td>Абрамович</td>\n",
       "      <td>2018-06-17</td>\n",
       "      <td>smart</td>\n",
       "    </tr>\n",
       "    <tr>\n",
       "      <td>3</td>\n",
       "      <td>1003</td>\n",
       "      <td>23</td>\n",
       "      <td>NaN</td>\n",
       "      <td>Москва</td>\n",
       "      <td>Белла</td>\n",
       "      <td>Белякова</td>\n",
       "      <td>2018-08-17</td>\n",
       "      <td>ultra</td>\n",
       "    </tr>\n",
       "    <tr>\n",
       "      <td>4</td>\n",
       "      <td>1004</td>\n",
       "      <td>68</td>\n",
       "      <td>NaN</td>\n",
       "      <td>Новокузнецк</td>\n",
       "      <td>Татьяна</td>\n",
       "      <td>Авдеенко</td>\n",
       "      <td>2018-05-14</td>\n",
       "      <td>ultra</td>\n",
       "    </tr>\n",
       "    <tr>\n",
       "      <td>5</td>\n",
       "      <td>1005</td>\n",
       "      <td>67</td>\n",
       "      <td>NaN</td>\n",
       "      <td>Набережные Челны</td>\n",
       "      <td>Афанасий</td>\n",
       "      <td>Горлов</td>\n",
       "      <td>2018-01-25</td>\n",
       "      <td>smart</td>\n",
       "    </tr>\n",
       "    <tr>\n",
       "      <td>6</td>\n",
       "      <td>1006</td>\n",
       "      <td>21</td>\n",
       "      <td>NaN</td>\n",
       "      <td>Ульяновск</td>\n",
       "      <td>Леонид</td>\n",
       "      <td>Ермолаев</td>\n",
       "      <td>2018-02-26</td>\n",
       "      <td>smart</td>\n",
       "    </tr>\n",
       "    <tr>\n",
       "      <td>7</td>\n",
       "      <td>1007</td>\n",
       "      <td>65</td>\n",
       "      <td>NaN</td>\n",
       "      <td>Москва</td>\n",
       "      <td>Юна</td>\n",
       "      <td>Березина</td>\n",
       "      <td>2018-04-19</td>\n",
       "      <td>smart</td>\n",
       "    </tr>\n",
       "    <tr>\n",
       "      <td>8</td>\n",
       "      <td>1008</td>\n",
       "      <td>63</td>\n",
       "      <td>NaN</td>\n",
       "      <td>Челябинск</td>\n",
       "      <td>Рустэм</td>\n",
       "      <td>Пономарёв</td>\n",
       "      <td>2018-12-19</td>\n",
       "      <td>smart</td>\n",
       "    </tr>\n",
       "    <tr>\n",
       "      <td>9</td>\n",
       "      <td>1009</td>\n",
       "      <td>24</td>\n",
       "      <td>NaN</td>\n",
       "      <td>Пермь</td>\n",
       "      <td>Василиса</td>\n",
       "      <td>Блинова</td>\n",
       "      <td>2018-03-22</td>\n",
       "      <td>smart</td>\n",
       "    </tr>\n",
       "  </tbody>\n",
       "</table>\n",
       "</div>"
      ],
      "text/plain": [
       "   user_id  age churn_date              city first_name  last_name  \\\n",
       "0     1000   52        NaN         Краснодар     Рафаил  Верещагин   \n",
       "1     1001   41        NaN            Москва       Иван       Ежов   \n",
       "2     1002   59        NaN       Стерлитамак    Евгений  Абрамович   \n",
       "3     1003   23        NaN            Москва      Белла   Белякова   \n",
       "4     1004   68        NaN       Новокузнецк    Татьяна   Авдеенко   \n",
       "5     1005   67        NaN  Набережные Челны   Афанасий     Горлов   \n",
       "6     1006   21        NaN         Ульяновск     Леонид   Ермолаев   \n",
       "7     1007   65        NaN            Москва        Юна   Березина   \n",
       "8     1008   63        NaN         Челябинск     Рустэм  Пономарёв   \n",
       "9     1009   24        NaN             Пермь   Василиса    Блинова   \n",
       "\n",
       "     reg_date tariff  \n",
       "0  2018-05-25  ultra  \n",
       "1  2018-11-01  smart  \n",
       "2  2018-06-17  smart  \n",
       "3  2018-08-17  ultra  \n",
       "4  2018-05-14  ultra  \n",
       "5  2018-01-25  smart  \n",
       "6  2018-02-26  smart  \n",
       "7  2018-04-19  smart  \n",
       "8  2018-12-19  smart  \n",
       "9  2018-03-22  smart  "
      ]
     },
     "execution_count": 3,
     "metadata": {},
     "output_type": "execute_result"
    }
   ],
   "source": [
    "users.head(10)"
   ]
  },
  {
   "cell_type": "code",
   "execution_count": 4,
   "metadata": {},
   "outputs": [
    {
     "data": {
      "text/html": [
       "<div>\n",
       "<style scoped>\n",
       "    .dataframe tbody tr th:only-of-type {\n",
       "        vertical-align: middle;\n",
       "    }\n",
       "\n",
       "    .dataframe tbody tr th {\n",
       "        vertical-align: top;\n",
       "    }\n",
       "\n",
       "    .dataframe thead th {\n",
       "        text-align: right;\n",
       "    }\n",
       "</style>\n",
       "<table border=\"1\" class=\"dataframe\">\n",
       "  <thead>\n",
       "    <tr style=\"text-align: right;\">\n",
       "      <th></th>\n",
       "      <th>user_id</th>\n",
       "      <th>age</th>\n",
       "    </tr>\n",
       "  </thead>\n",
       "  <tbody>\n",
       "    <tr>\n",
       "      <td>count</td>\n",
       "      <td>500.000000</td>\n",
       "      <td>500.00000</td>\n",
       "    </tr>\n",
       "    <tr>\n",
       "      <td>mean</td>\n",
       "      <td>1249.500000</td>\n",
       "      <td>46.58800</td>\n",
       "    </tr>\n",
       "    <tr>\n",
       "      <td>std</td>\n",
       "      <td>144.481833</td>\n",
       "      <td>16.66763</td>\n",
       "    </tr>\n",
       "    <tr>\n",
       "      <td>min</td>\n",
       "      <td>1000.000000</td>\n",
       "      <td>18.00000</td>\n",
       "    </tr>\n",
       "    <tr>\n",
       "      <td>25%</td>\n",
       "      <td>1124.750000</td>\n",
       "      <td>32.00000</td>\n",
       "    </tr>\n",
       "    <tr>\n",
       "      <td>50%</td>\n",
       "      <td>1249.500000</td>\n",
       "      <td>46.00000</td>\n",
       "    </tr>\n",
       "    <tr>\n",
       "      <td>75%</td>\n",
       "      <td>1374.250000</td>\n",
       "      <td>62.00000</td>\n",
       "    </tr>\n",
       "    <tr>\n",
       "      <td>max</td>\n",
       "      <td>1499.000000</td>\n",
       "      <td>75.00000</td>\n",
       "    </tr>\n",
       "  </tbody>\n",
       "</table>\n",
       "</div>"
      ],
      "text/plain": [
       "           user_id        age\n",
       "count   500.000000  500.00000\n",
       "mean   1249.500000   46.58800\n",
       "std     144.481833   16.66763\n",
       "min    1000.000000   18.00000\n",
       "25%    1124.750000   32.00000\n",
       "50%    1249.500000   46.00000\n",
       "75%    1374.250000   62.00000\n",
       "max    1499.000000   75.00000"
      ]
     },
     "execution_count": 4,
     "metadata": {},
     "output_type": "execute_result"
    }
   ],
   "source": [
    "users.describe()"
   ]
  },
  {
   "cell_type": "code",
   "execution_count": 5,
   "metadata": {},
   "outputs": [
    {
     "name": "stdout",
     "output_type": "stream",
     "text": [
      "<class 'pandas.core.frame.DataFrame'>\n",
      "RangeIndex: 500 entries, 0 to 499\n",
      "Data columns (total 8 columns):\n",
      "user_id       500 non-null int64\n",
      "age           500 non-null int64\n",
      "churn_date    38 non-null object\n",
      "city          500 non-null object\n",
      "first_name    500 non-null object\n",
      "last_name     500 non-null object\n",
      "reg_date      500 non-null object\n",
      "tariff        500 non-null object\n",
      "dtypes: int64(2), object(6)\n",
      "memory usage: 31.4+ KB\n"
     ]
    }
   ],
   "source": [
    "users.info()"
   ]
  },
  {
   "cell_type": "markdown",
   "metadata": {},
   "source": [
    "Omissions were found in large numbers in the **churn_rate** column.  \n",
    "We will not fill them out, because:  \n",
    "a) This column contains data on the termination of the use of the tariff. If the values are omitted, the tariff is still valid  \n",
    "b) Omissions in this column do not interfere with our research  "
   ]
  },
  {
   "cell_type": "markdown",
   "metadata": {},
   "source": [
    "**Let's check users for uniqueness:**"
   ]
  },
  {
   "cell_type": "code",
   "execution_count": 6,
   "metadata": {},
   "outputs": [
    {
     "name": "stdout",
     "output_type": "stream",
     "text": [
      "Number of rows in the table users: 500\n",
      "Number of unique users: 500\n",
      "Number of duplicates: 0\n"
     ]
    }
   ],
   "source": [
    "print(\"Number of rows in the table users:\", users.shape[0])\n",
    "print(\"Number of unique users:\", users['user_id'].count())\n",
    "print(\"Number of duplicates:\", users.duplicated().sum())"
   ]
  },
  {
   "cell_type": "markdown",
   "metadata": {},
   "source": [
    "**All users are unique**"
   ]
  },
  {
   "cell_type": "markdown",
   "metadata": {},
   "source": [
    "For further work with the date frame, you need to add the **Month** column and convert the date column to the **datetime format**  \n",
    "For these purposes, we will write a function:"
   ]
  },
  {
   "cell_type": "code",
   "execution_count": 7,
   "metadata": {},
   "outputs": [],
   "source": [
    "\n",
    "def date_to_dt(dataframes):\n",
    "    for df in dataframes:\n",
    "        for column in df.columns:\n",
    "            if 'date' in column and column != 'churn_date':\n",
    "                df[column] = pd.to_datetime(df[column], format='%Y-%m-%d')\n",
    "                df['месяц'] = df[column].apply(lambda x: x.month)\n",
    "                "
   ]
  },
  {
   "cell_type": "code",
   "execution_count": 8,
   "metadata": {},
   "outputs": [],
   "source": [
    "date_to_dt([users])"
   ]
  },
  {
   "cell_type": "code",
   "execution_count": 9,
   "metadata": {},
   "outputs": [
    {
     "data": {
      "text/html": [
       "<div>\n",
       "<style scoped>\n",
       "    .dataframe tbody tr th:only-of-type {\n",
       "        vertical-align: middle;\n",
       "    }\n",
       "\n",
       "    .dataframe tbody tr th {\n",
       "        vertical-align: top;\n",
       "    }\n",
       "\n",
       "    .dataframe thead th {\n",
       "        text-align: right;\n",
       "    }\n",
       "</style>\n",
       "<table border=\"1\" class=\"dataframe\">\n",
       "  <thead>\n",
       "    <tr style=\"text-align: right;\">\n",
       "      <th></th>\n",
       "      <th>user_id</th>\n",
       "      <th>age</th>\n",
       "      <th>churn_date</th>\n",
       "      <th>city</th>\n",
       "      <th>first_name</th>\n",
       "      <th>last_name</th>\n",
       "      <th>reg_date</th>\n",
       "      <th>tariff</th>\n",
       "      <th>месяц</th>\n",
       "    </tr>\n",
       "  </thead>\n",
       "  <tbody>\n",
       "    <tr>\n",
       "      <td>0</td>\n",
       "      <td>1000</td>\n",
       "      <td>52</td>\n",
       "      <td>NaN</td>\n",
       "      <td>Краснодар</td>\n",
       "      <td>Рафаил</td>\n",
       "      <td>Верещагин</td>\n",
       "      <td>2018-05-25</td>\n",
       "      <td>ultra</td>\n",
       "      <td>5</td>\n",
       "    </tr>\n",
       "    <tr>\n",
       "      <td>1</td>\n",
       "      <td>1001</td>\n",
       "      <td>41</td>\n",
       "      <td>NaN</td>\n",
       "      <td>Москва</td>\n",
       "      <td>Иван</td>\n",
       "      <td>Ежов</td>\n",
       "      <td>2018-11-01</td>\n",
       "      <td>smart</td>\n",
       "      <td>11</td>\n",
       "    </tr>\n",
       "    <tr>\n",
       "      <td>2</td>\n",
       "      <td>1002</td>\n",
       "      <td>59</td>\n",
       "      <td>NaN</td>\n",
       "      <td>Стерлитамак</td>\n",
       "      <td>Евгений</td>\n",
       "      <td>Абрамович</td>\n",
       "      <td>2018-06-17</td>\n",
       "      <td>smart</td>\n",
       "      <td>6</td>\n",
       "    </tr>\n",
       "    <tr>\n",
       "      <td>3</td>\n",
       "      <td>1003</td>\n",
       "      <td>23</td>\n",
       "      <td>NaN</td>\n",
       "      <td>Москва</td>\n",
       "      <td>Белла</td>\n",
       "      <td>Белякова</td>\n",
       "      <td>2018-08-17</td>\n",
       "      <td>ultra</td>\n",
       "      <td>8</td>\n",
       "    </tr>\n",
       "    <tr>\n",
       "      <td>4</td>\n",
       "      <td>1004</td>\n",
       "      <td>68</td>\n",
       "      <td>NaN</td>\n",
       "      <td>Новокузнецк</td>\n",
       "      <td>Татьяна</td>\n",
       "      <td>Авдеенко</td>\n",
       "      <td>2018-05-14</td>\n",
       "      <td>ultra</td>\n",
       "      <td>5</td>\n",
       "    </tr>\n",
       "  </tbody>\n",
       "</table>\n",
       "</div>"
      ],
      "text/plain": [
       "   user_id  age churn_date         city first_name  last_name   reg_date  \\\n",
       "0     1000   52        NaN    Краснодар     Рафаил  Верещагин 2018-05-25   \n",
       "1     1001   41        NaN       Москва       Иван       Ежов 2018-11-01   \n",
       "2     1002   59        NaN  Стерлитамак    Евгений  Абрамович 2018-06-17   \n",
       "3     1003   23        NaN       Москва      Белла   Белякова 2018-08-17   \n",
       "4     1004   68        NaN  Новокузнецк    Татьяна   Авдеенко 2018-05-14   \n",
       "\n",
       "  tariff  месяц  \n",
       "0  ultra      5  \n",
       "1  smart     11  \n",
       "2  smart      6  \n",
       "3  ultra      8  \n",
       "4  ultra      5  "
      ]
     },
     "execution_count": 9,
     "metadata": {},
     "output_type": "execute_result"
    }
   ],
   "source": [
    "users.head()"
   ]
  },
  {
   "cell_type": "code",
   "execution_count": 10,
   "metadata": {},
   "outputs": [
    {
     "name": "stdout",
     "output_type": "stream",
     "text": [
      "<class 'pandas.core.frame.DataFrame'>\n",
      "RangeIndex: 500 entries, 0 to 499\n",
      "Data columns (total 9 columns):\n",
      "user_id       500 non-null int64\n",
      "age           500 non-null int64\n",
      "churn_date    38 non-null object\n",
      "city          500 non-null object\n",
      "first_name    500 non-null object\n",
      "last_name     500 non-null object\n",
      "reg_date      500 non-null datetime64[ns]\n",
      "tariff        500 non-null object\n",
      "месяц         500 non-null int64\n",
      "dtypes: datetime64[ns](1), int64(3), object(5)\n",
      "memory usage: 35.3+ KB\n"
     ]
    }
   ],
   "source": [
    "users.info()"
   ]
  },
  {
   "cell_type": "markdown",
   "metadata": {},
   "source": [
    "### 1.1.2. Calls <a name=\"paragraph1.1.2\"></a>"
   ]
  },
  {
   "cell_type": "code",
   "execution_count": 11,
   "metadata": {},
   "outputs": [
    {
     "data": {
      "text/html": [
       "<div>\n",
       "<style scoped>\n",
       "    .dataframe tbody tr th:only-of-type {\n",
       "        vertical-align: middle;\n",
       "    }\n",
       "\n",
       "    .dataframe tbody tr th {\n",
       "        vertical-align: top;\n",
       "    }\n",
       "\n",
       "    .dataframe thead th {\n",
       "        text-align: right;\n",
       "    }\n",
       "</style>\n",
       "<table border=\"1\" class=\"dataframe\">\n",
       "  <thead>\n",
       "    <tr style=\"text-align: right;\">\n",
       "      <th></th>\n",
       "      <th>id</th>\n",
       "      <th>call_date</th>\n",
       "      <th>duration</th>\n",
       "      <th>user_id</th>\n",
       "    </tr>\n",
       "  </thead>\n",
       "  <tbody>\n",
       "    <tr>\n",
       "      <td>0</td>\n",
       "      <td>1000_0</td>\n",
       "      <td>2018-07-25</td>\n",
       "      <td>0.00</td>\n",
       "      <td>1000</td>\n",
       "    </tr>\n",
       "    <tr>\n",
       "      <td>1</td>\n",
       "      <td>1000_1</td>\n",
       "      <td>2018-08-17</td>\n",
       "      <td>0.00</td>\n",
       "      <td>1000</td>\n",
       "    </tr>\n",
       "    <tr>\n",
       "      <td>2</td>\n",
       "      <td>1000_2</td>\n",
       "      <td>2018-06-11</td>\n",
       "      <td>2.85</td>\n",
       "      <td>1000</td>\n",
       "    </tr>\n",
       "    <tr>\n",
       "      <td>3</td>\n",
       "      <td>1000_3</td>\n",
       "      <td>2018-09-21</td>\n",
       "      <td>13.80</td>\n",
       "      <td>1000</td>\n",
       "    </tr>\n",
       "    <tr>\n",
       "      <td>4</td>\n",
       "      <td>1000_4</td>\n",
       "      <td>2018-12-15</td>\n",
       "      <td>5.18</td>\n",
       "      <td>1000</td>\n",
       "    </tr>\n",
       "  </tbody>\n",
       "</table>\n",
       "</div>"
      ],
      "text/plain": [
       "       id   call_date  duration  user_id\n",
       "0  1000_0  2018-07-25      0.00     1000\n",
       "1  1000_1  2018-08-17      0.00     1000\n",
       "2  1000_2  2018-06-11      2.85     1000\n",
       "3  1000_3  2018-09-21     13.80     1000\n",
       "4  1000_4  2018-12-15      5.18     1000"
      ]
     },
     "execution_count": 11,
     "metadata": {},
     "output_type": "execute_result"
    }
   ],
   "source": [
    "calls.head()"
   ]
  },
  {
   "cell_type": "code",
   "execution_count": 12,
   "metadata": {},
   "outputs": [
    {
     "name": "stdout",
     "output_type": "stream",
     "text": [
      "<class 'pandas.core.frame.DataFrame'>\n",
      "RangeIndex: 202607 entries, 0 to 202606\n",
      "Data columns (total 4 columns):\n",
      "id           202607 non-null object\n",
      "call_date    202607 non-null object\n",
      "duration     202607 non-null float64\n",
      "user_id      202607 non-null int64\n",
      "dtypes: float64(1), int64(1), object(2)\n",
      "memory usage: 6.2+ MB\n"
     ]
    }
   ],
   "source": [
    "calls.info()"
   ]
  },
  {
   "cell_type": "markdown",
   "metadata": {},
   "source": [
    "The data is complete - without omissions, but it is necessary to change the date format in the **call_date column**"
   ]
  },
  {
   "cell_type": "code",
   "execution_count": 13,
   "metadata": {},
   "outputs": [],
   "source": [
    "date_to_dt([calls])"
   ]
  },
  {
   "cell_type": "code",
   "execution_count": 14,
   "metadata": {},
   "outputs": [
    {
     "name": "stdout",
     "output_type": "stream",
     "text": [
      "<class 'pandas.core.frame.DataFrame'>\n",
      "RangeIndex: 202607 entries, 0 to 202606\n",
      "Data columns (total 5 columns):\n",
      "id           202607 non-null object\n",
      "call_date    202607 non-null datetime64[ns]\n",
      "duration     202607 non-null float64\n",
      "user_id      202607 non-null int64\n",
      "месяц        202607 non-null int64\n",
      "dtypes: datetime64[ns](1), float64(1), int64(2), object(1)\n",
      "memory usage: 7.7+ MB\n"
     ]
    }
   ],
   "source": [
    "calls.info()"
   ]
  },
  {
   "cell_type": "code",
   "execution_count": 15,
   "metadata": {},
   "outputs": [
    {
     "data": {
      "text/html": [
       "<div>\n",
       "<style scoped>\n",
       "    .dataframe tbody tr th:only-of-type {\n",
       "        vertical-align: middle;\n",
       "    }\n",
       "\n",
       "    .dataframe tbody tr th {\n",
       "        vertical-align: top;\n",
       "    }\n",
       "\n",
       "    .dataframe thead th {\n",
       "        text-align: right;\n",
       "    }\n",
       "</style>\n",
       "<table border=\"1\" class=\"dataframe\">\n",
       "  <thead>\n",
       "    <tr style=\"text-align: right;\">\n",
       "      <th></th>\n",
       "      <th>id</th>\n",
       "      <th>call_date</th>\n",
       "      <th>duration</th>\n",
       "      <th>user_id</th>\n",
       "      <th>месяц</th>\n",
       "    </tr>\n",
       "  </thead>\n",
       "  <tbody>\n",
       "    <tr>\n",
       "      <td>0</td>\n",
       "      <td>1000_0</td>\n",
       "      <td>2018-07-25</td>\n",
       "      <td>0.00</td>\n",
       "      <td>1000</td>\n",
       "      <td>7</td>\n",
       "    </tr>\n",
       "    <tr>\n",
       "      <td>1</td>\n",
       "      <td>1000_1</td>\n",
       "      <td>2018-08-17</td>\n",
       "      <td>0.00</td>\n",
       "      <td>1000</td>\n",
       "      <td>8</td>\n",
       "    </tr>\n",
       "    <tr>\n",
       "      <td>2</td>\n",
       "      <td>1000_2</td>\n",
       "      <td>2018-06-11</td>\n",
       "      <td>2.85</td>\n",
       "      <td>1000</td>\n",
       "      <td>6</td>\n",
       "    </tr>\n",
       "    <tr>\n",
       "      <td>3</td>\n",
       "      <td>1000_3</td>\n",
       "      <td>2018-09-21</td>\n",
       "      <td>13.80</td>\n",
       "      <td>1000</td>\n",
       "      <td>9</td>\n",
       "    </tr>\n",
       "    <tr>\n",
       "      <td>4</td>\n",
       "      <td>1000_4</td>\n",
       "      <td>2018-12-15</td>\n",
       "      <td>5.18</td>\n",
       "      <td>1000</td>\n",
       "      <td>12</td>\n",
       "    </tr>\n",
       "  </tbody>\n",
       "</table>\n",
       "</div>"
      ],
      "text/plain": [
       "       id  call_date  duration  user_id  месяц\n",
       "0  1000_0 2018-07-25      0.00     1000      7\n",
       "1  1000_1 2018-08-17      0.00     1000      8\n",
       "2  1000_2 2018-06-11      2.85     1000      6\n",
       "3  1000_3 2018-09-21     13.80     1000      9\n",
       "4  1000_4 2018-12-15      5.18     1000     12"
      ]
     },
     "execution_count": 15,
     "metadata": {},
     "output_type": "execute_result"
    }
   ],
   "source": [
    "calls.head()"
   ]
  },
  {
   "cell_type": "markdown",
   "metadata": {},
   "source": [
    "The date format has changed, the seasons have been added. We can work with the file further."
   ]
  },
  {
   "cell_type": "code",
   "execution_count": 16,
   "metadata": {},
   "outputs": [
    {
     "data": {
      "text/html": [
       "<div>\n",
       "<style scoped>\n",
       "    .dataframe tbody tr th:only-of-type {\n",
       "        vertical-align: middle;\n",
       "    }\n",
       "\n",
       "    .dataframe tbody tr th {\n",
       "        vertical-align: top;\n",
       "    }\n",
       "\n",
       "    .dataframe thead th {\n",
       "        text-align: right;\n",
       "    }\n",
       "</style>\n",
       "<table border=\"1\" class=\"dataframe\">\n",
       "  <thead>\n",
       "    <tr style=\"text-align: right;\">\n",
       "      <th></th>\n",
       "      <th>duration</th>\n",
       "      <th>user_id</th>\n",
       "      <th>месяц</th>\n",
       "    </tr>\n",
       "  </thead>\n",
       "  <tbody>\n",
       "    <tr>\n",
       "      <td>count</td>\n",
       "      <td>202607.000000</td>\n",
       "      <td>202607.000000</td>\n",
       "      <td>202607.000000</td>\n",
       "    </tr>\n",
       "    <tr>\n",
       "      <td>mean</td>\n",
       "      <td>6.755887</td>\n",
       "      <td>1253.940619</td>\n",
       "      <td>8.574067</td>\n",
       "    </tr>\n",
       "    <tr>\n",
       "      <td>std</td>\n",
       "      <td>5.843365</td>\n",
       "      <td>144.722751</td>\n",
       "      <td>2.787093</td>\n",
       "    </tr>\n",
       "    <tr>\n",
       "      <td>min</td>\n",
       "      <td>0.000000</td>\n",
       "      <td>1000.000000</td>\n",
       "      <td>1.000000</td>\n",
       "    </tr>\n",
       "    <tr>\n",
       "      <td>25%</td>\n",
       "      <td>1.300000</td>\n",
       "      <td>1126.000000</td>\n",
       "      <td>7.000000</td>\n",
       "    </tr>\n",
       "    <tr>\n",
       "      <td>50%</td>\n",
       "      <td>6.000000</td>\n",
       "      <td>1260.000000</td>\n",
       "      <td>9.000000</td>\n",
       "    </tr>\n",
       "    <tr>\n",
       "      <td>75%</td>\n",
       "      <td>10.700000</td>\n",
       "      <td>1379.000000</td>\n",
       "      <td>11.000000</td>\n",
       "    </tr>\n",
       "    <tr>\n",
       "      <td>max</td>\n",
       "      <td>38.000000</td>\n",
       "      <td>1499.000000</td>\n",
       "      <td>12.000000</td>\n",
       "    </tr>\n",
       "  </tbody>\n",
       "</table>\n",
       "</div>"
      ],
      "text/plain": [
       "            duration        user_id          месяц\n",
       "count  202607.000000  202607.000000  202607.000000\n",
       "mean        6.755887    1253.940619       8.574067\n",
       "std         5.843365     144.722751       2.787093\n",
       "min         0.000000    1000.000000       1.000000\n",
       "25%         1.300000    1126.000000       7.000000\n",
       "50%         6.000000    1260.000000       9.000000\n",
       "75%        10.700000    1379.000000      11.000000\n",
       "max        38.000000    1499.000000      12.000000"
      ]
     },
     "execution_count": 16,
     "metadata": {},
     "output_type": "execute_result"
    }
   ],
   "source": [
    "calls.describe()"
   ]
  },
  {
   "cell_type": "markdown",
   "metadata": {},
   "source": [
    "There are a lot of zero values for the duration of the conversation. Let's build a graph in order to see how the duration is distributed:"
   ]
  },
  {
   "cell_type": "code",
   "execution_count": 17,
   "metadata": {},
   "outputs": [
    {
     "data": {
      "image/png": "[encoded data removed]",
      "text/plain": [
       "<Figure size 432x288 with 1 Axes>"
      ]
     },
     "metadata": {
      "needs_background": "light"
     },
     "output_type": "display_data"
    }
   ],
   "source": [
    "calls['duration'].plot(kind='hist', ec='black', bins=70)\n",
    "plt.title('Call duration histogram')\n",
    "plt.ylabel('Users')\n",
    "plt.xlabel('Duration of calls')\n",
    "plt.show()"
   ]
  },
  {
   "cell_type": "markdown",
   "metadata": {},
   "source": [
    "Let's check if all calls less than a minute have a value of 0:"
   ]
  },
  {
   "cell_type": "code",
   "execution_count": 18,
   "metadata": {},
   "outputs": [
    {
     "data": {
      "text/html": [
       "<div>\n",
       "<style scoped>\n",
       "    .dataframe tbody tr th:only-of-type {\n",
       "        vertical-align: middle;\n",
       "    }\n",
       "\n",
       "    .dataframe tbody tr th {\n",
       "        vertical-align: top;\n",
       "    }\n",
       "\n",
       "    .dataframe thead th {\n",
       "        text-align: right;\n",
       "    }\n",
       "</style>\n",
       "<table border=\"1\" class=\"dataframe\">\n",
       "  <thead>\n",
       "    <tr style=\"text-align: right;\">\n",
       "      <th></th>\n",
       "      <th>id</th>\n",
       "      <th>call_date</th>\n",
       "      <th>duration</th>\n",
       "      <th>user_id</th>\n",
       "      <th>месяц</th>\n",
       "    </tr>\n",
       "  </thead>\n",
       "  <tbody>\n",
       "    <tr>\n",
       "      <td>55</td>\n",
       "      <td>1000_55</td>\n",
       "      <td>2018-09-19</td>\n",
       "      <td>0.31</td>\n",
       "      <td>1000</td>\n",
       "      <td>9</td>\n",
       "    </tr>\n",
       "    <tr>\n",
       "      <td>65</td>\n",
       "      <td>1000_65</td>\n",
       "      <td>2018-10-28</td>\n",
       "      <td>0.34</td>\n",
       "      <td>1000</td>\n",
       "      <td>10</td>\n",
       "    </tr>\n",
       "    <tr>\n",
       "      <td>97</td>\n",
       "      <td>1000_97</td>\n",
       "      <td>2018-10-26</td>\n",
       "      <td>0.33</td>\n",
       "      <td>1000</td>\n",
       "      <td>10</td>\n",
       "    </tr>\n",
       "    <tr>\n",
       "      <td>122</td>\n",
       "      <td>1000_122</td>\n",
       "      <td>2018-10-07</td>\n",
       "      <td>0.13</td>\n",
       "      <td>1000</td>\n",
       "      <td>10</td>\n",
       "    </tr>\n",
       "    <tr>\n",
       "      <td>135</td>\n",
       "      <td>1000_135</td>\n",
       "      <td>2018-10-25</td>\n",
       "      <td>0.02</td>\n",
       "      <td>1000</td>\n",
       "      <td>10</td>\n",
       "    </tr>\n",
       "    <tr>\n",
       "      <td>...</td>\n",
       "      <td>...</td>\n",
       "      <td>...</td>\n",
       "      <td>...</td>\n",
       "      <td>...</td>\n",
       "      <td>...</td>\n",
       "    </tr>\n",
       "    <tr>\n",
       "      <td>202484</td>\n",
       "      <td>1499_97</td>\n",
       "      <td>2018-12-22</td>\n",
       "      <td>0.07</td>\n",
       "      <td>1499</td>\n",
       "      <td>12</td>\n",
       "    </tr>\n",
       "    <tr>\n",
       "      <td>202537</td>\n",
       "      <td>1499_150</td>\n",
       "      <td>2018-12-09</td>\n",
       "      <td>0.56</td>\n",
       "      <td>1499</td>\n",
       "      <td>12</td>\n",
       "    </tr>\n",
       "    <tr>\n",
       "      <td>202545</td>\n",
       "      <td>1499_158</td>\n",
       "      <td>2018-11-16</td>\n",
       "      <td>0.64</td>\n",
       "      <td>1499</td>\n",
       "      <td>11</td>\n",
       "    </tr>\n",
       "    <tr>\n",
       "      <td>202579</td>\n",
       "      <td>1499_192</td>\n",
       "      <td>2018-12-07</td>\n",
       "      <td>0.76</td>\n",
       "      <td>1499</td>\n",
       "      <td>12</td>\n",
       "    </tr>\n",
       "    <tr>\n",
       "      <td>202602</td>\n",
       "      <td>1499_215</td>\n",
       "      <td>2018-12-26</td>\n",
       "      <td>0.76</td>\n",
       "      <td>1499</td>\n",
       "      <td>12</td>\n",
       "    </tr>\n",
       "  </tbody>\n",
       "</table>\n",
       "<p>7450 rows × 5 columns</p>\n",
       "</div>"
      ],
      "text/plain": [
       "              id  call_date  duration  user_id  месяц\n",
       "55       1000_55 2018-09-19      0.31     1000      9\n",
       "65       1000_65 2018-10-28      0.34     1000     10\n",
       "97       1000_97 2018-10-26      0.33     1000     10\n",
       "122     1000_122 2018-10-07      0.13     1000     10\n",
       "135     1000_135 2018-10-25      0.02     1000     10\n",
       "...          ...        ...       ...      ...    ...\n",
       "202484   1499_97 2018-12-22      0.07     1499     12\n",
       "202537  1499_150 2018-12-09      0.56     1499     12\n",
       "202545  1499_158 2018-11-16      0.64     1499     11\n",
       "202579  1499_192 2018-12-07      0.76     1499     12\n",
       "202602  1499_215 2018-12-26      0.76     1499     12\n",
       "\n",
       "[7450 rows x 5 columns]"
      ]
     },
     "execution_count": 18,
     "metadata": {},
     "output_type": "execute_result"
    }
   ],
   "source": [
    "calls.query('0 < duration < 0.9')"
   ]
  },
  {
   "cell_type": "markdown",
   "metadata": {},
   "source": [
    "According to the condition, calls are charged per minute. Accordingly, if the call was less than a minute, the subscriber will be charged for a minute. Therefore, we will round up all calls lasting less than 1 minute to an integer"
   ]
  },
  {
   "cell_type": "code",
   "execution_count": 19,
   "metadata": {},
   "outputs": [],
   "source": [
    "calls['duration'] = calls['duration'].apply(np.ceil)"
   ]
  },
  {
   "cell_type": "code",
   "execution_count": 20,
   "metadata": {},
   "outputs": [
    {
     "data": {
      "text/html": [
       "<div>\n",
       "<style scoped>\n",
       "    .dataframe tbody tr th:only-of-type {\n",
       "        vertical-align: middle;\n",
       "    }\n",
       "\n",
       "    .dataframe tbody tr th {\n",
       "        vertical-align: top;\n",
       "    }\n",
       "\n",
       "    .dataframe thead th {\n",
       "        text-align: right;\n",
       "    }\n",
       "</style>\n",
       "<table border=\"1\" class=\"dataframe\">\n",
       "  <thead>\n",
       "    <tr style=\"text-align: right;\">\n",
       "      <th></th>\n",
       "      <th>id</th>\n",
       "      <th>call_date</th>\n",
       "      <th>duration</th>\n",
       "      <th>user_id</th>\n",
       "      <th>месяц</th>\n",
       "    </tr>\n",
       "  </thead>\n",
       "  <tbody>\n",
       "  </tbody>\n",
       "</table>\n",
       "</div>"
      ],
      "text/plain": [
       "Empty DataFrame\n",
       "Columns: [id, call_date, duration, user_id, месяц]\n",
       "Index: []"
      ]
     },
     "execution_count": 20,
     "metadata": {},
     "output_type": "execute_result"
    }
   ],
   "source": [
    "calls.query('0 < duration < 0.9')"
   ]
  },
  {
   "cell_type": "code",
   "execution_count": 21,
   "metadata": {},
   "outputs": [
    {
     "data": {
      "text/html": [
       "<div>\n",
       "<style scoped>\n",
       "    .dataframe tbody tr th:only-of-type {\n",
       "        vertical-align: middle;\n",
       "    }\n",
       "\n",
       "    .dataframe tbody tr th {\n",
       "        vertical-align: top;\n",
       "    }\n",
       "\n",
       "    .dataframe thead th {\n",
       "        text-align: right;\n",
       "    }\n",
       "</style>\n",
       "<table border=\"1\" class=\"dataframe\">\n",
       "  <thead>\n",
       "    <tr style=\"text-align: right;\">\n",
       "      <th></th>\n",
       "      <th>id</th>\n",
       "      <th>call_date</th>\n",
       "      <th>duration</th>\n",
       "      <th>user_id</th>\n",
       "      <th>месяц</th>\n",
       "    </tr>\n",
       "  </thead>\n",
       "  <tbody>\n",
       "    <tr>\n",
       "      <td>0</td>\n",
       "      <td>1000_0</td>\n",
       "      <td>2018-07-25</td>\n",
       "      <td>0.0</td>\n",
       "      <td>1000</td>\n",
       "      <td>7</td>\n",
       "    </tr>\n",
       "    <tr>\n",
       "      <td>1</td>\n",
       "      <td>1000_1</td>\n",
       "      <td>2018-08-17</td>\n",
       "      <td>0.0</td>\n",
       "      <td>1000</td>\n",
       "      <td>8</td>\n",
       "    </tr>\n",
       "    <tr>\n",
       "      <td>2</td>\n",
       "      <td>1000_2</td>\n",
       "      <td>2018-06-11</td>\n",
       "      <td>3.0</td>\n",
       "      <td>1000</td>\n",
       "      <td>6</td>\n",
       "    </tr>\n",
       "    <tr>\n",
       "      <td>3</td>\n",
       "      <td>1000_3</td>\n",
       "      <td>2018-09-21</td>\n",
       "      <td>14.0</td>\n",
       "      <td>1000</td>\n",
       "      <td>9</td>\n",
       "    </tr>\n",
       "    <tr>\n",
       "      <td>4</td>\n",
       "      <td>1000_4</td>\n",
       "      <td>2018-12-15</td>\n",
       "      <td>6.0</td>\n",
       "      <td>1000</td>\n",
       "      <td>12</td>\n",
       "    </tr>\n",
       "  </tbody>\n",
       "</table>\n",
       "</div>"
      ],
      "text/plain": [
       "       id  call_date  duration  user_id  месяц\n",
       "0  1000_0 2018-07-25       0.0     1000      7\n",
       "1  1000_1 2018-08-17       0.0     1000      8\n",
       "2  1000_2 2018-06-11       3.0     1000      6\n",
       "3  1000_3 2018-09-21      14.0     1000      9\n",
       "4  1000_4 2018-12-15       6.0     1000     12"
      ]
     },
     "execution_count": 21,
     "metadata": {},
     "output_type": "execute_result"
    }
   ],
   "source": [
    "calls.head()"
   ]
  },
  {
   "cell_type": "markdown",
   "metadata": {},
   "source": [
    "The values were rounded to the minute.  \n",
    "Since calls lasting **0 minutes** are not charged (most likely they are just failed connections), we will get rid of them\n",
    "But first, let's check if they belong to the same tariff (in this case, there is a high probability that calls with a duration of less than a minute were accidentally rounded to 0 on some tariff)"
   ]
  },
  {
   "cell_type": "code",
   "execution_count": 22,
   "metadata": {},
   "outputs": [],
   "source": [
    "#fill_tariff = dict(pd.Series(users['tariff'].values, index=users['user_id']))\n",
    "#calls['Тариф'] = calls['user_id'].map(fill_tariff)\n",
    "#calls['Тариф'].value_counts()"
   ]
  },
  {
   "cell_type": "markdown",
   "metadata": {},
   "source": [
    "No, there are zero calls in both tariffs  \n",
    "We can get rid of them:"
   ]
  },
  {
   "cell_type": "code",
   "execution_count": 23,
   "metadata": {},
   "outputs": [],
   "source": [
    "#calls['duration'] = calls['duration'].replace(0, np.NaN)\n",
    "#calls = calls.dropna()"
   ]
  },
  {
   "cell_type": "code",
   "execution_count": 24,
   "metadata": {},
   "outputs": [],
   "source": [
    "calls = calls.query('duration > 0')"
   ]
  },
  {
   "cell_type": "code",
   "execution_count": 25,
   "metadata": {},
   "outputs": [
    {
     "data": {
      "text/html": [
       "<div>\n",
       "<style scoped>\n",
       "    .dataframe tbody tr th:only-of-type {\n",
       "        vertical-align: middle;\n",
       "    }\n",
       "\n",
       "    .dataframe tbody tr th {\n",
       "        vertical-align: top;\n",
       "    }\n",
       "\n",
       "    .dataframe thead th {\n",
       "        text-align: right;\n",
       "    }\n",
       "</style>\n",
       "<table border=\"1\" class=\"dataframe\">\n",
       "  <thead>\n",
       "    <tr style=\"text-align: right;\">\n",
       "      <th></th>\n",
       "      <th>id</th>\n",
       "      <th>call_date</th>\n",
       "      <th>duration</th>\n",
       "      <th>user_id</th>\n",
       "      <th>месяц</th>\n",
       "    </tr>\n",
       "  </thead>\n",
       "  <tbody>\n",
       "    <tr>\n",
       "      <td>2</td>\n",
       "      <td>1000_2</td>\n",
       "      <td>2018-06-11</td>\n",
       "      <td>3.0</td>\n",
       "      <td>1000</td>\n",
       "      <td>6</td>\n",
       "    </tr>\n",
       "    <tr>\n",
       "      <td>3</td>\n",
       "      <td>1000_3</td>\n",
       "      <td>2018-09-21</td>\n",
       "      <td>14.0</td>\n",
       "      <td>1000</td>\n",
       "      <td>9</td>\n",
       "    </tr>\n",
       "    <tr>\n",
       "      <td>4</td>\n",
       "      <td>1000_4</td>\n",
       "      <td>2018-12-15</td>\n",
       "      <td>6.0</td>\n",
       "      <td>1000</td>\n",
       "      <td>12</td>\n",
       "    </tr>\n",
       "    <tr>\n",
       "      <td>7</td>\n",
       "      <td>1000_7</td>\n",
       "      <td>2018-08-22</td>\n",
       "      <td>19.0</td>\n",
       "      <td>1000</td>\n",
       "      <td>8</td>\n",
       "    </tr>\n",
       "    <tr>\n",
       "      <td>8</td>\n",
       "      <td>1000_8</td>\n",
       "      <td>2018-09-15</td>\n",
       "      <td>19.0</td>\n",
       "      <td>1000</td>\n",
       "      <td>9</td>\n",
       "    </tr>\n",
       "  </tbody>\n",
       "</table>\n",
       "</div>"
      ],
      "text/plain": [
       "       id  call_date  duration  user_id  месяц\n",
       "2  1000_2 2018-06-11       3.0     1000      6\n",
       "3  1000_3 2018-09-21      14.0     1000      9\n",
       "4  1000_4 2018-12-15       6.0     1000     12\n",
       "7  1000_7 2018-08-22      19.0     1000      8\n",
       "8  1000_8 2018-09-15      19.0     1000      9"
      ]
     },
     "execution_count": 25,
     "metadata": {},
     "output_type": "execute_result"
    }
   ],
   "source": [
    "calls.head()"
   ]
  },
  {
   "cell_type": "code",
   "execution_count": 26,
   "metadata": {},
   "outputs": [
    {
     "name": "stdout",
     "output_type": "stream",
     "text": [
      "<class 'pandas.core.frame.DataFrame'>\n",
      "Int64Index: 162994 entries, 2 to 202606\n",
      "Data columns (total 5 columns):\n",
      "id           162994 non-null object\n",
      "call_date    162994 non-null datetime64[ns]\n",
      "duration     162994 non-null float64\n",
      "user_id      162994 non-null int64\n",
      "месяц        162994 non-null int64\n",
      "dtypes: datetime64[ns](1), float64(1), int64(2), object(1)\n",
      "memory usage: 7.5+ MB\n"
     ]
    }
   ],
   "source": [
    "calls.info()"
   ]
  },
  {
   "cell_type": "markdown",
   "metadata": {},
   "source": [
    "The zero values are gone. Let's look at the graph now"
   ]
  },
  {
   "cell_type": "code",
   "execution_count": 27,
   "metadata": {},
   "outputs": [
    {
     "data": {
      "image/png": "[encoded data removed]",
      "text/plain": [
       "<Figure size 432x288 with 1 Axes>"
      ]
     },
     "metadata": {
      "needs_background": "light"
     },
     "output_type": "display_data"
    }
   ],
   "source": [
    "calls['duration'].plot(kind='hist', ec='black', grid = True, bins=50)\n",
    "plt.title('Histogram of the duration of calls - without zero values')\n",
    "plt.ylabel('Users')\n",
    "plt.xlabel('Duration of calls')\n",
    "plt.show()"
   ]
  },
  {
   "cell_type": "markdown",
   "metadata": {},
   "source": [
    "#### 1.1.3. Messages <a name=\"paragraph1.1.3\"></a>"
   ]
  },
  {
   "cell_type": "code",
   "execution_count": 28,
   "metadata": {},
   "outputs": [
    {
     "data": {
      "text/html": [
       "<div>\n",
       "<style scoped>\n",
       "    .dataframe tbody tr th:only-of-type {\n",
       "        vertical-align: middle;\n",
       "    }\n",
       "\n",
       "    .dataframe tbody tr th {\n",
       "        vertical-align: top;\n",
       "    }\n",
       "\n",
       "    .dataframe thead th {\n",
       "        text-align: right;\n",
       "    }\n",
       "</style>\n",
       "<table border=\"1\" class=\"dataframe\">\n",
       "  <thead>\n",
       "    <tr style=\"text-align: right;\">\n",
       "      <th></th>\n",
       "      <th>id</th>\n",
       "      <th>message_date</th>\n",
       "      <th>user_id</th>\n",
       "    </tr>\n",
       "  </thead>\n",
       "  <tbody>\n",
       "    <tr>\n",
       "      <td>0</td>\n",
       "      <td>1000_0</td>\n",
       "      <td>2018-06-27</td>\n",
       "      <td>1000</td>\n",
       "    </tr>\n",
       "    <tr>\n",
       "      <td>1</td>\n",
       "      <td>1000_1</td>\n",
       "      <td>2018-10-08</td>\n",
       "      <td>1000</td>\n",
       "    </tr>\n",
       "    <tr>\n",
       "      <td>2</td>\n",
       "      <td>1000_2</td>\n",
       "      <td>2018-08-04</td>\n",
       "      <td>1000</td>\n",
       "    </tr>\n",
       "    <tr>\n",
       "      <td>3</td>\n",
       "      <td>1000_3</td>\n",
       "      <td>2018-06-16</td>\n",
       "      <td>1000</td>\n",
       "    </tr>\n",
       "    <tr>\n",
       "      <td>4</td>\n",
       "      <td>1000_4</td>\n",
       "      <td>2018-12-05</td>\n",
       "      <td>1000</td>\n",
       "    </tr>\n",
       "  </tbody>\n",
       "</table>\n",
       "</div>"
      ],
      "text/plain": [
       "       id message_date  user_id\n",
       "0  1000_0   2018-06-27     1000\n",
       "1  1000_1   2018-10-08     1000\n",
       "2  1000_2   2018-08-04     1000\n",
       "3  1000_3   2018-06-16     1000\n",
       "4  1000_4   2018-12-05     1000"
      ]
     },
     "execution_count": 28,
     "metadata": {},
     "output_type": "execute_result"
    }
   ],
   "source": [
    "messages.head()"
   ]
  },
  {
   "cell_type": "code",
   "execution_count": 29,
   "metadata": {},
   "outputs": [
    {
     "name": "stdout",
     "output_type": "stream",
     "text": [
      "<class 'pandas.core.frame.DataFrame'>\n",
      "RangeIndex: 123036 entries, 0 to 123035\n",
      "Data columns (total 3 columns):\n",
      "id              123036 non-null object\n",
      "message_date    123036 non-null object\n",
      "user_id         123036 non-null int64\n",
      "dtypes: int64(1), object(2)\n",
      "memory usage: 2.8+ MB\n"
     ]
    }
   ],
   "source": [
    "messages.info()\n"
   ]
  },
  {
   "cell_type": "markdown",
   "metadata": {},
   "source": [
    "Change the data format in the **message_date column**"
   ]
  },
  {
   "cell_type": "code",
   "execution_count": 30,
   "metadata": {},
   "outputs": [],
   "source": [
    "date_to_dt([messages])"
   ]
  },
  {
   "cell_type": "code",
   "execution_count": 31,
   "metadata": {},
   "outputs": [
    {
     "data": {
      "text/html": [
       "<div>\n",
       "<style scoped>\n",
       "    .dataframe tbody tr th:only-of-type {\n",
       "        vertical-align: middle;\n",
       "    }\n",
       "\n",
       "    .dataframe tbody tr th {\n",
       "        vertical-align: top;\n",
       "    }\n",
       "\n",
       "    .dataframe thead th {\n",
       "        text-align: right;\n",
       "    }\n",
       "</style>\n",
       "<table border=\"1\" class=\"dataframe\">\n",
       "  <thead>\n",
       "    <tr style=\"text-align: right;\">\n",
       "      <th></th>\n",
       "      <th>id</th>\n",
       "      <th>message_date</th>\n",
       "      <th>user_id</th>\n",
       "      <th>месяц</th>\n",
       "    </tr>\n",
       "  </thead>\n",
       "  <tbody>\n",
       "    <tr>\n",
       "      <td>0</td>\n",
       "      <td>1000_0</td>\n",
       "      <td>2018-06-27</td>\n",
       "      <td>1000</td>\n",
       "      <td>6</td>\n",
       "    </tr>\n",
       "    <tr>\n",
       "      <td>1</td>\n",
       "      <td>1000_1</td>\n",
       "      <td>2018-10-08</td>\n",
       "      <td>1000</td>\n",
       "      <td>10</td>\n",
       "    </tr>\n",
       "    <tr>\n",
       "      <td>2</td>\n",
       "      <td>1000_2</td>\n",
       "      <td>2018-08-04</td>\n",
       "      <td>1000</td>\n",
       "      <td>8</td>\n",
       "    </tr>\n",
       "    <tr>\n",
       "      <td>3</td>\n",
       "      <td>1000_3</td>\n",
       "      <td>2018-06-16</td>\n",
       "      <td>1000</td>\n",
       "      <td>6</td>\n",
       "    </tr>\n",
       "    <tr>\n",
       "      <td>4</td>\n",
       "      <td>1000_4</td>\n",
       "      <td>2018-12-05</td>\n",
       "      <td>1000</td>\n",
       "      <td>12</td>\n",
       "    </tr>\n",
       "  </tbody>\n",
       "</table>\n",
       "</div>"
      ],
      "text/plain": [
       "       id message_date  user_id  месяц\n",
       "0  1000_0   2018-06-27     1000      6\n",
       "1  1000_1   2018-10-08     1000     10\n",
       "2  1000_2   2018-08-04     1000      8\n",
       "3  1000_3   2018-06-16     1000      6\n",
       "4  1000_4   2018-12-05     1000     12"
      ]
     },
     "execution_count": 31,
     "metadata": {},
     "output_type": "execute_result"
    }
   ],
   "source": [
    "messages.head()"
   ]
  },
  {
   "cell_type": "code",
   "execution_count": 32,
   "metadata": {},
   "outputs": [
    {
     "name": "stdout",
     "output_type": "stream",
     "text": [
      "<class 'pandas.core.frame.DataFrame'>\n",
      "RangeIndex: 123036 entries, 0 to 123035\n",
      "Data columns (total 4 columns):\n",
      "id              123036 non-null object\n",
      "message_date    123036 non-null datetime64[ns]\n",
      "user_id         123036 non-null int64\n",
      "месяц           123036 non-null int64\n",
      "dtypes: datetime64[ns](1), int64(2), object(1)\n",
      "memory usage: 3.8+ MB\n"
     ]
    }
   ],
   "source": [
    "messages.info()"
   ]
  },
  {
   "cell_type": "markdown",
   "metadata": {},
   "source": []
  },
  {
   "cell_type": "markdown",
   "metadata": {},
   "source": [
    "There are no more claims to this table)).  \n",
    "Let's move on to the next:"
   ]
  },
  {
   "cell_type": "markdown",
   "metadata": {},
   "source": [
    "#### 1.1.4. Internet  <a name=\"paragraph1.1.4\"></a>"
   ]
  },
  {
   "cell_type": "code",
   "execution_count": 33,
   "metadata": {},
   "outputs": [
    {
     "data": {
      "text/html": [
       "<div>\n",
       "<style scoped>\n",
       "    .dataframe tbody tr th:only-of-type {\n",
       "        vertical-align: middle;\n",
       "    }\n",
       "\n",
       "    .dataframe tbody tr th {\n",
       "        vertical-align: top;\n",
       "    }\n",
       "\n",
       "    .dataframe thead th {\n",
       "        text-align: right;\n",
       "    }\n",
       "</style>\n",
       "<table border=\"1\" class=\"dataframe\">\n",
       "  <thead>\n",
       "    <tr style=\"text-align: right;\">\n",
       "      <th></th>\n",
       "      <th>Unnamed: 0</th>\n",
       "      <th>id</th>\n",
       "      <th>mb_used</th>\n",
       "      <th>session_date</th>\n",
       "      <th>user_id</th>\n",
       "    </tr>\n",
       "  </thead>\n",
       "  <tbody>\n",
       "    <tr>\n",
       "      <td>0</td>\n",
       "      <td>0</td>\n",
       "      <td>1000_0</td>\n",
       "      <td>112.95</td>\n",
       "      <td>2018-11-25</td>\n",
       "      <td>1000</td>\n",
       "    </tr>\n",
       "    <tr>\n",
       "      <td>1</td>\n",
       "      <td>1</td>\n",
       "      <td>1000_1</td>\n",
       "      <td>1052.81</td>\n",
       "      <td>2018-09-07</td>\n",
       "      <td>1000</td>\n",
       "    </tr>\n",
       "    <tr>\n",
       "      <td>2</td>\n",
       "      <td>2</td>\n",
       "      <td>1000_2</td>\n",
       "      <td>1197.26</td>\n",
       "      <td>2018-06-25</td>\n",
       "      <td>1000</td>\n",
       "    </tr>\n",
       "    <tr>\n",
       "      <td>3</td>\n",
       "      <td>3</td>\n",
       "      <td>1000_3</td>\n",
       "      <td>550.27</td>\n",
       "      <td>2018-08-22</td>\n",
       "      <td>1000</td>\n",
       "    </tr>\n",
       "    <tr>\n",
       "      <td>4</td>\n",
       "      <td>4</td>\n",
       "      <td>1000_4</td>\n",
       "      <td>302.56</td>\n",
       "      <td>2018-09-24</td>\n",
       "      <td>1000</td>\n",
       "    </tr>\n",
       "  </tbody>\n",
       "</table>\n",
       "</div>"
      ],
      "text/plain": [
       "   Unnamed: 0      id  mb_used session_date  user_id\n",
       "0           0  1000_0   112.95   2018-11-25     1000\n",
       "1           1  1000_1  1052.81   2018-09-07     1000\n",
       "2           2  1000_2  1197.26   2018-06-25     1000\n",
       "3           3  1000_3   550.27   2018-08-22     1000\n",
       "4           4  1000_4   302.56   2018-09-24     1000"
      ]
     },
     "execution_count": 33,
     "metadata": {},
     "output_type": "execute_result"
    }
   ],
   "source": [
    "internet.head()"
   ]
  },
  {
   "cell_type": "code",
   "execution_count": 34,
   "metadata": {},
   "outputs": [
    {
     "name": "stdout",
     "output_type": "stream",
     "text": [
      "<class 'pandas.core.frame.DataFrame'>\n",
      "RangeIndex: 149396 entries, 0 to 149395\n",
      "Data columns (total 5 columns):\n",
      "Unnamed: 0      149396 non-null int64\n",
      "id              149396 non-null object\n",
      "mb_used         149396 non-null float64\n",
      "session_date    149396 non-null object\n",
      "user_id         149396 non-null int64\n",
      "dtypes: float64(1), int64(2), object(2)\n",
      "memory usage: 5.7+ MB\n"
     ]
    }
   ],
   "source": [
    "internet.info()"
   ]
  },
  {
   "cell_type": "markdown",
   "metadata": {},
   "source": [
    "It is necessary to change the format of the **session_date column**"
   ]
  },
  {
   "cell_type": "code",
   "execution_count": 35,
   "metadata": {},
   "outputs": [],
   "source": [
    "date_to_dt([internet])"
   ]
  },
  {
   "cell_type": "code",
   "execution_count": 36,
   "metadata": {},
   "outputs": [
    {
     "name": "stdout",
     "output_type": "stream",
     "text": [
      "<class 'pandas.core.frame.DataFrame'>\n",
      "RangeIndex: 149396 entries, 0 to 149395\n",
      "Data columns (total 6 columns):\n",
      "Unnamed: 0      149396 non-null int64\n",
      "id              149396 non-null object\n",
      "mb_used         149396 non-null float64\n",
      "session_date    149396 non-null datetime64[ns]\n",
      "user_id         149396 non-null int64\n",
      "месяц           149396 non-null int64\n",
      "dtypes: datetime64[ns](1), float64(1), int64(3), object(1)\n",
      "memory usage: 6.8+ MB\n"
     ]
    }
   ],
   "source": [
    "internet.info()"
   ]
  },
  {
   "cell_type": "markdown",
   "metadata": {},
   "source": [
    "We will not round the values of the megabytes spent by the user, since the tariffs have a fixed Internet package and the task does not say that the operator rounds the megabytes spent.  \n",
    "However, it is worth looking at the zero values in Internet sessions and getting rid of them, if any.  \n",
    "Zero connections are not charged and do not participate in calculations.  "
   ]
  },
  {
   "cell_type": "code",
   "execution_count": 37,
   "metadata": {},
   "outputs": [
    {
     "data": {
      "text/html": [
       "<div>\n",
       "<style scoped>\n",
       "    .dataframe tbody tr th:only-of-type {\n",
       "        vertical-align: middle;\n",
       "    }\n",
       "\n",
       "    .dataframe tbody tr th {\n",
       "        vertical-align: top;\n",
       "    }\n",
       "\n",
       "    .dataframe thead th {\n",
       "        text-align: right;\n",
       "    }\n",
       "</style>\n",
       "<table border=\"1\" class=\"dataframe\">\n",
       "  <thead>\n",
       "    <tr style=\"text-align: right;\">\n",
       "      <th></th>\n",
       "      <th>Unnamed: 0</th>\n",
       "      <th>id</th>\n",
       "      <th>mb_used</th>\n",
       "      <th>session_date</th>\n",
       "      <th>user_id</th>\n",
       "      <th>месяц</th>\n",
       "    </tr>\n",
       "  </thead>\n",
       "  <tbody>\n",
       "    <tr>\n",
       "      <td>11</td>\n",
       "      <td>11</td>\n",
       "      <td>1000_11</td>\n",
       "      <td>0.0</td>\n",
       "      <td>2018-08-28</td>\n",
       "      <td>1000</td>\n",
       "      <td>8</td>\n",
       "    </tr>\n",
       "    <tr>\n",
       "      <td>38</td>\n",
       "      <td>38</td>\n",
       "      <td>1000_38</td>\n",
       "      <td>0.0</td>\n",
       "      <td>2018-11-27</td>\n",
       "      <td>1000</td>\n",
       "      <td>11</td>\n",
       "    </tr>\n",
       "    <tr>\n",
       "      <td>46</td>\n",
       "      <td>46</td>\n",
       "      <td>1000_46</td>\n",
       "      <td>0.0</td>\n",
       "      <td>2018-06-30</td>\n",
       "      <td>1000</td>\n",
       "      <td>6</td>\n",
       "    </tr>\n",
       "    <tr>\n",
       "      <td>67</td>\n",
       "      <td>67</td>\n",
       "      <td>1000_67</td>\n",
       "      <td>0.0</td>\n",
       "      <td>2018-06-16</td>\n",
       "      <td>1000</td>\n",
       "      <td>6</td>\n",
       "    </tr>\n",
       "    <tr>\n",
       "      <td>72</td>\n",
       "      <td>72</td>\n",
       "      <td>1000_72</td>\n",
       "      <td>0.0</td>\n",
       "      <td>2018-06-15</td>\n",
       "      <td>1000</td>\n",
       "      <td>6</td>\n",
       "    </tr>\n",
       "    <tr>\n",
       "      <td>...</td>\n",
       "      <td>...</td>\n",
       "      <td>...</td>\n",
       "      <td>...</td>\n",
       "      <td>...</td>\n",
       "      <td>...</td>\n",
       "      <td>...</td>\n",
       "    </tr>\n",
       "    <tr>\n",
       "      <td>149380</td>\n",
       "      <td>149380</td>\n",
       "      <td>1499_141</td>\n",
       "      <td>0.0</td>\n",
       "      <td>2018-12-11</td>\n",
       "      <td>1499</td>\n",
       "      <td>12</td>\n",
       "    </tr>\n",
       "    <tr>\n",
       "      <td>149381</td>\n",
       "      <td>149381</td>\n",
       "      <td>1499_142</td>\n",
       "      <td>0.0</td>\n",
       "      <td>2018-11-01</td>\n",
       "      <td>1499</td>\n",
       "      <td>11</td>\n",
       "    </tr>\n",
       "    <tr>\n",
       "      <td>149383</td>\n",
       "      <td>149383</td>\n",
       "      <td>1499_144</td>\n",
       "      <td>0.0</td>\n",
       "      <td>2018-11-27</td>\n",
       "      <td>1499</td>\n",
       "      <td>11</td>\n",
       "    </tr>\n",
       "    <tr>\n",
       "      <td>149386</td>\n",
       "      <td>149386</td>\n",
       "      <td>1499_147</td>\n",
       "      <td>0.0</td>\n",
       "      <td>2018-10-21</td>\n",
       "      <td>1499</td>\n",
       "      <td>10</td>\n",
       "    </tr>\n",
       "    <tr>\n",
       "      <td>149393</td>\n",
       "      <td>149393</td>\n",
       "      <td>1499_154</td>\n",
       "      <td>0.0</td>\n",
       "      <td>2018-10-27</td>\n",
       "      <td>1499</td>\n",
       "      <td>10</td>\n",
       "    </tr>\n",
       "  </tbody>\n",
       "</table>\n",
       "<p>19598 rows × 6 columns</p>\n",
       "</div>"
      ],
      "text/plain": [
       "        Unnamed: 0        id  mb_used session_date  user_id  месяц\n",
       "11              11   1000_11      0.0   2018-08-28     1000      8\n",
       "38              38   1000_38      0.0   2018-11-27     1000     11\n",
       "46              46   1000_46      0.0   2018-06-30     1000      6\n",
       "67              67   1000_67      0.0   2018-06-16     1000      6\n",
       "72              72   1000_72      0.0   2018-06-15     1000      6\n",
       "...            ...       ...      ...          ...      ...    ...\n",
       "149380      149380  1499_141      0.0   2018-12-11     1499     12\n",
       "149381      149381  1499_142      0.0   2018-11-01     1499     11\n",
       "149383      149383  1499_144      0.0   2018-11-27     1499     11\n",
       "149386      149386  1499_147      0.0   2018-10-21     1499     10\n",
       "149393      149393  1499_154      0.0   2018-10-27     1499     10\n",
       "\n",
       "[19598 rows x 6 columns]"
      ]
     },
     "execution_count": 37,
     "metadata": {},
     "output_type": "execute_result"
    }
   ],
   "source": [
    "internet.query('mb_used == 0')"
   ]
  },
  {
   "cell_type": "code",
   "execution_count": 38,
   "metadata": {},
   "outputs": [],
   "source": [
    "#Избавимся от 0 значений\n",
    "internet['mb_used'] = internet['mb_used'].replace(0, np.NaN)\n",
    "internet = internet.dropna()"
   ]
  },
  {
   "cell_type": "code",
   "execution_count": 39,
   "metadata": {},
   "outputs": [
    {
     "data": {
      "text/html": [
       "<div>\n",
       "<style scoped>\n",
       "    .dataframe tbody tr th:only-of-type {\n",
       "        vertical-align: middle;\n",
       "    }\n",
       "\n",
       "    .dataframe tbody tr th {\n",
       "        vertical-align: top;\n",
       "    }\n",
       "\n",
       "    .dataframe thead th {\n",
       "        text-align: right;\n",
       "    }\n",
       "</style>\n",
       "<table border=\"1\" class=\"dataframe\">\n",
       "  <thead>\n",
       "    <tr style=\"text-align: right;\">\n",
       "      <th></th>\n",
       "      <th>Unnamed: 0</th>\n",
       "      <th>id</th>\n",
       "      <th>mb_used</th>\n",
       "      <th>session_date</th>\n",
       "      <th>user_id</th>\n",
       "      <th>месяц</th>\n",
       "    </tr>\n",
       "  </thead>\n",
       "  <tbody>\n",
       "  </tbody>\n",
       "</table>\n",
       "</div>"
      ],
      "text/plain": [
       "Empty DataFrame\n",
       "Columns: [Unnamed: 0, id, mb_used, session_date, user_id, месяц]\n",
       "Index: []"
      ]
     },
     "execution_count": 39,
     "metadata": {},
     "output_type": "execute_result"
    }
   ],
   "source": [
    "internet.query('mb_used == 0')"
   ]
  },
  {
   "cell_type": "markdown",
   "metadata": {},
   "source": [
    "We got rid of zero connections successfully.\n",
    "Let's round up the traffic values according to the Megaline tariff rules:"
   ]
  },
  {
   "cell_type": "code",
   "execution_count": 40,
   "metadata": {},
   "outputs": [],
   "source": [
    "internet['mb_used'] = np.ceil(internet['mb_used'])"
   ]
  },
  {
   "cell_type": "markdown",
   "metadata": {},
   "source": [
    " Посмотрим на график, нет ли еще каких-то аномалий в значениях расходования пакета интернета пользователями:"
   ]
  },
  {
   "cell_type": "code",
   "execution_count": 41,
   "metadata": {},
   "outputs": [
    {
     "data": {
      "image/png": "[encoded data removed]",
      "text/plain": [
       "<Figure size 432x288 with 1 Axes>"
      ]
     },
     "metadata": {
      "needs_background": "light"
     },
     "output_type": "display_data"
    }
   ],
   "source": [
    "internet['mb_used'].plot(kind='hist', ec='black', bins=50)\n",
    "plt.title('Traffic usage histogram')\n",
    "plt.ylabel('Users')\n",
    "plt.xlabel('Traffic')\n",
    "plt.show()"
   ]
  },
  {
   "cell_type": "markdown",
   "metadata": {},
   "source": [
    "The data in the graph is distributed normally.\n",
    "Note that the majority of users use the Internet very little (at least by my standards :))\n",
    "And very rarely, which of the users overspends traffic"
   ]
  },
  {
   "cell_type": "markdown",
   "metadata": {},
   "source": [
    "#### 1.1.5 tariffs <a name=\"paragraph1.1.5\"></a>"
   ]
  },
  {
   "cell_type": "code",
   "execution_count": 42,
   "metadata": {},
   "outputs": [
    {
     "data": {
      "text/html": [
       "<div>\n",
       "<style scoped>\n",
       "    .dataframe tbody tr th:only-of-type {\n",
       "        vertical-align: middle;\n",
       "    }\n",
       "\n",
       "    .dataframe tbody tr th {\n",
       "        vertical-align: top;\n",
       "    }\n",
       "\n",
       "    .dataframe thead th {\n",
       "        text-align: right;\n",
       "    }\n",
       "</style>\n",
       "<table border=\"1\" class=\"dataframe\">\n",
       "  <thead>\n",
       "    <tr style=\"text-align: right;\">\n",
       "      <th></th>\n",
       "      <th>messages_included</th>\n",
       "      <th>mb_per_month_included</th>\n",
       "      <th>minutes_included</th>\n",
       "      <th>rub_monthly_fee</th>\n",
       "      <th>rub_per_gb</th>\n",
       "      <th>rub_per_message</th>\n",
       "      <th>rub_per_minute</th>\n",
       "      <th>tariff_name</th>\n",
       "    </tr>\n",
       "  </thead>\n",
       "  <tbody>\n",
       "    <tr>\n",
       "      <td>0</td>\n",
       "      <td>50</td>\n",
       "      <td>15360</td>\n",
       "      <td>500</td>\n",
       "      <td>550</td>\n",
       "      <td>200</td>\n",
       "      <td>3</td>\n",
       "      <td>3</td>\n",
       "      <td>smart</td>\n",
       "    </tr>\n",
       "    <tr>\n",
       "      <td>1</td>\n",
       "      <td>1000</td>\n",
       "      <td>30720</td>\n",
       "      <td>3000</td>\n",
       "      <td>1950</td>\n",
       "      <td>150</td>\n",
       "      <td>1</td>\n",
       "      <td>1</td>\n",
       "      <td>ultra</td>\n",
       "    </tr>\n",
       "  </tbody>\n",
       "</table>\n",
       "</div>"
      ],
      "text/plain": [
       "   messages_included  mb_per_month_included  minutes_included  \\\n",
       "0                 50                  15360               500   \n",
       "1               1000                  30720              3000   \n",
       "\n",
       "   rub_monthly_fee  rub_per_gb  rub_per_message  rub_per_minute tariff_name  \n",
       "0              550         200                3               3       smart  \n",
       "1             1950         150                1               1       ultra  "
      ]
     },
     "execution_count": 42,
     "metadata": {},
     "output_type": "execute_result"
    }
   ],
   "source": [
    "tariffs.head()"
   ]
  },
  {
   "cell_type": "markdown",
   "metadata": {},
   "source": [
    "There is nothing to do with the table - Use it as reference information."
   ]
  },
  {
   "cell_type": "markdown",
   "metadata": {},
   "source": [
    "## 2. Let's calculate the subscribers expenses according to the tariffs <a name=\"paragraph2\"></a>"
   ]
  },
  {
   "cell_type": "code",
   "execution_count": 43,
   "metadata": {},
   "outputs": [
    {
     "data": {
      "text/html": [
       "<div>\n",
       "<style scoped>\n",
       "    .dataframe tbody tr th:only-of-type {\n",
       "        vertical-align: middle;\n",
       "    }\n",
       "\n",
       "    .dataframe tbody tr th {\n",
       "        vertical-align: top;\n",
       "    }\n",
       "\n",
       "    .dataframe thead th {\n",
       "        text-align: right;\n",
       "    }\n",
       "</style>\n",
       "<table border=\"1\" class=\"dataframe\">\n",
       "  <thead>\n",
       "    <tr style=\"text-align: right;\">\n",
       "      <th></th>\n",
       "      <th>id</th>\n",
       "      <th>call_date</th>\n",
       "      <th>duration</th>\n",
       "      <th>user_id</th>\n",
       "      <th>месяц</th>\n",
       "    </tr>\n",
       "  </thead>\n",
       "  <tbody>\n",
       "    <tr>\n",
       "      <td>2</td>\n",
       "      <td>1000_2</td>\n",
       "      <td>2018-06-11</td>\n",
       "      <td>3.0</td>\n",
       "      <td>1000</td>\n",
       "      <td>6</td>\n",
       "    </tr>\n",
       "    <tr>\n",
       "      <td>3</td>\n",
       "      <td>1000_3</td>\n",
       "      <td>2018-09-21</td>\n",
       "      <td>14.0</td>\n",
       "      <td>1000</td>\n",
       "      <td>9</td>\n",
       "    </tr>\n",
       "    <tr>\n",
       "      <td>4</td>\n",
       "      <td>1000_4</td>\n",
       "      <td>2018-12-15</td>\n",
       "      <td>6.0</td>\n",
       "      <td>1000</td>\n",
       "      <td>12</td>\n",
       "    </tr>\n",
       "    <tr>\n",
       "      <td>7</td>\n",
       "      <td>1000_7</td>\n",
       "      <td>2018-08-22</td>\n",
       "      <td>19.0</td>\n",
       "      <td>1000</td>\n",
       "      <td>8</td>\n",
       "    </tr>\n",
       "    <tr>\n",
       "      <td>8</td>\n",
       "      <td>1000_8</td>\n",
       "      <td>2018-09-15</td>\n",
       "      <td>19.0</td>\n",
       "      <td>1000</td>\n",
       "      <td>9</td>\n",
       "    </tr>\n",
       "    <tr>\n",
       "      <td>10</td>\n",
       "      <td>1000_10</td>\n",
       "      <td>2018-08-22</td>\n",
       "      <td>6.0</td>\n",
       "      <td>1000</td>\n",
       "      <td>8</td>\n",
       "    </tr>\n",
       "    <tr>\n",
       "      <td>11</td>\n",
       "      <td>1000_11</td>\n",
       "      <td>2018-05-28</td>\n",
       "      <td>19.0</td>\n",
       "      <td>1000</td>\n",
       "      <td>5</td>\n",
       "    </tr>\n",
       "    <tr>\n",
       "      <td>12</td>\n",
       "      <td>1000_12</td>\n",
       "      <td>2018-07-05</td>\n",
       "      <td>3.0</td>\n",
       "      <td>1000</td>\n",
       "      <td>7</td>\n",
       "    </tr>\n",
       "    <tr>\n",
       "      <td>13</td>\n",
       "      <td>1000_13</td>\n",
       "      <td>2018-09-29</td>\n",
       "      <td>8.0</td>\n",
       "      <td>1000</td>\n",
       "      <td>9</td>\n",
       "    </tr>\n",
       "    <tr>\n",
       "      <td>14</td>\n",
       "      <td>1000_14</td>\n",
       "      <td>2018-12-11</td>\n",
       "      <td>10.0</td>\n",
       "      <td>1000</td>\n",
       "      <td>12</td>\n",
       "    </tr>\n",
       "  </tbody>\n",
       "</table>\n",
       "</div>"
      ],
      "text/plain": [
       "         id  call_date  duration  user_id  месяц\n",
       "2    1000_2 2018-06-11       3.0     1000      6\n",
       "3    1000_3 2018-09-21      14.0     1000      9\n",
       "4    1000_4 2018-12-15       6.0     1000     12\n",
       "7    1000_7 2018-08-22      19.0     1000      8\n",
       "8    1000_8 2018-09-15      19.0     1000      9\n",
       "10  1000_10 2018-08-22       6.0     1000      8\n",
       "11  1000_11 2018-05-28      19.0     1000      5\n",
       "12  1000_12 2018-07-05       3.0     1000      7\n",
       "13  1000_13 2018-09-29       8.0     1000      9\n",
       "14  1000_14 2018-12-11      10.0     1000     12"
      ]
     },
     "execution_count": 43,
     "metadata": {},
     "output_type": "execute_result"
    }
   ],
   "source": [
    "calls.head(10)"
   ]
  },
  {
   "cell_type": "markdown",
   "metadata": {},
   "source": [
    "Let's calculate the subscribers' expenses in each table and bring them into one table"
   ]
  },
  {
   "cell_type": "code",
   "execution_count": 44,
   "metadata": {},
   "outputs": [],
   "source": [
    "n_calls = calls.groupby(['user_id', 'месяц'])['duration'].agg(['count', 'sum'])\n",
    "n_messages = messages.groupby(['user_id', 'месяц'])['id'].count()\n",
    "n_internet = internet.groupby(['user_id', 'месяц']).sum()['mb_used']"
   ]
  },
  {
   "cell_type": "code",
   "execution_count": 45,
   "metadata": {},
   "outputs": [
    {
     "data": {
      "text/html": [
       "<div>\n",
       "<style scoped>\n",
       "    .dataframe tbody tr th:only-of-type {\n",
       "        vertical-align: middle;\n",
       "    }\n",
       "\n",
       "    .dataframe tbody tr th {\n",
       "        vertical-align: top;\n",
       "    }\n",
       "\n",
       "    .dataframe thead th {\n",
       "        text-align: right;\n",
       "    }\n",
       "</style>\n",
       "<table border=\"1\" class=\"dataframe\">\n",
       "  <thead>\n",
       "    <tr style=\"text-align: right;\">\n",
       "      <th></th>\n",
       "      <th>user_id</th>\n",
       "      <th>месяц</th>\n",
       "      <th>count</th>\n",
       "      <th>sum</th>\n",
       "      <th>id</th>\n",
       "      <th>mb_used</th>\n",
       "    </tr>\n",
       "  </thead>\n",
       "  <tbody>\n",
       "    <tr>\n",
       "      <td>0</td>\n",
       "      <td>1000</td>\n",
       "      <td>5</td>\n",
       "      <td>17.0</td>\n",
       "      <td>159.0</td>\n",
       "      <td>22.0</td>\n",
       "      <td>2256.0</td>\n",
       "    </tr>\n",
       "    <tr>\n",
       "      <td>1</td>\n",
       "      <td>1000</td>\n",
       "      <td>6</td>\n",
       "      <td>28.0</td>\n",
       "      <td>172.0</td>\n",
       "      <td>60.0</td>\n",
       "      <td>23257.0</td>\n",
       "    </tr>\n",
       "    <tr>\n",
       "      <td>2</td>\n",
       "      <td>1000</td>\n",
       "      <td>7</td>\n",
       "      <td>41.0</td>\n",
       "      <td>340.0</td>\n",
       "      <td>75.0</td>\n",
       "      <td>14016.0</td>\n",
       "    </tr>\n",
       "    <tr>\n",
       "      <td>3</td>\n",
       "      <td>1000</td>\n",
       "      <td>8</td>\n",
       "      <td>42.0</td>\n",
       "      <td>408.0</td>\n",
       "      <td>81.0</td>\n",
       "      <td>14070.0</td>\n",
       "    </tr>\n",
       "    <tr>\n",
       "      <td>4</td>\n",
       "      <td>1000</td>\n",
       "      <td>9</td>\n",
       "      <td>46.0</td>\n",
       "      <td>466.0</td>\n",
       "      <td>57.0</td>\n",
       "      <td>14581.0</td>\n",
       "    </tr>\n",
       "  </tbody>\n",
       "</table>\n",
       "</div>"
      ],
      "text/plain": [
       "   user_id  месяц  count    sum    id  mb_used\n",
       "0     1000      5   17.0  159.0  22.0   2256.0\n",
       "1     1000      6   28.0  172.0  60.0  23257.0\n",
       "2     1000      7   41.0  340.0  75.0  14016.0\n",
       "3     1000      8   42.0  408.0  81.0  14070.0\n",
       "4     1000      9   46.0  466.0  57.0  14581.0"
      ]
     },
     "execution_count": 45,
     "metadata": {},
     "output_type": "execute_result"
    }
   ],
   "source": [
    "df_pivot = pd.concat([n_calls, n_messages, n_internet], axis=1)\n",
    "df_pivot = df_pivot.reset_index()\n",
    "df_pivot.head()"
   ]
  },
  {
   "cell_type": "markdown",
   "metadata": {},
   "source": [
    "In order for the table to be fully ready for operation, we will add columns with the values of the city and tariff"
   ]
  },
  {
   "cell_type": "code",
   "execution_count": 46,
   "metadata": {},
   "outputs": [],
   "source": [
    "add_tariff = dict(pd.Series(users['tariff'].values, index=users['user_id']))\n",
    "df_pivot['Тариф'] = df_pivot['user_id'].map(add_tariff)\n",
    "add_city = dict(pd.Series(users['city'].values, index=users['user_id']))\n",
    "df_pivot['Город'] = df_pivot['user_id'].map(add_city)"
   ]
  },
  {
   "cell_type": "code",
   "execution_count": 47,
   "metadata": {},
   "outputs": [
    {
     "data": {
      "text/html": [
       "<div>\n",
       "<style scoped>\n",
       "    .dataframe tbody tr th:only-of-type {\n",
       "        vertical-align: middle;\n",
       "    }\n",
       "\n",
       "    .dataframe tbody tr th {\n",
       "        vertical-align: top;\n",
       "    }\n",
       "\n",
       "    .dataframe thead th {\n",
       "        text-align: right;\n",
       "    }\n",
       "</style>\n",
       "<table border=\"1\" class=\"dataframe\">\n",
       "  <thead>\n",
       "    <tr style=\"text-align: right;\">\n",
       "      <th></th>\n",
       "      <th>user_id</th>\n",
       "      <th>месяц</th>\n",
       "      <th>count</th>\n",
       "      <th>sum</th>\n",
       "      <th>id</th>\n",
       "      <th>mb_used</th>\n",
       "      <th>Тариф</th>\n",
       "      <th>Город</th>\n",
       "    </tr>\n",
       "  </thead>\n",
       "  <tbody>\n",
       "    <tr>\n",
       "      <td>0</td>\n",
       "      <td>1000</td>\n",
       "      <td>5</td>\n",
       "      <td>17.0</td>\n",
       "      <td>159.0</td>\n",
       "      <td>22.0</td>\n",
       "      <td>2256.0</td>\n",
       "      <td>ultra</td>\n",
       "      <td>Краснодар</td>\n",
       "    </tr>\n",
       "    <tr>\n",
       "      <td>1</td>\n",
       "      <td>1000</td>\n",
       "      <td>6</td>\n",
       "      <td>28.0</td>\n",
       "      <td>172.0</td>\n",
       "      <td>60.0</td>\n",
       "      <td>23257.0</td>\n",
       "      <td>ultra</td>\n",
       "      <td>Краснодар</td>\n",
       "    </tr>\n",
       "    <tr>\n",
       "      <td>2</td>\n",
       "      <td>1000</td>\n",
       "      <td>7</td>\n",
       "      <td>41.0</td>\n",
       "      <td>340.0</td>\n",
       "      <td>75.0</td>\n",
       "      <td>14016.0</td>\n",
       "      <td>ultra</td>\n",
       "      <td>Краснодар</td>\n",
       "    </tr>\n",
       "    <tr>\n",
       "      <td>3</td>\n",
       "      <td>1000</td>\n",
       "      <td>8</td>\n",
       "      <td>42.0</td>\n",
       "      <td>408.0</td>\n",
       "      <td>81.0</td>\n",
       "      <td>14070.0</td>\n",
       "      <td>ultra</td>\n",
       "      <td>Краснодар</td>\n",
       "    </tr>\n",
       "    <tr>\n",
       "      <td>4</td>\n",
       "      <td>1000</td>\n",
       "      <td>9</td>\n",
       "      <td>46.0</td>\n",
       "      <td>466.0</td>\n",
       "      <td>57.0</td>\n",
       "      <td>14581.0</td>\n",
       "      <td>ultra</td>\n",
       "      <td>Краснодар</td>\n",
       "    </tr>\n",
       "  </tbody>\n",
       "</table>\n",
       "</div>"
      ],
      "text/plain": [
       "   user_id  месяц  count    sum    id  mb_used  Тариф      Город\n",
       "0     1000      5   17.0  159.0  22.0   2256.0  ultra  Краснодар\n",
       "1     1000      6   28.0  172.0  60.0  23257.0  ultra  Краснодар\n",
       "2     1000      7   41.0  340.0  75.0  14016.0  ultra  Краснодар\n",
       "3     1000      8   42.0  408.0  81.0  14070.0  ultra  Краснодар\n",
       "4     1000      9   46.0  466.0  57.0  14581.0  ultra  Краснодар"
      ]
     },
     "execution_count": 47,
     "metadata": {},
     "output_type": "execute_result"
    }
   ],
   "source": [
    "df_pivot.head()"
   ]
  },
  {
   "cell_type": "markdown",
   "metadata": {},
   "source": [
    "Rename the columns"
   ]
  },
  {
   "cell_type": "code",
   "execution_count": 48,
   "metadata": {},
   "outputs": [],
   "source": [
    "df_pivot.columns = ['User_id', 'Месяц', 'Кол-во звонков, шт', 'Звонки, мин', \n",
    "                            'СМС, шт', 'Интернет, Мб', 'Тариф', 'Город']"
   ]
  },
  {
   "cell_type": "code",
   "execution_count": 49,
   "metadata": {},
   "outputs": [
    {
     "data": {
      "text/html": [
       "<div>\n",
       "<style scoped>\n",
       "    .dataframe tbody tr th:only-of-type {\n",
       "        vertical-align: middle;\n",
       "    }\n",
       "\n",
       "    .dataframe tbody tr th {\n",
       "        vertical-align: top;\n",
       "    }\n",
       "\n",
       "    .dataframe thead th {\n",
       "        text-align: right;\n",
       "    }\n",
       "</style>\n",
       "<table border=\"1\" class=\"dataframe\">\n",
       "  <thead>\n",
       "    <tr style=\"text-align: right;\">\n",
       "      <th></th>\n",
       "      <th>User_id</th>\n",
       "      <th>Месяц</th>\n",
       "      <th>Кол-во звонков, шт</th>\n",
       "      <th>Звонки, мин</th>\n",
       "      <th>СМС, шт</th>\n",
       "      <th>Интернет, Мб</th>\n",
       "      <th>Тариф</th>\n",
       "      <th>Город</th>\n",
       "    </tr>\n",
       "  </thead>\n",
       "  <tbody>\n",
       "    <tr>\n",
       "      <td>0</td>\n",
       "      <td>1000</td>\n",
       "      <td>5</td>\n",
       "      <td>17.0</td>\n",
       "      <td>159.0</td>\n",
       "      <td>22.0</td>\n",
       "      <td>2256.0</td>\n",
       "      <td>ultra</td>\n",
       "      <td>Краснодар</td>\n",
       "    </tr>\n",
       "    <tr>\n",
       "      <td>1</td>\n",
       "      <td>1000</td>\n",
       "      <td>6</td>\n",
       "      <td>28.0</td>\n",
       "      <td>172.0</td>\n",
       "      <td>60.0</td>\n",
       "      <td>23257.0</td>\n",
       "      <td>ultra</td>\n",
       "      <td>Краснодар</td>\n",
       "    </tr>\n",
       "    <tr>\n",
       "      <td>2</td>\n",
       "      <td>1000</td>\n",
       "      <td>7</td>\n",
       "      <td>41.0</td>\n",
       "      <td>340.0</td>\n",
       "      <td>75.0</td>\n",
       "      <td>14016.0</td>\n",
       "      <td>ultra</td>\n",
       "      <td>Краснодар</td>\n",
       "    </tr>\n",
       "    <tr>\n",
       "      <td>3</td>\n",
       "      <td>1000</td>\n",
       "      <td>8</td>\n",
       "      <td>42.0</td>\n",
       "      <td>408.0</td>\n",
       "      <td>81.0</td>\n",
       "      <td>14070.0</td>\n",
       "      <td>ultra</td>\n",
       "      <td>Краснодар</td>\n",
       "    </tr>\n",
       "    <tr>\n",
       "      <td>4</td>\n",
       "      <td>1000</td>\n",
       "      <td>9</td>\n",
       "      <td>46.0</td>\n",
       "      <td>466.0</td>\n",
       "      <td>57.0</td>\n",
       "      <td>14581.0</td>\n",
       "      <td>ultra</td>\n",
       "      <td>Краснодар</td>\n",
       "    </tr>\n",
       "    <tr>\n",
       "      <td>5</td>\n",
       "      <td>1000</td>\n",
       "      <td>10</td>\n",
       "      <td>44.0</td>\n",
       "      <td>350.0</td>\n",
       "      <td>73.0</td>\n",
       "      <td>14717.0</td>\n",
       "      <td>ultra</td>\n",
       "      <td>Краснодар</td>\n",
       "    </tr>\n",
       "    <tr>\n",
       "      <td>6</td>\n",
       "      <td>1000</td>\n",
       "      <td>11</td>\n",
       "      <td>37.0</td>\n",
       "      <td>338.0</td>\n",
       "      <td>58.0</td>\n",
       "      <td>14768.0</td>\n",
       "      <td>ultra</td>\n",
       "      <td>Краснодар</td>\n",
       "    </tr>\n",
       "    <tr>\n",
       "      <td>7</td>\n",
       "      <td>1000</td>\n",
       "      <td>12</td>\n",
       "      <td>38.0</td>\n",
       "      <td>333.0</td>\n",
       "      <td>70.0</td>\n",
       "      <td>9827.0</td>\n",
       "      <td>ultra</td>\n",
       "      <td>Краснодар</td>\n",
       "    </tr>\n",
       "    <tr>\n",
       "      <td>8</td>\n",
       "      <td>1001</td>\n",
       "      <td>11</td>\n",
       "      <td>45.0</td>\n",
       "      <td>430.0</td>\n",
       "      <td>NaN</td>\n",
       "      <td>18452.0</td>\n",
       "      <td>smart</td>\n",
       "      <td>Москва</td>\n",
       "    </tr>\n",
       "    <tr>\n",
       "      <td>9</td>\n",
       "      <td>1001</td>\n",
       "      <td>12</td>\n",
       "      <td>47.0</td>\n",
       "      <td>414.0</td>\n",
       "      <td>NaN</td>\n",
       "      <td>14053.0</td>\n",
       "      <td>smart</td>\n",
       "      <td>Москва</td>\n",
       "    </tr>\n",
       "    <tr>\n",
       "      <td>10</td>\n",
       "      <td>1002</td>\n",
       "      <td>6</td>\n",
       "      <td>14.0</td>\n",
       "      <td>117.0</td>\n",
       "      <td>4.0</td>\n",
       "      <td>10871.0</td>\n",
       "      <td>smart</td>\n",
       "      <td>Стерлитамак</td>\n",
       "    </tr>\n",
       "    <tr>\n",
       "      <td>11</td>\n",
       "      <td>1002</td>\n",
       "      <td>7</td>\n",
       "      <td>21.0</td>\n",
       "      <td>214.0</td>\n",
       "      <td>11.0</td>\n",
       "      <td>17601.0</td>\n",
       "      <td>smart</td>\n",
       "      <td>Стерлитамак</td>\n",
       "    </tr>\n",
       "    <tr>\n",
       "      <td>12</td>\n",
       "      <td>1002</td>\n",
       "      <td>8</td>\n",
       "      <td>37.0</td>\n",
       "      <td>289.0</td>\n",
       "      <td>13.0</td>\n",
       "      <td>20347.0</td>\n",
       "      <td>smart</td>\n",
       "      <td>Стерлитамак</td>\n",
       "    </tr>\n",
       "    <tr>\n",
       "      <td>13</td>\n",
       "      <td>1002</td>\n",
       "      <td>9</td>\n",
       "      <td>25.0</td>\n",
       "      <td>206.0</td>\n",
       "      <td>4.0</td>\n",
       "      <td>16712.0</td>\n",
       "      <td>smart</td>\n",
       "      <td>Стерлитамак</td>\n",
       "    </tr>\n",
       "    <tr>\n",
       "      <td>14</td>\n",
       "      <td>1002</td>\n",
       "      <td>10</td>\n",
       "      <td>24.0</td>\n",
       "      <td>212.0</td>\n",
       "      <td>10.0</td>\n",
       "      <td>13905.0</td>\n",
       "      <td>smart</td>\n",
       "      <td>Стерлитамак</td>\n",
       "    </tr>\n",
       "    <tr>\n",
       "      <td>15</td>\n",
       "      <td>1002</td>\n",
       "      <td>11</td>\n",
       "      <td>25.0</td>\n",
       "      <td>243.0</td>\n",
       "      <td>16.0</td>\n",
       "      <td>18610.0</td>\n",
       "      <td>smart</td>\n",
       "      <td>Стерлитамак</td>\n",
       "    </tr>\n",
       "    <tr>\n",
       "      <td>16</td>\n",
       "      <td>1002</td>\n",
       "      <td>12</td>\n",
       "      <td>27.0</td>\n",
       "      <td>236.0</td>\n",
       "      <td>12.0</td>\n",
       "      <td>18137.0</td>\n",
       "      <td>smart</td>\n",
       "      <td>Стерлитамак</td>\n",
       "    </tr>\n",
       "    <tr>\n",
       "      <td>17</td>\n",
       "      <td>1003</td>\n",
       "      <td>8</td>\n",
       "      <td>43.0</td>\n",
       "      <td>380.0</td>\n",
       "      <td>37.0</td>\n",
       "      <td>8571.0</td>\n",
       "      <td>ultra</td>\n",
       "      <td>Москва</td>\n",
       "    </tr>\n",
       "    <tr>\n",
       "      <td>18</td>\n",
       "      <td>1003</td>\n",
       "      <td>9</td>\n",
       "      <td>105.0</td>\n",
       "      <td>961.0</td>\n",
       "      <td>91.0</td>\n",
       "      <td>12479.0</td>\n",
       "      <td>ultra</td>\n",
       "      <td>Москва</td>\n",
       "    </tr>\n",
       "    <tr>\n",
       "      <td>19</td>\n",
       "      <td>1003</td>\n",
       "      <td>10</td>\n",
       "      <td>97.0</td>\n",
       "      <td>855.0</td>\n",
       "      <td>83.0</td>\n",
       "      <td>14779.0</td>\n",
       "      <td>ultra</td>\n",
       "      <td>Москва</td>\n",
       "    </tr>\n",
       "  </tbody>\n",
       "</table>\n",
       "</div>"
      ],
      "text/plain": [
       "    User_id  Месяц  Кол-во звонков, шт  Звонки, мин  СМС, шт  Интернет, Мб  \\\n",
       "0      1000      5                17.0        159.0     22.0        2256.0   \n",
       "1      1000      6                28.0        172.0     60.0       23257.0   \n",
       "2      1000      7                41.0        340.0     75.0       14016.0   \n",
       "3      1000      8                42.0        408.0     81.0       14070.0   \n",
       "4      1000      9                46.0        466.0     57.0       14581.0   \n",
       "5      1000     10                44.0        350.0     73.0       14717.0   \n",
       "6      1000     11                37.0        338.0     58.0       14768.0   \n",
       "7      1000     12                38.0        333.0     70.0        9827.0   \n",
       "8      1001     11                45.0        430.0      NaN       18452.0   \n",
       "9      1001     12                47.0        414.0      NaN       14053.0   \n",
       "10     1002      6                14.0        117.0      4.0       10871.0   \n",
       "11     1002      7                21.0        214.0     11.0       17601.0   \n",
       "12     1002      8                37.0        289.0     13.0       20347.0   \n",
       "13     1002      9                25.0        206.0      4.0       16712.0   \n",
       "14     1002     10                24.0        212.0     10.0       13905.0   \n",
       "15     1002     11                25.0        243.0     16.0       18610.0   \n",
       "16     1002     12                27.0        236.0     12.0       18137.0   \n",
       "17     1003      8                43.0        380.0     37.0        8571.0   \n",
       "18     1003      9               105.0        961.0     91.0       12479.0   \n",
       "19     1003     10                97.0        855.0     83.0       14779.0   \n",
       "\n",
       "    Тариф        Город  \n",
       "0   ultra    Краснодар  \n",
       "1   ultra    Краснодар  \n",
       "2   ultra    Краснодар  \n",
       "3   ultra    Краснодар  \n",
       "4   ultra    Краснодар  \n",
       "5   ultra    Краснодар  \n",
       "6   ultra    Краснодар  \n",
       "7   ultra    Краснодар  \n",
       "8   smart       Москва  \n",
       "9   smart       Москва  \n",
       "10  smart  Стерлитамак  \n",
       "11  smart  Стерлитамак  \n",
       "12  smart  Стерлитамак  \n",
       "13  smart  Стерлитамак  \n",
       "14  smart  Стерлитамак  \n",
       "15  smart  Стерлитамак  \n",
       "16  smart  Стерлитамак  \n",
       "17  ultra       Москва  \n",
       "18  ultra       Москва  \n",
       "19  ultra       Москва  "
      ]
     },
     "execution_count": 49,
     "metadata": {},
     "output_type": "execute_result"
    }
   ],
   "source": [
    "df_pivot.head(20)"
   ]
  },
  {
   "cell_type": "code",
   "execution_count": 50,
   "metadata": {},
   "outputs": [
    {
     "name": "stdout",
     "output_type": "stream",
     "text": [
      "<class 'pandas.core.frame.DataFrame'>\n",
      "RangeIndex: 3214 entries, 0 to 3213\n",
      "Data columns (total 8 columns):\n",
      "User_id               3214 non-null int64\n",
      "Месяц                 3214 non-null int64\n",
      "Кол-во звонков, шт    3168 non-null float64\n",
      "Звонки, мин           3168 non-null float64\n",
      "СМС, шт               2717 non-null float64\n",
      "Интернет, Мб          3201 non-null float64\n",
      "Тариф                 3214 non-null object\n",
      "Город                 3214 non-null object\n",
      "dtypes: float64(4), int64(2), object(2)\n",
      "memory usage: 201.0+ KB\n"
     ]
    }
   ],
   "source": [
    "df_pivot.info()"
   ]
  },
  {
   "cell_type": "code",
   "execution_count": 51,
   "metadata": {},
   "outputs": [
    {
     "data": {
      "text/html": [
       "<div>\n",
       "<style scoped>\n",
       "    .dataframe tbody tr th:only-of-type {\n",
       "        vertical-align: middle;\n",
       "    }\n",
       "\n",
       "    .dataframe tbody tr th {\n",
       "        vertical-align: top;\n",
       "    }\n",
       "\n",
       "    .dataframe thead th {\n",
       "        text-align: right;\n",
       "    }\n",
       "</style>\n",
       "<table border=\"1\" class=\"dataframe\">\n",
       "  <thead>\n",
       "    <tr style=\"text-align: right;\">\n",
       "      <th></th>\n",
       "      <th>User_id</th>\n",
       "      <th>Месяц</th>\n",
       "      <th>Кол-во звонков, шт</th>\n",
       "      <th>Звонки, мин</th>\n",
       "      <th>СМС, шт</th>\n",
       "      <th>Интернет, Мб</th>\n",
       "      <th>Тариф</th>\n",
       "      <th>Город</th>\n",
       "    </tr>\n",
       "  </thead>\n",
       "  <tbody>\n",
       "    <tr>\n",
       "      <td>8</td>\n",
       "      <td>1001</td>\n",
       "      <td>11</td>\n",
       "      <td>45.0</td>\n",
       "      <td>430.0</td>\n",
       "      <td>NaN</td>\n",
       "      <td>18452.0</td>\n",
       "      <td>smart</td>\n",
       "      <td>Москва</td>\n",
       "    </tr>\n",
       "    <tr>\n",
       "      <td>9</td>\n",
       "      <td>1001</td>\n",
       "      <td>12</td>\n",
       "      <td>47.0</td>\n",
       "      <td>414.0</td>\n",
       "      <td>NaN</td>\n",
       "      <td>14053.0</td>\n",
       "      <td>smart</td>\n",
       "      <td>Москва</td>\n",
       "    </tr>\n",
       "    <tr>\n",
       "      <td>42</td>\n",
       "      <td>1006</td>\n",
       "      <td>2</td>\n",
       "      <td>3.0</td>\n",
       "      <td>42.0</td>\n",
       "      <td>NaN</td>\n",
       "      <td>1395.0</td>\n",
       "      <td>smart</td>\n",
       "      <td>Ульяновск</td>\n",
       "    </tr>\n",
       "    <tr>\n",
       "      <td>43</td>\n",
       "      <td>1006</td>\n",
       "      <td>3</td>\n",
       "      <td>36.0</td>\n",
       "      <td>286.0</td>\n",
       "      <td>NaN</td>\n",
       "      <td>17309.0</td>\n",
       "      <td>smart</td>\n",
       "      <td>Ульяновск</td>\n",
       "    </tr>\n",
       "    <tr>\n",
       "      <td>44</td>\n",
       "      <td>1006</td>\n",
       "      <td>4</td>\n",
       "      <td>38.0</td>\n",
       "      <td>356.0</td>\n",
       "      <td>NaN</td>\n",
       "      <td>13954.0</td>\n",
       "      <td>smart</td>\n",
       "      <td>Ульяновск</td>\n",
       "    </tr>\n",
       "    <tr>\n",
       "      <td>...</td>\n",
       "      <td>...</td>\n",
       "      <td>...</td>\n",
       "      <td>...</td>\n",
       "      <td>...</td>\n",
       "      <td>...</td>\n",
       "      <td>...</td>\n",
       "      <td>...</td>\n",
       "      <td>...</td>\n",
       "    </tr>\n",
       "    <tr>\n",
       "      <td>3181</td>\n",
       "      <td>1494</td>\n",
       "      <td>8</td>\n",
       "      <td>26.0</td>\n",
       "      <td>262.0</td>\n",
       "      <td>NaN</td>\n",
       "      <td>6601.0</td>\n",
       "      <td>smart</td>\n",
       "      <td>Омск</td>\n",
       "    </tr>\n",
       "    <tr>\n",
       "      <td>3182</td>\n",
       "      <td>1494</td>\n",
       "      <td>9</td>\n",
       "      <td>57.0</td>\n",
       "      <td>501.0</td>\n",
       "      <td>NaN</td>\n",
       "      <td>16986.0</td>\n",
       "      <td>smart</td>\n",
       "      <td>Омск</td>\n",
       "    </tr>\n",
       "    <tr>\n",
       "      <td>3183</td>\n",
       "      <td>1494</td>\n",
       "      <td>10</td>\n",
       "      <td>45.0</td>\n",
       "      <td>354.0</td>\n",
       "      <td>NaN</td>\n",
       "      <td>17794.0</td>\n",
       "      <td>smart</td>\n",
       "      <td>Омск</td>\n",
       "    </tr>\n",
       "    <tr>\n",
       "      <td>3184</td>\n",
       "      <td>1494</td>\n",
       "      <td>11</td>\n",
       "      <td>46.0</td>\n",
       "      <td>411.0</td>\n",
       "      <td>NaN</td>\n",
       "      <td>18076.0</td>\n",
       "      <td>smart</td>\n",
       "      <td>Омск</td>\n",
       "    </tr>\n",
       "    <tr>\n",
       "      <td>3185</td>\n",
       "      <td>1494</td>\n",
       "      <td>12</td>\n",
       "      <td>54.0</td>\n",
       "      <td>418.0</td>\n",
       "      <td>NaN</td>\n",
       "      <td>17645.0</td>\n",
       "      <td>smart</td>\n",
       "      <td>Омск</td>\n",
       "    </tr>\n",
       "  </tbody>\n",
       "</table>\n",
       "<p>497 rows × 8 columns</p>\n",
       "</div>"
      ],
      "text/plain": [
       "      User_id  Месяц  Кол-во звонков, шт  Звонки, мин  СМС, шт  Интернет, Мб  \\\n",
       "8        1001     11                45.0        430.0      NaN       18452.0   \n",
       "9        1001     12                47.0        414.0      NaN       14053.0   \n",
       "42       1006      2                 3.0         42.0      NaN        1395.0   \n",
       "43       1006      3                36.0        286.0      NaN       17309.0   \n",
       "44       1006      4                38.0        356.0      NaN       13954.0   \n",
       "...       ...    ...                 ...          ...      ...           ...   \n",
       "3181     1494      8                26.0        262.0      NaN        6601.0   \n",
       "3182     1494      9                57.0        501.0      NaN       16986.0   \n",
       "3183     1494     10                45.0        354.0      NaN       17794.0   \n",
       "3184     1494     11                46.0        411.0      NaN       18076.0   \n",
       "3185     1494     12                54.0        418.0      NaN       17645.0   \n",
       "\n",
       "      Тариф      Город  \n",
       "8     smart     Москва  \n",
       "9     smart     Москва  \n",
       "42    smart  Ульяновск  \n",
       "43    smart  Ульяновск  \n",
       "44    smart  Ульяновск  \n",
       "...     ...        ...  \n",
       "3181  smart       Омск  \n",
       "3182  smart       Омск  \n",
       "3183  smart       Омск  \n",
       "3184  smart       Омск  \n",
       "3185  smart       Омск  \n",
       "\n",
       "[497 rows x 8 columns]"
      ]
     },
     "execution_count": 51,
     "metadata": {},
     "output_type": "execute_result"
    }
   ],
   "source": [
    "df_pivot[df_pivot['СМС, шт'].isnull()]"
   ]
  },
  {
   "cell_type": "markdown",
   "metadata": {},
   "source": [
    "In the table there are gaps in the data on the expenditure of both minutes and SMS and Traffic.  \n",
    "Let's see if there are users who have not used the Operator's services at all.  \n",
    "If there are such, then it will be necessary to exclude from the table"
   ]
  },
  {
   "cell_type": "code",
   "execution_count": 52,
   "metadata": {},
   "outputs": [
    {
     "data": {
      "text/html": [
       "<div>\n",
       "<style scoped>\n",
       "    .dataframe tbody tr th:only-of-type {\n",
       "        vertical-align: middle;\n",
       "    }\n",
       "\n",
       "    .dataframe tbody tr th {\n",
       "        vertical-align: top;\n",
       "    }\n",
       "\n",
       "    .dataframe thead th {\n",
       "        text-align: right;\n",
       "    }\n",
       "</style>\n",
       "<table border=\"1\" class=\"dataframe\">\n",
       "  <thead>\n",
       "    <tr style=\"text-align: right;\">\n",
       "      <th></th>\n",
       "      <th>User_id</th>\n",
       "      <th>Месяц</th>\n",
       "      <th>Кол-во звонков, шт</th>\n",
       "      <th>Звонки, мин</th>\n",
       "      <th>СМС, шт</th>\n",
       "      <th>Интернет, Мб</th>\n",
       "      <th>Тариф</th>\n",
       "      <th>Город</th>\n",
       "    </tr>\n",
       "  </thead>\n",
       "  <tbody>\n",
       "  </tbody>\n",
       "</table>\n",
       "</div>"
      ],
      "text/plain": [
       "Empty DataFrame\n",
       "Columns: [User_id, Месяц, Кол-во звонков, шт, Звонки, мин, СМС, шт, Интернет, Мб, Тариф, Город]\n",
       "Index: []"
      ]
     },
     "execution_count": 52,
     "metadata": {},
     "output_type": "execute_result"
    }
   ],
   "source": [
    "df_pivot[(df_pivot['СМС, шт'].isnull()) & (df_pivot['Кол-во звонков, шт'].isnull()) & (df_pivot['Интернет, Мб'].isnull())]"
   ]
  },
  {
   "cell_type": "markdown",
   "metadata": {},
   "source": [
    "There are no such subscribers: has anyone used anything  \n",
    "Therefore, we will simply fill in the missing values 0, but we will not delete them from the table"
   ]
  },
  {
   "cell_type": "code",
   "execution_count": 53,
   "metadata": {},
   "outputs": [],
   "source": [
    "df_pivot = df_pivot.fillna(0)"
   ]
  },
  {
   "cell_type": "code",
   "execution_count": 54,
   "metadata": {},
   "outputs": [
    {
     "name": "stdout",
     "output_type": "stream",
     "text": [
      "<class 'pandas.core.frame.DataFrame'>\n",
      "RangeIndex: 3214 entries, 0 to 3213\n",
      "Data columns (total 8 columns):\n",
      "User_id               3214 non-null int64\n",
      "Месяц                 3214 non-null int64\n",
      "Кол-во звонков, шт    3214 non-null float64\n",
      "Звонки, мин           3214 non-null float64\n",
      "СМС, шт               3214 non-null float64\n",
      "Интернет, Мб          3214 non-null float64\n",
      "Тариф                 3214 non-null object\n",
      "Город                 3214 non-null object\n",
      "dtypes: float64(4), int64(2), object(2)\n",
      "memory usage: 201.0+ KB\n"
     ]
    }
   ],
   "source": [
    "df_pivot.info()"
   ]
  },
  {
   "cell_type": "markdown",
   "metadata": {},
   "source": [
    "Now that we have a summary table with up-to-date data, we can proceed to calculating the revenue that the operator receives from each subscriber."
   ]
  },
  {
   "cell_type": "markdown",
   "metadata": {},
   "source": [
    "Let's add a column with the value of the subscription fee to the table"
   ]
  },
  {
   "cell_type": "code",
   "execution_count": 55,
   "metadata": {},
   "outputs": [],
   "source": [
    "month_fee = {'smart': 550, 'ultra': 1950}\n",
    "df_pivot['Аб. плата'] = df_pivot['Тариф'].map(month_fee)"
   ]
  },
  {
   "cell_type": "code",
   "execution_count": 56,
   "metadata": {},
   "outputs": [
    {
     "data": {
      "text/html": [
       "<div>\n",
       "<style scoped>\n",
       "    .dataframe tbody tr th:only-of-type {\n",
       "        vertical-align: middle;\n",
       "    }\n",
       "\n",
       "    .dataframe tbody tr th {\n",
       "        vertical-align: top;\n",
       "    }\n",
       "\n",
       "    .dataframe thead th {\n",
       "        text-align: right;\n",
       "    }\n",
       "</style>\n",
       "<table border=\"1\" class=\"dataframe\">\n",
       "  <thead>\n",
       "    <tr style=\"text-align: right;\">\n",
       "      <th></th>\n",
       "      <th>User_id</th>\n",
       "      <th>Месяц</th>\n",
       "      <th>Кол-во звонков, шт</th>\n",
       "      <th>Звонки, мин</th>\n",
       "      <th>СМС, шт</th>\n",
       "      <th>Интернет, Мб</th>\n",
       "      <th>Тариф</th>\n",
       "      <th>Город</th>\n",
       "      <th>Аб. плата</th>\n",
       "    </tr>\n",
       "  </thead>\n",
       "  <tbody>\n",
       "    <tr>\n",
       "      <td>0</td>\n",
       "      <td>1000</td>\n",
       "      <td>5</td>\n",
       "      <td>17.0</td>\n",
       "      <td>159.0</td>\n",
       "      <td>22.0</td>\n",
       "      <td>2256.0</td>\n",
       "      <td>ultra</td>\n",
       "      <td>Краснодар</td>\n",
       "      <td>1950</td>\n",
       "    </tr>\n",
       "    <tr>\n",
       "      <td>1</td>\n",
       "      <td>1000</td>\n",
       "      <td>6</td>\n",
       "      <td>28.0</td>\n",
       "      <td>172.0</td>\n",
       "      <td>60.0</td>\n",
       "      <td>23257.0</td>\n",
       "      <td>ultra</td>\n",
       "      <td>Краснодар</td>\n",
       "      <td>1950</td>\n",
       "    </tr>\n",
       "    <tr>\n",
       "      <td>2</td>\n",
       "      <td>1000</td>\n",
       "      <td>7</td>\n",
       "      <td>41.0</td>\n",
       "      <td>340.0</td>\n",
       "      <td>75.0</td>\n",
       "      <td>14016.0</td>\n",
       "      <td>ultra</td>\n",
       "      <td>Краснодар</td>\n",
       "      <td>1950</td>\n",
       "    </tr>\n",
       "    <tr>\n",
       "      <td>3</td>\n",
       "      <td>1000</td>\n",
       "      <td>8</td>\n",
       "      <td>42.0</td>\n",
       "      <td>408.0</td>\n",
       "      <td>81.0</td>\n",
       "      <td>14070.0</td>\n",
       "      <td>ultra</td>\n",
       "      <td>Краснодар</td>\n",
       "      <td>1950</td>\n",
       "    </tr>\n",
       "    <tr>\n",
       "      <td>4</td>\n",
       "      <td>1000</td>\n",
       "      <td>9</td>\n",
       "      <td>46.0</td>\n",
       "      <td>466.0</td>\n",
       "      <td>57.0</td>\n",
       "      <td>14581.0</td>\n",
       "      <td>ultra</td>\n",
       "      <td>Краснодар</td>\n",
       "      <td>1950</td>\n",
       "    </tr>\n",
       "  </tbody>\n",
       "</table>\n",
       "</div>"
      ],
      "text/plain": [
       "   User_id  Месяц  Кол-во звонков, шт  Звонки, мин  СМС, шт  Интернет, Мб  \\\n",
       "0     1000      5                17.0        159.0     22.0        2256.0   \n",
       "1     1000      6                28.0        172.0     60.0       23257.0   \n",
       "2     1000      7                41.0        340.0     75.0       14016.0   \n",
       "3     1000      8                42.0        408.0     81.0       14070.0   \n",
       "4     1000      9                46.0        466.0     57.0       14581.0   \n",
       "\n",
       "   Тариф      Город  Аб. плата  \n",
       "0  ultra  Краснодар       1950  \n",
       "1  ultra  Краснодар       1950  \n",
       "2  ultra  Краснодар       1950  \n",
       "3  ultra  Краснодар       1950  \n",
       "4  ultra  Краснодар       1950  "
      ]
     },
     "execution_count": 56,
     "metadata": {},
     "output_type": "execute_result"
    }
   ],
   "source": [
    "df_pivot.head()"
   ]
  },
  {
   "cell_type": "markdown",
   "metadata": {},
   "source": [
    "Let's write a function for calculating monthly revenue from each user:"
   ]
  },
  {
   "cell_type": "code",
   "execution_count": 57,
   "metadata": {},
   "outputs": [],
   "source": [
    "def calls_over(row):\n",
    "    if row['Тариф'] == 'smart':\n",
    "        result = row['Звонки, мин'] - 500\n",
    "        return np.where(result > 0, result, 0)\n",
    "    else:\n",
    "        result = row['Звонки, мин'] - 3000\n",
    "        return np.where(result > 0, result, 0)\n",
    "    \n",
    "    \n",
    "def sms_over(row):\n",
    "    if row['Тариф'] == 'smart':\n",
    "        result = row['СМС, шт'] - 50\n",
    "        return np.where(result > 0, result, 0)\n",
    "    else:\n",
    "        result =  row['СМС, шт'] - 1000\n",
    "        return np.where(result > 0, result, 0)\n",
    "    \n",
    "\n",
    "def internet_over(row):\n",
    "    if row['Тариф'] == 'smart':\n",
    "        result = row['Интернет, Мб'] - 15 * 1024\n",
    "        return np.where(result > 0, result, 0)\n",
    "    else:\n",
    "        result = row['Интернет, Мб'] - 30 * 1024\n",
    "        return np.where(result > 0, result, 0)\n",
    "    \n",
    "    \n",
    "def month_sum(row):\n",
    "    sum_per_month = 0\n",
    "    if row['Тариф'] == 'smart':\n",
    "        sum_per_month += np.ceil(row['Минуты_Extra']) * 3\n",
    "        sum_per_month += row['СМС_Extra'] * 3\n",
    "        sum_per_month += np.ceil(row['Мб_Extra']/1024) * 200\n",
    "        return sum_per_month\n",
    "    \n",
    "    else:\n",
    "        sum_per_month += np.ceil(row['Минуты_Extra']) * 1\n",
    "        sum_per_month += row['СМС_Extra'] * 1\n",
    "        sum_per_month += np.ceil(row['Мб_Extra']/1024) * 150\n",
    "        return sum_per_month"
   ]
  },
  {
   "cell_type": "markdown",
   "metadata": {},
   "source": [
    "Add columns to the table:"
   ]
  },
  {
   "cell_type": "code",
   "execution_count": 58,
   "metadata": {},
   "outputs": [],
   "source": [
    "df_pivot['Минуты_Extra'] = df_pivot.apply(calls_over, axis=1)\n",
    "df_pivot['СМС_Extra'] = df_pivot.apply(sms_over, axis=1)\n",
    "df_pivot['Мб_Extra'] = df_pivot.apply(internet_over, axis=1)\n",
    "\n",
    "df_pivot['Плата сверх лимита, руб.'] = df_pivot.apply(month_sum, axis=1)\n",
    "\n",
    "for column in ['Минуты_Extra', 'Мб_Extra']:\n",
    "    df_pivot[column] = df_pivot[column].astype('float')\n",
    "\n",
    "for column in ['СМС_Extra', 'Плата сверх лимита, руб.']:\n",
    "    df_pivot[column] = df_pivot[column].astype('int')"
   ]
  },
  {
   "cell_type": "code",
   "execution_count": 59,
   "metadata": {},
   "outputs": [
    {
     "data": {
      "text/html": [
       "<div>\n",
       "<style scoped>\n",
       "    .dataframe tbody tr th:only-of-type {\n",
       "        vertical-align: middle;\n",
       "    }\n",
       "\n",
       "    .dataframe tbody tr th {\n",
       "        vertical-align: top;\n",
       "    }\n",
       "\n",
       "    .dataframe thead th {\n",
       "        text-align: right;\n",
       "    }\n",
       "</style>\n",
       "<table border=\"1\" class=\"dataframe\">\n",
       "  <thead>\n",
       "    <tr style=\"text-align: right;\">\n",
       "      <th></th>\n",
       "      <th>User_id</th>\n",
       "      <th>Месяц</th>\n",
       "      <th>Кол-во звонков, шт</th>\n",
       "      <th>Звонки, мин</th>\n",
       "      <th>СМС, шт</th>\n",
       "      <th>Интернет, Мб</th>\n",
       "      <th>Тариф</th>\n",
       "      <th>Город</th>\n",
       "      <th>Аб. плата</th>\n",
       "      <th>Минуты_Extra</th>\n",
       "      <th>СМС_Extra</th>\n",
       "      <th>Мб_Extra</th>\n",
       "      <th>Плата сверх лимита, руб.</th>\n",
       "    </tr>\n",
       "  </thead>\n",
       "  <tbody>\n",
       "    <tr>\n",
       "      <td>0</td>\n",
       "      <td>1000</td>\n",
       "      <td>5</td>\n",
       "      <td>17.0</td>\n",
       "      <td>159.0</td>\n",
       "      <td>22.0</td>\n",
       "      <td>2256.0</td>\n",
       "      <td>ultra</td>\n",
       "      <td>Краснодар</td>\n",
       "      <td>1950</td>\n",
       "      <td>0.0</td>\n",
       "      <td>0</td>\n",
       "      <td>0.0</td>\n",
       "      <td>0</td>\n",
       "    </tr>\n",
       "    <tr>\n",
       "      <td>1</td>\n",
       "      <td>1000</td>\n",
       "      <td>6</td>\n",
       "      <td>28.0</td>\n",
       "      <td>172.0</td>\n",
       "      <td>60.0</td>\n",
       "      <td>23257.0</td>\n",
       "      <td>ultra</td>\n",
       "      <td>Краснодар</td>\n",
       "      <td>1950</td>\n",
       "      <td>0.0</td>\n",
       "      <td>0</td>\n",
       "      <td>0.0</td>\n",
       "      <td>0</td>\n",
       "    </tr>\n",
       "    <tr>\n",
       "      <td>2</td>\n",
       "      <td>1000</td>\n",
       "      <td>7</td>\n",
       "      <td>41.0</td>\n",
       "      <td>340.0</td>\n",
       "      <td>75.0</td>\n",
       "      <td>14016.0</td>\n",
       "      <td>ultra</td>\n",
       "      <td>Краснодар</td>\n",
       "      <td>1950</td>\n",
       "      <td>0.0</td>\n",
       "      <td>0</td>\n",
       "      <td>0.0</td>\n",
       "      <td>0</td>\n",
       "    </tr>\n",
       "    <tr>\n",
       "      <td>3</td>\n",
       "      <td>1000</td>\n",
       "      <td>8</td>\n",
       "      <td>42.0</td>\n",
       "      <td>408.0</td>\n",
       "      <td>81.0</td>\n",
       "      <td>14070.0</td>\n",
       "      <td>ultra</td>\n",
       "      <td>Краснодар</td>\n",
       "      <td>1950</td>\n",
       "      <td>0.0</td>\n",
       "      <td>0</td>\n",
       "      <td>0.0</td>\n",
       "      <td>0</td>\n",
       "    </tr>\n",
       "    <tr>\n",
       "      <td>4</td>\n",
       "      <td>1000</td>\n",
       "      <td>9</td>\n",
       "      <td>46.0</td>\n",
       "      <td>466.0</td>\n",
       "      <td>57.0</td>\n",
       "      <td>14581.0</td>\n",
       "      <td>ultra</td>\n",
       "      <td>Краснодар</td>\n",
       "      <td>1950</td>\n",
       "      <td>0.0</td>\n",
       "      <td>0</td>\n",
       "      <td>0.0</td>\n",
       "      <td>0</td>\n",
       "    </tr>\n",
       "    <tr>\n",
       "      <td>5</td>\n",
       "      <td>1000</td>\n",
       "      <td>10</td>\n",
       "      <td>44.0</td>\n",
       "      <td>350.0</td>\n",
       "      <td>73.0</td>\n",
       "      <td>14717.0</td>\n",
       "      <td>ultra</td>\n",
       "      <td>Краснодар</td>\n",
       "      <td>1950</td>\n",
       "      <td>0.0</td>\n",
       "      <td>0</td>\n",
       "      <td>0.0</td>\n",
       "      <td>0</td>\n",
       "    </tr>\n",
       "    <tr>\n",
       "      <td>6</td>\n",
       "      <td>1000</td>\n",
       "      <td>11</td>\n",
       "      <td>37.0</td>\n",
       "      <td>338.0</td>\n",
       "      <td>58.0</td>\n",
       "      <td>14768.0</td>\n",
       "      <td>ultra</td>\n",
       "      <td>Краснодар</td>\n",
       "      <td>1950</td>\n",
       "      <td>0.0</td>\n",
       "      <td>0</td>\n",
       "      <td>0.0</td>\n",
       "      <td>0</td>\n",
       "    </tr>\n",
       "    <tr>\n",
       "      <td>7</td>\n",
       "      <td>1000</td>\n",
       "      <td>12</td>\n",
       "      <td>38.0</td>\n",
       "      <td>333.0</td>\n",
       "      <td>70.0</td>\n",
       "      <td>9827.0</td>\n",
       "      <td>ultra</td>\n",
       "      <td>Краснодар</td>\n",
       "      <td>1950</td>\n",
       "      <td>0.0</td>\n",
       "      <td>0</td>\n",
       "      <td>0.0</td>\n",
       "      <td>0</td>\n",
       "    </tr>\n",
       "    <tr>\n",
       "      <td>8</td>\n",
       "      <td>1001</td>\n",
       "      <td>11</td>\n",
       "      <td>45.0</td>\n",
       "      <td>430.0</td>\n",
       "      <td>0.0</td>\n",
       "      <td>18452.0</td>\n",
       "      <td>smart</td>\n",
       "      <td>Москва</td>\n",
       "      <td>550</td>\n",
       "      <td>0.0</td>\n",
       "      <td>0</td>\n",
       "      <td>3092.0</td>\n",
       "      <td>800</td>\n",
       "    </tr>\n",
       "    <tr>\n",
       "      <td>9</td>\n",
       "      <td>1001</td>\n",
       "      <td>12</td>\n",
       "      <td>47.0</td>\n",
       "      <td>414.0</td>\n",
       "      <td>0.0</td>\n",
       "      <td>14053.0</td>\n",
       "      <td>smart</td>\n",
       "      <td>Москва</td>\n",
       "      <td>550</td>\n",
       "      <td>0.0</td>\n",
       "      <td>0</td>\n",
       "      <td>0.0</td>\n",
       "      <td>0</td>\n",
       "    </tr>\n",
       "  </tbody>\n",
       "</table>\n",
       "</div>"
      ],
      "text/plain": [
       "   User_id  Месяц  Кол-во звонков, шт  Звонки, мин  СМС, шт  Интернет, Мб  \\\n",
       "0     1000      5                17.0        159.0     22.0        2256.0   \n",
       "1     1000      6                28.0        172.0     60.0       23257.0   \n",
       "2     1000      7                41.0        340.0     75.0       14016.0   \n",
       "3     1000      8                42.0        408.0     81.0       14070.0   \n",
       "4     1000      9                46.0        466.0     57.0       14581.0   \n",
       "5     1000     10                44.0        350.0     73.0       14717.0   \n",
       "6     1000     11                37.0        338.0     58.0       14768.0   \n",
       "7     1000     12                38.0        333.0     70.0        9827.0   \n",
       "8     1001     11                45.0        430.0      0.0       18452.0   \n",
       "9     1001     12                47.0        414.0      0.0       14053.0   \n",
       "\n",
       "   Тариф      Город  Аб. плата  Минуты_Extra  СМС_Extra  Мб_Extra  \\\n",
       "0  ultra  Краснодар       1950           0.0          0       0.0   \n",
       "1  ultra  Краснодар       1950           0.0          0       0.0   \n",
       "2  ultra  Краснодар       1950           0.0          0       0.0   \n",
       "3  ultra  Краснодар       1950           0.0          0       0.0   \n",
       "4  ultra  Краснодар       1950           0.0          0       0.0   \n",
       "5  ultra  Краснодар       1950           0.0          0       0.0   \n",
       "6  ultra  Краснодар       1950           0.0          0       0.0   \n",
       "7  ultra  Краснодар       1950           0.0          0       0.0   \n",
       "8  smart     Москва        550           0.0          0    3092.0   \n",
       "9  smart     Москва        550           0.0          0       0.0   \n",
       "\n",
       "   Плата сверх лимита, руб.  \n",
       "0                         0  \n",
       "1                         0  \n",
       "2                         0  \n",
       "3                         0  \n",
       "4                         0  \n",
       "5                         0  \n",
       "6                         0  \n",
       "7                         0  \n",
       "8                       800  \n",
       "9                         0  "
      ]
     },
     "execution_count": 59,
     "metadata": {},
     "output_type": "execute_result"
    }
   ],
   "source": [
    "df_pivot.head(10)"
   ]
  },
  {
   "cell_type": "code",
   "execution_count": 60,
   "metadata": {},
   "outputs": [
    {
     "data": {
      "text/html": [
       "<div>\n",
       "<style scoped>\n",
       "    .dataframe tbody tr th:only-of-type {\n",
       "        vertical-align: middle;\n",
       "    }\n",
       "\n",
       "    .dataframe tbody tr th {\n",
       "        vertical-align: top;\n",
       "    }\n",
       "\n",
       "    .dataframe thead th {\n",
       "        text-align: right;\n",
       "    }\n",
       "</style>\n",
       "<table border=\"1\" class=\"dataframe\">\n",
       "  <thead>\n",
       "    <tr style=\"text-align: right;\">\n",
       "      <th></th>\n",
       "      <th>count</th>\n",
       "      <th>mean</th>\n",
       "      <th>std</th>\n",
       "      <th>min</th>\n",
       "      <th>25%</th>\n",
       "      <th>50%</th>\n",
       "      <th>75%</th>\n",
       "      <th>max</th>\n",
       "    </tr>\n",
       "  </thead>\n",
       "  <tbody>\n",
       "    <tr>\n",
       "      <td>User_id</td>\n",
       "      <td>3214.0</td>\n",
       "      <td>1251.590230</td>\n",
       "      <td>144.659172</td>\n",
       "      <td>1000.0</td>\n",
       "      <td>1125.00</td>\n",
       "      <td>1253.0</td>\n",
       "      <td>1378.75</td>\n",
       "      <td>1499.0</td>\n",
       "    </tr>\n",
       "    <tr>\n",
       "      <td>Месяц</td>\n",
       "      <td>3214.0</td>\n",
       "      <td>8.317362</td>\n",
       "      <td>2.905413</td>\n",
       "      <td>1.0</td>\n",
       "      <td>6.00</td>\n",
       "      <td>9.0</td>\n",
       "      <td>11.00</td>\n",
       "      <td>12.0</td>\n",
       "    </tr>\n",
       "    <tr>\n",
       "      <td>Кол-во звонков, шт</td>\n",
       "      <td>3214.0</td>\n",
       "      <td>50.713752</td>\n",
       "      <td>26.951413</td>\n",
       "      <td>0.0</td>\n",
       "      <td>32.00</td>\n",
       "      <td>50.0</td>\n",
       "      <td>66.00</td>\n",
       "      <td>190.0</td>\n",
       "    </tr>\n",
       "    <tr>\n",
       "      <td>Звонки, мин</td>\n",
       "      <td>3214.0</td>\n",
       "      <td>451.244866</td>\n",
       "      <td>241.909978</td>\n",
       "      <td>0.0</td>\n",
       "      <td>282.00</td>\n",
       "      <td>443.0</td>\n",
       "      <td>589.00</td>\n",
       "      <td>1673.0</td>\n",
       "    </tr>\n",
       "    <tr>\n",
       "      <td>СМС, шт</td>\n",
       "      <td>3214.0</td>\n",
       "      <td>38.281269</td>\n",
       "      <td>36.148326</td>\n",
       "      <td>0.0</td>\n",
       "      <td>9.00</td>\n",
       "      <td>30.0</td>\n",
       "      <td>57.00</td>\n",
       "      <td>224.0</td>\n",
       "    </tr>\n",
       "    <tr>\n",
       "      <td>Интернет, Мб</td>\n",
       "      <td>3214.0</td>\n",
       "      <td>17227.585252</td>\n",
       "      <td>7578.261501</td>\n",
       "      <td>0.0</td>\n",
       "      <td>12505.25</td>\n",
       "      <td>16966.5</td>\n",
       "      <td>21450.00</td>\n",
       "      <td>49789.0</td>\n",
       "    </tr>\n",
       "    <tr>\n",
       "      <td>Аб. плата</td>\n",
       "      <td>3214.0</td>\n",
       "      <td>979.060361</td>\n",
       "      <td>645.539596</td>\n",
       "      <td>550.0</td>\n",
       "      <td>550.00</td>\n",
       "      <td>550.0</td>\n",
       "      <td>1950.00</td>\n",
       "      <td>1950.0</td>\n",
       "    </tr>\n",
       "    <tr>\n",
       "      <td>Минуты_Extra</td>\n",
       "      <td>3214.0</td>\n",
       "      <td>28.854698</td>\n",
       "      <td>73.077172</td>\n",
       "      <td>0.0</td>\n",
       "      <td>0.00</td>\n",
       "      <td>0.0</td>\n",
       "      <td>0.00</td>\n",
       "      <td>935.0</td>\n",
       "    </tr>\n",
       "    <tr>\n",
       "      <td>СМС_Extra</td>\n",
       "      <td>3214.0</td>\n",
       "      <td>4.022402</td>\n",
       "      <td>11.508916</td>\n",
       "      <td>0.0</td>\n",
       "      <td>0.00</td>\n",
       "      <td>0.0</td>\n",
       "      <td>0.00</td>\n",
       "      <td>93.0</td>\n",
       "    </tr>\n",
       "    <tr>\n",
       "      <td>Мб_Extra</td>\n",
       "      <td>3214.0</td>\n",
       "      <td>2152.738021</td>\n",
       "      <td>3418.309013</td>\n",
       "      <td>0.0</td>\n",
       "      <td>0.00</td>\n",
       "      <td>0.0</td>\n",
       "      <td>3575.00</td>\n",
       "      <td>23250.0</td>\n",
       "    </tr>\n",
       "    <tr>\n",
       "      <td>Плата сверх лимита, руб.</td>\n",
       "      <td>3214.0</td>\n",
       "      <td>553.531736</td>\n",
       "      <td>770.677882</td>\n",
       "      <td>0.0</td>\n",
       "      <td>0.00</td>\n",
       "      <td>168.0</td>\n",
       "      <td>953.00</td>\n",
       "      <td>6220.0</td>\n",
       "    </tr>\n",
       "  </tbody>\n",
       "</table>\n",
       "</div>"
      ],
      "text/plain": [
       "                           count          mean          std     min       25%  \\\n",
       "User_id                   3214.0   1251.590230   144.659172  1000.0   1125.00   \n",
       "Месяц                     3214.0      8.317362     2.905413     1.0      6.00   \n",
       "Кол-во звонков, шт        3214.0     50.713752    26.951413     0.0     32.00   \n",
       "Звонки, мин               3214.0    451.244866   241.909978     0.0    282.00   \n",
       "СМС, шт                   3214.0     38.281269    36.148326     0.0      9.00   \n",
       "Интернет, Мб              3214.0  17227.585252  7578.261501     0.0  12505.25   \n",
       "Аб. плата                 3214.0    979.060361   645.539596   550.0    550.00   \n",
       "Минуты_Extra              3214.0     28.854698    73.077172     0.0      0.00   \n",
       "СМС_Extra                 3214.0      4.022402    11.508916     0.0      0.00   \n",
       "Мб_Extra                  3214.0   2152.738021  3418.309013     0.0      0.00   \n",
       "Плата сверх лимита, руб.  3214.0    553.531736   770.677882     0.0      0.00   \n",
       "\n",
       "                              50%       75%      max  \n",
       "User_id                    1253.0   1378.75   1499.0  \n",
       "Месяц                         9.0     11.00     12.0  \n",
       "Кол-во звонков, шт           50.0     66.00    190.0  \n",
       "Звонки, мин                 443.0    589.00   1673.0  \n",
       "СМС, шт                      30.0     57.00    224.0  \n",
       "Интернет, Мб              16966.5  21450.00  49789.0  \n",
       "Аб. плата                   550.0   1950.00   1950.0  \n",
       "Минуты_Extra                  0.0      0.00    935.0  \n",
       "СМС_Extra                     0.0      0.00     93.0  \n",
       "Мб_Extra                      0.0   3575.00  23250.0  \n",
       "Плата сверх лимита, руб.    168.0    953.00   6220.0  "
      ]
     },
     "execution_count": 60,
     "metadata": {},
     "output_type": "execute_result"
    }
   ],
   "source": [
    "df_pivot.describe().T"
   ]
  },
  {
   "cell_type": "code",
   "execution_count": 61,
   "metadata": {},
   "outputs": [
    {
     "data": {
      "text/html": [
       "<div>\n",
       "<style scoped>\n",
       "    .dataframe tbody tr th:only-of-type {\n",
       "        vertical-align: middle;\n",
       "    }\n",
       "\n",
       "    .dataframe tbody tr th {\n",
       "        vertical-align: top;\n",
       "    }\n",
       "\n",
       "    .dataframe thead th {\n",
       "        text-align: right;\n",
       "    }\n",
       "</style>\n",
       "<table border=\"1\" class=\"dataframe\">\n",
       "  <thead>\n",
       "    <tr style=\"text-align: right;\">\n",
       "      <th></th>\n",
       "      <th>User_id</th>\n",
       "      <th>Месяц</th>\n",
       "      <th>Кол-во звонков, шт</th>\n",
       "      <th>Звонки, мин</th>\n",
       "      <th>СМС, шт</th>\n",
       "      <th>Интернет, Мб</th>\n",
       "      <th>Тариф</th>\n",
       "      <th>Город</th>\n",
       "      <th>Аб. плата</th>\n",
       "      <th>Минуты_Extra</th>\n",
       "      <th>СМС_Extra</th>\n",
       "      <th>Мб_Extra</th>\n",
       "      <th>Плата сверх лимита, руб.</th>\n",
       "    </tr>\n",
       "  </thead>\n",
       "  <tbody>\n",
       "    <tr>\n",
       "      <td>0</td>\n",
       "      <td>1000</td>\n",
       "      <td>5</td>\n",
       "      <td>17.0</td>\n",
       "      <td>159.0</td>\n",
       "      <td>22.0</td>\n",
       "      <td>2256.0</td>\n",
       "      <td>ultra</td>\n",
       "      <td>Краснодар</td>\n",
       "      <td>1950</td>\n",
       "      <td>0.0</td>\n",
       "      <td>0</td>\n",
       "      <td>0.0</td>\n",
       "      <td>0</td>\n",
       "    </tr>\n",
       "    <tr>\n",
       "      <td>1</td>\n",
       "      <td>1000</td>\n",
       "      <td>6</td>\n",
       "      <td>28.0</td>\n",
       "      <td>172.0</td>\n",
       "      <td>60.0</td>\n",
       "      <td>23257.0</td>\n",
       "      <td>ultra</td>\n",
       "      <td>Краснодар</td>\n",
       "      <td>1950</td>\n",
       "      <td>0.0</td>\n",
       "      <td>0</td>\n",
       "      <td>0.0</td>\n",
       "      <td>0</td>\n",
       "    </tr>\n",
       "    <tr>\n",
       "      <td>2</td>\n",
       "      <td>1000</td>\n",
       "      <td>7</td>\n",
       "      <td>41.0</td>\n",
       "      <td>340.0</td>\n",
       "      <td>75.0</td>\n",
       "      <td>14016.0</td>\n",
       "      <td>ultra</td>\n",
       "      <td>Краснодар</td>\n",
       "      <td>1950</td>\n",
       "      <td>0.0</td>\n",
       "      <td>0</td>\n",
       "      <td>0.0</td>\n",
       "      <td>0</td>\n",
       "    </tr>\n",
       "    <tr>\n",
       "      <td>3</td>\n",
       "      <td>1000</td>\n",
       "      <td>8</td>\n",
       "      <td>42.0</td>\n",
       "      <td>408.0</td>\n",
       "      <td>81.0</td>\n",
       "      <td>14070.0</td>\n",
       "      <td>ultra</td>\n",
       "      <td>Краснодар</td>\n",
       "      <td>1950</td>\n",
       "      <td>0.0</td>\n",
       "      <td>0</td>\n",
       "      <td>0.0</td>\n",
       "      <td>0</td>\n",
       "    </tr>\n",
       "    <tr>\n",
       "      <td>4</td>\n",
       "      <td>1000</td>\n",
       "      <td>9</td>\n",
       "      <td>46.0</td>\n",
       "      <td>466.0</td>\n",
       "      <td>57.0</td>\n",
       "      <td>14581.0</td>\n",
       "      <td>ultra</td>\n",
       "      <td>Краснодар</td>\n",
       "      <td>1950</td>\n",
       "      <td>0.0</td>\n",
       "      <td>0</td>\n",
       "      <td>0.0</td>\n",
       "      <td>0</td>\n",
       "    </tr>\n",
       "  </tbody>\n",
       "</table>\n",
       "</div>"
      ],
      "text/plain": [
       "   User_id  Месяц  Кол-во звонков, шт  Звонки, мин  СМС, шт  Интернет, Мб  \\\n",
       "0     1000      5                17.0        159.0     22.0        2256.0   \n",
       "1     1000      6                28.0        172.0     60.0       23257.0   \n",
       "2     1000      7                41.0        340.0     75.0       14016.0   \n",
       "3     1000      8                42.0        408.0     81.0       14070.0   \n",
       "4     1000      9                46.0        466.0     57.0       14581.0   \n",
       "\n",
       "   Тариф      Город  Аб. плата  Минуты_Extra  СМС_Extra  Мб_Extra  \\\n",
       "0  ultra  Краснодар       1950           0.0          0       0.0   \n",
       "1  ultra  Краснодар       1950           0.0          0       0.0   \n",
       "2  ultra  Краснодар       1950           0.0          0       0.0   \n",
       "3  ultra  Краснодар       1950           0.0          0       0.0   \n",
       "4  ultra  Краснодар       1950           0.0          0       0.0   \n",
       "\n",
       "   Плата сверх лимита, руб.  \n",
       "0                         0  \n",
       "1                         0  \n",
       "2                         0  \n",
       "3                         0  \n",
       "4                         0  "
      ]
     },
     "execution_count": 61,
     "metadata": {},
     "output_type": "execute_result"
    }
   ],
   "source": [
    "df_pivot.head()"
   ]
  },
  {
   "cell_type": "code",
   "execution_count": 62,
   "metadata": {},
   "outputs": [],
   "source": [
    "df_smart_clear = df_pivot.query('Тариф == \"smart\"')\n",
    "df_ultra_clear = df_pivot.query('Тариф == \"ultra\"')"
   ]
  },
  {
   "cell_type": "markdown",
   "metadata": {},
   "source": [
    "Let's make a small digression and look carefully at the data overruns. Let's compare the results:"
   ]
  },
  {
   "cell_type": "code",
   "execution_count": 63,
   "metadata": {},
   "outputs": [],
   "source": [
    "df_all = df_pivot['User_id'].nunique()"
   ]
  },
  {
   "cell_type": "code",
   "execution_count": 64,
   "metadata": {},
   "outputs": [],
   "source": [
    "df_pivot_smart = df_pivot.query('Тариф == \"smart\"')"
   ]
  },
  {
   "cell_type": "code",
   "execution_count": 65,
   "metadata": {},
   "outputs": [],
   "source": [
    "df_smart = df_pivot_smart['User_id'].nunique()"
   ]
  },
  {
   "cell_type": "code",
   "execution_count": 66,
   "metadata": {},
   "outputs": [],
   "source": [
    "df_pivot_smart_0 = df_pivot.query('Мб_Extra > 0 & Тариф == \"smart\"')"
   ]
  },
  {
   "cell_type": "code",
   "execution_count": 67,
   "metadata": {},
   "outputs": [],
   "source": [
    "df_smart_0 = df_pivot_smart_0['User_id'].nunique()"
   ]
  },
  {
   "cell_type": "code",
   "execution_count": 68,
   "metadata": {},
   "outputs": [],
   "source": [
    "df_pivot_smart_3000 = df_pivot.query('Мб_Extra > 3000 & Тариф == \"smart\"')"
   ]
  },
  {
   "cell_type": "code",
   "execution_count": 69,
   "metadata": {},
   "outputs": [],
   "source": [
    "df_smart_3000 = df_pivot_smart_3000['User_id'].nunique()"
   ]
  },
  {
   "cell_type": "code",
   "execution_count": 70,
   "metadata": {},
   "outputs": [],
   "source": [
    "df_pivot_ultra = df_pivot.query('Тариф == \"ultra\"')"
   ]
  },
  {
   "cell_type": "code",
   "execution_count": 71,
   "metadata": {},
   "outputs": [],
   "source": [
    "df_ultra = df_pivot_ultra['User_id'].nunique()"
   ]
  },
  {
   "cell_type": "code",
   "execution_count": 72,
   "metadata": {},
   "outputs": [],
   "source": [
    "df_pivot_ultra_0 = df_pivot.query('Мб_Extra > 0 & Тариф == \"ultra\"')"
   ]
  },
  {
   "cell_type": "code",
   "execution_count": 73,
   "metadata": {},
   "outputs": [],
   "source": [
    "df_ultra_0 = df_pivot_ultra_0['User_id'].nunique()"
   ]
  },
  {
   "cell_type": "code",
   "execution_count": 74,
   "metadata": {},
   "outputs": [],
   "source": [
    "df_pivot_ultra_3000 = df_pivot.query('Мб_Extra > 3000 & Тариф == \"ultra\"')"
   ]
  },
  {
   "cell_type": "code",
   "execution_count": 75,
   "metadata": {},
   "outputs": [],
   "source": [
    "df_ultra_3000 = df_pivot_ultra_3000['User_id'].nunique()"
   ]
  },
  {
   "cell_type": "code",
   "execution_count": 76,
   "metadata": {},
   "outputs": [
    {
     "name": "stdout",
     "output_type": "stream",
     "text": [
      "Name                      Value          \n",
      "Total use of traffic 498            \n",
      "Smart tariff users   350            \n",
      "Ultra tariff users   148            \n",
      "Overspending on Smart 312            \n",
      "Large overspending on Smart 254            \n",
      "Overspending on Ultra 43             \n",
      "Large overspending on Ultra 33             \n"
     ]
    }
   ],
   "source": [
    "df_pivot_v = {'Total use of traffic': df_all, 'Smart tariff users':df_smart, 'Ultra tariff users':df_ultra, 'Overspending on Smart':df_smart_0,\n",
    "             'Large overspending on Smart':df_smart_3000,'Overspending on Ultra':df_ultra_0, 'Large overspending on Ultra':df_ultra_3000}\n",
    "print(\"{:<25} {:<15}\".format('Name','Value'))\n",
    "for v in df_pivot_v.items():\n",
    "    name, val = v\n",
    "    print(\"{:<20} {:<15}\".format(name, val))"
   ]
  },
  {
   "cell_type": "code",
   "execution_count": 77,
   "metadata": {},
   "outputs": [
    {
     "data": {
      "image/png": "[encoded data removed]",
      "text/plain": [
       "<Figure size 432x288 with 1 Axes>"
      ]
     },
     "metadata": {
      "needs_background": "light"
     },
     "output_type": "display_data"
    }
   ],
   "source": [
    "df_pivot_smart_0['Мб_Extra'].plot(kind='hist', ec='black', bins=50)\n",
    "plt.title('Traffic flow histogram Smart')\n",
    "plt.ylabel('Users')\n",
    "plt.xlabel('Traffic')\n",
    "plt.show()"
   ]
  },
  {
   "cell_type": "code",
   "execution_count": 78,
   "metadata": {},
   "outputs": [
    {
     "data": {
      "image/png": "[encoded data removed]",
      "text/plain": [
       "<Figure size 432x288 with 1 Axes>"
      ]
     },
     "metadata": {
      "needs_background": "light"
     },
     "output_type": "display_data"
    }
   ],
   "source": [
    "df_pivot_ultra_0['Мб_Extra'].plot(kind='hist', ec='black', bins=50)\n",
    "plt.title('Traffic flow histogram Ultra')\n",
    "plt.ylabel('Users')\n",
    "plt.xlabel('Traffic')\n",
    "plt.show()"
   ]
  },
  {
   "cell_type": "markdown",
   "metadata": {},
   "source": [
    "The ultra tariff is initially chosen by people who do not really need the Internet, but if there is an overspend, then it greatly exceeds the prepaid package  \n",
    "The Smart overspending rate is quantitatively higher (two-thirds of subscribers), but it is comparable to a prepaid package.\n",
    "I assume that the people who allowed traffic overruns on the Ultra tariff chose the tariff unconsciously.\n",
    "Due to the large expenditure of funds, they may switch to another operator, so marketers should hurry up with the formation of a special offer for them."
   ]
  },
  {
   "cell_type": "markdown",
   "metadata": {},
   "source": [
    "## 3. Data analysis <a name=\"paragraph3\"></a>"
   ]
  },
  {
   "cell_type": "markdown",
   "metadata": {},
   "source": [
    "Let's collect a table of expenses of each unique user for the entire period in which the sample was made"
   ]
  },
  {
   "cell_type": "code",
   "execution_count": 79,
   "metadata": {},
   "outputs": [],
   "source": [
    "df_unique = df_pivot.groupby(['User_id', 'Тариф','Город']).sum().reset_index()"
   ]
  },
  {
   "cell_type": "code",
   "execution_count": 80,
   "metadata": {},
   "outputs": [
    {
     "data": {
      "text/html": [
       "<div>\n",
       "<style scoped>\n",
       "    .dataframe tbody tr th:only-of-type {\n",
       "        vertical-align: middle;\n",
       "    }\n",
       "\n",
       "    .dataframe tbody tr th {\n",
       "        vertical-align: top;\n",
       "    }\n",
       "\n",
       "    .dataframe thead th {\n",
       "        text-align: right;\n",
       "    }\n",
       "</style>\n",
       "<table border=\"1\" class=\"dataframe\">\n",
       "  <thead>\n",
       "    <tr style=\"text-align: right;\">\n",
       "      <th></th>\n",
       "      <th>User_id</th>\n",
       "      <th>Тариф</th>\n",
       "      <th>Город</th>\n",
       "      <th>Месяц</th>\n",
       "      <th>Кол-во звонков, шт</th>\n",
       "      <th>Звонки, мин</th>\n",
       "      <th>СМС, шт</th>\n",
       "      <th>Интернет, Мб</th>\n",
       "      <th>Аб. плата</th>\n",
       "      <th>Минуты_Extra</th>\n",
       "      <th>СМС_Extra</th>\n",
       "      <th>Мб_Extra</th>\n",
       "      <th>Плата сверх лимита, руб.</th>\n",
       "    </tr>\n",
       "  </thead>\n",
       "  <tbody>\n",
       "    <tr>\n",
       "      <td>0</td>\n",
       "      <td>1000</td>\n",
       "      <td>ultra</td>\n",
       "      <td>Краснодар</td>\n",
       "      <td>68</td>\n",
       "      <td>293.0</td>\n",
       "      <td>2566.0</td>\n",
       "      <td>496.0</td>\n",
       "      <td>107492.0</td>\n",
       "      <td>15600</td>\n",
       "      <td>0.0</td>\n",
       "      <td>0</td>\n",
       "      <td>0.0</td>\n",
       "      <td>0</td>\n",
       "    </tr>\n",
       "    <tr>\n",
       "      <td>1</td>\n",
       "      <td>1001</td>\n",
       "      <td>smart</td>\n",
       "      <td>Москва</td>\n",
       "      <td>23</td>\n",
       "      <td>92.0</td>\n",
       "      <td>844.0</td>\n",
       "      <td>0.0</td>\n",
       "      <td>32505.0</td>\n",
       "      <td>1100</td>\n",
       "      <td>0.0</td>\n",
       "      <td>0</td>\n",
       "      <td>3092.0</td>\n",
       "      <td>800</td>\n",
       "    </tr>\n",
       "    <tr>\n",
       "      <td>2</td>\n",
       "      <td>1002</td>\n",
       "      <td>smart</td>\n",
       "      <td>Стерлитамак</td>\n",
       "      <td>63</td>\n",
       "      <td>173.0</td>\n",
       "      <td>1517.0</td>\n",
       "      <td>70.0</td>\n",
       "      <td>116183.0</td>\n",
       "      <td>3850</td>\n",
       "      <td>0.0</td>\n",
       "      <td>0</td>\n",
       "      <td>14607.0</td>\n",
       "      <td>3400</td>\n",
       "    </tr>\n",
       "    <tr>\n",
       "      <td>3</td>\n",
       "      <td>1003</td>\n",
       "      <td>ultra</td>\n",
       "      <td>Москва</td>\n",
       "      <td>50</td>\n",
       "      <td>428.0</td>\n",
       "      <td>3822.0</td>\n",
       "      <td>380.0</td>\n",
       "      <td>57329.0</td>\n",
       "      <td>9750</td>\n",
       "      <td>0.0</td>\n",
       "      <td>0</td>\n",
       "      <td>0.0</td>\n",
       "      <td>0</td>\n",
       "    </tr>\n",
       "    <tr>\n",
       "      <td>4</td>\n",
       "      <td>1004</td>\n",
       "      <td>ultra</td>\n",
       "      <td>Новокузнецк</td>\n",
       "      <td>68</td>\n",
       "      <td>139.0</td>\n",
       "      <td>987.0</td>\n",
       "      <td>1192.0</td>\n",
       "      <td>149172.0</td>\n",
       "      <td>15600</td>\n",
       "      <td>0.0</td>\n",
       "      <td>0</td>\n",
       "      <td>0.0</td>\n",
       "      <td>0</td>\n",
       "    </tr>\n",
       "  </tbody>\n",
       "</table>\n",
       "</div>"
      ],
      "text/plain": [
       "   User_id  Тариф        Город  Месяц  Кол-во звонков, шт  Звонки, мин  \\\n",
       "0     1000  ultra    Краснодар     68               293.0       2566.0   \n",
       "1     1001  smart       Москва     23                92.0        844.0   \n",
       "2     1002  smart  Стерлитамак     63               173.0       1517.0   \n",
       "3     1003  ultra       Москва     50               428.0       3822.0   \n",
       "4     1004  ultra  Новокузнецк     68               139.0        987.0   \n",
       "\n",
       "   СМС, шт  Интернет, Мб  Аб. плата  Минуты_Extra  СМС_Extra  Мб_Extra  \\\n",
       "0    496.0      107492.0      15600           0.0          0       0.0   \n",
       "1      0.0       32505.0       1100           0.0          0    3092.0   \n",
       "2     70.0      116183.0       3850           0.0          0   14607.0   \n",
       "3    380.0       57329.0       9750           0.0          0       0.0   \n",
       "4   1192.0      149172.0      15600           0.0          0       0.0   \n",
       "\n",
       "   Плата сверх лимита, руб.  \n",
       "0                         0  \n",
       "1                       800  \n",
       "2                      3400  \n",
       "3                         0  \n",
       "4                         0  "
      ]
     },
     "execution_count": 80,
     "metadata": {},
     "output_type": "execute_result"
    }
   ],
   "source": [
    "df_unique.head()"
   ]
  },
  {
   "cell_type": "code",
   "execution_count": 81,
   "metadata": {},
   "outputs": [
    {
     "name": "stdout",
     "output_type": "stream",
     "text": [
      "<class 'pandas.core.frame.DataFrame'>\n",
      "RangeIndex: 498 entries, 0 to 497\n",
      "Data columns (total 13 columns):\n",
      "User_id                     498 non-null int64\n",
      "Тариф                       498 non-null object\n",
      "Город                       498 non-null object\n",
      "Месяц                       498 non-null int64\n",
      "Кол-во звонков, шт          498 non-null float64\n",
      "Звонки, мин                 498 non-null float64\n",
      "СМС, шт                     498 non-null float64\n",
      "Интернет, Мб                498 non-null float64\n",
      "Аб. плата                   498 non-null int64\n",
      "Минуты_Extra                498 non-null float64\n",
      "СМС_Extra                   498 non-null int64\n",
      "Мб_Extra                    498 non-null float64\n",
      "Плата сверх лимита, руб.    498 non-null int64\n",
      "dtypes: float64(6), int64(5), object(2)\n",
      "memory usage: 50.7+ KB\n"
     ]
    }
   ],
   "source": [
    "df_unique.info()"
   ]
  },
  {
   "cell_type": "code",
   "execution_count": 82,
   "metadata": {},
   "outputs": [
    {
     "data": {
      "text/html": [
       "<div>\n",
       "<style scoped>\n",
       "    .dataframe tbody tr th:only-of-type {\n",
       "        vertical-align: middle;\n",
       "    }\n",
       "\n",
       "    .dataframe tbody tr th {\n",
       "        vertical-align: top;\n",
       "    }\n",
       "\n",
       "    .dataframe thead th {\n",
       "        text-align: right;\n",
       "    }\n",
       "</style>\n",
       "<table border=\"1\" class=\"dataframe\">\n",
       "  <thead>\n",
       "    <tr style=\"text-align: right;\">\n",
       "      <th></th>\n",
       "      <th>User_id</th>\n",
       "      <th>Месяц</th>\n",
       "      <th>Кол-во звонков, шт</th>\n",
       "      <th>Звонки, мин</th>\n",
       "      <th>СМС, шт</th>\n",
       "      <th>Интернет, Мб</th>\n",
       "      <th>Аб. плата</th>\n",
       "      <th>Минуты_Extra</th>\n",
       "      <th>СМС_Extra</th>\n",
       "      <th>Мб_Extra</th>\n",
       "      <th>Плата сверх лимита, руб.</th>\n",
       "    </tr>\n",
       "  </thead>\n",
       "  <tbody>\n",
       "    <tr>\n",
       "      <td>count</td>\n",
       "      <td>498.000000</td>\n",
       "      <td>498.000000</td>\n",
       "      <td>498.000000</td>\n",
       "      <td>498.000000</td>\n",
       "      <td>498.000000</td>\n",
       "      <td>498.000000</td>\n",
       "      <td>498.000000</td>\n",
       "      <td>498.000000</td>\n",
       "      <td>498.000000</td>\n",
       "      <td>498.000000</td>\n",
       "      <td>498.000000</td>\n",
       "    </tr>\n",
       "    <tr>\n",
       "      <td>mean</td>\n",
       "      <td>1249.500000</td>\n",
       "      <td>53.678715</td>\n",
       "      <td>327.297189</td>\n",
       "      <td>2912.251004</td>\n",
       "      <td>247.060241</td>\n",
       "      <td>111183.652610</td>\n",
       "      <td>6318.674699</td>\n",
       "      <td>186.222892</td>\n",
       "      <td>25.959839</td>\n",
       "      <td>13893.373494</td>\n",
       "      <td>3572.391566</td>\n",
       "    </tr>\n",
       "    <tr>\n",
       "      <td>std</td>\n",
       "      <td>144.566935</td>\n",
       "      <td>20.779894</td>\n",
       "      <td>236.437246</td>\n",
       "      <td>2103.125922</td>\n",
       "      <td>267.537538</td>\n",
       "      <td>70550.579355</td>\n",
       "      <td>5762.325836</td>\n",
       "      <td>380.396611</td>\n",
       "      <td>74.477809</td>\n",
       "      <td>17803.443479</td>\n",
       "      <td>4121.532376</td>\n",
       "    </tr>\n",
       "    <tr>\n",
       "      <td>min</td>\n",
       "      <td>1000.000000</td>\n",
       "      <td>12.000000</td>\n",
       "      <td>0.000000</td>\n",
       "      <td>0.000000</td>\n",
       "      <td>0.000000</td>\n",
       "      <td>0.000000</td>\n",
       "      <td>550.000000</td>\n",
       "      <td>0.000000</td>\n",
       "      <td>0.000000</td>\n",
       "      <td>0.000000</td>\n",
       "      <td>0.000000</td>\n",
       "    </tr>\n",
       "    <tr>\n",
       "      <td>25%</td>\n",
       "      <td>1124.250000</td>\n",
       "      <td>34.500000</td>\n",
       "      <td>142.000000</td>\n",
       "      <td>1245.500000</td>\n",
       "      <td>44.000000</td>\n",
       "      <td>54476.250000</td>\n",
       "      <td>2750.000000</td>\n",
       "      <td>0.000000</td>\n",
       "      <td>0.000000</td>\n",
       "      <td>0.000000</td>\n",
       "      <td>27.750000</td>\n",
       "    </tr>\n",
       "    <tr>\n",
       "      <td>50%</td>\n",
       "      <td>1249.500000</td>\n",
       "      <td>57.000000</td>\n",
       "      <td>276.500000</td>\n",
       "      <td>2455.500000</td>\n",
       "      <td>165.000000</td>\n",
       "      <td>101147.500000</td>\n",
       "      <td>4400.000000</td>\n",
       "      <td>0.000000</td>\n",
       "      <td>0.000000</td>\n",
       "      <td>6507.000000</td>\n",
       "      <td>2084.500000</td>\n",
       "    </tr>\n",
       "    <tr>\n",
       "      <td>75%</td>\n",
       "      <td>1374.750000</td>\n",
       "      <td>72.000000</td>\n",
       "      <td>470.000000</td>\n",
       "      <td>4210.750000</td>\n",
       "      <td>370.000000</td>\n",
       "      <td>153595.500000</td>\n",
       "      <td>6600.000000</td>\n",
       "      <td>195.000000</td>\n",
       "      <td>0.750000</td>\n",
       "      <td>21494.000000</td>\n",
       "      <td>5390.250000</td>\n",
       "    </tr>\n",
       "    <tr>\n",
       "      <td>max</td>\n",
       "      <td>1499.000000</td>\n",
       "      <td>78.000000</td>\n",
       "      <td>1424.000000</td>\n",
       "      <td>12973.000000</td>\n",
       "      <td>1463.000000</td>\n",
       "      <td>376754.000000</td>\n",
       "      <td>23400.000000</td>\n",
       "      <td>2694.000000</td>\n",
       "      <td>579.000000</td>\n",
       "      <td>98543.000000</td>\n",
       "      <td>21951.000000</td>\n",
       "    </tr>\n",
       "  </tbody>\n",
       "</table>\n",
       "</div>"
      ],
      "text/plain": [
       "           User_id       Месяц  Кол-во звонков, шт   Звонки, мин      СМС, шт  \\\n",
       "count   498.000000  498.000000          498.000000    498.000000   498.000000   \n",
       "mean   1249.500000   53.678715          327.297189   2912.251004   247.060241   \n",
       "std     144.566935   20.779894          236.437246   2103.125922   267.537538   \n",
       "min    1000.000000   12.000000            0.000000      0.000000     0.000000   \n",
       "25%    1124.250000   34.500000          142.000000   1245.500000    44.000000   \n",
       "50%    1249.500000   57.000000          276.500000   2455.500000   165.000000   \n",
       "75%    1374.750000   72.000000          470.000000   4210.750000   370.000000   \n",
       "max    1499.000000   78.000000         1424.000000  12973.000000  1463.000000   \n",
       "\n",
       "        Интернет, Мб     Аб. плата  Минуты_Extra   СМС_Extra      Мб_Extra  \\\n",
       "count     498.000000    498.000000    498.000000  498.000000    498.000000   \n",
       "mean   111183.652610   6318.674699    186.222892   25.959839  13893.373494   \n",
       "std     70550.579355   5762.325836    380.396611   74.477809  17803.443479   \n",
       "min         0.000000    550.000000      0.000000    0.000000      0.000000   \n",
       "25%     54476.250000   2750.000000      0.000000    0.000000      0.000000   \n",
       "50%    101147.500000   4400.000000      0.000000    0.000000   6507.000000   \n",
       "75%    153595.500000   6600.000000    195.000000    0.750000  21494.000000   \n",
       "max    376754.000000  23400.000000   2694.000000  579.000000  98543.000000   \n",
       "\n",
       "       Плата сверх лимита, руб.  \n",
       "count                498.000000  \n",
       "mean                3572.391566  \n",
       "std                 4121.532376  \n",
       "min                    0.000000  \n",
       "25%                   27.750000  \n",
       "50%                 2084.500000  \n",
       "75%                 5390.250000  \n",
       "max                21951.000000  "
      ]
     },
     "execution_count": 82,
     "metadata": {},
     "output_type": "execute_result"
    }
   ],
   "source": [
    "df_unique.describe()"
   ]
  },
  {
   "cell_type": "markdown",
   "metadata": {},
   "source": [
    "Let's create an additional column in order to determine whether users went beyond the limits provided by the tariffs"
   ]
  },
  {
   "cell_type": "code",
   "execution_count": 83,
   "metadata": {},
   "outputs": [],
   "source": [
    "df_unique['Переплата'] = np.where(df_unique['Плата сверх лимита, руб.'] > 0, 1, 0)\n"
   ]
  },
  {
   "cell_type": "code",
   "execution_count": 84,
   "metadata": {},
   "outputs": [
    {
     "data": {
      "text/html": [
       "<div>\n",
       "<style scoped>\n",
       "    .dataframe tbody tr th:only-of-type {\n",
       "        vertical-align: middle;\n",
       "    }\n",
       "\n",
       "    .dataframe tbody tr th {\n",
       "        vertical-align: top;\n",
       "    }\n",
       "\n",
       "    .dataframe thead th {\n",
       "        text-align: right;\n",
       "    }\n",
       "</style>\n",
       "<table border=\"1\" class=\"dataframe\">\n",
       "  <thead>\n",
       "    <tr style=\"text-align: right;\">\n",
       "      <th></th>\n",
       "      <th>User_id</th>\n",
       "      <th>Тариф</th>\n",
       "      <th>Город</th>\n",
       "      <th>Месяц</th>\n",
       "      <th>Кол-во звонков, шт</th>\n",
       "      <th>Звонки, мин</th>\n",
       "      <th>СМС, шт</th>\n",
       "      <th>Интернет, Мб</th>\n",
       "      <th>Аб. плата</th>\n",
       "      <th>Минуты_Extra</th>\n",
       "      <th>СМС_Extra</th>\n",
       "      <th>Мб_Extra</th>\n",
       "      <th>Плата сверх лимита, руб.</th>\n",
       "      <th>Переплата</th>\n",
       "    </tr>\n",
       "  </thead>\n",
       "  <tbody>\n",
       "    <tr>\n",
       "      <td>0</td>\n",
       "      <td>1000</td>\n",
       "      <td>ultra</td>\n",
       "      <td>Краснодар</td>\n",
       "      <td>68</td>\n",
       "      <td>293.0</td>\n",
       "      <td>2566.0</td>\n",
       "      <td>496.0</td>\n",
       "      <td>107492.0</td>\n",
       "      <td>15600</td>\n",
       "      <td>0.0</td>\n",
       "      <td>0</td>\n",
       "      <td>0.0</td>\n",
       "      <td>0</td>\n",
       "      <td>0</td>\n",
       "    </tr>\n",
       "    <tr>\n",
       "      <td>1</td>\n",
       "      <td>1001</td>\n",
       "      <td>smart</td>\n",
       "      <td>Москва</td>\n",
       "      <td>23</td>\n",
       "      <td>92.0</td>\n",
       "      <td>844.0</td>\n",
       "      <td>0.0</td>\n",
       "      <td>32505.0</td>\n",
       "      <td>1100</td>\n",
       "      <td>0.0</td>\n",
       "      <td>0</td>\n",
       "      <td>3092.0</td>\n",
       "      <td>800</td>\n",
       "      <td>1</td>\n",
       "    </tr>\n",
       "    <tr>\n",
       "      <td>2</td>\n",
       "      <td>1002</td>\n",
       "      <td>smart</td>\n",
       "      <td>Стерлитамак</td>\n",
       "      <td>63</td>\n",
       "      <td>173.0</td>\n",
       "      <td>1517.0</td>\n",
       "      <td>70.0</td>\n",
       "      <td>116183.0</td>\n",
       "      <td>3850</td>\n",
       "      <td>0.0</td>\n",
       "      <td>0</td>\n",
       "      <td>14607.0</td>\n",
       "      <td>3400</td>\n",
       "      <td>1</td>\n",
       "    </tr>\n",
       "    <tr>\n",
       "      <td>3</td>\n",
       "      <td>1003</td>\n",
       "      <td>ultra</td>\n",
       "      <td>Москва</td>\n",
       "      <td>50</td>\n",
       "      <td>428.0</td>\n",
       "      <td>3822.0</td>\n",
       "      <td>380.0</td>\n",
       "      <td>57329.0</td>\n",
       "      <td>9750</td>\n",
       "      <td>0.0</td>\n",
       "      <td>0</td>\n",
       "      <td>0.0</td>\n",
       "      <td>0</td>\n",
       "      <td>0</td>\n",
       "    </tr>\n",
       "    <tr>\n",
       "      <td>4</td>\n",
       "      <td>1004</td>\n",
       "      <td>ultra</td>\n",
       "      <td>Новокузнецк</td>\n",
       "      <td>68</td>\n",
       "      <td>139.0</td>\n",
       "      <td>987.0</td>\n",
       "      <td>1192.0</td>\n",
       "      <td>149172.0</td>\n",
       "      <td>15600</td>\n",
       "      <td>0.0</td>\n",
       "      <td>0</td>\n",
       "      <td>0.0</td>\n",
       "      <td>0</td>\n",
       "      <td>0</td>\n",
       "    </tr>\n",
       "  </tbody>\n",
       "</table>\n",
       "</div>"
      ],
      "text/plain": [
       "   User_id  Тариф        Город  Месяц  Кол-во звонков, шт  Звонки, мин  \\\n",
       "0     1000  ultra    Краснодар     68               293.0       2566.0   \n",
       "1     1001  smart       Москва     23                92.0        844.0   \n",
       "2     1002  smart  Стерлитамак     63               173.0       1517.0   \n",
       "3     1003  ultra       Москва     50               428.0       3822.0   \n",
       "4     1004  ultra  Новокузнецк     68               139.0        987.0   \n",
       "\n",
       "   СМС, шт  Интернет, Мб  Аб. плата  Минуты_Extra  СМС_Extra  Мб_Extra  \\\n",
       "0    496.0      107492.0      15600           0.0          0       0.0   \n",
       "1      0.0       32505.0       1100           0.0          0    3092.0   \n",
       "2     70.0      116183.0       3850           0.0          0   14607.0   \n",
       "3    380.0       57329.0       9750           0.0          0       0.0   \n",
       "4   1192.0      149172.0      15600           0.0          0       0.0   \n",
       "\n",
       "   Плата сверх лимита, руб.  Переплата  \n",
       "0                         0          0  \n",
       "1                       800          1  \n",
       "2                      3400          1  \n",
       "3                         0          0  \n",
       "4                         0          0  "
      ]
     },
     "execution_count": 84,
     "metadata": {},
     "output_type": "execute_result"
    }
   ],
   "source": [
    "df_unique.head()"
   ]
  },
  {
   "cell_type": "markdown",
   "metadata": {},
   "source": [
    "Let's see what percentage of users went beyond the limit of services for each of the tariffs  \n",
    "To do this, we will draw pie charts for each of the tariffs"
   ]
  },
  {
   "cell_type": "code",
   "execution_count": 85,
   "metadata": {},
   "outputs": [],
   "source": [
    "df_unique_ultra = df_unique.query('Тариф == \"ultra\"')\n",
    "df_unique_smart = df_unique.query('Тариф == \"smart\"')\n"
   ]
  },
  {
   "cell_type": "code",
   "execution_count": 86,
   "metadata": {},
   "outputs": [],
   "source": [
    "df_unique_ultra = df_unique_ultra.pivot_table(index = 'Переплата', values = 'User_id', aggfunc = 'count')\n",
    "df_unique_smart = df_unique_smart.pivot_table(index = 'Переплата', values = 'User_id', aggfunc = 'count')"
   ]
  },
  {
   "cell_type": "code",
   "execution_count": 87,
   "metadata": {},
   "outputs": [
    {
     "data": {
      "text/html": [
       "<div>\n",
       "<style scoped>\n",
       "    .dataframe tbody tr th:only-of-type {\n",
       "        vertical-align: middle;\n",
       "    }\n",
       "\n",
       "    .dataframe tbody tr th {\n",
       "        vertical-align: top;\n",
       "    }\n",
       "\n",
       "    .dataframe thead th {\n",
       "        text-align: right;\n",
       "    }\n",
       "</style>\n",
       "<table border=\"1\" class=\"dataframe\">\n",
       "  <thead>\n",
       "    <tr style=\"text-align: right;\">\n",
       "      <th></th>\n",
       "      <th>User_id</th>\n",
       "    </tr>\n",
       "    <tr>\n",
       "      <th>Переплата</th>\n",
       "      <th></th>\n",
       "    </tr>\n",
       "  </thead>\n",
       "  <tbody>\n",
       "    <tr>\n",
       "      <td>0</td>\n",
       "      <td>105</td>\n",
       "    </tr>\n",
       "    <tr>\n",
       "      <td>1</td>\n",
       "      <td>43</td>\n",
       "    </tr>\n",
       "  </tbody>\n",
       "</table>\n",
       "</div>"
      ],
      "text/plain": [
       "           User_id\n",
       "Переплата         \n",
       "0              105\n",
       "1               43"
      ]
     },
     "execution_count": 87,
     "metadata": {},
     "output_type": "execute_result"
    }
   ],
   "source": [
    "df_unique_ultra"
   ]
  },
  {
   "cell_type": "code",
   "execution_count": 88,
   "metadata": {},
   "outputs": [
    {
     "data": {
      "image/png": "[encoded data removed]",
      "text/plain": [
       "<Figure size 1440x360 with 1 Axes>"
      ]
     },
     "metadata": {},
     "output_type": "display_data"
    },
    {
     "data": {
      "image/png": "[encoded data removed]",
      "text/plain": [
       "<Figure size 1440x360 with 1 Axes>"
      ]
     },
     "metadata": {},
     "output_type": "display_data"
    }
   ],
   "source": [
    "\n",
    "df_unique_ultra.plot(kind='pie', y = 'User_id', autopct='%1.1f%%', title = 'Overpayments - Ultra',\n",
    "                     labels=['Within the tariff', 'Overpayments'], explode = (0.1, 0), shadow=True, colors = ['#97F0AA', '#ff5050'], figsize=(20,5), startangle=200)\n",
    "\n",
    "\n",
    "df_unique_smart.plot(kind='pie', y = 'User_id', autopct='%1.1f%%', title = 'Overpayments - Smart',\n",
    "                     labels= ['Within the tariff', 'Overpayments'], use_index = False, explode = (0.1, 0), shadow=True, colors = ['#97F0AA', '#ff5050'], figsize=(20,5), startangle=200)\n",
    "\n",
    "plt.ylabel('')\n",
    "plt.xlabel('')\n",
    "plt.show()"
   ]
  },
  {
   "cell_type": "markdown",
   "metadata": {},
   "source": [
    "As we can see, subscribers of the **Ultra** tariff mostly have enough paid services, but users of the **Smart** tariff are clearly not enough.  \n",
    "Perhaps it's all about the Internet package, as we said earlier?  \n",
    "Let's build a summary table of overpayments:"
   ]
  },
  {
   "cell_type": "code",
   "execution_count": 89,
   "metadata": {},
   "outputs": [
    {
     "data": {
      "text/html": [
       "<div>\n",
       "<style scoped>\n",
       "    .dataframe tbody tr th:only-of-type {\n",
       "        vertical-align: middle;\n",
       "    }\n",
       "\n",
       "    .dataframe tbody tr th {\n",
       "        vertical-align: top;\n",
       "    }\n",
       "\n",
       "    .dataframe thead th {\n",
       "        text-align: right;\n",
       "    }\n",
       "</style>\n",
       "<table border=\"1\" class=\"dataframe\">\n",
       "  <thead>\n",
       "    <tr style=\"text-align: right;\">\n",
       "      <th></th>\n",
       "      <th>Тариф</th>\n",
       "      <th>Минуты_Extra</th>\n",
       "      <th>СМС_Extra</th>\n",
       "      <th>Мб_Extra</th>\n",
       "    </tr>\n",
       "  </thead>\n",
       "  <tbody>\n",
       "    <tr>\n",
       "      <td>0</td>\n",
       "      <td>smart</td>\n",
       "      <td>92739.0</td>\n",
       "      <td>12928</td>\n",
       "      <td>6175667.0</td>\n",
       "    </tr>\n",
       "    <tr>\n",
       "      <td>1</td>\n",
       "      <td>ultra</td>\n",
       "      <td>0.0</td>\n",
       "      <td>0</td>\n",
       "      <td>743233.0</td>\n",
       "    </tr>\n",
       "  </tbody>\n",
       "</table>\n",
       "</div>"
      ],
      "text/plain": [
       "   Тариф  Минуты_Extra  СМС_Extra   Мб_Extra\n",
       "0  smart       92739.0      12928  6175667.0\n",
       "1  ultra           0.0          0   743233.0"
      ]
     },
     "execution_count": 89,
     "metadata": {},
     "output_type": "execute_result"
    }
   ],
   "source": [
    "(df_unique.groupby('Тариф').sum()[['Минуты_Extra', 'СМС_Extra', 'Мб_Extra']]).reset_index()"
   ]
  },
  {
   "cell_type": "markdown",
   "metadata": {},
   "source": [
    "Customers of the **Smart** tariff overpay for all services, but especially a lot for Internet traffic  \n",
    "Customers of the **Ultra** tariff have enough of everything except traffic"
   ]
  },
  {
   "cell_type": "markdown",
   "metadata": {},
   "source": [
    "Let's build histograms of expenses of customers of both tariffs:"
   ]
  },
  {
   "cell_type": "markdown",
   "metadata": {},
   "source": [
    "**Overpayments according to the SMART tariff**"
   ]
  },
  {
   "cell_type": "code",
   "execution_count": 90,
   "metadata": {},
   "outputs": [
    {
     "data": {
      "image/png": "[encoded data removed]",
      "text/plain": [
       "<Figure size 432x288 with 1 Axes>"
      ]
     },
     "metadata": {
      "needs_background": "light"
     },
     "output_type": "display_data"
    }
   ],
   "source": [
    "title = 'Histogram of overpayments with the Smart tariff'\n",
    "df_smart_f = df_unique[(df_unique['Тариф'] == 'smart') & \n",
    "                               (df_unique['Плата сверх лимита, руб.'] > 0)]['Плата сверх лимита, руб.']\n",
    "df_smart_f.plot(kind='hist', title=title, ec='black', bins=50)\n",
    "plt.ylabel('Users')\n",
    "plt.xlabel('Overpay, rubles')\n",
    "plt.show()"
   ]
  },
  {
   "cell_type": "markdown",
   "metadata": {},
   "source": [
    "Most customers overpay less than 2000. Let's try to take a look at this group:"
   ]
  },
  {
   "cell_type": "code",
   "execution_count": 91,
   "metadata": {},
   "outputs": [
    {
     "data": {
      "image/png": "[encoded data removed]",
      "text/plain": [
       "<Figure size 432x288 with 1 Axes>"
      ]
     },
     "metadata": {
      "needs_background": "light"
     },
     "output_type": "display_data"
    }
   ],
   "source": [
    "title = 'Histogram of overpayments with the Smart tariff'\n",
    "df_smart_f = df_unique[(df_unique['Тариф'] == 'smart') & \n",
    "                               (df_unique['Плата сверх лимита, руб.'] > 0) & \n",
    "                               (df_unique['Плата сверх лимита, руб.'] < 2000)]['Плата сверх лимита, руб.']\n",
    "df_smart_f.plot(kind='hist', title=title, ec='black', bins=30)\n",
    "plt.ylabel('Users')\n",
    "plt.xlabel('Overpay, rubles')\n",
    "plt.show()"
   ]
  },
  {
   "cell_type": "markdown",
   "metadata": {},
   "source": [
    "We observe uniform jumps - everything indicates that customers are ordering an Internet package"
   ]
  },
  {
   "cell_type": "markdown",
   "metadata": {},
   "source": [
    "**Overpayments with the Ultra tariff**"
   ]
  },
  {
   "cell_type": "code",
   "execution_count": 92,
   "metadata": {},
   "outputs": [
    {
     "data": {
      "image/png": "[encoded data removed]",
      "text/plain": [
       "<Figure size 432x288 with 1 Axes>"
      ]
     },
     "metadata": {
      "needs_background": "light"
     },
     "output_type": "display_data"
    }
   ],
   "source": [
    "title = 'Histogram of overpayments with the Ultra tariff'\n",
    "df_smart_f = df_unique[(df_unique['Тариф'] == 'ultra') & \n",
    "                               (df_unique['Плата сверх лимита, руб.'] > 0)]['Плата сверх лимита, руб.']\n",
    "df_smart_f.plot(kind='hist', title=title, ec='black', bins=30)\n",
    "plt.ylabel('Users')\n",
    "plt.xlabel('Overpay, rubles')\n",
    "plt.show()"
   ]
  },
  {
   "cell_type": "markdown",
   "metadata": {},
   "source": [
    "We clearly see that customers are ordering Internet packages"
   ]
  },
  {
   "cell_type": "markdown",
   "metadata": {},
   "source": [
    "##### Comparison of tariff revenue"
   ]
  },
  {
   "cell_type": "code",
   "execution_count": 93,
   "metadata": {},
   "outputs": [],
   "source": [
    "df_unique['Общая сумма'] = df_unique['Аб. плата'] + df_unique['Плата сверх лимита, руб.']"
   ]
  },
  {
   "cell_type": "code",
   "execution_count": 94,
   "metadata": {},
   "outputs": [
    {
     "data": {
      "image/png": "[encoded data removed]",
      "text/plain": [
       "<Figure size 1440x360 with 1 Axes>"
      ]
     },
     "metadata": {},
     "output_type": "display_data"
    }
   ],
   "source": [
    "all_revenue = df_unique['Общая сумма'].sum()\n",
    "\n",
    "def func_pct(pct):\n",
    "    value = float(pct/100.*all_revenue)\n",
    "    return \"{:.2f}%\\n({:,.0f} руб.)\".format(pct, value)\n",
    "\n",
    "explode = (0.05, 0)  # сектор 'ultra' немного выдвинем\n",
    "\n",
    "axes = df_unique.groupby('Тариф')['Общая сумма'].sum().plot(kind='pie', subplots=True, fontsize=15,\n",
    "                                                                     use_index=False, shadow=True, explode=explode,\n",
    "                                                                     title = 'Revenue', pctdistance=0.45,\n",
    "                                                                     startangle=20, figsize=(20,5),\n",
    "                                                                     autopct=lambda pct: func_pct(pct))\n",
    "\n",
    "for ax in axes:\n",
    "    ax.legend(['Смарт', 'Ультра'], bbox_to_anchor=(0.87,0.87), framealpha=0.2, prop={'size':12})\n",
    "    ax.set_ylabel('')"
   ]
  },
  {
   "cell_type": "code",
   "execution_count": 95,
   "metadata": {},
   "outputs": [],
   "source": [
    "df_unique_u = df_unique.groupby('Тариф').count()['User_id']\n"
   ]
  },
  {
   "cell_type": "code",
   "execution_count": 96,
   "metadata": {},
   "outputs": [
    {
     "data": {
      "text/plain": [
       "Тариф\n",
       "smart    350\n",
       "ultra    148\n",
       "Name: User_id, dtype: int64"
      ]
     },
     "execution_count": 96,
     "metadata": {},
     "output_type": "execute_result"
    }
   ],
   "source": [
    "df_unique_u"
   ]
  },
  {
   "cell_type": "code",
   "execution_count": 97,
   "metadata": {},
   "outputs": [
    {
     "data": {
      "image/png": "[encoded data removed]",
      "text/plain": [
       "<Figure size 1440x360 with 1 Axes>"
      ]
     },
     "metadata": {},
     "output_type": "display_data"
    }
   ],
   "source": [
    "df_unique_u.plot(kind='pie', y = 'User_id', autopct='%1.1f%%', title = 'Use the tariff',\n",
    "                     labels=['Smart', 'Ultra'], explode = (0.1, 0), shadow=True, colors = ['#97F0AA', '#ff5050'], figsize=(20,5), startangle=200)\n",
    "plt.ylabel('')\n",
    "plt.xlabel('')\n",
    "plt.show()"
   ]
  },
  {
   "cell_type": "markdown",
   "metadata": {},
   "source": [
    "The **Ultra** tariff generates 41% of revenue, although only 30% of users use it.  \n",
    "It is not surprising, because the subscription fee for this tariff is three times higher ... Let's  \n",
    "look at the summary table with expenses for these tariffs:"
   ]
  },
  {
   "cell_type": "code",
   "execution_count": 98,
   "metadata": {},
   "outputs": [
    {
     "data": {
      "text/html": [
       "<div>\n",
       "<style scoped>\n",
       "    .dataframe tbody tr th:only-of-type {\n",
       "        vertical-align: middle;\n",
       "    }\n",
       "\n",
       "    .dataframe tbody tr th {\n",
       "        vertical-align: top;\n",
       "    }\n",
       "\n",
       "    .dataframe thead th {\n",
       "        text-align: right;\n",
       "    }\n",
       "</style>\n",
       "<table border=\"1\" class=\"dataframe\">\n",
       "  <thead>\n",
       "    <tr style=\"text-align: right;\">\n",
       "      <th></th>\n",
       "      <th>User_id</th>\n",
       "      <th>Тариф</th>\n",
       "      <th>Город</th>\n",
       "      <th>Месяц</th>\n",
       "      <th>Кол-во звонков, шт</th>\n",
       "      <th>Звонки, мин</th>\n",
       "      <th>СМС, шт</th>\n",
       "      <th>Интернет, Мб</th>\n",
       "      <th>Аб. плата</th>\n",
       "      <th>Минуты_Extra</th>\n",
       "      <th>СМС_Extra</th>\n",
       "      <th>Мб_Extra</th>\n",
       "      <th>Плата сверх лимита, руб.</th>\n",
       "      <th>Переплата</th>\n",
       "      <th>Общая сумма</th>\n",
       "    </tr>\n",
       "  </thead>\n",
       "  <tbody>\n",
       "    <tr>\n",
       "      <td>0</td>\n",
       "      <td>1000</td>\n",
       "      <td>ultra</td>\n",
       "      <td>Краснодар</td>\n",
       "      <td>68</td>\n",
       "      <td>293.0</td>\n",
       "      <td>2566.0</td>\n",
       "      <td>496.0</td>\n",
       "      <td>107492.0</td>\n",
       "      <td>15600</td>\n",
       "      <td>0.0</td>\n",
       "      <td>0</td>\n",
       "      <td>0.0</td>\n",
       "      <td>0</td>\n",
       "      <td>0</td>\n",
       "      <td>15600</td>\n",
       "    </tr>\n",
       "    <tr>\n",
       "      <td>1</td>\n",
       "      <td>1001</td>\n",
       "      <td>smart</td>\n",
       "      <td>Москва</td>\n",
       "      <td>23</td>\n",
       "      <td>92.0</td>\n",
       "      <td>844.0</td>\n",
       "      <td>0.0</td>\n",
       "      <td>32505.0</td>\n",
       "      <td>1100</td>\n",
       "      <td>0.0</td>\n",
       "      <td>0</td>\n",
       "      <td>3092.0</td>\n",
       "      <td>800</td>\n",
       "      <td>1</td>\n",
       "      <td>1900</td>\n",
       "    </tr>\n",
       "    <tr>\n",
       "      <td>2</td>\n",
       "      <td>1002</td>\n",
       "      <td>smart</td>\n",
       "      <td>Стерлитамак</td>\n",
       "      <td>63</td>\n",
       "      <td>173.0</td>\n",
       "      <td>1517.0</td>\n",
       "      <td>70.0</td>\n",
       "      <td>116183.0</td>\n",
       "      <td>3850</td>\n",
       "      <td>0.0</td>\n",
       "      <td>0</td>\n",
       "      <td>14607.0</td>\n",
       "      <td>3400</td>\n",
       "      <td>1</td>\n",
       "      <td>7250</td>\n",
       "    </tr>\n",
       "    <tr>\n",
       "      <td>3</td>\n",
       "      <td>1003</td>\n",
       "      <td>ultra</td>\n",
       "      <td>Москва</td>\n",
       "      <td>50</td>\n",
       "      <td>428.0</td>\n",
       "      <td>3822.0</td>\n",
       "      <td>380.0</td>\n",
       "      <td>57329.0</td>\n",
       "      <td>9750</td>\n",
       "      <td>0.0</td>\n",
       "      <td>0</td>\n",
       "      <td>0.0</td>\n",
       "      <td>0</td>\n",
       "      <td>0</td>\n",
       "      <td>9750</td>\n",
       "    </tr>\n",
       "    <tr>\n",
       "      <td>4</td>\n",
       "      <td>1004</td>\n",
       "      <td>ultra</td>\n",
       "      <td>Новокузнецк</td>\n",
       "      <td>68</td>\n",
       "      <td>139.0</td>\n",
       "      <td>987.0</td>\n",
       "      <td>1192.0</td>\n",
       "      <td>149172.0</td>\n",
       "      <td>15600</td>\n",
       "      <td>0.0</td>\n",
       "      <td>0</td>\n",
       "      <td>0.0</td>\n",
       "      <td>0</td>\n",
       "      <td>0</td>\n",
       "      <td>15600</td>\n",
       "    </tr>\n",
       "    <tr>\n",
       "      <td>...</td>\n",
       "      <td>...</td>\n",
       "      <td>...</td>\n",
       "      <td>...</td>\n",
       "      <td>...</td>\n",
       "      <td>...</td>\n",
       "      <td>...</td>\n",
       "      <td>...</td>\n",
       "      <td>...</td>\n",
       "      <td>...</td>\n",
       "      <td>...</td>\n",
       "      <td>...</td>\n",
       "      <td>...</td>\n",
       "      <td>...</td>\n",
       "      <td>...</td>\n",
       "      <td>...</td>\n",
       "    </tr>\n",
       "    <tr>\n",
       "      <td>493</td>\n",
       "      <td>1495</td>\n",
       "      <td>ultra</td>\n",
       "      <td>Иркутск</td>\n",
       "      <td>50</td>\n",
       "      <td>466.0</td>\n",
       "      <td>3920.0</td>\n",
       "      <td>340.0</td>\n",
       "      <td>127536.0</td>\n",
       "      <td>9750</td>\n",
       "      <td>0.0</td>\n",
       "      <td>0</td>\n",
       "      <td>10637.0</td>\n",
       "      <td>1800</td>\n",
       "      <td>1</td>\n",
       "      <td>11550</td>\n",
       "    </tr>\n",
       "    <tr>\n",
       "      <td>494</td>\n",
       "      <td>1496</td>\n",
       "      <td>smart</td>\n",
       "      <td>Вологда</td>\n",
       "      <td>78</td>\n",
       "      <td>667.0</td>\n",
       "      <td>5984.0</td>\n",
       "      <td>468.0</td>\n",
       "      <td>271269.0</td>\n",
       "      <td>6600</td>\n",
       "      <td>516.0</td>\n",
       "      <td>1</td>\n",
       "      <td>98543.0</td>\n",
       "      <td>21951</td>\n",
       "      <td>1</td>\n",
       "      <td>28551</td>\n",
       "    </tr>\n",
       "    <tr>\n",
       "      <td>495</td>\n",
       "      <td>1497</td>\n",
       "      <td>smart</td>\n",
       "      <td>Челябинск</td>\n",
       "      <td>33</td>\n",
       "      <td>156.0</td>\n",
       "      <td>1406.0</td>\n",
       "      <td>51.0</td>\n",
       "      <td>45626.0</td>\n",
       "      <td>1650</td>\n",
       "      <td>45.0</td>\n",
       "      <td>0</td>\n",
       "      <td>4580.0</td>\n",
       "      <td>1135</td>\n",
       "      <td>1</td>\n",
       "      <td>2785</td>\n",
       "    </tr>\n",
       "    <tr>\n",
       "      <td>496</td>\n",
       "      <td>1498</td>\n",
       "      <td>smart</td>\n",
       "      <td>Владикавказ</td>\n",
       "      <td>34</td>\n",
       "      <td>146.0</td>\n",
       "      <td>1293.0</td>\n",
       "      <td>168.0</td>\n",
       "      <td>74526.0</td>\n",
       "      <td>2200</td>\n",
       "      <td>0.0</td>\n",
       "      <td>12</td>\n",
       "      <td>20960.0</td>\n",
       "      <td>4436</td>\n",
       "      <td>1</td>\n",
       "      <td>6636</td>\n",
       "    </tr>\n",
       "    <tr>\n",
       "      <td>497</td>\n",
       "      <td>1499</td>\n",
       "      <td>smart</td>\n",
       "      <td>Пермь</td>\n",
       "      <td>42</td>\n",
       "      <td>170.0</td>\n",
       "      <td>1623.0</td>\n",
       "      <td>184.0</td>\n",
       "      <td>50718.0</td>\n",
       "      <td>2200</td>\n",
       "      <td>112.0</td>\n",
       "      <td>25</td>\n",
       "      <td>5073.0</td>\n",
       "      <td>1611</td>\n",
       "      <td>1</td>\n",
       "      <td>3811</td>\n",
       "    </tr>\n",
       "  </tbody>\n",
       "</table>\n",
       "<p>498 rows × 15 columns</p>\n",
       "</div>"
      ],
      "text/plain": [
       "     User_id  Тариф        Город  Месяц  Кол-во звонков, шт  Звонки, мин  \\\n",
       "0       1000  ultra    Краснодар     68               293.0       2566.0   \n",
       "1       1001  smart       Москва     23                92.0        844.0   \n",
       "2       1002  smart  Стерлитамак     63               173.0       1517.0   \n",
       "3       1003  ultra       Москва     50               428.0       3822.0   \n",
       "4       1004  ultra  Новокузнецк     68               139.0        987.0   \n",
       "..       ...    ...          ...    ...                 ...          ...   \n",
       "493     1495  ultra      Иркутск     50               466.0       3920.0   \n",
       "494     1496  smart      Вологда     78               667.0       5984.0   \n",
       "495     1497  smart    Челябинск     33               156.0       1406.0   \n",
       "496     1498  smart  Владикавказ     34               146.0       1293.0   \n",
       "497     1499  smart        Пермь     42               170.0       1623.0   \n",
       "\n",
       "     СМС, шт  Интернет, Мб  Аб. плата  Минуты_Extra  СМС_Extra  Мб_Extra  \\\n",
       "0      496.0      107492.0      15600           0.0          0       0.0   \n",
       "1        0.0       32505.0       1100           0.0          0    3092.0   \n",
       "2       70.0      116183.0       3850           0.0          0   14607.0   \n",
       "3      380.0       57329.0       9750           0.0          0       0.0   \n",
       "4     1192.0      149172.0      15600           0.0          0       0.0   \n",
       "..       ...           ...        ...           ...        ...       ...   \n",
       "493    340.0      127536.0       9750           0.0          0   10637.0   \n",
       "494    468.0      271269.0       6600         516.0          1   98543.0   \n",
       "495     51.0       45626.0       1650          45.0          0    4580.0   \n",
       "496    168.0       74526.0       2200           0.0         12   20960.0   \n",
       "497    184.0       50718.0       2200         112.0         25    5073.0   \n",
       "\n",
       "     Плата сверх лимита, руб.  Переплата  Общая сумма  \n",
       "0                           0          0        15600  \n",
       "1                         800          1         1900  \n",
       "2                        3400          1         7250  \n",
       "3                           0          0         9750  \n",
       "4                           0          0        15600  \n",
       "..                        ...        ...          ...  \n",
       "493                      1800          1        11550  \n",
       "494                     21951          1        28551  \n",
       "495                      1135          1         2785  \n",
       "496                      4436          1         6636  \n",
       "497                      1611          1         3811  \n",
       "\n",
       "[498 rows x 15 columns]"
      ]
     },
     "execution_count": 98,
     "metadata": {},
     "output_type": "execute_result"
    }
   ],
   "source": [
    "df_unique"
   ]
  },
  {
   "cell_type": "code",
   "execution_count": 99,
   "metadata": {},
   "outputs": [],
   "source": [
    "df_unique_sum = df_unique.groupby('Тариф').sum()[['Звонки, мин', 'СМС, шт', 'Интернет, Мб','Аб. плата', 'Плата сверх лимита, руб.', 'Общая сумма']]"
   ]
  },
  {
   "cell_type": "code",
   "execution_count": 100,
   "metadata": {},
   "outputs": [],
   "source": [
    "df_pivot_sum = pd.concat([df_unique_u, df_unique_sum], axis=1)"
   ]
  },
  {
   "cell_type": "code",
   "execution_count": 101,
   "metadata": {},
   "outputs": [
    {
     "data": {
      "text/html": [
       "<div>\n",
       "<style scoped>\n",
       "    .dataframe tbody tr th:only-of-type {\n",
       "        vertical-align: middle;\n",
       "    }\n",
       "\n",
       "    .dataframe tbody tr th {\n",
       "        vertical-align: top;\n",
       "    }\n",
       "\n",
       "    .dataframe thead th {\n",
       "        text-align: right;\n",
       "    }\n",
       "</style>\n",
       "<table border=\"1\" class=\"dataframe\">\n",
       "  <thead>\n",
       "    <tr style=\"text-align: right;\">\n",
       "      <th></th>\n",
       "      <th>User_id</th>\n",
       "      <th>Звонки, мин</th>\n",
       "      <th>СМС, шт</th>\n",
       "      <th>Интернет, Мб</th>\n",
       "      <th>Аб. плата</th>\n",
       "      <th>Плата сверх лимита, руб.</th>\n",
       "      <th>Общая сумма</th>\n",
       "    </tr>\n",
       "    <tr>\n",
       "      <th>Тариф</th>\n",
       "      <th></th>\n",
       "      <th></th>\n",
       "      <th></th>\n",
       "      <th></th>\n",
       "      <th></th>\n",
       "      <th></th>\n",
       "      <th></th>\n",
       "    </tr>\n",
       "  </thead>\n",
       "  <tbody>\n",
       "    <tr>\n",
       "      <td>smart</td>\n",
       "      <td>350</td>\n",
       "      <td>931577.0</td>\n",
       "      <td>74413.0</td>\n",
       "      <td>36174861.0</td>\n",
       "      <td>1225950</td>\n",
       "      <td>1659801</td>\n",
       "      <td>2885751</td>\n",
       "    </tr>\n",
       "    <tr>\n",
       "      <td>ultra</td>\n",
       "      <td>148</td>\n",
       "      <td>518724.0</td>\n",
       "      <td>48623.0</td>\n",
       "      <td>19194598.0</td>\n",
       "      <td>1920750</td>\n",
       "      <td>119250</td>\n",
       "      <td>2040000</td>\n",
       "    </tr>\n",
       "  </tbody>\n",
       "</table>\n",
       "</div>"
      ],
      "text/plain": [
       "       User_id  Звонки, мин  СМС, шт  Интернет, Мб  Аб. плата  \\\n",
       "Тариф                                                           \n",
       "smart      350     931577.0  74413.0    36174861.0    1225950   \n",
       "ultra      148     518724.0  48623.0    19194598.0    1920750   \n",
       "\n",
       "       Плата сверх лимита, руб.  Общая сумма  \n",
       "Тариф                                         \n",
       "smart                   1659801      2885751  \n",
       "ultra                    119250      2040000  "
      ]
     },
     "execution_count": 101,
     "metadata": {},
     "output_type": "execute_result"
    }
   ],
   "source": [
    "df_pivot_sum"
   ]
  },
  {
   "cell_type": "markdown",
   "metadata": {},
   "source": [
    "The number of subscribers of the **Smart** tariff is larger, they actively communicate, so they cover the lower cost of the tariff with their costs."
   ]
  },
  {
   "cell_type": "markdown",
   "metadata": {},
   "source": [
    "## 4. Description of the client's behavior based on the received sample  <a name=\"#paragraph4\"></a>"
   ]
  },
  {
   "cell_type": "markdown",
   "metadata": {},
   "source": [
    "Let's build histograms, look at and compare how many calls, minutes and traffic the tariff users need:"
   ]
  },
  {
   "cell_type": "markdown",
   "metadata": {},
   "source": [
    "We will work with tables in which data on tariffs are summarized without grouping by unique users and summing up the values by expenses, since it is these data that will give us the correct information about the average values:   \n",
    "- **df_smart_clear**  \n",
    "- **df_ultra_clear**"
   ]
  },
  {
   "cell_type": "markdown",
   "metadata": {},
   "source": [
    "#### Distribution by SMS:"
   ]
  },
  {
   "cell_type": "code",
   "execution_count": 102,
   "metadata": {
    "scrolled": true
   },
   "outputs": [
    {
     "data": {
      "image/png": "[encoded data removed]",
      "text/plain": [
       "<Figure size 648x288 with 1 Axes>"
      ]
     },
     "metadata": {
      "needs_background": "light"
     },
     "output_type": "display_data"
    }
   ],
   "source": [
    "ax = plt.gca()\n",
    "df_smart_clear.plot(x = 'User_id', y = 'СМС, шт', kind = 'hist', bins = 70, ax = ax, alpha = 0.3, ec='blue', figsize=(9,4), color='mediumaquamarine')\n",
    "df_ultra_clear.plot(x = 'User_id', y = 'СМС, шт', kind = 'hist', bins = 70, ax = ax, ec='black', figsize=(9,4), color='forestgreen')\n",
    "\n",
    "plt.legend(['Smart', 'Ultra'])\n",
    "plt.title('The histogram of the number of SMS')\n",
    "plt.ylabel('Users')\n",
    "plt.xlabel('SMS')\n",
    "plt.show()"
   ]
  },
  {
   "cell_type": "markdown",
   "metadata": {},
   "source": [
    "Let's remove the outliers and take a closer look at the data"
   ]
  },
  {
   "cell_type": "code",
   "execution_count": 103,
   "metadata": {},
   "outputs": [
    {
     "data": {
      "text/plain": [
       "<matplotlib.axes._subplots.AxesSubplot at 0x7fcf60c63c50>"
      ]
     },
     "execution_count": 103,
     "metadata": {},
     "output_type": "execute_result"
    },
    {
     "data": {
      "image/png": "[encoded data removed]",
      "text/plain": [
       "<Figure size 432x288 with 1 Axes>"
      ]
     },
     "metadata": {
      "needs_background": "light"
     },
     "output_type": "display_data"
    }
   ],
   "source": [
    "df_smart_clear.boxplot('СМС, шт')\n"
   ]
  },
  {
   "cell_type": "code",
   "execution_count": 104,
   "metadata": {},
   "outputs": [
    {
     "data": {
      "image/png": "[encoded data removed]",
      "text/plain": [
       "<Figure size 1080x720 with 2 Axes>"
      ]
     },
     "metadata": {
      "needs_background": "light"
     },
     "output_type": "display_data"
    }
   ],
   "source": [
    "def plot_hist_boxplot(df, group_col, column, title = 'Distribution diagram and boxplots', bins = [50, 50]):\n",
    "    \n",
    "    np.warnings.filterwarnings('ignore', category=np.VisibleDeprecationWarning)\n",
    "    \n",
    "    fig, axes = plt.subplots(2, 1, figsize=(15, 10))\n",
    "    \n",
    "    for item in df[group_col].unique():\n",
    "        axes[0].hist(df.loc[df[group_col] == item, column], bins = bins[0], label = item, alpha = 0.5)\n",
    "    axes[0].legend()\n",
    "    axes[0].grid()\n",
    "    \n",
    "    df.boxplot(column, by=group_col, ax = axes[1], vert = False)\n",
    "    fig.suptitle(title)\n",
    "    \n",
    "    plt.show()\n",
    "    \n",
    "plot_hist_boxplot(df_pivot, 'Тариф', 'СМС, шт')"
   ]
  },
  {
   "cell_type": "code",
   "execution_count": 105,
   "metadata": {},
   "outputs": [
    {
     "data": {
      "text/plain": [
       "<matplotlib.axes._subplots.AxesSubplot at 0x7fcf6088b310>"
      ]
     },
     "execution_count": 105,
     "metadata": {},
     "output_type": "execute_result"
    },
    {
     "data": {
      "image/png": "[encoded data removed]",
      "text/plain": [
       "<Figure size 432x288 with 1 Axes>"
      ]
     },
     "metadata": {
      "needs_background": "light"
     },
     "output_type": "display_data"
    }
   ],
   "source": [
    "df_ultra_clear.boxplot('СМС, шт')"
   ]
  },
  {
   "cell_type": "markdown",
   "metadata": {},
   "source": [
    "Let's remove data with the number of SMS from the charts:  \n",
    "- more than 120 pcs in the Smart tariff  \n",
    "- more than 180 pcs in the Ultra tariff  "
   ]
  },
  {
   "cell_type": "code",
   "execution_count": 106,
   "metadata": {},
   "outputs": [],
   "source": [
    "df_smart_clear_filter = df_smart_clear.rename({'СМС, шт':'СМС'}, axis =1)"
   ]
  },
  {
   "cell_type": "code",
   "execution_count": 107,
   "metadata": {},
   "outputs": [],
   "source": [
    "df_smart_clear_filter = df_smart_clear_filter.query('СМС < 120')"
   ]
  },
  {
   "cell_type": "code",
   "execution_count": 108,
   "metadata": {},
   "outputs": [],
   "source": [
    "df_ultra_clear_filter = df_ultra_clear.rename({'СМС, шт':'СМС'}, axis =1)"
   ]
  },
  {
   "cell_type": "code",
   "execution_count": 109,
   "metadata": {},
   "outputs": [],
   "source": [
    "df_ultra_clear_filter = df_ultra_clear_filter.query('СМС < 180')"
   ]
  },
  {
   "cell_type": "code",
   "execution_count": 110,
   "metadata": {},
   "outputs": [
    {
     "data": {
      "image/png": "[encoded data removed]",
      "text/plain": [
       "<Figure size 648x288 with 1 Axes>"
      ]
     },
     "metadata": {
      "needs_background": "light"
     },
     "output_type": "display_data"
    }
   ],
   "source": [
    "ax = plt.gca()\n",
    "df_smart_clear_filter.plot(x = 'User_id', y = 'СМС', kind = 'hist', bins = 30, ax = ax, alpha = 0.3, ec='blue', figsize=(9,4), color='mediumaquamarine')\n",
    "df_ultra_clear_filter.plot(x = 'User_id', y = 'СМС', kind = 'hist', bins = 30, ax = ax, ec='black', figsize=(9,4), color='forestgreen')\n",
    "\n",
    "plt.legend(['Smart', 'Ultra'])\n",
    "plt.title('The histogram of the number of SMS')\n",
    "plt.ylabel('Users')\n",
    "plt.xlabel('SMS')\n",
    "plt.show()"
   ]
  },
  {
   "cell_type": "code",
   "execution_count": 111,
   "metadata": {},
   "outputs": [],
   "source": [
    "df_ultra_final_SMS_mean = df_ultra_clear_filter['СМС'].mean()\n",
    "df_smart_final_SMS_mean = df_smart_clear_filter['СМС'].mean()\n",
    "df_ultra_final_SMS_var = np.var(df_ultra_clear_filter['СМС'], ddof=1)\n",
    "df_smart_final_SMS_var = np.var(df_smart_clear_filter['СМС'], ddof=1)\n",
    "df_ultra_final_SMS_std = df_ultra_clear_filter['СМС'].std()\n",
    "df_smart_final_SMS_std = df_smart_clear_filter['СМС'].std()"
   ]
  },
  {
   "cell_type": "code",
   "execution_count": 112,
   "metadata": {},
   "outputs": [
    {
     "name": "stdout",
     "output_type": "stream",
     "text": [
      "The average number of SMS messages in the Ultra tariff: 47\n",
      "The average number of SMS messages in the Smart tariff: 32\n",
      "SMS dispersion in the Ultra tariff: 2005.68\n",
      "SMS dispersion in the Smart tariff:  752.32\n",
      "Standard deviation of SMS in the Ultra tariff:  44.78\n",
      "Standard deviation of SMS in the Smart tariff:  27.43\n"
     ]
    }
   ],
   "source": [
    "print('The average number of SMS messages in the Ultra tariff:', int(df_ultra_final_SMS_mean))\n",
    "print('The average number of SMS messages in the Smart tariff:', int(df_smart_final_SMS_mean))\n",
    "print('SMS dispersion in the Ultra tariff: {:.2f}' .format(df_ultra_final_SMS_var))\n",
    "print('SMS dispersion in the Smart tariff:  {:.2f}'.format(df_smart_final_SMS_var))\n",
    "print('Standard deviation of SMS in the Ultra tariff:  {:.2f}'.format(df_ultra_final_SMS_std))\n",
    "print('Standard deviation of SMS in the Smart tariff:  {:.2f}'.format(df_smart_final_SMS_std))"
   ]
  },
  {
   "cell_type": "markdown",
   "metadata": {},
   "source": [
    "The distribution in the graph is binomial, skewed to the right  \n",
    "Most of the users of both tariffs do not use SMS, however, among those who use on average more SMS are sent by users of the tariff **Ultra**  \n",
    "What do you say, SMS are now needed only to receive messages from the bank and send the code there))"
   ]
  },
  {
   "cell_type": "markdown",
   "metadata": {},
   "source": [
    "#### Distribution by calls:"
   ]
  },
  {
   "cell_type": "code",
   "execution_count": 113,
   "metadata": {},
   "outputs": [
    {
     "data": {
      "image/png": "[encoded data removed]",
      "text/plain": [
       "<Figure size 648x288 with 1 Axes>"
      ]
     },
     "metadata": {
      "needs_background": "light"
     },
     "output_type": "display_data"
    }
   ],
   "source": [
    "ax = plt.gca()\n",
    "df_smart_clear.plot(x = 'User_id', y = 'Звонки, мин', kind = 'hist', bins = 70, ax = ax, alpha = 0.3, ec='blue', figsize=(9,4), color='mediumaquamarine')\n",
    "df_ultra_clear.plot(x = 'User_id', y = 'Звонки, мин', kind = 'hist', bins = 70, ax = ax, ec='black', figsize=(9,4), color='forestgreen')\n",
    "\n",
    "plt.legend(['Smart', 'Ultra'])\n",
    "plt.title('Histogram of the number of minutes of conversation')\n",
    "plt.ylabel('Users')\n",
    "plt.xlabel('Minutes')\n",
    "plt.show()"
   ]
  },
  {
   "cell_type": "markdown",
   "metadata": {},
   "source": [
    "Let's remove the outliers and take a closer look at the data:"
   ]
  },
  {
   "cell_type": "code",
   "execution_count": 114,
   "metadata": {},
   "outputs": [
    {
     "data": {
      "text/plain": [
       "<matplotlib.axes._subplots.AxesSubplot at 0x7fcf60c16dd0>"
      ]
     },
     "execution_count": 114,
     "metadata": {},
     "output_type": "execute_result"
    },
    {
     "data": {
      "image/png": "[encoded data removed]",
      "text/plain": [
       "<Figure size 432x288 with 1 Axes>"
      ]
     },
     "metadata": {
      "needs_background": "light"
     },
     "output_type": "display_data"
    }
   ],
   "source": [
    "df_ultra_clear.boxplot('Звонки, мин')"
   ]
  },
  {
   "cell_type": "code",
   "execution_count": 115,
   "metadata": {},
   "outputs": [
    {
     "data": {
      "text/plain": [
       "<matplotlib.axes._subplots.AxesSubplot at 0x7fcf61b9a310>"
      ]
     },
     "execution_count": 115,
     "metadata": {},
     "output_type": "execute_result"
    },
    {
     "data": {
      "image/png": "[encoded data removed]",
      "text/plain": [
       "<Figure size 432x288 with 1 Axes>"
      ]
     },
     "metadata": {
      "needs_background": "light"
     },
     "output_type": "display_data"
    }
   ],
   "source": [
    "df_smart_clear.boxplot('Звонки, мин')"
   ]
  },
  {
   "cell_type": "markdown",
   "metadata": {},
   "source": [
    "Exclude values less than more **1400** in the tariff **Ultra** and more **950** in the **Smart tariff**"
   ]
  },
  {
   "cell_type": "code",
   "execution_count": 116,
   "metadata": {},
   "outputs": [],
   "source": [
    "df_smart_clear = df_smart_clear.rename({'Звонки, мин':'Минуты', 'Интернет, Мб':'Интернет'}, axis =1)"
   ]
  },
  {
   "cell_type": "code",
   "execution_count": 117,
   "metadata": {},
   "outputs": [],
   "source": [
    "df_smart_clear_filter_calls = df_smart_clear.query('Минуты < 10000')"
   ]
  },
  {
   "cell_type": "code",
   "execution_count": 118,
   "metadata": {},
   "outputs": [],
   "source": [
    "df_ultra_clear = df_ultra_clear.rename({'Звонки, мин':'Минуты', 'Интернет, Мб':'Интернет'}, axis =1)"
   ]
  },
  {
   "cell_type": "code",
   "execution_count": 119,
   "metadata": {},
   "outputs": [],
   "source": [
    "df_ultra_clear_filter_calls = df_ultra_clear.query('Минуты < 10000')"
   ]
  },
  {
   "cell_type": "code",
   "execution_count": 120,
   "metadata": {},
   "outputs": [
    {
     "data": {
      "image/png": "[encoded data removed]",
      "text/plain": [
       "<Figure size 648x288 with 1 Axes>"
      ]
     },
     "metadata": {
      "needs_background": "light"
     },
     "output_type": "display_data"
    }
   ],
   "source": [
    "ax = plt.gca()\n",
    "df_smart_clear_filter_calls.plot(x = 'User_id', y = 'Минуты', kind = 'hist', bins = 70, ax = ax, ec='blue', figsize=(9,4), color='mediumaquamarine')\n",
    "df_ultra_clear_filter_calls.plot(x = 'User_id', y = 'Минуты', kind = 'hist', bins = 70, ax = ax, alpha = 0.5, ec='black', figsize=(9,4), color='forestgreen')\n",
    "\n",
    "plt.legend(['Smart', 'Ultra'])\n",
    "plt.title('Histogram of the number of minutes of conversation')\n",
    "plt.ylabel('Users')\n",
    "plt.xlabel('Minutes')\n",
    "plt.show()"
   ]
  },
  {
   "cell_type": "code",
   "execution_count": 121,
   "metadata": {},
   "outputs": [],
   "source": [
    "df_ultra_final_Minutes_mean = df_ultra_clear_filter_calls['Минуты'].mean()\n",
    "df_smart_final_Minutes_mean = df_smart_clear_filter_calls['Минуты'].mean()\n",
    "df_ultra_final_Minutes_median = df_ultra_clear_filter_calls['Минуты'].median()\n",
    "df_smart_final_Minutes_median = df_smart_clear_filter_calls['Минуты'].median()\n",
    "df_ultra_final_Minutes_var = np.var(df_ultra_clear_filter_calls['Минуты'], ddof=1)\n",
    "df_smart_final_Minutes_var = np.var(df_smart_clear_filter_calls['Минуты'], ddof=1)\n",
    "df_ultra_final_Minutes_std = df_ultra_clear_filter_calls['Минуты'].std()\n",
    "df_smart_final_Minutes_std = df_smart_clear_filter_calls['Минуты'].std()"
   ]
  },
  {
   "cell_type": "code",
   "execution_count": 122,
   "metadata": {},
   "outputs": [
    {
     "name": "stdout",
     "output_type": "stream",
     "text": [
      "The average number of Minutes in the Ultra tariff: 526\n",
      "The average number of Minutes in the Smart tariff: 417\n",
      "The median number of Minutes in the Ultra tariff: 518\n",
      "The median number of Minutes in the Smart tariff: 422\n",
      "Dispersion of Minutes in the Ultra tariff: 100873.63\n",
      "Dispersion of Minutes in the Smart tariff::  36219.32\n",
      "Standard deviation of Minutes in the Ultra rate:  317.61\n",
      "Standard deviation of Minutes in the Smart rate:  190.31\n"
     ]
    }
   ],
   "source": [
    "print('The average number of Minutes in the Ultra tariff:', int(df_ultra_final_Minutes_mean))\n",
    "print('The average number of Minutes in the Smart tariff:', int(df_smart_final_Minutes_mean))\n",
    "print('The median number of Minutes in the Ultra tariff:', int(df_ultra_final_Minutes_median))\n",
    "print('The median number of Minutes in the Smart tariff:', int(df_smart_final_Minutes_median))\n",
    "print('Dispersion of Minutes in the Ultra tariff: {:.2f}' .format(df_ultra_final_Minutes_var))\n",
    "print('Dispersion of Minutes in the Smart tariff::  {:.2f}'.format(df_smart_final_Minutes_var))\n",
    "print('Standard deviation of Minutes in the Ultra rate:  {:.2f}'.format(df_ultra_final_Minutes_std))\n",
    "print('Standard deviation of Minutes in the Smart rate:  {:.2f}'.format(df_smart_final_Minutes_std))"
   ]
  },
  {
   "cell_type": "markdown",
   "metadata": {},
   "source": [
    "The distribution in the graph is binomial with a slight slope to the left  \n",
    "In the Smart tariff, users mostly do not use prepaid minutes, and a fairly large number of users do not use calls at all  \n",
    "In the Ultra tariff, despite the fact that 3,000 minutes of conversation are prepaid, users use them quite rarely.  \n",
    "The average value is only 526 minutes"
   ]
  },
  {
   "cell_type": "markdown",
   "metadata": {},
   "source": [
    "#### Распределение трафика"
   ]
  },
  {
   "cell_type": "code",
   "execution_count": 123,
   "metadata": {},
   "outputs": [
    {
     "data": {
      "image/png": "[encoded data removed]",
      "text/plain": [
       "<Figure size 648x288 with 1 Axes>"
      ]
     },
     "metadata": {
      "needs_background": "light"
     },
     "output_type": "display_data"
    }
   ],
   "source": [
    "ax = plt.gca()\n",
    "df_smart_clear.plot(x = 'User_id', y = 'Интернет', kind = 'hist', bins = 70, ax = ax, ec='blue', figsize=(9,4), color='mediumaquamarine')\n",
    "df_ultra_clear.plot(x = 'User_id', y = 'Интернет', kind = 'hist', bins = 70, ax = ax, alpha = 0.6, ec='black', figsize=(9,4), color='forestgreen')\n",
    "\n",
    "plt.legend(['Smart', 'Ultra'])\n",
    "plt.title('Histogram of the amount of traffic')\n",
    "plt.ylabel('Users')\n",
    "plt.xlabel('Megabytes')\n",
    "plt.show()"
   ]
  },
  {
   "cell_type": "markdown",
   "metadata": {},
   "source": [
    "The graph shows that there are practically no anomalies in the data.  \n",
    "Let's calculate the mean, median values, as well as the variance and standard deviation"
   ]
  },
  {
   "cell_type": "code",
   "execution_count": 124,
   "metadata": {},
   "outputs": [],
   "source": [
    "df_ultra_final_Traffic_mean = df_ultra_clear['Интернет'].mean()\n",
    "df_smart_final_Traffic_mean = df_smart_clear['Интернет'].mean()\n",
    "df_ultra_final_Traffic_median = df_ultra_clear['Интернет'].median()\n",
    "df_smart_final_Traffic_median = df_smart_clear['Интернет'].median()\n",
    "df_ultra_final_Traffic_var = np.var(df_ultra_clear['Интернет'])\n",
    "df_smart_final_Traffic_var = np.var(df_smart_clear['Интернет'], ddof=1)\n",
    "df_ultra_final_Traffic_std = df_ultra_clear['Интернет'].std()\n",
    "df_smart_final_Traffic_std = df_smart_clear['Интернет'].std()"
   ]
  },
  {
   "cell_type": "code",
   "execution_count": 125,
   "metadata": {},
   "outputs": [
    {
     "name": "stdout",
     "output_type": "stream",
     "text": [
      "The average amount of traffic in the Ultra tariff: 19486\n",
      "Average amount of Traffic in the Smart tariff: 16229\n",
      "The median amount of Traffic in the Ultra tariff: 19324\n",
      "The median amount of Traffic in the Smart tariff 16531\n",
      "Traffic variance in the Ultra tariff: 101832133.11\n",
      "Traffic variance in the Smart tariff:  34545911.13\n",
      "Standard deviation of Traffic in the Ultra tariff:  10096.32\n",
      "Standard deviation of Traffic in the Smart tariff:  5877.58\n"
     ]
    }
   ],
   "source": [
    "print('The average amount of traffic in the Ultra tariff:', int(df_ultra_final_Traffic_mean))\n",
    "print('Average amount of Traffic in the Smart tariff:', int(df_smart_final_Traffic_mean))\n",
    "print('The median amount of Traffic in the Ultra tariff:', int(df_ultra_final_Traffic_median))\n",
    "print('The median amount of Traffic in the Smart tariff', int(df_smart_final_Traffic_median))\n",
    "print('Traffic variance in the Ultra tariff: {:.2f}' .format(df_ultra_final_Traffic_var))\n",
    "print('Traffic variance in the Smart tariff:  {:.2f}'.format(df_smart_final_Traffic_var))\n",
    "print('Standard deviation of Traffic in the Ultra tariff:  {:.2f}'.format(df_ultra_final_Traffic_std))\n",
    "print('Standard deviation of Traffic in the Smart tariff:  {:.2f}'.format(df_smart_final_Traffic_std))"
   ]
  },
  {
   "cell_type": "markdown",
   "metadata": {},
   "source": [
    "The distribution in the graph is binomial.  \n",
    "The graphs are almost symmetrical with a slight skewness:  \n",
    "- To the left at the tariff **Ultra**  \n",
    "- To the right at the tariff **Smart**  \n",
    "  \n",
    "In the **Ultra** tariff, subscribers mostly do not use the third part of the traffic.  \n",
    "In the **Smart** tariff, subscribers, on the contrary, do not have enough traffic."
   ]
  },
  {
   "cell_type": "markdown",
   "metadata": {},
   "source": [
    "## 5. Hypothesis testing <a name=\"paragraph5\"></a>"
   ]
  },
  {
   "cell_type": "markdown",
   "metadata": {},
   "source": [
    "Let 's check the two hypotheses put forward in the task condition:  \n",
    "- the average revenue of users of the \"Ultra\" and \"Smart\" tariffs differs;  \n",
    "- the average revenue of users from Moscow differs from the revenue of users from other regions;"
   ]
  },
  {
   "cell_type": "code",
   "execution_count": 126,
   "metadata": {},
   "outputs": [
    {
     "data": {
      "text/html": [
       "<div>\n",
       "<style scoped>\n",
       "    .dataframe tbody tr th:only-of-type {\n",
       "        vertical-align: middle;\n",
       "    }\n",
       "\n",
       "    .dataframe tbody tr th {\n",
       "        vertical-align: top;\n",
       "    }\n",
       "\n",
       "    .dataframe thead th {\n",
       "        text-align: right;\n",
       "    }\n",
       "</style>\n",
       "<table border=\"1\" class=\"dataframe\">\n",
       "  <thead>\n",
       "    <tr style=\"text-align: right;\">\n",
       "      <th></th>\n",
       "      <th>User_id</th>\n",
       "      <th>Тариф</th>\n",
       "      <th>Город</th>\n",
       "      <th>Месяц</th>\n",
       "      <th>Кол-во звонков, шт</th>\n",
       "      <th>Звонки, мин</th>\n",
       "      <th>СМС, шт</th>\n",
       "      <th>Интернет, Мб</th>\n",
       "      <th>Аб. плата</th>\n",
       "      <th>Минуты_Extra</th>\n",
       "      <th>СМС_Extra</th>\n",
       "      <th>Мб_Extra</th>\n",
       "      <th>Плата сверх лимита, руб.</th>\n",
       "      <th>Переплата</th>\n",
       "      <th>Общая сумма</th>\n",
       "    </tr>\n",
       "  </thead>\n",
       "  <tbody>\n",
       "    <tr>\n",
       "      <td>0</td>\n",
       "      <td>1000</td>\n",
       "      <td>ultra</td>\n",
       "      <td>Краснодар</td>\n",
       "      <td>68</td>\n",
       "      <td>293.0</td>\n",
       "      <td>2566.0</td>\n",
       "      <td>496.0</td>\n",
       "      <td>107492.0</td>\n",
       "      <td>15600</td>\n",
       "      <td>0.0</td>\n",
       "      <td>0</td>\n",
       "      <td>0.0</td>\n",
       "      <td>0</td>\n",
       "      <td>0</td>\n",
       "      <td>15600</td>\n",
       "    </tr>\n",
       "    <tr>\n",
       "      <td>1</td>\n",
       "      <td>1001</td>\n",
       "      <td>smart</td>\n",
       "      <td>Москва</td>\n",
       "      <td>23</td>\n",
       "      <td>92.0</td>\n",
       "      <td>844.0</td>\n",
       "      <td>0.0</td>\n",
       "      <td>32505.0</td>\n",
       "      <td>1100</td>\n",
       "      <td>0.0</td>\n",
       "      <td>0</td>\n",
       "      <td>3092.0</td>\n",
       "      <td>800</td>\n",
       "      <td>1</td>\n",
       "      <td>1900</td>\n",
       "    </tr>\n",
       "    <tr>\n",
       "      <td>2</td>\n",
       "      <td>1002</td>\n",
       "      <td>smart</td>\n",
       "      <td>Стерлитамак</td>\n",
       "      <td>63</td>\n",
       "      <td>173.0</td>\n",
       "      <td>1517.0</td>\n",
       "      <td>70.0</td>\n",
       "      <td>116183.0</td>\n",
       "      <td>3850</td>\n",
       "      <td>0.0</td>\n",
       "      <td>0</td>\n",
       "      <td>14607.0</td>\n",
       "      <td>3400</td>\n",
       "      <td>1</td>\n",
       "      <td>7250</td>\n",
       "    </tr>\n",
       "    <tr>\n",
       "      <td>3</td>\n",
       "      <td>1003</td>\n",
       "      <td>ultra</td>\n",
       "      <td>Москва</td>\n",
       "      <td>50</td>\n",
       "      <td>428.0</td>\n",
       "      <td>3822.0</td>\n",
       "      <td>380.0</td>\n",
       "      <td>57329.0</td>\n",
       "      <td>9750</td>\n",
       "      <td>0.0</td>\n",
       "      <td>0</td>\n",
       "      <td>0.0</td>\n",
       "      <td>0</td>\n",
       "      <td>0</td>\n",
       "      <td>9750</td>\n",
       "    </tr>\n",
       "    <tr>\n",
       "      <td>4</td>\n",
       "      <td>1004</td>\n",
       "      <td>ultra</td>\n",
       "      <td>Новокузнецк</td>\n",
       "      <td>68</td>\n",
       "      <td>139.0</td>\n",
       "      <td>987.0</td>\n",
       "      <td>1192.0</td>\n",
       "      <td>149172.0</td>\n",
       "      <td>15600</td>\n",
       "      <td>0.0</td>\n",
       "      <td>0</td>\n",
       "      <td>0.0</td>\n",
       "      <td>0</td>\n",
       "      <td>0</td>\n",
       "      <td>15600</td>\n",
       "    </tr>\n",
       "  </tbody>\n",
       "</table>\n",
       "</div>"
      ],
      "text/plain": [
       "   User_id  Тариф        Город  Месяц  Кол-во звонков, шт  Звонки, мин  \\\n",
       "0     1000  ultra    Краснодар     68               293.0       2566.0   \n",
       "1     1001  smart       Москва     23                92.0        844.0   \n",
       "2     1002  smart  Стерлитамак     63               173.0       1517.0   \n",
       "3     1003  ultra       Москва     50               428.0       3822.0   \n",
       "4     1004  ultra  Новокузнецк     68               139.0        987.0   \n",
       "\n",
       "   СМС, шт  Интернет, Мб  Аб. плата  Минуты_Extra  СМС_Extra  Мб_Extra  \\\n",
       "0    496.0      107492.0      15600           0.0          0       0.0   \n",
       "1      0.0       32505.0       1100           0.0          0    3092.0   \n",
       "2     70.0      116183.0       3850           0.0          0   14607.0   \n",
       "3    380.0       57329.0       9750           0.0          0       0.0   \n",
       "4   1192.0      149172.0      15600           0.0          0       0.0   \n",
       "\n",
       "   Плата сверх лимита, руб.  Переплата  Общая сумма  \n",
       "0                         0          0        15600  \n",
       "1                       800          1         1900  \n",
       "2                      3400          1         7250  \n",
       "3                         0          0         9750  \n",
       "4                         0          0        15600  "
      ]
     },
     "execution_count": 126,
     "metadata": {},
     "output_type": "execute_result"
    }
   ],
   "source": [
    "df_unique.head()"
   ]
  },
  {
   "cell_type": "markdown",
   "metadata": {},
   "source": [
    "### 5.1. Hypothesis: the average revenue in tariffs varies <a name=\"paragraph5_1\"></a>"
   ]
  },
  {
   "cell_type": "markdown",
   "metadata": {},
   "source": [
    "- **H0 (null hypothesis)** - the assumption that the average revenue of users of the **Smart** tariff does not differ from the average revenue of users of the **Ultra** tariff.  \n",
    "- **H1 (alternative hypothesis)** - the average revenue of users of the **Smart** tariff differs from the average revenue of users of the **Ultra** tariff.  \n",
    "The null hypothesis was put forward about the equality of revenue to confirm or refute the statement of the hypothesis, since when testing the hypothesis about the equality of two independent aggregates, it is necessary to formulate a null hypothesis asserting the assumption of equality of values."
   ]
  },
  {
   "cell_type": "markdown",
   "metadata": {},
   "source": [
    "To test the hypothesis, we will use a dataframe containing information about expenses grouped by unique users, since in the task condition there is a question of checking * the average revenue of users*"
   ]
  },
  {
   "cell_type": "markdown",
   "metadata": {},
   "source": [
    "First, let's clear the data from outliers:"
   ]
  },
  {
   "cell_type": "code",
   "execution_count": 127,
   "metadata": {},
   "outputs": [
    {
     "data": {
      "image/png": "[encoded data removed]",
      "text/plain": [
       "<Figure size 576x504 with 1 Axes>"
      ]
     },
     "metadata": {
      "needs_background": "light"
     },
     "output_type": "display_data"
    }
   ],
   "source": [
    "df_unique.boxplot(column='Общая сумма', by='Тариф', figsize=(8,7))\n",
    "#numpy.warnings.filterwarnings('ignore', category=numpy.VisibleDeprecationWarning)\n",
    "np.warnings.filterwarnings('ignore', category=np.VisibleDeprecationWarning)"
   ]
  },
  {
   "cell_type": "markdown",
   "metadata": {},
   "source": [
    "Exclude abnormal values from the sample:\n",
    "- for the **Ultra** tariff, these are values less than 1,950 rubles and more than 35,000 rubles\n",
    "- for the **Smart** tariff, these are values less than 550p and more than 20 000p"
   ]
  },
  {
   "cell_type": "code",
   "execution_count": 128,
   "metadata": {},
   "outputs": [],
   "source": [
    "df_unique = df_unique.rename({'Общая сумма': 'Общая_сумма'}, axis = 1)"
   ]
  },
  {
   "cell_type": "code",
   "execution_count": 129,
   "metadata": {},
   "outputs": [
    {
     "data": {
      "text/html": [
       "<div>\n",
       "<style scoped>\n",
       "    .dataframe tbody tr th:only-of-type {\n",
       "        vertical-align: middle;\n",
       "    }\n",
       "\n",
       "    .dataframe tbody tr th {\n",
       "        vertical-align: top;\n",
       "    }\n",
       "\n",
       "    .dataframe thead th {\n",
       "        text-align: right;\n",
       "    }\n",
       "</style>\n",
       "<table border=\"1\" class=\"dataframe\">\n",
       "  <thead>\n",
       "    <tr style=\"text-align: right;\">\n",
       "      <th></th>\n",
       "      <th>User_id</th>\n",
       "      <th>Месяц</th>\n",
       "      <th>Кол-во звонков, шт</th>\n",
       "      <th>Звонки, мин</th>\n",
       "      <th>СМС, шт</th>\n",
       "      <th>Интернет, Мб</th>\n",
       "      <th>Тариф</th>\n",
       "      <th>Город</th>\n",
       "      <th>Аб. плата</th>\n",
       "      <th>Минуты_Extra</th>\n",
       "      <th>СМС_Extra</th>\n",
       "      <th>Мб_Extra</th>\n",
       "      <th>Плата сверх лимита, руб.</th>\n",
       "    </tr>\n",
       "  </thead>\n",
       "  <tbody>\n",
       "    <tr>\n",
       "      <td>0</td>\n",
       "      <td>1000</td>\n",
       "      <td>5</td>\n",
       "      <td>17.0</td>\n",
       "      <td>159.0</td>\n",
       "      <td>22.0</td>\n",
       "      <td>2256.0</td>\n",
       "      <td>ultra</td>\n",
       "      <td>Краснодар</td>\n",
       "      <td>1950</td>\n",
       "      <td>0.0</td>\n",
       "      <td>0</td>\n",
       "      <td>0.0</td>\n",
       "      <td>0</td>\n",
       "    </tr>\n",
       "    <tr>\n",
       "      <td>1</td>\n",
       "      <td>1000</td>\n",
       "      <td>6</td>\n",
       "      <td>28.0</td>\n",
       "      <td>172.0</td>\n",
       "      <td>60.0</td>\n",
       "      <td>23257.0</td>\n",
       "      <td>ultra</td>\n",
       "      <td>Краснодар</td>\n",
       "      <td>1950</td>\n",
       "      <td>0.0</td>\n",
       "      <td>0</td>\n",
       "      <td>0.0</td>\n",
       "      <td>0</td>\n",
       "    </tr>\n",
       "    <tr>\n",
       "      <td>2</td>\n",
       "      <td>1000</td>\n",
       "      <td>7</td>\n",
       "      <td>41.0</td>\n",
       "      <td>340.0</td>\n",
       "      <td>75.0</td>\n",
       "      <td>14016.0</td>\n",
       "      <td>ultra</td>\n",
       "      <td>Краснодар</td>\n",
       "      <td>1950</td>\n",
       "      <td>0.0</td>\n",
       "      <td>0</td>\n",
       "      <td>0.0</td>\n",
       "      <td>0</td>\n",
       "    </tr>\n",
       "    <tr>\n",
       "      <td>3</td>\n",
       "      <td>1000</td>\n",
       "      <td>8</td>\n",
       "      <td>42.0</td>\n",
       "      <td>408.0</td>\n",
       "      <td>81.0</td>\n",
       "      <td>14070.0</td>\n",
       "      <td>ultra</td>\n",
       "      <td>Краснодар</td>\n",
       "      <td>1950</td>\n",
       "      <td>0.0</td>\n",
       "      <td>0</td>\n",
       "      <td>0.0</td>\n",
       "      <td>0</td>\n",
       "    </tr>\n",
       "    <tr>\n",
       "      <td>4</td>\n",
       "      <td>1000</td>\n",
       "      <td>9</td>\n",
       "      <td>46.0</td>\n",
       "      <td>466.0</td>\n",
       "      <td>57.0</td>\n",
       "      <td>14581.0</td>\n",
       "      <td>ultra</td>\n",
       "      <td>Краснодар</td>\n",
       "      <td>1950</td>\n",
       "      <td>0.0</td>\n",
       "      <td>0</td>\n",
       "      <td>0.0</td>\n",
       "      <td>0</td>\n",
       "    </tr>\n",
       "  </tbody>\n",
       "</table>\n",
       "</div>"
      ],
      "text/plain": [
       "   User_id  Месяц  Кол-во звонков, шт  Звонки, мин  СМС, шт  Интернет, Мб  \\\n",
       "0     1000      5                17.0        159.0     22.0        2256.0   \n",
       "1     1000      6                28.0        172.0     60.0       23257.0   \n",
       "2     1000      7                41.0        340.0     75.0       14016.0   \n",
       "3     1000      8                42.0        408.0     81.0       14070.0   \n",
       "4     1000      9                46.0        466.0     57.0       14581.0   \n",
       "\n",
       "   Тариф      Город  Аб. плата  Минуты_Extra  СМС_Extra  Мб_Extra  \\\n",
       "0  ultra  Краснодар       1950           0.0          0       0.0   \n",
       "1  ultra  Краснодар       1950           0.0          0       0.0   \n",
       "2  ultra  Краснодар       1950           0.0          0       0.0   \n",
       "3  ultra  Краснодар       1950           0.0          0       0.0   \n",
       "4  ultra  Краснодар       1950           0.0          0       0.0   \n",
       "\n",
       "   Плата сверх лимита, руб.  \n",
       "0                         0  \n",
       "1                         0  \n",
       "2                         0  \n",
       "3                         0  \n",
       "4                         0  "
      ]
     },
     "execution_count": 129,
     "metadata": {},
     "output_type": "execute_result"
    }
   ],
   "source": [
    "df_pivot.head()"
   ]
  },
  {
   "cell_type": "code",
   "execution_count": 130,
   "metadata": {},
   "outputs": [],
   "source": [
    "#df_unique_hip_sum_smart = df_unique.query('Тариф == \"smart\" & Общая_сумма > 500 & Общая_сумма < 20000')\n",
    "#df_unique_hip_sum_ultra = df_unique.query('Тариф == \"ultra\" & Общая_сумма > 1950 & Общая_сумма < 35000')"
   ]
  },
  {
   "cell_type": "code",
   "execution_count": 131,
   "metadata": {},
   "outputs": [],
   "source": [
    "df_unique_hip_sum_smart = df_unique.query('Тариф == \"smart\"')\n",
    "df_unique_hip_sum_ultra = df_unique.query('Тариф == \"ultra\"')"
   ]
  },
  {
   "cell_type": "code",
   "execution_count": 132,
   "metadata": {},
   "outputs": [
    {
     "name": "stdout",
     "output_type": "stream",
     "text": [
      "p-значение: 5.757827537658176e-16\n",
      "We reject the null hypothesis\n"
     ]
    }
   ],
   "source": [
    "from scipy import stats as st\n",
    "alpha = .05\n",
    "results = st.ttest_ind(\n",
    "    df_unique_hip_sum_smart['Общая_сумма'], \n",
    "    df_unique_hip_sum_ultra['Общая_сумма'], equal_var = False)\n",
    "\n",
    "print('p-значение:', results.pvalue)\n",
    "\n",
    "if (results.pvalue < alpha):\n",
    "    print(\"We reject the null hypothesis\")\n",
    "else:\n",
    "    print(\"It was not possible to reject the null hypothesis\") "
   ]
  },
  {
   "cell_type": "code",
   "execution_count": 133,
   "metadata": {},
   "outputs": [
    {
     "data": {
      "text/plain": [
       "[29429690.61603766, 47227082.184225045]"
      ]
     },
     "execution_count": 133,
     "metadata": {},
     "output_type": "execute_result"
    }
   ],
   "source": [
    "[np.var(x, ddof=1) for x in [df_unique_hip_sum_smart['Общая_сумма'],df_unique_hip_sum_ultra['Общая_сумма']]]"
   ]
  },
  {
   "cell_type": "code",
   "execution_count": 134,
   "metadata": {},
   "outputs": [
    {
     "data": {
      "text/plain": [
       "1.0386083597870343e-05"
      ]
     },
     "execution_count": 134,
     "metadata": {},
     "output_type": "execute_result"
    }
   ],
   "source": [
    "from scipy.stats import levene\n",
    "stat, p = levene(df_unique_hip_sum_smart['Общая_сумма'],df_unique_hip_sum_ultra['Общая_сумма'])\n",
    "p"
   ]
  },
  {
   "cell_type": "markdown",
   "metadata": {},
   "source": [
    "The hypothesis put forward in the task condition was confirmed:  \n",
    "- The expenses of subscribers of the **Smart** and **Ultra** tariffs differ  \n",
    "- Subscribers with the **Smart** tariff spend less than the operator's customers who chose the **Ultra tariff**  \n",
    "  \n",
    "This is expected, since the cost of the **Ultra** tariff is three times higher than the cost of services under the **Smart tariff**  \n",
    "Even though users of the **Smart** tariff often go beyond prepaid services.  \n",
    "The data obtained from the results of hypothesis testing can also be confirmed by a simple comparison of average values:"
   ]
  },
  {
   "cell_type": "code",
   "execution_count": 135,
   "metadata": {},
   "outputs": [
    {
     "name": "stdout",
     "output_type": "stream",
     "text": [
      "Average revenue of the Smart tariff - 8245.00\n",
      "Average revenue of the Ultra tariff - 13783.78\n"
     ]
    }
   ],
   "source": [
    "print('Average revenue of the Smart tariff - {:.2f}'.format(df_unique_hip_sum_smart['Общая_сумма'].mean()))\n",
    "print('Average revenue of the Ultra tariff - {:.2f}'.format(df_unique_hip_sum_ultra['Общая_сумма'].mean()))"
   ]
  },
  {
   "cell_type": "markdown",
   "metadata": {},
   "source": [
    "### 5.2. Hypothesis - the average revenue of users from Moscow differs from the revenue of users from other regions <a name=\"paragraph5_2\"></a>"
   ]
  },
  {
   "cell_type": "markdown",
   "metadata": {},
   "source": [
    "To begin with, we will filter the data by residents of the cities of Russia and Moscow and save them in different tables:"
   ]
  },
  {
   "cell_type": "code",
   "execution_count": 136,
   "metadata": {},
   "outputs": [],
   "source": [
    "df_unique_moscow = df_unique.query('Город == \"Москва\"')\n",
    "df_unique_cities = df_unique.query('Город != \"Москва\"')"
   ]
  },
  {
   "cell_type": "markdown",
   "metadata": {},
   "source": [
    "Let's put forward the null and alternative hypotheses:  \n",
    "- **H0 (Null hypothesis)** - the average revenue of users from Moscow is equal to the revenue of users from other regions;  \n",
    "- **H1 (Alternative hypothesis)** - the average revenue of users from Moscow differs from the revenue of users from other regions;  \n",
    "Also, as in the previous case, **H0** was chosen precisely about the equality of revenue, since when comparing independent samples, it is necessary to confirm or refute the equality of data."
   ]
  },
  {
   "cell_type": "markdown",
   "metadata": {},
   "source": [
    "Let's see if there are emissions and get rid of them:"
   ]
  },
  {
   "cell_type": "code",
   "execution_count": 137,
   "metadata": {},
   "outputs": [
    {
     "data": {
      "text/html": [
       "<div>\n",
       "<style scoped>\n",
       "    .dataframe tbody tr th:only-of-type {\n",
       "        vertical-align: middle;\n",
       "    }\n",
       "\n",
       "    .dataframe tbody tr th {\n",
       "        vertical-align: top;\n",
       "    }\n",
       "\n",
       "    .dataframe thead th {\n",
       "        text-align: right;\n",
       "    }\n",
       "</style>\n",
       "<table border=\"1\" class=\"dataframe\">\n",
       "  <thead>\n",
       "    <tr style=\"text-align: right;\">\n",
       "      <th></th>\n",
       "      <th>User_id</th>\n",
       "      <th>Тариф</th>\n",
       "      <th>Город</th>\n",
       "      <th>Месяц</th>\n",
       "      <th>Кол-во звонков, шт</th>\n",
       "      <th>Звонки, мин</th>\n",
       "      <th>СМС, шт</th>\n",
       "      <th>Интернет, Мб</th>\n",
       "      <th>Аб. плата</th>\n",
       "      <th>Минуты_Extra</th>\n",
       "      <th>СМС_Extra</th>\n",
       "      <th>Мб_Extra</th>\n",
       "      <th>Плата сверх лимита, руб.</th>\n",
       "      <th>Переплата</th>\n",
       "      <th>Общая_сумма</th>\n",
       "    </tr>\n",
       "  </thead>\n",
       "  <tbody>\n",
       "    <tr>\n",
       "      <td>0</td>\n",
       "      <td>1000</td>\n",
       "      <td>ultra</td>\n",
       "      <td>Краснодар</td>\n",
       "      <td>68</td>\n",
       "      <td>293.0</td>\n",
       "      <td>2566.0</td>\n",
       "      <td>496.0</td>\n",
       "      <td>107492.0</td>\n",
       "      <td>15600</td>\n",
       "      <td>0.0</td>\n",
       "      <td>0</td>\n",
       "      <td>0.0</td>\n",
       "      <td>0</td>\n",
       "      <td>0</td>\n",
       "      <td>15600</td>\n",
       "    </tr>\n",
       "    <tr>\n",
       "      <td>1</td>\n",
       "      <td>1001</td>\n",
       "      <td>smart</td>\n",
       "      <td>Москва</td>\n",
       "      <td>23</td>\n",
       "      <td>92.0</td>\n",
       "      <td>844.0</td>\n",
       "      <td>0.0</td>\n",
       "      <td>32505.0</td>\n",
       "      <td>1100</td>\n",
       "      <td>0.0</td>\n",
       "      <td>0</td>\n",
       "      <td>3092.0</td>\n",
       "      <td>800</td>\n",
       "      <td>1</td>\n",
       "      <td>1900</td>\n",
       "    </tr>\n",
       "    <tr>\n",
       "      <td>2</td>\n",
       "      <td>1002</td>\n",
       "      <td>smart</td>\n",
       "      <td>Стерлитамак</td>\n",
       "      <td>63</td>\n",
       "      <td>173.0</td>\n",
       "      <td>1517.0</td>\n",
       "      <td>70.0</td>\n",
       "      <td>116183.0</td>\n",
       "      <td>3850</td>\n",
       "      <td>0.0</td>\n",
       "      <td>0</td>\n",
       "      <td>14607.0</td>\n",
       "      <td>3400</td>\n",
       "      <td>1</td>\n",
       "      <td>7250</td>\n",
       "    </tr>\n",
       "    <tr>\n",
       "      <td>3</td>\n",
       "      <td>1003</td>\n",
       "      <td>ultra</td>\n",
       "      <td>Москва</td>\n",
       "      <td>50</td>\n",
       "      <td>428.0</td>\n",
       "      <td>3822.0</td>\n",
       "      <td>380.0</td>\n",
       "      <td>57329.0</td>\n",
       "      <td>9750</td>\n",
       "      <td>0.0</td>\n",
       "      <td>0</td>\n",
       "      <td>0.0</td>\n",
       "      <td>0</td>\n",
       "      <td>0</td>\n",
       "      <td>9750</td>\n",
       "    </tr>\n",
       "    <tr>\n",
       "      <td>4</td>\n",
       "      <td>1004</td>\n",
       "      <td>ultra</td>\n",
       "      <td>Новокузнецк</td>\n",
       "      <td>68</td>\n",
       "      <td>139.0</td>\n",
       "      <td>987.0</td>\n",
       "      <td>1192.0</td>\n",
       "      <td>149172.0</td>\n",
       "      <td>15600</td>\n",
       "      <td>0.0</td>\n",
       "      <td>0</td>\n",
       "      <td>0.0</td>\n",
       "      <td>0</td>\n",
       "      <td>0</td>\n",
       "      <td>15600</td>\n",
       "    </tr>\n",
       "  </tbody>\n",
       "</table>\n",
       "</div>"
      ],
      "text/plain": [
       "   User_id  Тариф        Город  Месяц  Кол-во звонков, шт  Звонки, мин  \\\n",
       "0     1000  ultra    Краснодар     68               293.0       2566.0   \n",
       "1     1001  smart       Москва     23                92.0        844.0   \n",
       "2     1002  smart  Стерлитамак     63               173.0       1517.0   \n",
       "3     1003  ultra       Москва     50               428.0       3822.0   \n",
       "4     1004  ultra  Новокузнецк     68               139.0        987.0   \n",
       "\n",
       "   СМС, шт  Интернет, Мб  Аб. плата  Минуты_Extra  СМС_Extra  Мб_Extra  \\\n",
       "0    496.0      107492.0      15600           0.0          0       0.0   \n",
       "1      0.0       32505.0       1100           0.0          0    3092.0   \n",
       "2     70.0      116183.0       3850           0.0          0   14607.0   \n",
       "3    380.0       57329.0       9750           0.0          0       0.0   \n",
       "4   1192.0      149172.0      15600           0.0          0       0.0   \n",
       "\n",
       "   Плата сверх лимита, руб.  Переплата  Общая_сумма  \n",
       "0                         0          0        15600  \n",
       "1                       800          1         1900  \n",
       "2                      3400          1         7250  \n",
       "3                         0          0         9750  \n",
       "4                         0          0        15600  "
      ]
     },
     "execution_count": 137,
     "metadata": {},
     "output_type": "execute_result"
    }
   ],
   "source": [
    "df_unique.head()"
   ]
  },
  {
   "cell_type": "code",
   "execution_count": 138,
   "metadata": {},
   "outputs": [
    {
     "data": {
      "text/plain": [
       "<matplotlib.axes._subplots.AxesSubplot at 0x7fcf3b153450>"
      ]
     },
     "execution_count": 138,
     "metadata": {},
     "output_type": "execute_result"
    },
    {
     "data": {
      "image/png": "[encoded data removed]",
      "text/plain": [
       "<Figure size 432x288 with 1 Axes>"
      ]
     },
     "metadata": {
      "needs_background": "light"
     },
     "output_type": "display_data"
    }
   ],
   "source": [
    "df_unique_moscow.boxplot('Общая_сумма')"
   ]
  },
  {
   "cell_type": "code",
   "execution_count": 139,
   "metadata": {},
   "outputs": [
    {
     "data": {
      "text/plain": [
       "<matplotlib.axes._subplots.AxesSubplot at 0x7fcf3b16fed0>"
      ]
     },
     "execution_count": 139,
     "metadata": {},
     "output_type": "execute_result"
    },
    {
     "data": {
      "image/png": "[encoded data removed]",
      "text/plain": [
       "<Figure size 432x288 with 1 Axes>"
      ]
     },
     "metadata": {
      "needs_background": "light"
     },
     "output_type": "display_data"
    }
   ],
   "source": [
    "df_unique_cities.boxplot('Общая_сумма')"
   ]
  },
  {
   "cell_type": "markdown",
   "metadata": {},
   "source": [
    "Let's get rid of the values:  \n",
    "- values less than 550rubles (minimum fee according to the tariff **Smart**)  \n",
    "- values above 26 000rubles in **Moscow**  \n",
    "- values above 27500rubles in **regions**  "
   ]
  },
  {
   "cell_type": "code",
   "execution_count": 140,
   "metadata": {},
   "outputs": [],
   "source": [
    "#df_unique_cities_filter = df_unique_cities.query('Общая_сумма > 550 & Общая_сумма < 27500')\n",
    "#df_unique_moscow_filter = df_unique_moscow.query('Общая_сумма > 550 & Общая_сумма < 26000')"
   ]
  },
  {
   "cell_type": "code",
   "execution_count": 141,
   "metadata": {},
   "outputs": [
    {
     "name": "stdout",
     "output_type": "stream",
     "text": [
      "p-value: 0.5901203921199348\n",
      "It was not possible to reject the null hypothesis\n"
     ]
    }
   ],
   "source": [
    "from scipy import stats as st\n",
    "alpha = .05\n",
    "results = st.ttest_ind(\n",
    "    df_unique_cities['Общая_сумма'], \n",
    "    df_unique_moscow['Общая_сумма'], equal_var = False)\n",
    "\n",
    "print('p-value:', results.pvalue)\n",
    "\n",
    "if (results.pvalue < alpha):\n",
    "    print(\"We reject the null hypothesis\")\n",
    "else:\n",
    "    print(\"It was not possible to reject the null hypothesis\") "
   ]
  },
  {
   "cell_type": "markdown",
   "metadata": {},
   "source": [
    "Let's compare the conclusions with the average revenue data:"
   ]
  },
  {
   "cell_type": "code",
   "execution_count": 142,
   "metadata": {},
   "outputs": [
    {
     "name": "stdout",
     "output_type": "stream",
     "text": [
      "average revenue in regions 9970.448621553885\n",
      "average revenue in Moscow 9571.131313131313\n"
     ]
    }
   ],
   "source": [
    "print('average revenue in regions', df_unique_cities['Общая_сумма'].mean())\n",
    "print('average revenue in Moscow', df_unique_moscow['Общая_сумма'].mean())"
   ]
  },
  {
   "cell_type": "markdown",
   "metadata": {},
   "source": [
    "Considering that this is data on average revenue from a subscriber for the entire period of time, the difference in average revenue of 509 rubles fits well into the statistical error and can be considered insignificant."
   ]
  },
  {
   "cell_type": "markdown",
   "metadata": {},
   "source": [
    "The hypothesis put forward in the task condition turned out to be ** not true**.  \n",
    "Muscovites and residents of other Russian cities spend money on cellular communications and mobile Internet in approximately the same way."
   ]
  },
  {
   "cell_type": "markdown",
   "metadata": {},
   "source": [
    "## 6. General conclusion <a name=\"paragraph6\"></a>"
   ]
  },
  {
   "cell_type": "markdown",
   "metadata": {},
   "source": [
    "#### We will output general and average data on user expenses and overpayments:"
   ]
  },
  {
   "cell_type": "code",
   "execution_count": 143,
   "metadata": {},
   "outputs": [],
   "source": [
    "df_pivot['Общие расходы'] = df_pivot['Аб. плата'] + df_pivot['Плата сверх лимита, руб.']"
   ]
  },
  {
   "cell_type": "code",
   "execution_count": 144,
   "metadata": {},
   "outputs": [],
   "source": [
    "df_pivot_mean = df_pivot.pivot_table(index = 'Тариф', values = ['Аб. плата', 'Звонки, мин', 'СМС, шт', 'Интернет, Мб', 'Минуты_Extra', 'СМС_Extra', 'Мб_Extra', 'Плата сверх лимита, руб.', 'Общие расходы' ], aggfunc = 'mean')\n",
    "df_pivot_mean = df_pivot_mean.reindex(columns = ['Аб. плата', 'Звонки, мин', 'СМС, шт', 'Интернет, Мб', 'Минуты_Extra', 'СМС_Extra', 'Мб_Extra', 'Плата сверх лимита, руб.', 'Общие расходы'])\n",
    "df_pivot_mean = df_pivot_mean.astype('int')"
   ]
  },
  {
   "cell_type": "code",
   "execution_count": 145,
   "metadata": {},
   "outputs": [],
   "source": [
    "df_uniuq_id = df_unique.pivot_table(index = 'Тариф', values = 'User_id', aggfunc = 'count')\n",
    "df_uniuq_sms_extra = df_unique.query('СМС_Extra > 0').pivot_table(index = 'Тариф', values = 'СМС_Extra', aggfunc = 'count')\n",
    "df_uniuq_sms_extra = df_uniuq_sms_extra.rename({'СМС_Extra': 'Превысили лимит СМС'}, axis=1)\n",
    "df_uniuq_min_extra = df_unique.query('Минуты_Extra > 0').pivot_table(index = 'Тариф', values = 'Минуты_Extra', aggfunc = 'count')\n",
    "df_uniuq_min_extra = df_uniuq_min_extra.rename({'Минуты_Extra': 'Превысили лимит Минут'}, axis=1)\n",
    "df_uniuq_traf_extra = df_unique.query('Мб_Extra > 0').pivot_table(index = 'Тариф', values = 'Мб_Extra', aggfunc = 'count')\n",
    "df_uniuq_traf_extra = df_uniuq_traf_extra.rename({'Мб_Extra': 'Превысили лимит Трафика'}, axis=1)\n"
   ]
  },
  {
   "cell_type": "code",
   "execution_count": 146,
   "metadata": {
    "scrolled": true
   },
   "outputs": [],
   "source": [
    "df_final = (pd.concat([df_uniuq_id, df_pivot_mean, df_uniuq_sms_extra, df_uniuq_traf_extra, df_uniuq_min_extra], sort=True, axis = 1)\n",
    ".rename({'User_id': 'Всего абонентов', 'Звонки, мин': 'Минуты, ср', 'СМС, шт': 'СМС, ср', 'Интернет, Мб': 'Трафик,ср', 'Минуты_Extra':'Перерасход минут, ср', 'СМС_Extra': 'Перерасход СМС, ср', 'Мб_Extra': 'Перерасход трафика, ср', 'Плата сверх лимита, руб.': 'Переплата, ср', 'Общие расходы': 'Общие расходы, ср'}, axis = 1)\n",
    ".fillna(0).astype('int')\n",
    "           )"
   ]
  },
  {
   "cell_type": "code",
   "execution_count": null,
   "metadata": {},
   "outputs": [],
   "source": []
  },
  {
   "cell_type": "markdown",
   "metadata": {},
   "source": [
    "### Summary table on average user expenses of MEGALINE operator tariffs"
   ]
  },
  {
   "cell_type": "code",
   "execution_count": 147,
   "metadata": {},
   "outputs": [
    {
     "data": {
      "text/html": [
       "<div>\n",
       "<style scoped>\n",
       "    .dataframe tbody tr th:only-of-type {\n",
       "        vertical-align: middle;\n",
       "    }\n",
       "\n",
       "    .dataframe tbody tr th {\n",
       "        vertical-align: top;\n",
       "    }\n",
       "\n",
       "    .dataframe thead th {\n",
       "        text-align: right;\n",
       "    }\n",
       "</style>\n",
       "<table border=\"1\" class=\"dataframe\">\n",
       "  <thead>\n",
       "    <tr style=\"text-align: right;\">\n",
       "      <th></th>\n",
       "      <th>Всего абонентов</th>\n",
       "      <th>Аб. плата</th>\n",
       "      <th>Минуты, ср</th>\n",
       "      <th>СМС, ср</th>\n",
       "      <th>Трафик,ср</th>\n",
       "      <th>Перерасход минут, ср</th>\n",
       "      <th>Перерасход СМС, ср</th>\n",
       "      <th>Перерасход трафика, ср</th>\n",
       "      <th>Переплата, ср</th>\n",
       "      <th>Общие расходы, ср</th>\n",
       "      <th>Превысили лимит СМС</th>\n",
       "      <th>Превысили лимит Трафика</th>\n",
       "      <th>Превысили лимит Минут</th>\n",
       "    </tr>\n",
       "  </thead>\n",
       "  <tbody>\n",
       "    <tr>\n",
       "      <td>smart</td>\n",
       "      <td>350</td>\n",
       "      <td>550</td>\n",
       "      <td>417</td>\n",
       "      <td>33</td>\n",
       "      <td>16229</td>\n",
       "      <td>41</td>\n",
       "      <td>5</td>\n",
       "      <td>2770</td>\n",
       "      <td>744</td>\n",
       "      <td>1294</td>\n",
       "      <td>125</td>\n",
       "      <td>312</td>\n",
       "      <td>213</td>\n",
       "    </tr>\n",
       "    <tr>\n",
       "      <td>ultra</td>\n",
       "      <td>148</td>\n",
       "      <td>1950</td>\n",
       "      <td>526</td>\n",
       "      <td>49</td>\n",
       "      <td>19486</td>\n",
       "      <td>0</td>\n",
       "      <td>0</td>\n",
       "      <td>754</td>\n",
       "      <td>121</td>\n",
       "      <td>2071</td>\n",
       "      <td>0</td>\n",
       "      <td>43</td>\n",
       "      <td>0</td>\n",
       "    </tr>\n",
       "  </tbody>\n",
       "</table>\n",
       "</div>"
      ],
      "text/plain": [
       "       Всего абонентов  Аб. плата  Минуты, ср  СМС, ср  Трафик,ср  \\\n",
       "smart              350        550         417       33      16229   \n",
       "ultra              148       1950         526       49      19486   \n",
       "\n",
       "       Перерасход минут, ср  Перерасход СМС, ср  Перерасход трафика, ср  \\\n",
       "smart                    41                   5                    2770   \n",
       "ultra                     0                   0                     754   \n",
       "\n",
       "       Переплата, ср  Общие расходы, ср  Превысили лимит СМС  \\\n",
       "smart            744               1294                  125   \n",
       "ultra            121               2071                    0   \n",
       "\n",
       "       Превысили лимит Трафика  Превысили лимит Минут  \n",
       "smart                      312                    213  \n",
       "ultra                       43                      0  "
      ]
     },
     "execution_count": 147,
     "metadata": {},
     "output_type": "execute_result"
    }
   ],
   "source": [
    "df_final"
   ]
  },
  {
   "cell_type": "markdown",
   "metadata": {},
   "source": [
    "### Histogram of profitability of Smart and Ultra tariffs of MEGALINE operator"
   ]
  },
  {
   "cell_type": "code",
   "execution_count": 148,
   "metadata": {},
   "outputs": [
    {
     "data": {
      "image/png": "[encoded data removed]",
      "text/plain": [
       "<Figure size 1440x360 with 1 Axes>"
      ]
     },
     "metadata": {},
     "output_type": "display_data"
    }
   ],
   "source": [
    "all_revenue = df_pivot['Общие расходы'].sum()\n",
    "\n",
    "def func_pct(pct):\n",
    "    value = float(pct/100.*all_revenue)\n",
    "    return \"{:.2f}%\\n({:,.0f} руб.)\".format(pct, value)\n",
    "\n",
    "explode = (0.05, 0)  # сектор 'ultra' немного выдвинем\n",
    "\n",
    "axes = df_pivot.groupby('Тариф')['Общие расходы'].sum().plot(kind='pie', subplots=True, fontsize=15,\n",
    "                                                                     use_index=False, shadow=True, explode=explode,\n",
    "                                                                     title = 'Выручка', pctdistance=0.45,\n",
    "                                                                     startangle=20, figsize=(20,5),\n",
    "                                                                     autopct=lambda pct: func_pct(pct))\n",
    "\n",
    "for ax in axes:\n",
    "    ax.legend(['Смарт', 'Ультра'], bbox_to_anchor=(0.87,0.87), framealpha=0.2, prop={'size':12})\n",
    "    ax.set_ylabel('')"
   ]
  },
  {
   "cell_type": "markdown",
   "metadata": {},
   "source": [
    "In the **Smart** tariff, most subscribers exceed the minutes limit and, with a few exceptions, exceed the traffic limit. They rarely go beyond the SMS limit.  \n",
    "On average, users of the **Smart** tariff do not have enough:  \n",
    "- 2.7GB of traffic (almost 270% of the limit)  \n",
    "- 41 minutes  \n",
    "- 5 SMS  \n",
    "Accordingly, subscribers of the **Smart** tariff overpay an average of 739 rubles, which exceeds the subscription fee for the tariff.  \n",
    "  \n",
    "In the **Ultra** tariff, most of the users fit into the tariff framework. Only 43 subscribers have an average traffic overrun of 750Mb  \n",
    "Average expenses of subscribers **Ultra**:  \n",
    "- 19.5GB of traffic  \n",
    "- 526 minutes of conversation  \n",
    "  \n",
    "Despite the fact that the **Ultra** tariff is used by a much smaller number of users than the **Smart** tariff, **Ultra** brings the operator slightly less revenue than the **Smart tariff**  \n",
    "  \n",
    "**Output:**  \n",
    "1. Users of the **Smart** tariff are willing to spend more money in order to stay online.  \n",
    "The operator should think about developing a tariff for active Internet users, otherwise he faces the possibility of losing these customers.  \n",
    "I would suggest increasing the amount of redeemable traffic to 4GB without increasing the limit on minutes and SMS.\n",
    "And the amount of the subscription fee should be increased to 990 rubles (in order not to go beyond the psychological barrier of 1000).  \n",
    "This will allow users to always stay in touch and save money, and the operator will not lose customers and avoid additional costs (due to overspending minutes in the **Smart** tariff and saving on users of the **Ultra** tariff).  \n",
    "2. Users of the **Ultra** tariff do not use prepaid minutes and traffic.  \n",
    "For them, you can create a tariff with fewer minutes and traffic, with a moderate discount  \n",
    "Or offer them a refund of the saved services with bonuses.  \n",
    "3. An alternative solution for users of both tariffs may be to create a tariff with a *slider* that can be moved between minutes and traffic"
   ]
  },
  {
   "cell_type": "code",
   "execution_count": null,
   "metadata": {},
   "outputs": [],
   "source": []
  }
 ],
 "metadata": {
  "ExecuteTimeLog": [
   {
    "duration": 343,
    "start_time": "2021-07-29T04:50:49.560Z"
   },
   {
    "duration": 127,
    "start_time": "2021-07-29T04:50:57.519Z"
   },
   {
    "duration": -6595,
    "start_time": "2021-07-29T04:51:04.245Z"
   },
   {
    "duration": -6607,
    "start_time": "2021-07-29T04:51:04.258Z"
   },
   {
    "duration": -6620,
    "start_time": "2021-07-29T04:51:04.274Z"
   },
   {
    "duration": -6632,
    "start_time": "2021-07-29T04:51:04.288Z"
   },
   {
    "duration": -6643,
    "start_time": "2021-07-29T04:51:04.301Z"
   },
   {
    "duration": 5,
    "start_time": "2021-07-29T04:50:57.688Z"
   },
   {
    "duration": 282,
    "start_time": "2021-07-29T04:50:57.717Z"
   },
   {
    "duration": -6403,
    "start_time": "2021-07-29T04:51:04.405Z"
   },
   {
    "duration": -6412,
    "start_time": "2021-07-29T04:51:04.415Z"
   },
   {
    "duration": -6422,
    "start_time": "2021-07-29T04:51:04.426Z"
   },
   {
    "duration": -6429,
    "start_time": "2021-07-29T04:51:04.435Z"
   },
   {
    "duration": -6439,
    "start_time": "2021-07-29T04:51:04.446Z"
   },
   {
    "duration": -6446,
    "start_time": "2021-07-29T04:51:04.454Z"
   },
   {
    "duration": -6457,
    "start_time": "2021-07-29T04:51:04.466Z"
   },
   {
    "duration": -6526,
    "start_time": "2021-07-29T04:51:04.537Z"
   },
   {
    "duration": 299,
    "start_time": "2021-07-29T04:50:58.018Z"
   },
   {
    "duration": -6259,
    "start_time": "2021-07-29T04:51:04.579Z"
   },
   {
    "duration": -6270,
    "start_time": "2021-07-29T04:51:04.592Z"
   },
   {
    "duration": -6279,
    "start_time": "2021-07-29T04:51:04.602Z"
   },
   {
    "duration": -6287,
    "start_time": "2021-07-29T04:51:04.612Z"
   },
   {
    "duration": -6341,
    "start_time": "2021-07-29T04:51:04.668Z"
   },
   {
    "duration": -6349,
    "start_time": "2021-07-29T04:51:04.678Z"
   },
   {
    "duration": -6357,
    "start_time": "2021-07-29T04:51:04.687Z"
   },
   {
    "duration": -6365,
    "start_time": "2021-07-29T04:51:04.697Z"
   },
   {
    "duration": -6373,
    "start_time": "2021-07-29T04:51:04.708Z"
   },
   {
    "duration": -6386,
    "start_time": "2021-07-29T04:51:04.722Z"
   },
   {
    "duration": -6396,
    "start_time": "2021-07-29T04:51:04.734Z"
   },
   {
    "duration": 313,
    "start_time": "2021-07-29T04:50:58.340Z"
   },
   {
    "duration": -6167,
    "start_time": "2021-07-29T04:51:04.824Z"
   },
   {
    "duration": -6180,
    "start_time": "2021-07-29T04:51:04.839Z"
   },
   {
    "duration": -6193,
    "start_time": "2021-07-29T04:51:04.854Z"
   },
   {
    "duration": -6205,
    "start_time": "2021-07-29T04:51:04.867Z"
   },
   {
    "duration": -6217,
    "start_time": "2021-07-29T04:51:04.881Z"
   },
   {
    "duration": -6230,
    "start_time": "2021-07-29T04:51:04.895Z"
   },
   {
    "duration": -6241,
    "start_time": "2021-07-29T04:51:04.908Z"
   },
   {
    "duration": -6272,
    "start_time": "2021-07-29T04:51:04.940Z"
   },
   {
    "duration": -6283,
    "start_time": "2021-07-29T04:51:04.953Z"
   },
   {
    "duration": -6297,
    "start_time": "2021-07-29T04:51:04.968Z"
   },
   {
    "duration": -6308,
    "start_time": "2021-07-29T04:51:04.980Z"
   },
   {
    "duration": -6320,
    "start_time": "2021-07-29T04:51:04.994Z"
   },
   {
    "duration": -6333,
    "start_time": "2021-07-29T04:51:05.008Z"
   },
   {
    "duration": -6345,
    "start_time": "2021-07-29T04:51:05.022Z"
   },
   {
    "duration": -6358,
    "start_time": "2021-07-29T04:51:05.036Z"
   },
   {
    "duration": -6386,
    "start_time": "2021-07-29T04:51:05.066Z"
   },
   {
    "duration": -6398,
    "start_time": "2021-07-29T04:51:05.079Z"
   },
   {
    "duration": -6410,
    "start_time": "2021-07-29T04:51:05.092Z"
   },
   {
    "duration": -6418,
    "start_time": "2021-07-29T04:51:05.101Z"
   },
   {
    "duration": -6427,
    "start_time": "2021-07-29T04:51:05.112Z"
   },
   {
    "duration": -6435,
    "start_time": "2021-07-29T04:51:05.121Z"
   },
   {
    "duration": -6442,
    "start_time": "2021-07-29T04:51:05.129Z"
   },
   {
    "duration": -6449,
    "start_time": "2021-07-29T04:51:05.138Z"
   },
   {
    "duration": -6456,
    "start_time": "2021-07-29T04:51:05.146Z"
   },
   {
    "duration": -6464,
    "start_time": "2021-07-29T04:51:05.155Z"
   },
   {
    "duration": -6486,
    "start_time": "2021-07-29T04:51:05.179Z"
   },
   {
    "duration": -6495,
    "start_time": "2021-07-29T04:51:05.189Z"
   },
   {
    "duration": -6505,
    "start_time": "2021-07-29T04:51:05.200Z"
   },
   {
    "duration": -6513,
    "start_time": "2021-07-29T04:51:05.209Z"
   },
   {
    "duration": -6522,
    "start_time": "2021-07-29T04:51:05.219Z"
   },
   {
    "duration": -6529,
    "start_time": "2021-07-29T04:51:05.227Z"
   },
   {
    "duration": -6481,
    "start_time": "2021-07-29T04:51:05.237Z"
   },
   {
    "duration": -6490,
    "start_time": "2021-07-29T04:51:05.247Z"
   },
   {
    "duration": 287,
    "start_time": "2021-07-29T04:50:58.761Z"
   },
   {
    "duration": -6269,
    "start_time": "2021-07-29T04:51:05.321Z"
   },
   {
    "duration": -6279,
    "start_time": "2021-07-29T04:51:05.333Z"
   },
   {
    "duration": -6291,
    "start_time": "2021-07-29T04:51:05.346Z"
   },
   {
    "duration": -6303,
    "start_time": "2021-07-29T04:51:05.359Z"
   },
   {
    "duration": -6315,
    "start_time": "2021-07-29T04:51:05.373Z"
   },
   {
    "duration": -6325,
    "start_time": "2021-07-29T04:51:05.384Z"
   },
   {
    "duration": -6335,
    "start_time": "2021-07-29T04:51:05.395Z"
   },
   {
    "duration": -6379,
    "start_time": "2021-07-29T04:51:05.441Z"
   },
   {
    "duration": -6389,
    "start_time": "2021-07-29T04:51:05.452Z"
   },
   {
    "duration": -6396,
    "start_time": "2021-07-29T04:51:05.461Z"
   },
   {
    "duration": -6406,
    "start_time": "2021-07-29T04:51:05.472Z"
   },
   {
    "duration": -6416,
    "start_time": "2021-07-29T04:51:05.484Z"
   },
   {
    "duration": -6428,
    "start_time": "2021-07-29T04:51:05.497Z"
   },
   {
    "duration": -6441,
    "start_time": "2021-07-29T04:51:05.511Z"
   },
   {
    "duration": -6450,
    "start_time": "2021-07-29T04:51:05.522Z"
   },
   {
    "duration": -6462,
    "start_time": "2021-07-29T04:51:05.535Z"
   },
   {
    "duration": -6488,
    "start_time": "2021-07-29T04:51:05.563Z"
   },
   {
    "duration": -6501,
    "start_time": "2021-07-29T04:51:05.577Z"
   },
   {
    "duration": -6513,
    "start_time": "2021-07-29T04:51:05.590Z"
   },
   {
    "duration": -6524,
    "start_time": "2021-07-29T04:51:05.603Z"
   },
   {
    "duration": -6535,
    "start_time": "2021-07-29T04:51:05.615Z"
   },
   {
    "duration": -6549,
    "start_time": "2021-07-29T04:51:05.630Z"
   },
   {
    "duration": -6558,
    "start_time": "2021-07-29T04:51:05.641Z"
   },
   {
    "duration": -6566,
    "start_time": "2021-07-29T04:51:05.650Z"
   },
   {
    "duration": -6588,
    "start_time": "2021-07-29T04:51:05.674Z"
   },
   {
    "duration": -6600,
    "start_time": "2021-07-29T04:51:05.687Z"
   },
   {
    "duration": -6610,
    "start_time": "2021-07-29T04:51:05.699Z"
   },
   {
    "duration": -6684,
    "start_time": "2021-07-29T04:51:05.774Z"
   },
   {
    "duration": -6701,
    "start_time": "2021-07-29T04:51:05.792Z"
   },
   {
    "duration": -6712,
    "start_time": "2021-07-29T04:51:05.805Z"
   },
   {
    "duration": -6745,
    "start_time": "2021-07-29T04:51:05.839Z"
   },
   {
    "duration": -6781,
    "start_time": "2021-07-29T04:51:05.877Z"
   },
   {
    "duration": -6751,
    "start_time": "2021-07-29T04:51:05.907Z"
   },
   {
    "duration": -6807,
    "start_time": "2021-07-29T04:51:05.964Z"
   },
   {
    "duration": -6819,
    "start_time": "2021-07-29T04:51:05.978Z"
   },
   {
    "duration": -6871,
    "start_time": "2021-07-29T04:51:06.031Z"
   },
   {
    "duration": -6911,
    "start_time": "2021-07-29T04:51:06.073Z"
   },
   {
    "duration": -6945,
    "start_time": "2021-07-29T04:51:06.108Z"
   },
   {
    "duration": -6976,
    "start_time": "2021-07-29T04:51:06.141Z"
   },
   {
    "duration": -7007,
    "start_time": "2021-07-29T04:51:06.173Z"
   },
   {
    "duration": -7039,
    "start_time": "2021-07-29T04:51:06.206Z"
   },
   {
    "duration": -7071,
    "start_time": "2021-07-29T04:51:06.240Z"
   },
   {
    "duration": -7102,
    "start_time": "2021-07-29T04:51:06.272Z"
   },
   {
    "duration": -7135,
    "start_time": "2021-07-29T04:51:06.306Z"
   },
   {
    "duration": -7170,
    "start_time": "2021-07-29T04:51:06.343Z"
   },
   {
    "duration": -7203,
    "start_time": "2021-07-29T04:51:06.377Z"
   },
   {
    "duration": -7237,
    "start_time": "2021-07-29T04:51:06.413Z"
   },
   {
    "duration": -7287,
    "start_time": "2021-07-29T04:51:06.464Z"
   },
   {
    "duration": -7300,
    "start_time": "2021-07-29T04:51:06.478Z"
   },
   {
    "duration": -7362,
    "start_time": "2021-07-29T04:51:06.541Z"
   },
   {
    "duration": -7374,
    "start_time": "2021-07-29T04:51:06.555Z"
   },
   {
    "duration": -7385,
    "start_time": "2021-07-29T04:51:06.567Z"
   },
   {
    "duration": -7425,
    "start_time": "2021-07-29T04:51:06.609Z"
   },
   {
    "duration": -7480,
    "start_time": "2021-07-29T04:51:06.665Z"
   },
   {
    "duration": 272,
    "start_time": "2021-07-29T04:50:59.190Z"
   },
   {
    "duration": -7323,
    "start_time": "2021-07-29T04:51:06.788Z"
   },
   {
    "duration": -7331,
    "start_time": "2021-07-29T04:51:06.798Z"
   },
   {
    "duration": -7358,
    "start_time": "2021-07-29T04:51:06.827Z"
   },
   {
    "duration": -7367,
    "start_time": "2021-07-29T04:51:06.838Z"
   },
   {
    "duration": -7394,
    "start_time": "2021-07-29T04:51:06.866Z"
   },
   {
    "duration": -7421,
    "start_time": "2021-07-29T04:51:06.895Z"
   },
   {
    "duration": -7431,
    "start_time": "2021-07-29T04:51:06.906Z"
   },
   {
    "duration": -7458,
    "start_time": "2021-07-29T04:51:06.935Z"
   },
   {
    "duration": -7486,
    "start_time": "2021-07-29T04:51:06.965Z"
   },
   {
    "duration": -10182,
    "start_time": "2021-07-29T04:51:09.662Z"
   },
   {
    "duration": -10191,
    "start_time": "2021-07-29T04:51:09.673Z"
   },
   {
    "duration": -10244,
    "start_time": "2021-07-29T04:51:09.728Z"
   },
   {
    "duration": -10255,
    "start_time": "2021-07-29T04:51:09.740Z"
   },
   {
    "duration": -10283,
    "start_time": "2021-07-29T04:51:09.769Z"
   },
   {
    "duration": -10309,
    "start_time": "2021-07-29T04:51:09.797Z"
   },
   {
    "duration": -10340,
    "start_time": "2021-07-29T04:51:09.829Z"
   },
   {
    "duration": -10351,
    "start_time": "2021-07-29T04:51:09.842Z"
   },
   {
    "duration": -10382,
    "start_time": "2021-07-29T04:51:09.874Z"
   },
   {
    "duration": -10410,
    "start_time": "2021-07-29T04:51:09.904Z"
   },
   {
    "duration": -10437,
    "start_time": "2021-07-29T04:51:09.932Z"
   },
   {
    "duration": -10467,
    "start_time": "2021-07-29T04:51:09.963Z"
   },
   {
    "duration": -10495,
    "start_time": "2021-07-29T04:51:09.992Z"
   },
   {
    "duration": -10504,
    "start_time": "2021-07-29T04:51:10.003Z"
   },
   {
    "duration": -10471,
    "start_time": "2021-07-29T04:51:10.026Z"
   },
   {
    "duration": -10480,
    "start_time": "2021-07-29T04:51:10.037Z"
   },
   {
    "duration": -10501,
    "start_time": "2021-07-29T04:51:10.060Z"
   },
   {
    "duration": -10510,
    "start_time": "2021-07-29T04:51:10.070Z"
   },
   {
    "duration": -10546,
    "start_time": "2021-07-29T04:51:10.107Z"
   },
   {
    "duration": -10576,
    "start_time": "2021-07-29T04:51:10.139Z"
   },
   {
    "duration": -10606,
    "start_time": "2021-07-29T04:51:10.170Z"
   },
   {
    "duration": 118,
    "start_time": "2021-07-29T04:52:28.322Z"
   },
   {
    "duration": 95,
    "start_time": "2021-07-29T04:52:46.313Z"
   },
   {
    "duration": 92,
    "start_time": "2021-10-10T20:02:48.806Z"
   },
   {
    "duration": 104,
    "start_time": "2021-10-10T20:02:59.892Z"
   },
   {
    "duration": 892,
    "start_time": "2021-10-10T20:04:06.164Z"
   },
   {
    "duration": 925,
    "start_time": "2021-10-10T20:04:17.461Z"
   },
   {
    "duration": 576,
    "start_time": "2021-10-10T20:04:18.401Z"
   },
   {
    "duration": 21,
    "start_time": "2021-10-10T20:04:18.979Z"
   },
   {
    "duration": 24,
    "start_time": "2021-10-10T20:04:19.003Z"
   },
   {
    "duration": 11,
    "start_time": "2021-10-10T20:04:19.029Z"
   },
   {
    "duration": 12,
    "start_time": "2021-10-10T20:04:19.042Z"
   },
   {
    "duration": 5,
    "start_time": "2021-10-10T20:04:19.056Z"
   },
   {
    "duration": 45,
    "start_time": "2021-10-10T20:04:19.064Z"
   },
   {
    "duration": 23,
    "start_time": "2021-10-10T20:04:19.112Z"
   },
   {
    "duration": 17,
    "start_time": "2021-10-10T20:04:19.137Z"
   },
   {
    "duration": 11,
    "start_time": "2021-10-10T20:04:19.156Z"
   },
   {
    "duration": 53,
    "start_time": "2021-10-10T20:04:19.169Z"
   },
   {
    "duration": 1119,
    "start_time": "2021-10-10T20:04:19.225Z"
   },
   {
    "duration": 26,
    "start_time": "2021-10-10T20:04:20.346Z"
   },
   {
    "duration": 30,
    "start_time": "2021-10-10T20:04:20.375Z"
   },
   {
    "duration": 54,
    "start_time": "2021-10-10T20:04:20.407Z"
   },
   {
    "duration": 868,
    "start_time": "2021-10-10T20:04:20.463Z"
   },
   {
    "duration": 628,
    "start_time": "2021-10-10T20:04:20.759Z"
   },
   {
    "duration": 622,
    "start_time": "2021-10-10T20:04:20.767Z"
   },
   {
    "duration": 615,
    "start_time": "2021-10-10T20:04:20.775Z"
   },
   {
    "duration": 609,
    "start_time": "2021-10-10T20:04:20.782Z"
   },
   {
    "duration": 610,
    "start_time": "2021-10-10T20:04:20.790Z"
   },
   {
    "duration": 604,
    "start_time": "2021-10-10T20:04:20.797Z"
   },
   {
    "duration": 599,
    "start_time": "2021-10-10T20:04:20.804Z"
   },
   {
    "duration": 594,
    "start_time": "2021-10-10T20:04:20.810Z"
   },
   {
    "duration": 588,
    "start_time": "2021-10-10T20:04:20.817Z"
   },
   {
    "duration": 583,
    "start_time": "2021-10-10T20:04:20.824Z"
   },
   {
    "duration": 577,
    "start_time": "2021-10-10T20:04:20.831Z"
   },
   {
    "duration": 572,
    "start_time": "2021-10-10T20:04:20.837Z"
   },
   {
    "duration": 553,
    "start_time": "2021-10-10T20:04:20.857Z"
   },
   {
    "duration": 546,
    "start_time": "2021-10-10T20:04:20.866Z"
   },
   {
    "duration": 537,
    "start_time": "2021-10-10T20:04:20.876Z"
   },
   {
    "duration": 528,
    "start_time": "2021-10-10T20:04:20.886Z"
   },
   {
    "duration": 521,
    "start_time": "2021-10-10T20:04:20.894Z"
   },
   {
    "duration": 515,
    "start_time": "2021-10-10T20:04:20.901Z"
   },
   {
    "duration": 510,
    "start_time": "2021-10-10T20:04:20.908Z"
   },
   {
    "duration": 504,
    "start_time": "2021-10-10T20:04:20.915Z"
   },
   {
    "duration": 498,
    "start_time": "2021-10-10T20:04:20.922Z"
   },
   {
    "duration": 493,
    "start_time": "2021-10-10T20:04:20.928Z"
   },
   {
    "duration": 487,
    "start_time": "2021-10-10T20:04:20.936Z"
   },
   {
    "duration": 481,
    "start_time": "2021-10-10T20:04:20.943Z"
   },
   {
    "duration": 474,
    "start_time": "2021-10-10T20:04:20.951Z"
   },
   {
    "duration": 458,
    "start_time": "2021-10-10T20:04:20.968Z"
   },
   {
    "duration": 449,
    "start_time": "2021-10-10T20:04:20.978Z"
   },
   {
    "duration": 443,
    "start_time": "2021-10-10T20:04:20.985Z"
   },
   {
    "duration": 438,
    "start_time": "2021-10-10T20:04:20.992Z"
   },
   {
    "duration": 432,
    "start_time": "2021-10-10T20:04:20.999Z"
   },
   {
    "duration": 426,
    "start_time": "2021-10-10T20:04:21.006Z"
   },
   {
    "duration": 420,
    "start_time": "2021-10-10T20:04:21.013Z"
   },
   {
    "duration": 414,
    "start_time": "2021-10-10T20:04:21.020Z"
   },
   {
    "duration": 408,
    "start_time": "2021-10-10T20:04:21.027Z"
   },
   {
    "duration": 403,
    "start_time": "2021-10-10T20:04:21.034Z"
   },
   {
    "duration": 397,
    "start_time": "2021-10-10T20:04:21.041Z"
   },
   {
    "duration": 389,
    "start_time": "2021-10-10T20:04:21.050Z"
   },
   {
    "duration": 382,
    "start_time": "2021-10-10T20:04:21.058Z"
   },
   {
    "duration": 422,
    "start_time": "2021-10-10T20:04:21.079Z"
   },
   {
    "duration": 415,
    "start_time": "2021-10-10T20:04:21.087Z"
   },
   {
    "duration": 409,
    "start_time": "2021-10-10T20:04:21.095Z"
   },
   {
    "duration": 404,
    "start_time": "2021-10-10T20:04:21.101Z"
   },
   {
    "duration": 279,
    "start_time": "2021-10-10T20:04:21.227Z"
   },
   {
    "duration": 275,
    "start_time": "2021-10-10T20:04:21.233Z"
   },
   {
    "duration": 267,
    "start_time": "2021-10-10T20:04:21.242Z"
   },
   {
    "duration": 261,
    "start_time": "2021-10-10T20:04:21.249Z"
   },
   {
    "duration": 254,
    "start_time": "2021-10-10T20:04:21.257Z"
   },
   {
    "duration": 250,
    "start_time": "2021-10-10T20:04:21.263Z"
   },
   {
    "duration": 242,
    "start_time": "2021-10-10T20:04:21.272Z"
   },
   {
    "duration": 238,
    "start_time": "2021-10-10T20:04:21.278Z"
   },
   {
    "duration": 231,
    "start_time": "2021-10-10T20:04:21.286Z"
   },
   {
    "duration": 122,
    "start_time": "2021-10-10T20:04:21.396Z"
   },
   {
    "duration": 117,
    "start_time": "2021-10-10T20:04:21.403Z"
   },
   {
    "duration": 110,
    "start_time": "2021-10-10T20:04:21.411Z"
   },
   {
    "duration": 8,
    "start_time": "2021-10-10T20:04:21.514Z"
   },
   {
    "duration": 4,
    "start_time": "2021-10-10T20:04:21.520Z"
   },
   {
    "duration": -4,
    "start_time": "2021-10-10T20:04:21.529Z"
   },
   {
    "duration": -10,
    "start_time": "2021-10-10T20:04:21.536Z"
   },
   {
    "duration": -188,
    "start_time": "2021-10-10T20:04:21.716Z"
   },
   {
    "duration": -686,
    "start_time": "2021-10-10T20:04:22.215Z"
   },
   {
    "duration": -876,
    "start_time": "2021-10-10T20:04:22.407Z"
   },
   {
    "duration": -881,
    "start_time": "2021-10-10T20:04:22.413Z"
   },
   {
    "duration": -887,
    "start_time": "2021-10-10T20:04:22.420Z"
   },
   {
    "duration": -893,
    "start_time": "2021-10-10T20:04:22.427Z"
   },
   {
    "duration": -898,
    "start_time": "2021-10-10T20:04:22.434Z"
   },
   {
    "duration": -904,
    "start_time": "2021-10-10T20:04:22.441Z"
   },
   {
    "duration": -1075,
    "start_time": "2021-10-10T20:04:22.613Z"
   },
   {
    "duration": -1081,
    "start_time": "2021-10-10T20:04:22.620Z"
   },
   {
    "duration": -1026,
    "start_time": "2021-10-10T20:04:22.627Z"
   },
   {
    "duration": -1031,
    "start_time": "2021-10-10T20:04:22.633Z"
   },
   {
    "duration": -1045,
    "start_time": "2021-10-10T20:04:22.649Z"
   },
   {
    "duration": -1052,
    "start_time": "2021-10-10T20:04:22.657Z"
   },
   {
    "duration": -1058,
    "start_time": "2021-10-10T20:04:22.664Z"
   },
   {
    "duration": -1063,
    "start_time": "2021-10-10T20:04:22.671Z"
   },
   {
    "duration": -1136,
    "start_time": "2021-10-10T20:04:22.745Z"
   },
   {
    "duration": -1150,
    "start_time": "2021-10-10T20:04:22.760Z"
   },
   {
    "duration": -1156,
    "start_time": "2021-10-10T20:04:22.768Z"
   },
   {
    "duration": -1164,
    "start_time": "2021-10-10T20:04:22.777Z"
   },
   {
    "duration": -1173,
    "start_time": "2021-10-10T20:04:22.788Z"
   },
   {
    "duration": -1256,
    "start_time": "2021-10-10T20:04:22.872Z"
   },
   {
    "duration": -1264,
    "start_time": "2021-10-10T20:04:22.881Z"
   },
   {
    "duration": -1735,
    "start_time": "2021-10-10T20:04:23.354Z"
   },
   {
    "duration": -1820,
    "start_time": "2021-10-10T20:04:23.440Z"
   },
   {
    "duration": -1828,
    "start_time": "2021-10-10T20:04:23.449Z"
   },
   {
    "duration": -1845,
    "start_time": "2021-10-10T20:04:23.468Z"
   },
   {
    "duration": -1854,
    "start_time": "2021-10-10T20:04:23.478Z"
   },
   {
    "duration": -1863,
    "start_time": "2021-10-10T20:04:23.488Z"
   },
   {
    "duration": -1956,
    "start_time": "2021-10-10T20:04:23.583Z"
   },
   {
    "duration": -1964,
    "start_time": "2021-10-10T20:04:23.592Z"
   },
   {
    "duration": -1970,
    "start_time": "2021-10-10T20:04:23.599Z"
   },
   {
    "duration": -1975,
    "start_time": "2021-10-10T20:04:23.606Z"
   },
   {
    "duration": -1980,
    "start_time": "2021-10-10T20:04:23.612Z"
   },
   {
    "duration": -2090,
    "start_time": "2021-10-10T20:04:23.723Z"
   },
   {
    "duration": -2094,
    "start_time": "2021-10-10T20:04:23.729Z"
   },
   {
    "duration": -2101,
    "start_time": "2021-10-10T20:04:23.737Z"
   },
   {
    "duration": -2043,
    "start_time": "2021-10-10T20:04:23.743Z"
   },
   {
    "duration": -2050,
    "start_time": "2021-10-10T20:04:23.752Z"
   },
   {
    "duration": -2095,
    "start_time": "2021-10-10T20:04:23.799Z"
   },
   {
    "duration": -2100,
    "start_time": "2021-10-10T20:04:23.806Z"
   },
   {
    "duration": -2105,
    "start_time": "2021-10-10T20:04:23.812Z"
   },
   {
    "duration": -2119,
    "start_time": "2021-10-10T20:04:23.828Z"
   },
   {
    "duration": -2162,
    "start_time": "2021-10-10T20:04:23.872Z"
   },
   {
    "duration": -2167,
    "start_time": "2021-10-10T20:04:23.879Z"
   },
   {
    "duration": -2173,
    "start_time": "2021-10-10T20:04:23.886Z"
   },
   {
    "duration": -2179,
    "start_time": "2021-10-10T20:04:23.893Z"
   },
   {
    "duration": -2184,
    "start_time": "2021-10-10T20:04:23.900Z"
   },
   {
    "duration": -2190,
    "start_time": "2021-10-10T20:04:23.907Z"
   },
   {
    "duration": -2194,
    "start_time": "2021-10-10T20:04:23.913Z"
   },
   {
    "duration": -2535,
    "start_time": "2021-10-10T20:04:24.255Z"
   },
   {
    "duration": -2606,
    "start_time": "2021-10-10T20:04:24.327Z"
   },
   {
    "duration": -2610,
    "start_time": "2021-10-10T20:04:24.333Z"
   },
   {
    "duration": -2616,
    "start_time": "2021-10-10T20:04:24.340Z"
   },
   {
    "duration": -2621,
    "start_time": "2021-10-10T20:04:24.347Z"
   },
   {
    "duration": -2627,
    "start_time": "2021-10-10T20:04:24.354Z"
   },
   {
    "duration": -2633,
    "start_time": "2021-10-10T20:04:24.361Z"
   },
   {
    "duration": -2637,
    "start_time": "2021-10-10T20:04:24.367Z"
   },
   {
    "duration": -2644,
    "start_time": "2021-10-10T20:04:24.375Z"
   },
   {
    "duration": -2648,
    "start_time": "2021-10-10T20:04:24.381Z"
   },
   {
    "duration": -2654,
    "start_time": "2021-10-10T20:04:24.388Z"
   },
   {
    "duration": -2658,
    "start_time": "2021-10-10T20:04:24.394Z"
   },
   {
    "duration": -2676,
    "start_time": "2021-10-10T20:04:24.413Z"
   },
   {
    "duration": -2621,
    "start_time": "2021-10-10T20:04:24.421Z"
   },
   {
    "duration": -2630,
    "start_time": "2021-10-10T20:04:24.432Z"
   },
   {
    "duration": -2637,
    "start_time": "2021-10-10T20:04:24.440Z"
   },
   {
    "duration": -2643,
    "start_time": "2021-10-10T20:04:24.448Z"
   },
   {
    "duration": -2648,
    "start_time": "2021-10-10T20:04:24.454Z"
   },
   {
    "duration": -2654,
    "start_time": "2021-10-10T20:04:24.461Z"
   },
   {
    "duration": -2659,
    "start_time": "2021-10-10T20:04:24.467Z"
   },
   {
    "duration": -2664,
    "start_time": "2021-10-10T20:04:24.474Z"
   },
   {
    "duration": -2670,
    "start_time": "2021-10-10T20:04:24.481Z"
   },
   {
    "duration": -2677,
    "start_time": "2021-10-10T20:04:24.489Z"
   },
   {
    "duration": 100,
    "start_time": "2021-10-10T20:06:08.427Z"
   },
   {
    "duration": 753,
    "start_time": "2021-10-10T20:06:40.137Z"
   },
   {
    "duration": 511,
    "start_time": "2021-10-10T20:06:48.900Z"
   },
   {
    "duration": 4,
    "start_time": "2021-10-10T20:06:54.700Z"
   },
   {
    "duration": 594,
    "start_time": "2021-10-10T20:06:54.710Z"
   },
   {
    "duration": 16,
    "start_time": "2021-10-10T20:06:55.307Z"
   },
   {
    "duration": 22,
    "start_time": "2021-10-10T20:06:55.325Z"
   },
   {
    "duration": 9,
    "start_time": "2021-10-10T20:06:55.350Z"
   },
   {
    "duration": 10,
    "start_time": "2021-10-10T20:06:55.401Z"
   },
   {
    "duration": 5,
    "start_time": "2021-10-10T20:06:55.413Z"
   },
   {
    "duration": 12,
    "start_time": "2021-10-10T20:06:55.420Z"
   },
   {
    "duration": 18,
    "start_time": "2021-10-10T20:06:55.436Z"
   },
   {
    "duration": 50,
    "start_time": "2021-10-10T20:06:55.457Z"
   },
   {
    "duration": 12,
    "start_time": "2021-10-10T20:06:55.510Z"
   },
   {
    "duration": 30,
    "start_time": "2021-10-10T20:06:55.524Z"
   },
   {
    "duration": 1210,
    "start_time": "2021-10-10T20:06:55.556Z"
   },
   {
    "duration": 32,
    "start_time": "2021-10-10T20:06:56.768Z"
   },
   {
    "duration": 13,
    "start_time": "2021-10-10T20:06:56.802Z"
   },
   {
    "duration": 48,
    "start_time": "2021-10-10T20:06:56.818Z"
   },
   {
    "duration": 648,
    "start_time": "2021-10-10T20:06:56.868Z"
   },
   {
    "duration": 28,
    "start_time": "2021-10-10T20:06:57.518Z"
   },
   {
    "duration": 5,
    "start_time": "2021-10-10T20:06:57.549Z"
   },
   {
    "duration": 46,
    "start_time": "2021-10-10T20:06:57.557Z"
   },
   {
    "duration": 13,
    "start_time": "2021-10-10T20:06:57.605Z"
   },
   {
    "duration": 5,
    "start_time": "2021-10-10T20:06:57.620Z"
   },
   {
    "duration": 9,
    "start_time": "2021-10-10T20:06:57.627Z"
   },
   {
    "duration": 21,
    "start_time": "2021-10-10T20:06:57.642Z"
   },
   {
    "duration": 42,
    "start_time": "2021-10-10T20:06:57.667Z"
   },
   {
    "duration": 22,
    "start_time": "2021-10-10T20:06:57.711Z"
   },
   {
    "duration": 743,
    "start_time": "2021-10-10T20:06:57.736Z"
   },
   {
    "duration": 614,
    "start_time": "2021-10-10T20:06:57.870Z"
   },
   {
    "duration": 607,
    "start_time": "2021-10-10T20:06:57.879Z"
   },
   {
    "duration": 561,
    "start_time": "2021-10-10T20:06:57.926Z"
   },
   {
    "duration": 553,
    "start_time": "2021-10-10T20:06:57.935Z"
   },
   {
    "duration": 559,
    "start_time": "2021-10-10T20:06:57.941Z"
   },
   {
    "duration": 552,
    "start_time": "2021-10-10T20:06:57.949Z"
   },
   {
    "duration": 547,
    "start_time": "2021-10-10T20:06:57.956Z"
   },
   {
    "duration": 540,
    "start_time": "2021-10-10T20:06:57.964Z"
   },
   {
    "duration": 535,
    "start_time": "2021-10-10T20:06:57.971Z"
   },
   {
    "duration": 525,
    "start_time": "2021-10-10T20:06:57.982Z"
   },
   {
    "duration": 520,
    "start_time": "2021-10-10T20:06:57.989Z"
   },
   {
    "duration": 513,
    "start_time": "2021-10-10T20:06:57.997Z"
   },
   {
    "duration": 507,
    "start_time": "2021-10-10T20:06:58.004Z"
   },
   {
    "duration": 501,
    "start_time": "2021-10-10T20:06:58.011Z"
   },
   {
    "duration": 497,
    "start_time": "2021-10-10T20:06:58.017Z"
   },
   {
    "duration": 479,
    "start_time": "2021-10-10T20:06:58.036Z"
   },
   {
    "duration": 473,
    "start_time": "2021-10-10T20:06:58.044Z"
   },
   {
    "duration": 466,
    "start_time": "2021-10-10T20:06:58.052Z"
   },
   {
    "duration": 459,
    "start_time": "2021-10-10T20:06:58.060Z"
   },
   {
    "duration": 453,
    "start_time": "2021-10-10T20:06:58.068Z"
   },
   {
    "duration": 445,
    "start_time": "2021-10-10T20:06:58.077Z"
   },
   {
    "duration": 438,
    "start_time": "2021-10-10T20:06:58.085Z"
   },
   {
    "duration": 433,
    "start_time": "2021-10-10T20:06:58.092Z"
   },
   {
    "duration": 424,
    "start_time": "2021-10-10T20:06:58.102Z"
   },
   {
    "duration": 297,
    "start_time": "2021-10-10T20:06:58.230Z"
   },
   {
    "duration": 288,
    "start_time": "2021-10-10T20:06:58.240Z"
   },
   {
    "duration": -253,
    "start_time": "2021-10-10T20:06:58.783Z"
   },
   {
    "duration": -267,
    "start_time": "2021-10-10T20:06:58.799Z"
   },
   {
    "duration": -275,
    "start_time": "2021-10-10T20:06:58.808Z"
   },
   {
    "duration": -283,
    "start_time": "2021-10-10T20:06:58.817Z"
   },
   {
    "duration": -292,
    "start_time": "2021-10-10T20:06:58.828Z"
   },
   {
    "duration": -301,
    "start_time": "2021-10-10T20:06:58.838Z"
   },
   {
    "duration": -244,
    "start_time": "2021-10-10T20:06:58.844Z"
   },
   {
    "duration": -249,
    "start_time": "2021-10-10T20:06:58.851Z"
   },
   {
    "duration": -255,
    "start_time": "2021-10-10T20:06:58.858Z"
   },
   {
    "duration": -553,
    "start_time": "2021-10-10T20:06:59.158Z"
   },
   {
    "duration": -568,
    "start_time": "2021-10-10T20:06:59.174Z"
   },
   {
    "duration": -574,
    "start_time": "2021-10-10T20:06:59.181Z"
   },
   {
    "duration": -579,
    "start_time": "2021-10-10T20:06:59.188Z"
   },
   {
    "duration": -585,
    "start_time": "2021-10-10T20:06:59.195Z"
   },
   {
    "duration": -589,
    "start_time": "2021-10-10T20:06:59.201Z"
   },
   {
    "duration": -696,
    "start_time": "2021-10-10T20:06:59.309Z"
   },
   {
    "duration": -701,
    "start_time": "2021-10-10T20:06:59.315Z"
   },
   {
    "duration": -708,
    "start_time": "2021-10-10T20:06:59.324Z"
   },
   {
    "duration": -713,
    "start_time": "2021-10-10T20:06:59.330Z"
   },
   {
    "duration": -719,
    "start_time": "2021-10-10T20:06:59.338Z"
   },
   {
    "duration": -725,
    "start_time": "2021-10-10T20:06:59.345Z"
   },
   {
    "duration": -730,
    "start_time": "2021-10-10T20:06:59.352Z"
   },
   {
    "duration": -735,
    "start_time": "2021-10-10T20:06:59.358Z"
   },
   {
    "duration": -831,
    "start_time": "2021-10-10T20:06:59.456Z"
   },
   {
    "duration": -837,
    "start_time": "2021-10-10T20:06:59.463Z"
   },
   {
    "duration": -922,
    "start_time": "2021-10-10T20:06:59.550Z"
   },
   {
    "duration": -935,
    "start_time": "2021-10-10T20:06:59.564Z"
   },
   {
    "duration": -942,
    "start_time": "2021-10-10T20:06:59.573Z"
   },
   {
    "duration": -947,
    "start_time": "2021-10-10T20:06:59.579Z"
   },
   {
    "duration": -951,
    "start_time": "2021-10-10T20:06:59.585Z"
   },
   {
    "duration": -957,
    "start_time": "2021-10-10T20:06:59.592Z"
   },
   {
    "duration": -967,
    "start_time": "2021-10-10T20:06:59.603Z"
   },
   {
    "duration": -974,
    "start_time": "2021-10-10T20:06:59.612Z"
   },
   {
    "duration": -980,
    "start_time": "2021-10-10T20:06:59.619Z"
   },
   {
    "duration": -924,
    "start_time": "2021-10-10T20:06:59.625Z"
   },
   {
    "duration": -1007,
    "start_time": "2021-10-10T20:06:59.709Z"
   },
   {
    "duration": -1156,
    "start_time": "2021-10-10T20:06:59.860Z"
   },
   {
    "duration": -1161,
    "start_time": "2021-10-10T20:06:59.867Z"
   },
   {
    "duration": -1233,
    "start_time": "2021-10-10T20:06:59.940Z"
   },
   {
    "duration": -1239,
    "start_time": "2021-10-10T20:06:59.948Z"
   },
   {
    "duration": -1326,
    "start_time": "2021-10-10T20:07:00.036Z"
   },
   {
    "duration": -1332,
    "start_time": "2021-10-10T20:07:00.044Z"
   },
   {
    "duration": -1337,
    "start_time": "2021-10-10T20:07:00.050Z"
   },
   {
    "duration": -1342,
    "start_time": "2021-10-10T20:07:00.057Z"
   },
   {
    "duration": -1407,
    "start_time": "2021-10-10T20:07:00.123Z"
   },
   {
    "duration": -1413,
    "start_time": "2021-10-10T20:07:00.130Z"
   },
   {
    "duration": -1433,
    "start_time": "2021-10-10T20:07:00.152Z"
   },
   {
    "duration": -1502,
    "start_time": "2021-10-10T20:07:00.222Z"
   },
   {
    "duration": -1506,
    "start_time": "2021-10-10T20:07:00.228Z"
   },
   {
    "duration": -1576,
    "start_time": "2021-10-10T20:07:00.299Z"
   },
   {
    "duration": -1969,
    "start_time": "2021-10-10T20:07:00.694Z"
   },
   {
    "duration": -2417,
    "start_time": "2021-10-10T20:07:01.144Z"
   },
   {
    "duration": -2423,
    "start_time": "2021-10-10T20:07:01.152Z"
   },
   {
    "duration": -2433,
    "start_time": "2021-10-10T20:07:01.164Z"
   },
   {
    "duration": -2442,
    "start_time": "2021-10-10T20:07:01.174Z"
   },
   {
    "duration": -2448,
    "start_time": "2021-10-10T20:07:01.182Z"
   },
   {
    "duration": -2453,
    "start_time": "2021-10-10T20:07:01.189Z"
   },
   {
    "duration": -2458,
    "start_time": "2021-10-10T20:07:01.196Z"
   },
   {
    "duration": -2402,
    "start_time": "2021-10-10T20:07:01.203Z"
   },
   {
    "duration": -2407,
    "start_time": "2021-10-10T20:07:01.210Z"
   },
   {
    "duration": -2410,
    "start_time": "2021-10-10T20:07:01.216Z"
   },
   {
    "duration": -2416,
    "start_time": "2021-10-10T20:07:01.224Z"
   },
   {
    "duration": -2420,
    "start_time": "2021-10-10T20:07:01.229Z"
   },
   {
    "duration": -2426,
    "start_time": "2021-10-10T20:07:01.237Z"
   },
   {
    "duration": -2440,
    "start_time": "2021-10-10T20:07:01.253Z"
   },
   {
    "duration": -2446,
    "start_time": "2021-10-10T20:07:01.260Z"
   },
   {
    "duration": -2450,
    "start_time": "2021-10-10T20:07:01.267Z"
   },
   {
    "duration": -2456,
    "start_time": "2021-10-10T20:07:01.274Z"
   },
   {
    "duration": -2461,
    "start_time": "2021-10-10T20:07:01.281Z"
   },
   {
    "duration": -2467,
    "start_time": "2021-10-10T20:07:01.288Z"
   },
   {
    "duration": -2472,
    "start_time": "2021-10-10T20:07:01.294Z"
   },
   {
    "duration": -2479,
    "start_time": "2021-10-10T20:07:01.303Z"
   },
   {
    "duration": -2485,
    "start_time": "2021-10-10T20:07:01.310Z"
   },
   {
    "duration": -2490,
    "start_time": "2021-10-10T20:07:01.316Z"
   },
   {
    "duration": -2496,
    "start_time": "2021-10-10T20:07:01.323Z"
   },
   {
    "duration": -2501,
    "start_time": "2021-10-10T20:07:01.329Z"
   },
   {
    "duration": -2507,
    "start_time": "2021-10-10T20:07:01.337Z"
   },
   {
    "duration": -2514,
    "start_time": "2021-10-10T20:07:01.345Z"
   },
   {
    "duration": -2528,
    "start_time": "2021-10-10T20:07:01.360Z"
   },
   {
    "duration": -2534,
    "start_time": "2021-10-10T20:07:01.367Z"
   },
   {
    "duration": -2579,
    "start_time": "2021-10-10T20:07:01.414Z"
   },
   {
    "duration": -2586,
    "start_time": "2021-10-10T20:07:01.422Z"
   },
   {
    "duration": -2590,
    "start_time": "2021-10-10T20:07:01.427Z"
   },
   {
    "duration": -2596,
    "start_time": "2021-10-10T20:07:01.435Z"
   },
   {
    "duration": -2541,
    "start_time": "2021-10-10T20:07:01.442Z"
   },
   {
    "duration": -2546,
    "start_time": "2021-10-10T20:07:01.448Z"
   },
   {
    "duration": -2552,
    "start_time": "2021-10-10T20:07:01.455Z"
   },
   {
    "duration": -2567,
    "start_time": "2021-10-10T20:07:01.472Z"
   },
   {
    "duration": -2572,
    "start_time": "2021-10-10T20:07:01.478Z"
   },
   {
    "duration": -2578,
    "start_time": "2021-10-10T20:07:01.485Z"
   },
   {
    "duration": -2584,
    "start_time": "2021-10-10T20:07:01.492Z"
   },
   {
    "duration": -2588,
    "start_time": "2021-10-10T20:07:01.498Z"
   },
   {
    "duration": -2594,
    "start_time": "2021-10-10T20:07:01.505Z"
   },
   {
    "duration": -2600,
    "start_time": "2021-10-10T20:07:01.512Z"
   },
   {
    "duration": -2606,
    "start_time": "2021-10-10T20:07:01.520Z"
   },
   {
    "duration": 3,
    "start_time": "2021-10-10T20:10:53.762Z"
   },
   {
    "duration": 590,
    "start_time": "2021-10-10T20:10:53.772Z"
   },
   {
    "duration": 17,
    "start_time": "2021-10-10T20:10:54.365Z"
   },
   {
    "duration": 32,
    "start_time": "2021-10-10T20:10:54.385Z"
   },
   {
    "duration": 9,
    "start_time": "2021-10-10T20:10:54.419Z"
   },
   {
    "duration": 11,
    "start_time": "2021-10-10T20:10:54.430Z"
   },
   {
    "duration": 5,
    "start_time": "2021-10-10T20:10:54.443Z"
   },
   {
    "duration": 53,
    "start_time": "2021-10-10T20:10:54.450Z"
   },
   {
    "duration": 23,
    "start_time": "2021-10-10T20:10:54.507Z"
   },
   {
    "duration": 12,
    "start_time": "2021-10-10T20:10:54.533Z"
   },
   {
    "duration": 52,
    "start_time": "2021-10-10T20:10:54.548Z"
   },
   {
    "duration": 31,
    "start_time": "2021-10-10T20:10:54.604Z"
   },
   {
    "duration": 1299,
    "start_time": "2021-10-10T20:10:54.638Z"
   },
   {
    "duration": 23,
    "start_time": "2021-10-10T20:10:55.940Z"
   },
   {
    "duration": 12,
    "start_time": "2021-10-10T20:10:55.965Z"
   },
   {
    "duration": 66,
    "start_time": "2021-10-10T20:10:55.980Z"
   },
   {
    "duration": 540,
    "start_time": "2021-10-10T20:10:56.048Z"
   },
   {
    "duration": 31,
    "start_time": "2021-10-10T20:10:56.590Z"
   },
   {
    "duration": 5,
    "start_time": "2021-10-10T20:10:56.623Z"
   },
   {
    "duration": 26,
    "start_time": "2021-10-10T20:10:56.630Z"
   },
   {
    "duration": 11,
    "start_time": "2021-10-10T20:10:56.659Z"
   },
   {
    "duration": 32,
    "start_time": "2021-10-10T20:10:56.672Z"
   },
   {
    "duration": 12,
    "start_time": "2021-10-10T20:10:56.706Z"
   },
   {
    "duration": 21,
    "start_time": "2021-10-10T20:10:56.724Z"
   },
   {
    "duration": 12,
    "start_time": "2021-10-10T20:10:56.749Z"
   },
   {
    "duration": 39,
    "start_time": "2021-10-10T20:10:56.764Z"
   },
   {
    "duration": 470,
    "start_time": "2021-10-10T20:10:56.805Z"
   },
   {
    "duration": 22,
    "start_time": "2021-10-10T20:10:57.278Z"
   },
   {
    "duration": 19,
    "start_time": "2021-10-10T20:10:57.303Z"
   },
   {
    "duration": 693,
    "start_time": "2021-10-10T20:10:57.325Z"
   },
   {
    "duration": 12,
    "start_time": "2021-10-10T20:10:58.020Z"
   },
   {
    "duration": 38,
    "start_time": "2021-10-10T20:10:58.034Z"
   },
   {
    "duration": 11,
    "start_time": "2021-10-10T20:10:58.075Z"
   },
   {
    "duration": 38,
    "start_time": "2021-10-10T20:10:58.088Z"
   },
   {
    "duration": 850,
    "start_time": "2021-10-10T20:10:58.129Z"
   },
   {
    "duration": 32,
    "start_time": "2021-10-10T20:10:58.982Z"
   },
   {
    "duration": 26,
    "start_time": "2021-10-10T20:10:59.016Z"
   },
   {
    "duration": 26,
    "start_time": "2021-10-10T20:10:59.044Z"
   },
   {
    "duration": 37,
    "start_time": "2021-10-10T20:10:59.073Z"
   },
   {
    "duration": 5,
    "start_time": "2021-10-10T20:10:59.112Z"
   },
   {
    "duration": 479,
    "start_time": "2021-10-10T20:10:59.119Z"
   },
   {
    "duration": 12,
    "start_time": "2021-10-10T20:10:59.601Z"
   },
   {
    "duration": 24,
    "start_time": "2021-10-10T20:10:59.616Z"
   },
   {
    "duration": 100,
    "start_time": "2021-10-10T20:10:59.643Z"
   },
   {
    "duration": 60,
    "start_time": "2021-10-10T20:10:59.745Z"
   },
   {
    "duration": 22,
    "start_time": "2021-10-10T20:10:59.808Z"
   },
   {
    "duration": 32,
    "start_time": "2021-10-10T20:10:59.834Z"
   },
   {
    "duration": 6,
    "start_time": "2021-10-10T20:10:59.869Z"
   },
   {
    "duration": 38,
    "start_time": "2021-10-10T20:10:59.878Z"
   },
   {
    "duration": 12,
    "start_time": "2021-10-10T20:10:59.919Z"
   },
   {
    "duration": 23,
    "start_time": "2021-10-10T20:10:59.934Z"
   },
   {
    "duration": 56,
    "start_time": "2021-10-10T20:10:59.960Z"
   },
   {
    "duration": 11,
    "start_time": "2021-10-10T20:11:00.020Z"
   },
   {
    "duration": 19,
    "start_time": "2021-10-10T20:11:00.034Z"
   },
   {
    "duration": 17,
    "start_time": "2021-10-10T20:11:00.056Z"
   },
   {
    "duration": 39,
    "start_time": "2021-10-10T20:11:00.076Z"
   },
   {
    "duration": 15,
    "start_time": "2021-10-10T20:11:00.118Z"
   },
   {
    "duration": 1962,
    "start_time": "2021-10-10T20:11:00.135Z"
   },
   {
    "duration": 23,
    "start_time": "2021-10-10T20:11:02.101Z"
   },
   {
    "duration": 77,
    "start_time": "2021-10-10T20:11:02.126Z"
   },
   {
    "duration": 20,
    "start_time": "2021-10-10T20:11:02.205Z"
   },
   {
    "duration": 24,
    "start_time": "2021-10-10T20:11:02.228Z"
   },
   {
    "duration": 34,
    "start_time": "2021-10-10T20:11:02.254Z"
   },
   {
    "duration": 30,
    "start_time": "2021-10-10T20:11:02.290Z"
   },
   {
    "duration": 23,
    "start_time": "2021-10-10T20:11:02.323Z"
   },
   {
    "duration": 29,
    "start_time": "2021-10-10T20:11:02.349Z"
   },
   {
    "duration": 25,
    "start_time": "2021-10-10T20:11:02.381Z"
   },
   {
    "duration": 28,
    "start_time": "2021-10-10T20:11:02.409Z"
   },
   {
    "duration": 17,
    "start_time": "2021-10-10T20:11:02.449Z"
   },
   {
    "duration": 24,
    "start_time": "2021-10-10T20:11:02.472Z"
   },
   {
    "duration": 18,
    "start_time": "2021-10-10T20:11:02.499Z"
   },
   {
    "duration": 28,
    "start_time": "2021-10-10T20:11:02.519Z"
   },
   {
    "duration": 10,
    "start_time": "2021-10-10T20:11:02.550Z"
   },
   {
    "duration": 22,
    "start_time": "2021-10-10T20:11:02.562Z"
   },
   {
    "duration": 24,
    "start_time": "2021-10-10T20:11:02.587Z"
   },
   {
    "duration": 30,
    "start_time": "2021-10-10T20:11:02.614Z"
   },
   {
    "duration": 519,
    "start_time": "2021-10-10T20:11:02.647Z"
   },
   {
    "duration": 551,
    "start_time": "2021-10-10T20:11:03.170Z"
   },
   {
    "duration": 16,
    "start_time": "2021-10-10T20:11:03.724Z"
   },
   {
    "duration": 34,
    "start_time": "2021-10-10T20:11:03.743Z"
   },
   {
    "duration": 27,
    "start_time": "2021-10-10T20:11:03.780Z"
   },
   {
    "duration": 72,
    "start_time": "2021-10-10T20:11:03.809Z"
   },
   {
    "duration": 19,
    "start_time": "2021-10-10T20:11:03.884Z"
   },
   {
    "duration": 31,
    "start_time": "2021-10-10T20:11:03.905Z"
   },
   {
    "duration": 21,
    "start_time": "2021-10-10T20:11:03.939Z"
   },
   {
    "duration": 35,
    "start_time": "2021-10-10T20:11:03.962Z"
   },
   {
    "duration": 18,
    "start_time": "2021-10-10T20:11:04.000Z"
   },
   {
    "duration": 475,
    "start_time": "2021-10-10T20:11:04.021Z"
   },
   {
    "duration": 18,
    "start_time": "2021-10-10T20:11:04.501Z"
   },
   {
    "duration": 430,
    "start_time": "2021-10-10T20:11:04.522Z"
   },
   {
    "duration": 392,
    "start_time": "2021-10-10T20:11:04.954Z"
   },
   {
    "duration": 374,
    "start_time": "2021-10-10T20:11:05.348Z"
   },
   {
    "duration": 6,
    "start_time": "2021-10-10T20:11:05.724Z"
   },
   {
    "duration": 252,
    "start_time": "2021-10-10T20:11:05.733Z"
   },
   {
    "duration": 17,
    "start_time": "2021-10-10T20:11:05.987Z"
   },
   {
    "duration": 10,
    "start_time": "2021-10-10T20:11:06.007Z"
   },
   {
    "duration": 221,
    "start_time": "2021-10-10T20:11:06.020Z"
   },
   {
    "duration": 35,
    "start_time": "2021-10-10T20:11:06.244Z"
   },
   {
    "duration": 27,
    "start_time": "2021-10-10T20:11:06.282Z"
   },
   {
    "duration": 12,
    "start_time": "2021-10-10T20:11:06.311Z"
   },
   {
    "duration": 15,
    "start_time": "2021-10-10T20:11:06.325Z"
   },
   {
    "duration": 838,
    "start_time": "2021-10-10T20:11:06.343Z"
   },
   {
    "duration": 319,
    "start_time": "2021-10-10T20:11:07.183Z"
   },
   {
    "duration": 1062,
    "start_time": "2021-10-10T20:11:07.505Z"
   },
   {
    "duration": 243,
    "start_time": "2021-10-10T20:11:08.569Z"
   },
   {
    "duration": 6,
    "start_time": "2021-10-10T20:11:08.814Z"
   },
   {
    "duration": 18,
    "start_time": "2021-10-10T20:11:08.822Z"
   },
   {
    "duration": 13,
    "start_time": "2021-10-10T20:11:08.843Z"
   },
   {
    "duration": 12,
    "start_time": "2021-10-10T20:11:08.858Z"
   },
   {
    "duration": 584,
    "start_time": "2021-10-10T20:11:08.872Z"
   },
   {
    "duration": 8,
    "start_time": "2021-10-10T20:11:09.458Z"
   },
   {
    "duration": 25,
    "start_time": "2021-10-10T20:11:09.468Z"
   },
   {
    "duration": 852,
    "start_time": "2021-10-10T20:11:09.501Z"
   },
   {
    "duration": 260,
    "start_time": "2021-10-10T20:11:10.356Z"
   },
   {
    "duration": 248,
    "start_time": "2021-10-10T20:11:10.618Z"
   },
   {
    "duration": 6,
    "start_time": "2021-10-10T20:11:10.869Z"
   },
   {
    "duration": 23,
    "start_time": "2021-10-10T20:11:10.877Z"
   },
   {
    "duration": 7,
    "start_time": "2021-10-10T20:11:10.903Z"
   },
   {
    "duration": 15,
    "start_time": "2021-10-10T20:11:10.913Z"
   },
   {
    "duration": 962,
    "start_time": "2021-10-10T20:11:10.931Z"
   },
   {
    "duration": 10,
    "start_time": "2021-10-10T20:11:11.896Z"
   },
   {
    "duration": 9,
    "start_time": "2021-10-10T20:11:11.908Z"
   },
   {
    "duration": 897,
    "start_time": "2021-10-10T20:11:11.920Z"
   },
   {
    "duration": 9,
    "start_time": "2021-10-10T20:11:12.820Z"
   },
   {
    "duration": 10,
    "start_time": "2021-10-10T20:11:12.831Z"
   },
   {
    "duration": 57,
    "start_time": "2021-10-10T20:11:12.844Z"
   },
   {
    "duration": 351,
    "start_time": "2021-10-10T20:11:12.904Z"
   },
   {
    "duration": 7,
    "start_time": "2021-10-10T20:11:13.258Z"
   },
   {
    "duration": 41,
    "start_time": "2021-10-10T20:11:13.268Z"
   },
   {
    "duration": 21,
    "start_time": "2021-10-10T20:11:13.313Z"
   },
   {
    "duration": 32,
    "start_time": "2021-10-10T20:11:13.336Z"
   },
   {
    "duration": 450,
    "start_time": "2021-10-10T20:11:13.371Z"
   },
   {
    "duration": 8,
    "start_time": "2021-10-10T20:11:13.824Z"
   },
   {
    "duration": 17,
    "start_time": "2021-10-10T20:11:13.835Z"
   },
   {
    "duration": 9,
    "start_time": "2021-10-10T20:11:13.855Z"
   },
   {
    "duration": 41,
    "start_time": "2021-10-10T20:11:13.867Z"
   },
   {
    "duration": 28,
    "start_time": "2021-10-10T20:11:13.911Z"
   },
   {
    "duration": 245,
    "start_time": "2021-10-10T20:11:13.942Z"
   },
   {
    "duration": 341,
    "start_time": "2021-10-10T20:11:14.190Z"
   },
   {
    "duration": 4,
    "start_time": "2021-10-10T20:11:14.534Z"
   },
   {
    "duration": 31,
    "start_time": "2021-10-10T20:11:14.541Z"
   },
   {
    "duration": 26,
    "start_time": "2021-10-10T20:11:14.575Z"
   },
   {
    "duration": 17,
    "start_time": "2021-10-10T20:11:14.603Z"
   },
   {
    "duration": 47,
    "start_time": "2021-10-10T20:11:14.623Z"
   },
   {
    "duration": 50,
    "start_time": "2021-10-10T20:11:14.673Z"
   },
   {
    "duration": 28,
    "start_time": "2021-10-10T20:11:14.726Z"
   },
   {
    "duration": 22,
    "start_time": "2021-10-10T20:11:14.757Z"
   },
   {
    "duration": 240,
    "start_time": "2021-10-10T20:11:14.781Z"
   },
   {
    "duration": 12,
    "start_time": "2021-10-10T20:16:00.380Z"
   },
   {
    "duration": 6,
    "start_time": "2021-10-10T20:17:04.724Z"
   },
   {
    "duration": 9,
    "start_time": "2021-10-10T20:17:06.659Z"
   },
   {
    "duration": 45,
    "start_time": "2021-10-10T20:19:05.065Z"
   },
   {
    "duration": 502,
    "start_time": "2021-10-10T20:20:17.130Z"
   },
   {
    "duration": 17,
    "start_time": "2021-10-10T20:20:52.417Z"
   },
   {
    "duration": 15,
    "start_time": "2021-10-10T20:21:16.389Z"
   },
   {
    "duration": 994,
    "start_time": "2021-10-10T20:23:35.446Z"
   },
   {
    "duration": 658,
    "start_time": "2021-10-10T20:23:36.443Z"
   },
   {
    "duration": 29,
    "start_time": "2021-10-10T20:23:37.104Z"
   },
   {
    "duration": 36,
    "start_time": "2021-10-10T20:23:37.136Z"
   },
   {
    "duration": 36,
    "start_time": "2021-10-10T20:23:37.175Z"
   },
   {
    "duration": 15,
    "start_time": "2021-10-10T20:23:37.214Z"
   },
   {
    "duration": 7,
    "start_time": "2021-10-10T20:23:37.233Z"
   },
   {
    "duration": 15,
    "start_time": "2021-10-10T20:23:37.247Z"
   },
   {
    "duration": 19,
    "start_time": "2021-10-10T20:23:37.304Z"
   },
   {
    "duration": 15,
    "start_time": "2021-10-10T20:23:37.325Z"
   },
   {
    "duration": 16,
    "start_time": "2021-10-10T20:23:37.343Z"
   },
   {
    "duration": 69,
    "start_time": "2021-10-10T20:23:37.363Z"
   },
   {
    "duration": 1369,
    "start_time": "2021-10-10T20:23:37.435Z"
   },
   {
    "duration": 28,
    "start_time": "2021-10-10T20:23:38.806Z"
   },
   {
    "duration": 17,
    "start_time": "2021-10-10T20:23:38.837Z"
   },
   {
    "duration": 92,
    "start_time": "2021-10-10T20:23:38.857Z"
   },
   {
    "duration": 602,
    "start_time": "2021-10-10T20:23:38.952Z"
   },
   {
    "duration": 32,
    "start_time": "2021-10-10T20:23:39.557Z"
   },
   {
    "duration": 12,
    "start_time": "2021-10-10T20:23:39.591Z"
   },
   {
    "duration": 20,
    "start_time": "2021-10-10T20:23:39.605Z"
   },
   {
    "duration": 82,
    "start_time": "2021-10-10T20:23:39.628Z"
   },
   {
    "duration": 15,
    "start_time": "2021-10-10T20:23:39.712Z"
   },
   {
    "duration": 12,
    "start_time": "2021-10-10T20:23:39.733Z"
   },
   {
    "duration": 30,
    "start_time": "2021-10-10T20:23:39.748Z"
   },
   {
    "duration": 19,
    "start_time": "2021-10-10T20:23:39.781Z"
   },
   {
    "duration": 21,
    "start_time": "2021-10-10T20:23:39.802Z"
   },
   {
    "duration": 493,
    "start_time": "2021-10-10T20:23:39.826Z"
   },
   {
    "duration": 10,
    "start_time": "2021-10-10T20:23:40.322Z"
   },
   {
    "duration": 44,
    "start_time": "2021-10-10T20:23:40.335Z"
   },
   {
    "duration": 699,
    "start_time": "2021-10-10T20:23:40.381Z"
   },
   {
    "duration": 21,
    "start_time": "2021-10-10T20:23:41.082Z"
   },
   {
    "duration": 23,
    "start_time": "2021-10-10T20:23:41.106Z"
   },
   {
    "duration": 12,
    "start_time": "2021-10-10T20:23:41.132Z"
   },
   {
    "duration": 41,
    "start_time": "2021-10-10T20:23:41.147Z"
   },
   {
    "duration": 951,
    "start_time": "2021-10-10T20:23:41.191Z"
   },
   {
    "duration": 24,
    "start_time": "2021-10-10T20:23:42.145Z"
   },
   {
    "duration": 62,
    "start_time": "2021-10-10T20:23:42.171Z"
   },
   {
    "duration": 59,
    "start_time": "2021-10-10T20:23:42.236Z"
   },
   {
    "duration": 11,
    "start_time": "2021-10-10T20:23:42.298Z"
   },
   {
    "duration": 24,
    "start_time": "2021-10-10T20:23:42.311Z"
   },
   {
    "duration": 434,
    "start_time": "2021-10-10T20:23:42.337Z"
   },
   {
    "duration": 12,
    "start_time": "2021-10-10T20:23:42.773Z"
   },
   {
    "duration": 28,
    "start_time": "2021-10-10T20:23:42.787Z"
   },
   {
    "duration": 87,
    "start_time": "2021-10-10T20:23:42.817Z"
   },
   {
    "duration": 45,
    "start_time": "2021-10-10T20:23:42.906Z"
   },
   {
    "duration": 22,
    "start_time": "2021-10-10T20:23:42.953Z"
   },
   {
    "duration": 17,
    "start_time": "2021-10-10T20:23:43.001Z"
   },
   {
    "duration": 7,
    "start_time": "2021-10-10T20:23:43.020Z"
   },
   {
    "duration": 25,
    "start_time": "2021-10-10T20:23:43.029Z"
   },
   {
    "duration": 13,
    "start_time": "2021-10-10T20:23:43.056Z"
   },
   {
    "duration": 22,
    "start_time": "2021-10-10T20:23:43.101Z"
   },
   {
    "duration": 12,
    "start_time": "2021-10-10T20:23:43.125Z"
   },
   {
    "duration": 9,
    "start_time": "2021-10-10T20:23:43.140Z"
   },
   {
    "duration": 10,
    "start_time": "2021-10-10T20:23:43.152Z"
   },
   {
    "duration": 40,
    "start_time": "2021-10-10T20:23:43.165Z"
   },
   {
    "duration": 18,
    "start_time": "2021-10-10T20:23:43.209Z"
   },
   {
    "duration": 11,
    "start_time": "2021-10-10T20:23:43.230Z"
   },
   {
    "duration": 1882,
    "start_time": "2021-10-10T20:23:43.243Z"
   },
   {
    "duration": 22,
    "start_time": "2021-10-10T20:23:45.128Z"
   },
   {
    "duration": 76,
    "start_time": "2021-10-10T20:23:45.152Z"
   },
   {
    "duration": 20,
    "start_time": "2021-10-10T20:23:45.231Z"
   },
   {
    "duration": 13,
    "start_time": "2021-10-10T20:23:45.254Z"
   },
   {
    "duration": 35,
    "start_time": "2021-10-10T20:23:45.270Z"
   },
   {
    "duration": 14,
    "start_time": "2021-10-10T20:23:45.308Z"
   },
   {
    "duration": 7,
    "start_time": "2021-10-10T20:23:45.325Z"
   },
   {
    "duration": 11,
    "start_time": "2021-10-10T20:23:45.335Z"
   },
   {
    "duration": 7,
    "start_time": "2021-10-10T20:23:45.348Z"
   },
   {
    "duration": 10,
    "start_time": "2021-10-10T20:23:45.400Z"
   },
   {
    "duration": 6,
    "start_time": "2021-10-10T20:23:45.415Z"
   },
   {
    "duration": 17,
    "start_time": "2021-10-10T20:23:45.424Z"
   },
   {
    "duration": 13,
    "start_time": "2021-10-10T20:23:45.444Z"
   },
   {
    "duration": 13,
    "start_time": "2021-10-10T20:23:45.460Z"
   },
   {
    "duration": 26,
    "start_time": "2021-10-10T20:23:45.476Z"
   },
   {
    "duration": 26,
    "start_time": "2021-10-10T20:23:45.505Z"
   },
   {
    "duration": 9,
    "start_time": "2021-10-10T20:23:45.534Z"
   },
   {
    "duration": 19,
    "start_time": "2021-10-10T20:23:45.545Z"
   },
   {
    "duration": 414,
    "start_time": "2021-10-10T20:23:45.567Z"
   },
   {
    "duration": 443,
    "start_time": "2021-10-10T20:23:45.983Z"
   },
   {
    "duration": 14,
    "start_time": "2021-10-10T20:23:46.429Z"
   },
   {
    "duration": 24,
    "start_time": "2021-10-10T20:23:46.445Z"
   },
   {
    "duration": 38,
    "start_time": "2021-10-10T20:23:46.472Z"
   },
   {
    "duration": 59,
    "start_time": "2021-10-10T20:23:46.513Z"
   },
   {
    "duration": 5,
    "start_time": "2021-10-10T20:23:46.575Z"
   },
   {
    "duration": 36,
    "start_time": "2021-10-10T20:23:46.583Z"
   },
   {
    "duration": 11,
    "start_time": "2021-10-10T20:23:46.622Z"
   },
   {
    "duration": 29,
    "start_time": "2021-10-10T20:23:46.636Z"
   },
   {
    "duration": 25,
    "start_time": "2021-10-10T20:23:46.667Z"
   },
   {
    "duration": 480,
    "start_time": "2021-10-10T20:23:46.694Z"
   },
   {
    "duration": 28,
    "start_time": "2021-10-10T20:23:47.177Z"
   },
   {
    "duration": 418,
    "start_time": "2021-10-10T20:23:47.208Z"
   },
   {
    "duration": 399,
    "start_time": "2021-10-10T20:23:47.628Z"
   },
   {
    "duration": 361,
    "start_time": "2021-10-10T20:23:48.029Z"
   },
   {
    "duration": 6,
    "start_time": "2021-10-10T20:23:48.400Z"
   },
   {
    "duration": 316,
    "start_time": "2021-10-10T20:23:48.408Z"
   },
   {
    "duration": 8,
    "start_time": "2021-10-10T20:23:48.726Z"
   },
   {
    "duration": 14,
    "start_time": "2021-10-10T20:23:48.736Z"
   },
   {
    "duration": 211,
    "start_time": "2021-10-10T20:23:48.752Z"
   },
   {
    "duration": 51,
    "start_time": "2021-10-10T20:23:48.966Z"
   },
   {
    "duration": 24,
    "start_time": "2021-10-10T20:23:49.019Z"
   },
   {
    "duration": 5,
    "start_time": "2021-10-10T20:23:49.046Z"
   },
   {
    "duration": 17,
    "start_time": "2021-10-10T20:23:49.053Z"
   },
   {
    "duration": 1548,
    "start_time": "2021-10-10T20:23:49.074Z"
   },
   {
    "duration": 236,
    "start_time": "2021-10-10T20:23:50.624Z"
   },
   {
    "duration": 1021,
    "start_time": "2021-10-10T20:23:50.862Z"
   },
   {
    "duration": 216,
    "start_time": "2021-10-10T20:23:51.885Z"
   },
   {
    "duration": 5,
    "start_time": "2021-10-10T20:23:52.104Z"
   },
   {
    "duration": 10,
    "start_time": "2021-10-10T20:23:52.111Z"
   },
   {
    "duration": 17,
    "start_time": "2021-10-10T20:23:52.123Z"
   },
   {
    "duration": 11,
    "start_time": "2021-10-10T20:23:52.143Z"
   },
   {
    "duration": 580,
    "start_time": "2021-10-10T20:23:52.156Z"
   },
   {
    "duration": 8,
    "start_time": "2021-10-10T20:23:52.739Z"
   },
   {
    "duration": 14,
    "start_time": "2021-10-10T20:23:52.750Z"
   },
   {
    "duration": 901,
    "start_time": "2021-10-10T20:23:52.767Z"
   },
   {
    "duration": 246,
    "start_time": "2021-10-10T20:23:53.670Z"
   },
   {
    "duration": 243,
    "start_time": "2021-10-10T20:23:53.918Z"
   },
   {
    "duration": 8,
    "start_time": "2021-10-10T20:23:54.164Z"
   },
   {
    "duration": 28,
    "start_time": "2021-10-10T20:23:54.175Z"
   },
   {
    "duration": 7,
    "start_time": "2021-10-10T20:23:54.206Z"
   },
   {
    "duration": 14,
    "start_time": "2021-10-10T20:23:54.215Z"
   },
   {
    "duration": 928,
    "start_time": "2021-10-10T20:23:54.232Z"
   },
   {
    "duration": 10,
    "start_time": "2021-10-10T20:23:55.163Z"
   },
   {
    "duration": 29,
    "start_time": "2021-10-10T20:23:55.175Z"
   },
   {
    "duration": 827,
    "start_time": "2021-10-10T20:23:55.206Z"
   },
   {
    "duration": 10,
    "start_time": "2021-10-10T20:23:56.036Z"
   },
   {
    "duration": 15,
    "start_time": "2021-10-10T20:23:56.048Z"
   },
   {
    "duration": 47,
    "start_time": "2021-10-10T20:23:56.065Z"
   },
   {
    "duration": 347,
    "start_time": "2021-10-10T20:23:56.115Z"
   },
   {
    "duration": 6,
    "start_time": "2021-10-10T20:23:56.464Z"
   },
   {
    "duration": 39,
    "start_time": "2021-10-10T20:23:56.472Z"
   },
   {
    "duration": 4,
    "start_time": "2021-10-10T20:23:56.514Z"
   },
   {
    "duration": 16,
    "start_time": "2021-10-10T20:23:56.521Z"
   },
   {
    "duration": 579,
    "start_time": "2021-10-10T20:23:56.539Z"
   },
   {
    "duration": 7,
    "start_time": "2021-10-10T20:23:57.120Z"
   },
   {
    "duration": 9,
    "start_time": "2021-10-10T20:23:57.129Z"
   },
   {
    "duration": 6,
    "start_time": "2021-10-10T20:23:57.140Z"
   },
   {
    "duration": 10,
    "start_time": "2021-10-10T20:23:57.148Z"
   },
   {
    "duration": 56,
    "start_time": "2021-10-10T20:23:57.161Z"
   },
   {
    "duration": 240,
    "start_time": "2021-10-10T20:23:57.220Z"
   },
   {
    "duration": 232,
    "start_time": "2021-10-10T20:23:57.462Z"
   },
   {
    "duration": 3,
    "start_time": "2021-10-10T20:23:57.700Z"
   },
   {
    "duration": 17,
    "start_time": "2021-10-10T20:23:57.705Z"
   },
   {
    "duration": 13,
    "start_time": "2021-10-10T20:23:57.724Z"
   },
   {
    "duration": 8,
    "start_time": "2021-10-10T20:23:57.740Z"
   },
   {
    "duration": 32,
    "start_time": "2021-10-10T20:23:57.751Z"
   },
   {
    "duration": 62,
    "start_time": "2021-10-10T20:23:57.786Z"
   },
   {
    "duration": 26,
    "start_time": "2021-10-10T20:23:57.850Z"
   },
   {
    "duration": 26,
    "start_time": "2021-10-10T20:23:57.878Z"
   },
   {
    "duration": 259,
    "start_time": "2021-10-10T20:23:57.906Z"
   },
   {
    "duration": 398,
    "start_time": "2021-10-11T10:14:00.381Z"
   },
   {
    "duration": 992,
    "start_time": "2021-10-11T10:14:12.284Z"
   },
   {
    "duration": 504,
    "start_time": "2021-10-11T10:14:13.278Z"
   },
   {
    "duration": 24,
    "start_time": "2021-10-11T10:14:13.785Z"
   },
   {
    "duration": 22,
    "start_time": "2021-10-11T10:14:13.812Z"
   },
   {
    "duration": 10,
    "start_time": "2021-10-11T10:14:13.837Z"
   },
   {
    "duration": 11,
    "start_time": "2021-10-11T10:14:13.881Z"
   },
   {
    "duration": 8,
    "start_time": "2021-10-11T10:14:13.895Z"
   },
   {
    "duration": 16,
    "start_time": "2021-10-11T10:14:13.906Z"
   },
   {
    "duration": 18,
    "start_time": "2021-10-11T10:14:13.926Z"
   },
   {
    "duration": 40,
    "start_time": "2021-10-11T10:14:13.947Z"
   },
   {
    "duration": 13,
    "start_time": "2021-10-11T10:14:13.990Z"
   },
   {
    "duration": 35,
    "start_time": "2021-10-11T10:14:14.006Z"
   },
   {
    "duration": 1117,
    "start_time": "2021-10-11T10:14:14.044Z"
   },
   {
    "duration": 32,
    "start_time": "2021-10-11T10:14:15.163Z"
   },
   {
    "duration": 13,
    "start_time": "2021-10-11T10:14:15.197Z"
   },
   {
    "duration": 49,
    "start_time": "2021-10-11T10:14:15.212Z"
   },
   {
    "duration": 499,
    "start_time": "2021-10-11T10:14:15.283Z"
   },
   {
    "duration": 29,
    "start_time": "2021-10-11T10:14:15.784Z"
   },
   {
    "duration": 4,
    "start_time": "2021-10-11T10:14:15.815Z"
   },
   {
    "duration": 19,
    "start_time": "2021-10-11T10:14:15.821Z"
   },
   {
    "duration": 73,
    "start_time": "2021-10-11T10:14:15.842Z"
   },
   {
    "duration": 5,
    "start_time": "2021-10-11T10:14:15.918Z"
   },
   {
    "duration": 7,
    "start_time": "2021-10-11T10:14:15.926Z"
   },
   {
    "duration": 20,
    "start_time": "2021-10-11T10:14:15.935Z"
   },
   {
    "duration": 34,
    "start_time": "2021-10-11T10:14:15.958Z"
   },
   {
    "duration": 24,
    "start_time": "2021-10-11T10:14:15.995Z"
   },
   {
    "duration": 440,
    "start_time": "2021-10-11T10:14:16.027Z"
   },
   {
    "duration": 19,
    "start_time": "2021-10-11T10:14:16.471Z"
   },
   {
    "duration": 29,
    "start_time": "2021-10-11T10:14:16.492Z"
   },
   {
    "duration": 639,
    "start_time": "2021-10-11T10:14:16.523Z"
   },
   {
    "duration": 18,
    "start_time": "2021-10-11T10:14:17.165Z"
   },
   {
    "duration": 15,
    "start_time": "2021-10-11T10:14:17.186Z"
   },
   {
    "duration": 12,
    "start_time": "2021-10-11T10:14:17.204Z"
   },
   {
    "duration": 26,
    "start_time": "2021-10-11T10:14:17.218Z"
   },
   {
    "duration": 916,
    "start_time": "2021-10-11T10:14:17.247Z"
   },
   {
    "duration": 27,
    "start_time": "2021-10-11T10:14:18.166Z"
   },
   {
    "duration": 25,
    "start_time": "2021-10-11T10:14:18.195Z"
   },
   {
    "duration": 29,
    "start_time": "2021-10-11T10:14:18.222Z"
   },
   {
    "duration": 13,
    "start_time": "2021-10-11T10:14:18.283Z"
   },
   {
    "duration": 9,
    "start_time": "2021-10-11T10:14:18.298Z"
   },
   {
    "duration": 496,
    "start_time": "2021-10-11T10:14:18.310Z"
   },
   {
    "duration": 12,
    "start_time": "2021-10-11T10:14:18.808Z"
   },
   {
    "duration": 22,
    "start_time": "2021-10-11T10:14:18.822Z"
   },
   {
    "duration": 92,
    "start_time": "2021-10-11T10:14:18.846Z"
   },
   {
    "duration": 58,
    "start_time": "2021-10-11T10:14:18.941Z"
   },
   {
    "duration": 22,
    "start_time": "2021-10-11T10:14:19.001Z"
   },
   {
    "duration": 24,
    "start_time": "2021-10-11T10:14:19.026Z"
   },
   {
    "duration": 22,
    "start_time": "2021-10-11T10:14:19.052Z"
   },
   {
    "duration": 35,
    "start_time": "2021-10-11T10:14:19.077Z"
   },
   {
    "duration": 25,
    "start_time": "2021-10-11T10:14:19.114Z"
   },
   {
    "duration": 21,
    "start_time": "2021-10-11T10:14:19.142Z"
   },
   {
    "duration": 21,
    "start_time": "2021-10-11T10:14:19.166Z"
   },
   {
    "duration": 17,
    "start_time": "2021-10-11T10:14:19.189Z"
   },
   {
    "duration": 28,
    "start_time": "2021-10-11T10:14:19.209Z"
   },
   {
    "duration": 15,
    "start_time": "2021-10-11T10:14:19.239Z"
   },
   {
    "duration": 23,
    "start_time": "2021-10-11T10:14:19.256Z"
   },
   {
    "duration": 10,
    "start_time": "2021-10-11T10:14:19.282Z"
   },
   {
    "duration": 1831,
    "start_time": "2021-10-11T10:14:19.294Z"
   },
   {
    "duration": 23,
    "start_time": "2021-10-11T10:14:21.127Z"
   },
   {
    "duration": 75,
    "start_time": "2021-10-11T10:14:21.152Z"
   },
   {
    "duration": 18,
    "start_time": "2021-10-11T10:14:21.229Z"
   },
   {
    "duration": 34,
    "start_time": "2021-10-11T10:14:21.250Z"
   },
   {
    "duration": 13,
    "start_time": "2021-10-11T10:14:21.287Z"
   },
   {
    "duration": 14,
    "start_time": "2021-10-11T10:14:21.302Z"
   },
   {
    "duration": 7,
    "start_time": "2021-10-11T10:14:21.319Z"
   },
   {
    "duration": 11,
    "start_time": "2021-10-11T10:14:21.329Z"
   },
   {
    "duration": 13,
    "start_time": "2021-10-11T10:14:21.342Z"
   },
   {
    "duration": 26,
    "start_time": "2021-10-11T10:14:21.358Z"
   },
   {
    "duration": 5,
    "start_time": "2021-10-11T10:14:21.387Z"
   },
   {
    "duration": 19,
    "start_time": "2021-10-11T10:14:21.395Z"
   },
   {
    "duration": 7,
    "start_time": "2021-10-11T10:14:21.417Z"
   },
   {
    "duration": 11,
    "start_time": "2021-10-11T10:14:21.427Z"
   },
   {
    "duration": 10,
    "start_time": "2021-10-11T10:14:21.440Z"
   },
   {
    "duration": 15,
    "start_time": "2021-10-11T10:14:21.452Z"
   },
   {
    "duration": 15,
    "start_time": "2021-10-11T10:14:21.470Z"
   },
   {
    "duration": 15,
    "start_time": "2021-10-11T10:14:21.487Z"
   },
   {
    "duration": 387,
    "start_time": "2021-10-11T10:14:21.504Z"
   },
   {
    "duration": 419,
    "start_time": "2021-10-11T10:14:21.894Z"
   },
   {
    "duration": 14,
    "start_time": "2021-10-11T10:14:22.316Z"
   },
   {
    "duration": 21,
    "start_time": "2021-10-11T10:14:22.332Z"
   },
   {
    "duration": 10,
    "start_time": "2021-10-11T10:14:22.384Z"
   },
   {
    "duration": 62,
    "start_time": "2021-10-11T10:14:22.398Z"
   },
   {
    "duration": 22,
    "start_time": "2021-10-11T10:14:22.462Z"
   },
   {
    "duration": 22,
    "start_time": "2021-10-11T10:14:22.487Z"
   },
   {
    "duration": 10,
    "start_time": "2021-10-11T10:14:22.511Z"
   },
   {
    "duration": 27,
    "start_time": "2021-10-11T10:14:22.523Z"
   },
   {
    "duration": 32,
    "start_time": "2021-10-11T10:14:22.552Z"
   },
   {
    "duration": 455,
    "start_time": "2021-10-11T10:14:22.587Z"
   },
   {
    "duration": 19,
    "start_time": "2021-10-11T10:14:23.044Z"
   },
   {
    "duration": 404,
    "start_time": "2021-10-11T10:14:23.065Z"
   },
   {
    "duration": 469,
    "start_time": "2021-10-11T10:14:23.472Z"
   },
   {
    "duration": 366,
    "start_time": "2021-10-11T10:14:23.943Z"
   },
   {
    "duration": 5,
    "start_time": "2021-10-11T10:14:24.312Z"
   },
   {
    "duration": 297,
    "start_time": "2021-10-11T10:14:24.319Z"
   },
   {
    "duration": 8,
    "start_time": "2021-10-11T10:14:24.618Z"
   },
   {
    "duration": 10,
    "start_time": "2021-10-11T10:14:24.628Z"
   },
   {
    "duration": 210,
    "start_time": "2021-10-11T10:14:24.640Z"
   },
   {
    "duration": 55,
    "start_time": "2021-10-11T10:14:24.853Z"
   },
   {
    "duration": 14,
    "start_time": "2021-10-11T10:14:24.911Z"
   },
   {
    "duration": 10,
    "start_time": "2021-10-11T10:14:24.928Z"
   },
   {
    "duration": 14,
    "start_time": "2021-10-11T10:14:24.940Z"
   },
   {
    "duration": 777,
    "start_time": "2021-10-11T10:14:24.982Z"
   },
   {
    "duration": 231,
    "start_time": "2021-10-11T10:14:25.761Z"
   },
   {
    "duration": 1002,
    "start_time": "2021-10-11T10:14:25.994Z"
   },
   {
    "duration": 207,
    "start_time": "2021-10-11T10:14:26.998Z"
   },
   {
    "duration": 6,
    "start_time": "2021-10-11T10:14:27.207Z"
   },
   {
    "duration": 12,
    "start_time": "2021-10-11T10:14:27.215Z"
   },
   {
    "duration": 10,
    "start_time": "2021-10-11T10:14:27.230Z"
   },
   {
    "duration": 10,
    "start_time": "2021-10-11T10:14:27.242Z"
   },
   {
    "duration": 565,
    "start_time": "2021-10-11T10:14:27.254Z"
   },
   {
    "duration": 8,
    "start_time": "2021-10-11T10:14:27.822Z"
   },
   {
    "duration": 9,
    "start_time": "2021-10-11T10:14:27.834Z"
   },
   {
    "duration": 883,
    "start_time": "2021-10-11T10:14:27.845Z"
   },
   {
    "duration": 231,
    "start_time": "2021-10-11T10:14:28.731Z"
   },
   {
    "duration": 250,
    "start_time": "2021-10-11T10:14:28.964Z"
   },
   {
    "duration": 5,
    "start_time": "2021-10-11T10:14:29.217Z"
   },
   {
    "duration": 10,
    "start_time": "2021-10-11T10:14:29.224Z"
   },
   {
    "duration": 16,
    "start_time": "2021-10-11T10:14:29.236Z"
   },
   {
    "duration": 27,
    "start_time": "2021-10-11T10:14:29.255Z"
   },
   {
    "duration": 800,
    "start_time": "2021-10-11T10:14:29.285Z"
   },
   {
    "duration": 9,
    "start_time": "2021-10-11T10:14:30.087Z"
   },
   {
    "duration": 22,
    "start_time": "2021-10-11T10:14:30.099Z"
   },
   {
    "duration": 817,
    "start_time": "2021-10-11T10:14:30.123Z"
   },
   {
    "duration": 8,
    "start_time": "2021-10-11T10:14:30.943Z"
   },
   {
    "duration": 13,
    "start_time": "2021-10-11T10:14:30.954Z"
   },
   {
    "duration": 29,
    "start_time": "2021-10-11T10:14:30.984Z"
   },
   {
    "duration": 320,
    "start_time": "2021-10-11T10:14:31.015Z"
   },
   {
    "duration": 6,
    "start_time": "2021-10-11T10:14:31.337Z"
   },
   {
    "duration": 37,
    "start_time": "2021-10-11T10:14:31.345Z"
   },
   {
    "duration": 4,
    "start_time": "2021-10-11T10:14:31.385Z"
   },
   {
    "duration": 17,
    "start_time": "2021-10-11T10:14:31.392Z"
   },
   {
    "duration": 536,
    "start_time": "2021-10-11T10:14:31.411Z"
   },
   {
    "duration": 7,
    "start_time": "2021-10-11T10:14:31.950Z"
   },
   {
    "duration": 26,
    "start_time": "2021-10-11T10:14:31.960Z"
   },
   {
    "duration": 6,
    "start_time": "2021-10-11T10:14:31.988Z"
   },
   {
    "duration": 15,
    "start_time": "2021-10-11T10:14:31.996Z"
   },
   {
    "duration": 26,
    "start_time": "2021-10-11T10:14:32.013Z"
   },
   {
    "duration": 233,
    "start_time": "2021-10-11T10:14:32.042Z"
   },
   {
    "duration": 233,
    "start_time": "2021-10-11T10:14:32.282Z"
   },
   {
    "duration": 3,
    "start_time": "2021-10-11T10:14:32.517Z"
   },
   {
    "duration": 11,
    "start_time": "2021-10-11T10:14:32.523Z"
   },
   {
    "duration": 15,
    "start_time": "2021-10-11T10:14:32.537Z"
   },
   {
    "duration": 29,
    "start_time": "2021-10-11T10:14:32.554Z"
   },
   {
    "duration": 31,
    "start_time": "2021-10-11T10:14:32.585Z"
   },
   {
    "duration": 49,
    "start_time": "2021-10-11T10:14:32.618Z"
   },
   {
    "duration": 21,
    "start_time": "2021-10-11T10:14:32.669Z"
   },
   {
    "duration": 17,
    "start_time": "2021-10-11T10:14:32.693Z"
   },
   {
    "duration": 254,
    "start_time": "2021-10-11T10:14:32.713Z"
   },
   {
    "duration": 431,
    "start_time": "2021-10-11T10:16:01.494Z"
   },
   {
    "duration": 420,
    "start_time": "2021-10-11T10:24:41.324Z"
   },
   {
    "duration": 693,
    "start_time": "2021-10-15T21:00:29.036Z"
   },
   {
    "duration": 415,
    "start_time": "2021-10-15T21:00:29.730Z"
   },
   {
    "duration": 13,
    "start_time": "2021-10-15T21:00:30.147Z"
   },
   {
    "duration": 22,
    "start_time": "2021-10-15T21:00:30.162Z"
   },
   {
    "duration": 6,
    "start_time": "2021-10-15T21:00:30.186Z"
   },
   {
    "duration": 18,
    "start_time": "2021-10-15T21:00:30.194Z"
   },
   {
    "duration": 14,
    "start_time": "2021-10-15T21:00:30.214Z"
   },
   {
    "duration": 13,
    "start_time": "2021-10-15T21:00:30.231Z"
   },
   {
    "duration": 21,
    "start_time": "2021-10-15T21:00:30.246Z"
   },
   {
    "duration": 13,
    "start_time": "2021-10-15T21:00:30.268Z"
   },
   {
    "duration": 18,
    "start_time": "2021-10-15T21:00:30.282Z"
   },
   {
    "duration": 26,
    "start_time": "2021-10-15T21:00:30.302Z"
   },
   {
    "duration": 747,
    "start_time": "2021-10-15T21:00:30.329Z"
   },
   {
    "duration": 19,
    "start_time": "2021-10-15T21:00:31.078Z"
   },
   {
    "duration": 9,
    "start_time": "2021-10-15T21:00:31.098Z"
   },
   {
    "duration": 63,
    "start_time": "2021-10-15T21:00:31.108Z"
   },
   {
    "duration": 286,
    "start_time": "2021-10-15T21:00:31.172Z"
   },
   {
    "duration": 30,
    "start_time": "2021-10-15T21:00:31.459Z"
   },
   {
    "duration": 4,
    "start_time": "2021-10-15T21:00:31.490Z"
   },
   {
    "duration": 28,
    "start_time": "2021-10-15T21:00:31.496Z"
   },
   {
    "duration": 55,
    "start_time": "2021-10-15T21:00:31.526Z"
   },
   {
    "duration": 18,
    "start_time": "2021-10-15T21:00:31.582Z"
   },
   {
    "duration": 22,
    "start_time": "2021-10-15T21:00:31.603Z"
   },
   {
    "duration": 27,
    "start_time": "2021-10-15T21:00:31.627Z"
   },
   {
    "duration": 26,
    "start_time": "2021-10-15T21:00:31.655Z"
   },
   {
    "duration": 34,
    "start_time": "2021-10-15T21:00:31.682Z"
   },
   {
    "duration": 315,
    "start_time": "2021-10-15T21:00:31.718Z"
   },
   {
    "duration": 7,
    "start_time": "2021-10-15T21:00:32.035Z"
   },
   {
    "duration": 16,
    "start_time": "2021-10-15T21:00:32.043Z"
   },
   {
    "duration": 533,
    "start_time": "2021-10-15T21:00:32.061Z"
   },
   {
    "duration": 8,
    "start_time": "2021-10-15T21:00:32.595Z"
   },
   {
    "duration": 17,
    "start_time": "2021-10-15T21:00:32.604Z"
   },
   {
    "duration": 7,
    "start_time": "2021-10-15T21:00:32.623Z"
   },
   {
    "duration": 21,
    "start_time": "2021-10-15T21:00:32.631Z"
   },
   {
    "duration": 577,
    "start_time": "2021-10-15T21:00:32.654Z"
   },
   {
    "duration": 18,
    "start_time": "2021-10-15T21:00:33.232Z"
   },
   {
    "duration": 29,
    "start_time": "2021-10-15T21:00:33.252Z"
   },
   {
    "duration": 23,
    "start_time": "2021-10-15T21:00:33.282Z"
   },
   {
    "duration": 9,
    "start_time": "2021-10-15T21:00:33.307Z"
   },
   {
    "duration": 4,
    "start_time": "2021-10-15T21:00:33.317Z"
   },
   {
    "duration": 348,
    "start_time": "2021-10-15T21:00:33.323Z"
   },
   {
    "duration": 8,
    "start_time": "2021-10-15T21:00:33.676Z"
   },
   {
    "duration": 9,
    "start_time": "2021-10-15T21:00:33.686Z"
   },
   {
    "duration": 47,
    "start_time": "2021-10-15T21:00:33.697Z"
   },
   {
    "duration": 53,
    "start_time": "2021-10-15T21:00:33.746Z"
   },
   {
    "duration": 15,
    "start_time": "2021-10-15T21:00:33.801Z"
   },
   {
    "duration": 12,
    "start_time": "2021-10-15T21:00:33.817Z"
   },
   {
    "duration": 3,
    "start_time": "2021-10-15T21:00:33.830Z"
   },
   {
    "duration": 43,
    "start_time": "2021-10-15T21:00:33.834Z"
   },
   {
    "duration": 8,
    "start_time": "2021-10-15T21:00:33.879Z"
   },
   {
    "duration": 14,
    "start_time": "2021-10-15T21:00:33.889Z"
   },
   {
    "duration": 8,
    "start_time": "2021-10-15T21:00:33.905Z"
   },
   {
    "duration": 8,
    "start_time": "2021-10-15T21:00:33.914Z"
   },
   {
    "duration": 11,
    "start_time": "2021-10-15T21:00:33.924Z"
   },
   {
    "duration": 4,
    "start_time": "2021-10-15T21:00:33.937Z"
   },
   {
    "duration": 47,
    "start_time": "2021-10-15T21:00:33.942Z"
   },
   {
    "duration": 6,
    "start_time": "2021-10-15T21:00:33.991Z"
   },
   {
    "duration": 1058,
    "start_time": "2021-10-15T21:00:33.999Z"
   },
   {
    "duration": 26,
    "start_time": "2021-10-15T21:00:35.059Z"
   },
   {
    "duration": 51,
    "start_time": "2021-10-15T21:00:35.087Z"
   },
   {
    "duration": 17,
    "start_time": "2021-10-15T21:00:35.140Z"
   },
   {
    "duration": 9,
    "start_time": "2021-10-15T21:00:35.177Z"
   },
   {
    "duration": 5,
    "start_time": "2021-10-15T21:00:35.188Z"
   },
   {
    "duration": 11,
    "start_time": "2021-10-15T21:00:35.194Z"
   },
   {
    "duration": 4,
    "start_time": "2021-10-15T21:00:35.207Z"
   },
   {
    "duration": 10,
    "start_time": "2021-10-15T21:00:35.213Z"
   },
   {
    "duration": 6,
    "start_time": "2021-10-15T21:00:35.225Z"
   },
   {
    "duration": 16,
    "start_time": "2021-10-15T21:00:35.238Z"
   },
   {
    "duration": 21,
    "start_time": "2021-10-15T21:00:35.257Z"
   },
   {
    "duration": 8,
    "start_time": "2021-10-15T21:00:35.280Z"
   },
   {
    "duration": 5,
    "start_time": "2021-10-15T21:00:35.290Z"
   },
   {
    "duration": 7,
    "start_time": "2021-10-15T21:00:35.297Z"
   },
   {
    "duration": 9,
    "start_time": "2021-10-15T21:00:35.306Z"
   },
   {
    "duration": 9,
    "start_time": "2021-10-15T21:00:35.316Z"
   },
   {
    "duration": 11,
    "start_time": "2021-10-15T21:00:35.327Z"
   },
   {
    "duration": 8,
    "start_time": "2021-10-15T21:00:35.339Z"
   },
   {
    "duration": 281,
    "start_time": "2021-10-15T21:00:35.349Z"
   },
   {
    "duration": 248,
    "start_time": "2021-10-15T21:00:35.631Z"
   },
   {
    "duration": 9,
    "start_time": "2021-10-15T21:00:35.881Z"
   },
   {
    "duration": 16,
    "start_time": "2021-10-15T21:00:35.892Z"
   },
   {
    "duration": 14,
    "start_time": "2021-10-15T21:00:35.910Z"
   },
   {
    "duration": 54,
    "start_time": "2021-10-15T21:00:35.926Z"
   },
   {
    "duration": 4,
    "start_time": "2021-10-15T21:00:35.982Z"
   },
   {
    "duration": 19,
    "start_time": "2021-10-15T21:00:35.987Z"
   },
   {
    "duration": 10,
    "start_time": "2021-10-15T21:00:36.008Z"
   },
   {
    "duration": 21,
    "start_time": "2021-10-15T21:00:36.020Z"
   },
   {
    "duration": 34,
    "start_time": "2021-10-15T21:00:36.043Z"
   },
   {
    "duration": 300,
    "start_time": "2021-10-15T21:00:36.079Z"
   },
   {
    "duration": 12,
    "start_time": "2021-10-15T21:00:36.381Z"
   },
   {
    "duration": 239,
    "start_time": "2021-10-15T21:00:36.395Z"
   },
   {
    "duration": 217,
    "start_time": "2021-10-15T21:00:36.635Z"
   },
   {
    "duration": 206,
    "start_time": "2021-10-15T21:00:36.854Z"
   },
   {
    "duration": 4,
    "start_time": "2021-10-15T21:00:37.062Z"
   },
   {
    "duration": 199,
    "start_time": "2021-10-15T21:00:37.068Z"
   },
   {
    "duration": 11,
    "start_time": "2021-10-15T21:00:37.268Z"
   },
   {
    "duration": 24,
    "start_time": "2021-10-15T21:00:37.281Z"
   },
   {
    "duration": 134,
    "start_time": "2021-10-15T21:00:37.307Z"
   },
   {
    "duration": 21,
    "start_time": "2021-10-15T21:00:37.443Z"
   },
   {
    "duration": 30,
    "start_time": "2021-10-15T21:00:37.465Z"
   },
   {
    "duration": 13,
    "start_time": "2021-10-15T21:00:37.497Z"
   },
   {
    "duration": 26,
    "start_time": "2021-10-15T21:00:37.512Z"
   },
   {
    "duration": 475,
    "start_time": "2021-10-15T21:00:37.540Z"
   },
   {
    "duration": 141,
    "start_time": "2021-10-15T21:00:38.018Z"
   },
   {
    "duration": 563,
    "start_time": "2021-10-15T21:00:38.161Z"
   },
   {
    "duration": 124,
    "start_time": "2021-10-15T21:00:38.726Z"
   },
   {
    "duration": 4,
    "start_time": "2021-10-15T21:00:38.851Z"
   },
   {
    "duration": 19,
    "start_time": "2021-10-15T21:00:38.857Z"
   },
   {
    "duration": 8,
    "start_time": "2021-10-15T21:00:38.878Z"
   },
   {
    "duration": 20,
    "start_time": "2021-10-15T21:00:38.887Z"
   },
   {
    "duration": 325,
    "start_time": "2021-10-15T21:00:38.909Z"
   },
   {
    "duration": 5,
    "start_time": "2021-10-15T21:00:39.236Z"
   },
   {
    "duration": 25,
    "start_time": "2021-10-15T21:00:39.242Z"
   },
   {
    "duration": 518,
    "start_time": "2021-10-15T21:00:39.269Z"
   },
   {
    "duration": 131,
    "start_time": "2021-10-15T21:00:39.789Z"
   },
   {
    "duration": 134,
    "start_time": "2021-10-15T21:00:39.922Z"
   },
   {
    "duration": 4,
    "start_time": "2021-10-15T21:00:40.058Z"
   },
   {
    "duration": 22,
    "start_time": "2021-10-15T21:00:40.063Z"
   },
   {
    "duration": 9,
    "start_time": "2021-10-15T21:00:40.086Z"
   },
   {
    "duration": 25,
    "start_time": "2021-10-15T21:00:40.097Z"
   },
   {
    "duration": 460,
    "start_time": "2021-10-15T21:00:40.123Z"
   },
   {
    "duration": 6,
    "start_time": "2021-10-15T21:00:40.585Z"
   },
   {
    "duration": 21,
    "start_time": "2021-10-15T21:00:40.593Z"
   },
   {
    "duration": 463,
    "start_time": "2021-10-15T21:00:40.615Z"
   },
   {
    "duration": 5,
    "start_time": "2021-10-15T21:00:41.080Z"
   },
   {
    "duration": 9,
    "start_time": "2021-10-15T21:00:41.087Z"
   },
   {
    "duration": 13,
    "start_time": "2021-10-15T21:00:41.097Z"
   },
   {
    "duration": 193,
    "start_time": "2021-10-15T21:00:41.111Z"
   },
   {
    "duration": 4,
    "start_time": "2021-10-15T21:00:41.306Z"
   },
   {
    "duration": 13,
    "start_time": "2021-10-15T21:00:41.312Z"
   },
   {
    "duration": 6,
    "start_time": "2021-10-15T21:00:41.327Z"
   },
   {
    "duration": 12,
    "start_time": "2021-10-15T21:00:41.335Z"
   },
   {
    "duration": 463,
    "start_time": "2021-10-15T21:00:41.349Z"
   },
   {
    "duration": 5,
    "start_time": "2021-10-15T21:00:41.814Z"
   },
   {
    "duration": 7,
    "start_time": "2021-10-15T21:00:41.821Z"
   },
   {
    "duration": 7,
    "start_time": "2021-10-15T21:00:41.830Z"
   },
   {
    "duration": 24,
    "start_time": "2021-10-15T21:00:41.839Z"
   },
   {
    "duration": 29,
    "start_time": "2021-10-15T21:00:41.864Z"
   },
   {
    "duration": 129,
    "start_time": "2021-10-15T21:00:41.895Z"
   },
   {
    "duration": 134,
    "start_time": "2021-10-15T21:00:42.027Z"
   },
   {
    "duration": 13,
    "start_time": "2021-10-15T21:00:42.163Z"
   },
   {
    "duration": 29,
    "start_time": "2021-10-15T21:00:42.178Z"
   },
   {
    "duration": 41,
    "start_time": "2021-10-15T21:00:42.209Z"
   },
   {
    "duration": 24,
    "start_time": "2021-10-15T21:00:42.252Z"
   },
   {
    "duration": 42,
    "start_time": "2021-10-15T21:00:42.278Z"
   },
   {
    "duration": 47,
    "start_time": "2021-10-15T21:00:42.322Z"
   },
   {
    "duration": 8,
    "start_time": "2021-10-15T21:00:42.371Z"
   },
   {
    "duration": 10,
    "start_time": "2021-10-15T21:00:42.381Z"
   },
   {
    "duration": 186,
    "start_time": "2021-10-15T21:00:42.393Z"
   },
   {
    "duration": 9059,
    "start_time": "2021-10-15T21:05:17.109Z"
   },
   {
    "duration": 1124,
    "start_time": "2021-10-15T21:09:31.711Z"
   },
   {
    "duration": 411,
    "start_time": "2021-10-15T21:09:32.836Z"
   },
   {
    "duration": 12,
    "start_time": "2021-10-15T21:09:33.249Z"
   },
   {
    "duration": 20,
    "start_time": "2021-10-15T21:09:33.263Z"
   },
   {
    "duration": 19,
    "start_time": "2021-10-15T21:09:33.284Z"
   },
   {
    "duration": 22,
    "start_time": "2021-10-15T21:09:33.305Z"
   },
   {
    "duration": 23,
    "start_time": "2021-10-15T21:09:33.329Z"
   },
   {
    "duration": 29,
    "start_time": "2021-10-15T21:09:33.355Z"
   },
   {
    "duration": 23,
    "start_time": "2021-10-15T21:09:33.386Z"
   },
   {
    "duration": 6,
    "start_time": "2021-10-15T21:09:33.411Z"
   },
   {
    "duration": 11,
    "start_time": "2021-10-15T21:09:33.419Z"
   },
   {
    "duration": 39,
    "start_time": "2021-10-15T21:09:33.432Z"
   },
   {
    "duration": 691,
    "start_time": "2021-10-15T21:09:33.472Z"
   },
   {
    "duration": 30,
    "start_time": "2021-10-15T21:09:34.165Z"
   },
   {
    "duration": 8,
    "start_time": "2021-10-15T21:09:34.197Z"
   },
   {
    "duration": 35,
    "start_time": "2021-10-15T21:09:34.207Z"
   },
   {
    "duration": 296,
    "start_time": "2021-10-15T21:09:34.244Z"
   },
   {
    "duration": 20,
    "start_time": "2021-10-15T21:09:34.542Z"
   },
   {
    "duration": 12,
    "start_time": "2021-10-15T21:09:34.564Z"
   },
   {
    "duration": 9,
    "start_time": "2021-10-15T21:09:34.578Z"
   },
   {
    "duration": 49,
    "start_time": "2021-10-15T21:09:34.589Z"
   },
   {
    "duration": 3,
    "start_time": "2021-10-15T21:09:34.639Z"
   },
   {
    "duration": 3,
    "start_time": "2021-10-15T21:09:34.646Z"
   },
   {
    "duration": 37,
    "start_time": "2021-10-15T21:09:34.652Z"
   },
   {
    "duration": 8,
    "start_time": "2021-10-15T21:09:34.691Z"
   },
   {
    "duration": 13,
    "start_time": "2021-10-15T21:09:34.700Z"
   },
   {
    "duration": 270,
    "start_time": "2021-10-15T21:09:34.715Z"
   },
   {
    "duration": 7,
    "start_time": "2021-10-15T21:09:34.987Z"
   },
   {
    "duration": 15,
    "start_time": "2021-10-15T21:09:34.995Z"
   },
   {
    "duration": 417,
    "start_time": "2021-10-15T21:09:35.012Z"
   },
   {
    "duration": 8,
    "start_time": "2021-10-15T21:09:35.431Z"
   },
   {
    "duration": 13,
    "start_time": "2021-10-15T21:09:35.440Z"
   },
   {
    "duration": 23,
    "start_time": "2021-10-15T21:09:35.454Z"
   },
   {
    "duration": 15,
    "start_time": "2021-10-15T21:09:35.479Z"
   },
   {
    "duration": 548,
    "start_time": "2021-10-15T21:09:35.496Z"
   },
   {
    "duration": 16,
    "start_time": "2021-10-15T21:09:36.046Z"
   },
   {
    "duration": 24,
    "start_time": "2021-10-15T21:09:36.064Z"
   },
   {
    "duration": 22,
    "start_time": "2021-10-15T21:09:36.089Z"
   },
   {
    "duration": 8,
    "start_time": "2021-10-15T21:09:36.112Z"
   },
   {
    "duration": 4,
    "start_time": "2021-10-15T21:09:36.122Z"
   },
   {
    "duration": 273,
    "start_time": "2021-10-15T21:09:36.127Z"
   },
   {
    "duration": 8,
    "start_time": "2021-10-15T21:09:36.402Z"
   },
   {
    "duration": 9,
    "start_time": "2021-10-15T21:09:36.412Z"
   },
   {
    "duration": 66,
    "start_time": "2021-10-15T21:09:36.422Z"
   },
   {
    "duration": 30,
    "start_time": "2021-10-15T21:09:36.489Z"
   },
   {
    "duration": 14,
    "start_time": "2021-10-15T21:09:36.521Z"
   },
   {
    "duration": 12,
    "start_time": "2021-10-15T21:09:36.537Z"
   },
   {
    "duration": 2,
    "start_time": "2021-10-15T21:09:36.551Z"
   },
   {
    "duration": 14,
    "start_time": "2021-10-15T21:09:36.577Z"
   },
   {
    "duration": 6,
    "start_time": "2021-10-15T21:09:36.593Z"
   },
   {
    "duration": 15,
    "start_time": "2021-10-15T21:09:36.601Z"
   },
   {
    "duration": 8,
    "start_time": "2021-10-15T21:09:36.617Z"
   },
   {
    "duration": 5,
    "start_time": "2021-10-15T21:09:36.627Z"
   },
   {
    "duration": 7,
    "start_time": "2021-10-15T21:09:36.633Z"
   },
   {
    "duration": 5,
    "start_time": "2021-10-15T21:09:36.676Z"
   },
   {
    "duration": 14,
    "start_time": "2021-10-15T21:09:36.682Z"
   },
   {
    "duration": 6,
    "start_time": "2021-10-15T21:09:36.697Z"
   },
   {
    "duration": 918,
    "start_time": "2021-10-15T21:09:36.705Z"
   },
   {
    "duration": 13,
    "start_time": "2021-10-15T21:09:37.625Z"
   },
   {
    "duration": 46,
    "start_time": "2021-10-15T21:09:37.639Z"
   },
   {
    "duration": 11,
    "start_time": "2021-10-15T21:09:37.686Z"
   },
   {
    "duration": 8,
    "start_time": "2021-10-15T21:09:37.699Z"
   },
   {
    "duration": 4,
    "start_time": "2021-10-15T21:09:37.709Z"
   },
   {
    "duration": 7,
    "start_time": "2021-10-15T21:09:37.715Z"
   },
   {
    "duration": 3,
    "start_time": "2021-10-15T21:09:37.724Z"
   },
   {
    "duration": 8,
    "start_time": "2021-10-15T21:09:37.728Z"
   },
   {
    "duration": 2,
    "start_time": "2021-10-15T21:09:37.738Z"
   },
   {
    "duration": 6,
    "start_time": "2021-10-15T21:09:37.776Z"
   },
   {
    "duration": 5,
    "start_time": "2021-10-15T21:09:37.785Z"
   },
   {
    "duration": 9,
    "start_time": "2021-10-15T21:09:37.792Z"
   },
   {
    "duration": 4,
    "start_time": "2021-10-15T21:09:37.803Z"
   },
   {
    "duration": 9,
    "start_time": "2021-10-15T21:09:37.809Z"
   },
   {
    "duration": 6,
    "start_time": "2021-10-15T21:09:37.819Z"
   },
   {
    "duration": 11,
    "start_time": "2021-10-15T21:09:37.826Z"
   },
   {
    "duration": 4,
    "start_time": "2021-10-15T21:09:37.838Z"
   },
   {
    "duration": 6,
    "start_time": "2021-10-15T21:09:37.843Z"
   },
   {
    "duration": 235,
    "start_time": "2021-10-15T21:09:37.850Z"
   },
   {
    "duration": 231,
    "start_time": "2021-10-15T21:09:38.087Z"
   },
   {
    "duration": 9,
    "start_time": "2021-10-15T21:09:38.319Z"
   },
   {
    "duration": 12,
    "start_time": "2021-10-15T21:09:38.329Z"
   },
   {
    "duration": 8,
    "start_time": "2021-10-15T21:09:38.342Z"
   },
   {
    "duration": 56,
    "start_time": "2021-10-15T21:09:38.351Z"
   },
   {
    "duration": 4,
    "start_time": "2021-10-15T21:09:38.408Z"
   },
   {
    "duration": 15,
    "start_time": "2021-10-15T21:09:38.413Z"
   },
   {
    "duration": 7,
    "start_time": "2021-10-15T21:09:38.429Z"
   },
   {
    "duration": 38,
    "start_time": "2021-10-15T21:09:38.438Z"
   },
   {
    "duration": 7,
    "start_time": "2021-10-15T21:09:38.478Z"
   },
   {
    "duration": 271,
    "start_time": "2021-10-15T21:09:38.487Z"
   },
   {
    "duration": 19,
    "start_time": "2021-10-15T21:09:38.760Z"
   },
   {
    "duration": 227,
    "start_time": "2021-10-15T21:09:38.780Z"
   },
   {
    "duration": 213,
    "start_time": "2021-10-15T21:09:39.009Z"
   },
   {
    "duration": 204,
    "start_time": "2021-10-15T21:09:39.224Z"
   },
   {
    "duration": 4,
    "start_time": "2021-10-15T21:09:39.430Z"
   },
   {
    "duration": 209,
    "start_time": "2021-10-15T21:09:39.436Z"
   },
   {
    "duration": 7,
    "start_time": "2021-10-15T21:09:39.647Z"
   },
   {
    "duration": 22,
    "start_time": "2021-10-15T21:09:39.655Z"
   },
   {
    "duration": 119,
    "start_time": "2021-10-15T21:09:39.679Z"
   },
   {
    "duration": 20,
    "start_time": "2021-10-15T21:09:39.799Z"
   },
   {
    "duration": 9,
    "start_time": "2021-10-15T21:09:39.820Z"
   },
   {
    "duration": 4,
    "start_time": "2021-10-15T21:09:39.830Z"
   },
   {
    "duration": 9,
    "start_time": "2021-10-15T21:09:39.835Z"
   },
   {
    "duration": 469,
    "start_time": "2021-10-15T21:09:39.845Z"
   },
   {
    "duration": 129,
    "start_time": "2021-10-15T21:09:40.316Z"
   },
   {
    "duration": 619,
    "start_time": "2021-10-15T21:09:40.447Z"
   },
   {
    "duration": 124,
    "start_time": "2021-10-15T21:09:41.068Z"
   },
   {
    "duration": 4,
    "start_time": "2021-10-15T21:09:41.194Z"
   },
   {
    "duration": 7,
    "start_time": "2021-10-15T21:09:41.199Z"
   },
   {
    "duration": 4,
    "start_time": "2021-10-15T21:09:41.208Z"
   },
   {
    "duration": 6,
    "start_time": "2021-10-15T21:09:41.214Z"
   },
   {
    "duration": 327,
    "start_time": "2021-10-15T21:09:41.221Z"
   },
   {
    "duration": 6,
    "start_time": "2021-10-15T21:09:41.550Z"
   },
   {
    "duration": 19,
    "start_time": "2021-10-15T21:09:41.558Z"
   },
   {
    "duration": 502,
    "start_time": "2021-10-15T21:09:41.579Z"
   },
   {
    "duration": 143,
    "start_time": "2021-10-15T21:09:42.082Z"
   },
   {
    "duration": 140,
    "start_time": "2021-10-15T21:09:42.227Z"
   },
   {
    "duration": 8,
    "start_time": "2021-10-15T21:09:42.369Z"
   },
   {
    "duration": 7,
    "start_time": "2021-10-15T21:09:42.379Z"
   },
   {
    "duration": 6,
    "start_time": "2021-10-15T21:09:42.388Z"
   },
   {
    "duration": 7,
    "start_time": "2021-10-15T21:09:42.395Z"
   },
   {
    "duration": 464,
    "start_time": "2021-10-15T21:09:42.404Z"
   },
   {
    "duration": 12,
    "start_time": "2021-10-15T21:09:42.870Z"
   },
   {
    "duration": 6,
    "start_time": "2021-10-15T21:09:42.884Z"
   },
   {
    "duration": 456,
    "start_time": "2021-10-15T21:09:42.892Z"
   },
   {
    "duration": 6,
    "start_time": "2021-10-15T21:09:43.349Z"
   },
   {
    "duration": 6,
    "start_time": "2021-10-15T21:09:43.357Z"
   },
   {
    "duration": 12,
    "start_time": "2021-10-15T21:09:43.377Z"
   },
   {
    "duration": 189,
    "start_time": "2021-10-15T21:09:43.391Z"
   },
   {
    "duration": 4,
    "start_time": "2021-10-15T21:09:43.581Z"
   },
   {
    "duration": 14,
    "start_time": "2021-10-15T21:09:43.587Z"
   },
   {
    "duration": 3,
    "start_time": "2021-10-15T21:09:43.603Z"
   },
   {
    "duration": 11,
    "start_time": "2021-10-15T21:09:43.608Z"
   },
   {
    "duration": 522,
    "start_time": "2021-10-15T21:09:43.620Z"
   },
   {
    "duration": 5,
    "start_time": "2021-10-15T21:09:44.143Z"
   },
   {
    "duration": 8,
    "start_time": "2021-10-15T21:09:44.150Z"
   },
   {
    "duration": 19,
    "start_time": "2021-10-15T21:09:44.159Z"
   },
   {
    "duration": 10,
    "start_time": "2021-10-15T21:09:44.179Z"
   },
   {
    "duration": 15,
    "start_time": "2021-10-15T21:09:44.190Z"
   },
   {
    "duration": 145,
    "start_time": "2021-10-15T21:09:44.207Z"
   },
   {
    "duration": 145,
    "start_time": "2021-10-15T21:09:44.354Z"
   },
   {
    "duration": 2,
    "start_time": "2021-10-15T21:09:44.500Z"
   },
   {
    "duration": 7,
    "start_time": "2021-10-15T21:09:44.504Z"
   },
   {
    "duration": 7,
    "start_time": "2021-10-15T21:09:44.513Z"
   },
   {
    "duration": 4,
    "start_time": "2021-10-15T21:09:44.521Z"
   },
   {
    "duration": 15,
    "start_time": "2021-10-15T21:09:44.527Z"
   },
   {
    "duration": 57,
    "start_time": "2021-10-15T21:09:44.544Z"
   },
   {
    "duration": 22,
    "start_time": "2021-10-15T21:09:44.603Z"
   },
   {
    "duration": 18,
    "start_time": "2021-10-15T21:09:44.627Z"
   },
   {
    "duration": 145,
    "start_time": "2021-10-15T21:09:44.647Z"
   },
   {
    "duration": 5,
    "start_time": "2021-10-15T21:18:56.489Z"
   },
   {
    "duration": 9669,
    "start_time": "2021-10-15T21:20:11.781Z"
   },
   {
    "duration": 229,
    "start_time": "2021-10-15T21:20:40.073Z"
   },
   {
    "duration": 972,
    "start_time": "2021-10-16T07:52:17.527Z"
   },
   {
    "duration": 558,
    "start_time": "2021-10-16T07:52:18.502Z"
   },
   {
    "duration": 21,
    "start_time": "2021-10-16T07:52:19.063Z"
   },
   {
    "duration": 24,
    "start_time": "2021-10-16T07:52:19.087Z"
   },
   {
    "duration": 13,
    "start_time": "2021-10-16T07:52:19.113Z"
   },
   {
    "duration": 46,
    "start_time": "2021-10-16T07:52:19.128Z"
   },
   {
    "duration": 6,
    "start_time": "2021-10-16T07:52:19.176Z"
   },
   {
    "duration": 11,
    "start_time": "2021-10-16T07:52:19.186Z"
   },
   {
    "duration": 16,
    "start_time": "2021-10-16T07:52:19.200Z"
   },
   {
    "duration": 49,
    "start_time": "2021-10-16T07:52:19.218Z"
   },
   {
    "duration": 12,
    "start_time": "2021-10-16T07:52:19.270Z"
   },
   {
    "duration": 28,
    "start_time": "2021-10-16T07:52:19.284Z"
   },
   {
    "duration": 1099,
    "start_time": "2021-10-16T07:52:19.314Z"
   },
   {
    "duration": 25,
    "start_time": "2021-10-16T07:52:20.416Z"
   },
   {
    "duration": 29,
    "start_time": "2021-10-16T07:52:20.443Z"
   },
   {
    "duration": 46,
    "start_time": "2021-10-16T07:52:20.475Z"
   },
   {
    "duration": 546,
    "start_time": "2021-10-16T07:52:20.524Z"
   },
   {
    "duration": 30,
    "start_time": "2021-10-16T07:52:21.073Z"
   },
   {
    "duration": 7,
    "start_time": "2021-10-16T07:52:21.106Z"
   },
   {
    "duration": 52,
    "start_time": "2021-10-16T07:52:21.115Z"
   },
   {
    "duration": 57,
    "start_time": "2021-10-16T07:52:21.170Z"
   },
   {
    "duration": 6,
    "start_time": "2021-10-16T07:52:21.230Z"
   },
   {
    "duration": 25,
    "start_time": "2021-10-16T07:52:21.242Z"
   },
   {
    "duration": 29,
    "start_time": "2021-10-16T07:52:21.271Z"
   },
   {
    "duration": 13,
    "start_time": "2021-10-16T07:52:21.302Z"
   },
   {
    "duration": 23,
    "start_time": "2021-10-16T07:52:21.318Z"
   },
   {
    "duration": 591,
    "start_time": "2021-10-16T07:52:21.343Z"
   },
   {
    "duration": 10,
    "start_time": "2021-10-16T07:52:21.936Z"
   },
   {
    "duration": 31,
    "start_time": "2021-10-16T07:52:21.948Z"
   },
   {
    "duration": 651,
    "start_time": "2021-10-16T07:52:21.981Z"
   },
   {
    "duration": 12,
    "start_time": "2021-10-16T07:52:22.634Z"
   },
   {
    "duration": 30,
    "start_time": "2021-10-16T07:52:22.648Z"
   },
   {
    "duration": 13,
    "start_time": "2021-10-16T07:52:22.681Z"
   },
   {
    "duration": 23,
    "start_time": "2021-10-16T07:52:22.696Z"
   },
   {
    "duration": 836,
    "start_time": "2021-10-16T07:52:22.721Z"
   },
   {
    "duration": 27,
    "start_time": "2021-10-16T07:52:23.560Z"
   },
   {
    "duration": 25,
    "start_time": "2021-10-16T07:52:23.590Z"
   },
   {
    "duration": 56,
    "start_time": "2021-10-16T07:52:23.617Z"
   },
   {
    "duration": 12,
    "start_time": "2021-10-16T07:52:23.675Z"
   },
   {
    "duration": 4,
    "start_time": "2021-10-16T07:52:23.690Z"
   },
   {
    "duration": 479,
    "start_time": "2021-10-16T07:52:23.697Z"
   },
   {
    "duration": 11,
    "start_time": "2021-10-16T07:52:24.179Z"
   },
   {
    "duration": 16,
    "start_time": "2021-10-16T07:52:24.192Z"
   },
   {
    "duration": 99,
    "start_time": "2021-10-16T07:52:24.210Z"
   },
   {
    "duration": 56,
    "start_time": "2021-10-16T07:52:24.312Z"
   },
   {
    "duration": 23,
    "start_time": "2021-10-16T07:52:24.370Z"
   },
   {
    "duration": 18,
    "start_time": "2021-10-16T07:52:24.395Z"
   },
   {
    "duration": 5,
    "start_time": "2021-10-16T07:52:24.415Z"
   },
   {
    "duration": 53,
    "start_time": "2021-10-16T07:52:24.422Z"
   },
   {
    "duration": 10,
    "start_time": "2021-10-16T07:52:24.477Z"
   },
   {
    "duration": 25,
    "start_time": "2021-10-16T07:52:24.489Z"
   },
   {
    "duration": 13,
    "start_time": "2021-10-16T07:52:24.516Z"
   },
   {
    "duration": 6,
    "start_time": "2021-10-16T07:52:24.567Z"
   },
   {
    "duration": 9,
    "start_time": "2021-10-16T07:52:24.575Z"
   },
   {
    "duration": 9,
    "start_time": "2021-10-16T07:52:24.586Z"
   },
   {
    "duration": 19,
    "start_time": "2021-10-16T07:52:24.597Z"
   },
   {
    "duration": 14,
    "start_time": "2021-10-16T07:52:24.618Z"
   },
   {
    "duration": 2140,
    "start_time": "2021-10-16T07:52:24.634Z"
   },
   {
    "duration": 21,
    "start_time": "2021-10-16T07:52:26.777Z"
   },
   {
    "duration": 89,
    "start_time": "2021-10-16T07:52:26.801Z"
   },
   {
    "duration": 20,
    "start_time": "2021-10-16T07:52:26.892Z"
   },
   {
    "duration": 11,
    "start_time": "2021-10-16T07:52:26.914Z"
   },
   {
    "duration": 5,
    "start_time": "2021-10-16T07:52:26.927Z"
   },
   {
    "duration": 35,
    "start_time": "2021-10-16T07:52:26.934Z"
   },
   {
    "duration": 4,
    "start_time": "2021-10-16T07:52:26.972Z"
   },
   {
    "duration": 11,
    "start_time": "2021-10-16T07:52:26.978Z"
   },
   {
    "duration": 11,
    "start_time": "2021-10-16T07:52:26.991Z"
   },
   {
    "duration": 8,
    "start_time": "2021-10-16T07:52:27.013Z"
   },
   {
    "duration": 5,
    "start_time": "2021-10-16T07:52:27.025Z"
   },
   {
    "duration": 40,
    "start_time": "2021-10-16T07:52:27.032Z"
   },
   {
    "duration": 9,
    "start_time": "2021-10-16T07:52:27.075Z"
   },
   {
    "duration": 22,
    "start_time": "2021-10-16T07:52:27.087Z"
   },
   {
    "duration": 7,
    "start_time": "2021-10-16T07:52:27.112Z"
   },
   {
    "duration": 12,
    "start_time": "2021-10-16T07:52:27.121Z"
   },
   {
    "duration": 6,
    "start_time": "2021-10-16T07:52:27.136Z"
   },
   {
    "duration": 8,
    "start_time": "2021-10-16T07:52:27.167Z"
   },
   {
    "duration": 447,
    "start_time": "2021-10-16T07:52:27.177Z"
   },
   {
    "duration": 460,
    "start_time": "2021-10-16T07:52:27.627Z"
   },
   {
    "duration": 14,
    "start_time": "2021-10-16T07:52:28.090Z"
   },
   {
    "duration": 23,
    "start_time": "2021-10-16T07:52:28.107Z"
   },
   {
    "duration": 42,
    "start_time": "2021-10-16T07:52:28.132Z"
   },
   {
    "duration": 61,
    "start_time": "2021-10-16T07:52:28.176Z"
   },
   {
    "duration": 28,
    "start_time": "2021-10-16T07:52:28.239Z"
   },
   {
    "duration": 24,
    "start_time": "2021-10-16T07:52:28.270Z"
   },
   {
    "duration": 11,
    "start_time": "2021-10-16T07:52:28.296Z"
   },
   {
    "duration": 23,
    "start_time": "2021-10-16T07:52:28.309Z"
   },
   {
    "duration": 38,
    "start_time": "2021-10-16T07:52:28.335Z"
   },
   {
    "duration": 488,
    "start_time": "2021-10-16T07:52:28.375Z"
   },
   {
    "duration": 19,
    "start_time": "2021-10-16T07:52:28.865Z"
   },
   {
    "duration": 457,
    "start_time": "2021-10-16T07:52:28.887Z"
   },
   {
    "duration": 400,
    "start_time": "2021-10-16T07:52:29.346Z"
   },
   {
    "duration": 372,
    "start_time": "2021-10-16T07:52:29.748Z"
   },
   {
    "duration": 5,
    "start_time": "2021-10-16T07:52:30.123Z"
   },
   {
    "duration": 336,
    "start_time": "2021-10-16T07:52:30.130Z"
   },
   {
    "duration": 9,
    "start_time": "2021-10-16T07:52:30.469Z"
   },
   {
    "duration": 18,
    "start_time": "2021-10-16T07:52:30.481Z"
   },
   {
    "duration": 217,
    "start_time": "2021-10-16T07:52:30.502Z"
   },
   {
    "duration": 51,
    "start_time": "2021-10-16T07:52:30.722Z"
   },
   {
    "duration": 16,
    "start_time": "2021-10-16T07:52:30.776Z"
   },
   {
    "duration": 18,
    "start_time": "2021-10-16T07:52:30.795Z"
   },
   {
    "duration": 42,
    "start_time": "2021-10-16T07:52:30.816Z"
   },
   {
    "duration": 879,
    "start_time": "2021-10-16T07:52:30.861Z"
   },
   {
    "duration": 245,
    "start_time": "2021-10-16T07:52:31.742Z"
   },
   {
    "duration": 1197,
    "start_time": "2021-10-16T07:52:31.989Z"
   },
   {
    "duration": 235,
    "start_time": "2021-10-16T07:52:33.189Z"
   },
   {
    "duration": 7,
    "start_time": "2021-10-16T07:52:33.427Z"
   },
   {
    "duration": 28,
    "start_time": "2021-10-16T07:52:33.440Z"
   },
   {
    "duration": 6,
    "start_time": "2021-10-16T07:52:33.471Z"
   },
   {
    "duration": 10,
    "start_time": "2021-10-16T07:52:33.480Z"
   },
   {
    "duration": 616,
    "start_time": "2021-10-16T07:52:33.493Z"
   },
   {
    "duration": 8,
    "start_time": "2021-10-16T07:52:34.112Z"
   },
   {
    "duration": 13,
    "start_time": "2021-10-16T07:52:34.122Z"
   },
   {
    "duration": 963,
    "start_time": "2021-10-16T07:52:34.138Z"
   },
   {
    "duration": 287,
    "start_time": "2021-10-16T07:52:35.103Z"
   },
   {
    "duration": 238,
    "start_time": "2021-10-16T07:52:35.394Z"
   },
   {
    "duration": 6,
    "start_time": "2021-10-16T07:52:35.634Z"
   },
   {
    "duration": 27,
    "start_time": "2021-10-16T07:52:35.642Z"
   },
   {
    "duration": 6,
    "start_time": "2021-10-16T07:52:35.671Z"
   },
   {
    "duration": 18,
    "start_time": "2021-10-16T07:52:35.679Z"
   },
   {
    "duration": 870,
    "start_time": "2021-10-16T07:52:35.700Z"
   },
   {
    "duration": 12,
    "start_time": "2021-10-16T07:52:36.573Z"
   },
   {
    "duration": 11,
    "start_time": "2021-10-16T07:52:36.587Z"
   },
   {
    "duration": 896,
    "start_time": "2021-10-16T07:52:36.600Z"
   },
   {
    "duration": 11,
    "start_time": "2021-10-16T07:52:37.499Z"
   },
   {
    "duration": 11,
    "start_time": "2021-10-16T07:52:37.513Z"
   },
   {
    "duration": 56,
    "start_time": "2021-10-16T07:52:37.527Z"
   },
   {
    "duration": 337,
    "start_time": "2021-10-16T07:52:37.586Z"
   },
   {
    "duration": 6,
    "start_time": "2021-10-16T07:52:37.927Z"
   },
   {
    "duration": 39,
    "start_time": "2021-10-16T07:52:37.936Z"
   },
   {
    "duration": 6,
    "start_time": "2021-10-16T07:52:37.978Z"
   },
   {
    "duration": 22,
    "start_time": "2021-10-16T07:52:37.987Z"
   },
   {
    "duration": 567,
    "start_time": "2021-10-16T07:52:38.012Z"
   },
   {
    "duration": 8,
    "start_time": "2021-10-16T07:52:38.582Z"
   },
   {
    "duration": 10,
    "start_time": "2021-10-16T07:52:38.593Z"
   },
   {
    "duration": 7,
    "start_time": "2021-10-16T07:52:38.606Z"
   },
   {
    "duration": 52,
    "start_time": "2021-10-16T07:52:38.615Z"
   },
   {
    "duration": 23,
    "start_time": "2021-10-16T07:52:38.670Z"
   },
   {
    "duration": 247,
    "start_time": "2021-10-16T07:52:38.695Z"
   },
   {
    "duration": 252,
    "start_time": "2021-10-16T07:52:38.944Z"
   },
   {
    "duration": 3,
    "start_time": "2021-10-16T07:52:39.199Z"
   },
   {
    "duration": 10,
    "start_time": "2021-10-16T07:52:39.204Z"
   },
   {
    "duration": 12,
    "start_time": "2021-10-16T07:52:39.216Z"
   },
   {
    "duration": 6,
    "start_time": "2021-10-16T07:52:39.230Z"
   },
   {
    "duration": 46,
    "start_time": "2021-10-16T07:52:39.239Z"
   },
   {
    "duration": 49,
    "start_time": "2021-10-16T07:52:39.288Z"
   },
   {
    "duration": 41,
    "start_time": "2021-10-16T07:52:39.340Z"
   },
   {
    "duration": 18,
    "start_time": "2021-10-16T07:52:39.383Z"
   },
   {
    "duration": 257,
    "start_time": "2021-10-16T07:52:39.403Z"
   },
   {
    "duration": 440,
    "start_time": "2021-10-16T07:54:48.499Z"
   },
   {
    "duration": 695,
    "start_time": "2021-10-17T07:45:51.280Z"
   },
   {
    "duration": 385,
    "start_time": "2021-10-17T07:45:51.976Z"
   },
   {
    "duration": 12,
    "start_time": "2021-10-17T07:45:52.362Z"
   },
   {
    "duration": 19,
    "start_time": "2021-10-17T07:45:52.376Z"
   },
   {
    "duration": 8,
    "start_time": "2021-10-17T07:45:52.396Z"
   },
   {
    "duration": 8,
    "start_time": "2021-10-17T07:45:52.405Z"
   },
   {
    "duration": 3,
    "start_time": "2021-10-17T07:45:52.414Z"
   },
   {
    "duration": 7,
    "start_time": "2021-10-17T07:45:52.420Z"
   },
   {
    "duration": 11,
    "start_time": "2021-10-17T07:45:52.429Z"
   },
   {
    "duration": 6,
    "start_time": "2021-10-17T07:45:52.442Z"
   },
   {
    "duration": 8,
    "start_time": "2021-10-17T07:45:52.449Z"
   },
   {
    "duration": 47,
    "start_time": "2021-10-17T07:45:52.458Z"
   },
   {
    "duration": 695,
    "start_time": "2021-10-17T07:45:52.507Z"
   },
   {
    "duration": 18,
    "start_time": "2021-10-17T07:45:53.203Z"
   },
   {
    "duration": 7,
    "start_time": "2021-10-17T07:45:53.223Z"
   },
   {
    "duration": 35,
    "start_time": "2021-10-17T07:45:53.231Z"
   },
   {
    "duration": 334,
    "start_time": "2021-10-17T07:45:53.267Z"
   },
   {
    "duration": 16,
    "start_time": "2021-10-17T07:45:53.603Z"
   },
   {
    "duration": 3,
    "start_time": "2021-10-17T07:45:53.621Z"
   },
   {
    "duration": 10,
    "start_time": "2021-10-17T07:45:53.625Z"
   },
   {
    "duration": 67,
    "start_time": "2021-10-17T07:45:53.636Z"
   },
   {
    "duration": 5,
    "start_time": "2021-10-17T07:45:53.704Z"
   },
   {
    "duration": 4,
    "start_time": "2021-10-17T07:45:53.712Z"
   },
   {
    "duration": 15,
    "start_time": "2021-10-17T07:45:53.718Z"
   },
   {
    "duration": 7,
    "start_time": "2021-10-17T07:45:53.735Z"
   },
   {
    "duration": 13,
    "start_time": "2021-10-17T07:45:53.744Z"
   },
   {
    "duration": 278,
    "start_time": "2021-10-17T07:45:53.759Z"
   },
   {
    "duration": 6,
    "start_time": "2021-10-17T07:45:54.039Z"
   },
   {
    "duration": 15,
    "start_time": "2021-10-17T07:45:54.047Z"
   },
   {
    "duration": 397,
    "start_time": "2021-10-17T07:45:54.064Z"
   },
   {
    "duration": 8,
    "start_time": "2021-10-17T07:45:54.462Z"
   },
   {
    "duration": 21,
    "start_time": "2021-10-17T07:45:54.472Z"
   },
   {
    "duration": 7,
    "start_time": "2021-10-17T07:45:54.495Z"
   },
   {
    "duration": 16,
    "start_time": "2021-10-17T07:45:54.504Z"
   },
   {
    "duration": 525,
    "start_time": "2021-10-17T07:45:54.521Z"
   },
   {
    "duration": 17,
    "start_time": "2021-10-17T07:45:55.047Z"
   },
   {
    "duration": 27,
    "start_time": "2021-10-17T07:45:55.066Z"
   },
   {
    "duration": 22,
    "start_time": "2021-10-17T07:45:55.095Z"
   },
   {
    "duration": 8,
    "start_time": "2021-10-17T07:45:55.118Z"
   },
   {
    "duration": 4,
    "start_time": "2021-10-17T07:45:55.127Z"
   },
   {
    "duration": 268,
    "start_time": "2021-10-17T07:45:55.132Z"
   },
   {
    "duration": 7,
    "start_time": "2021-10-17T07:45:55.402Z"
   },
   {
    "duration": 10,
    "start_time": "2021-10-17T07:45:55.411Z"
   },
   {
    "duration": 44,
    "start_time": "2021-10-17T07:45:55.423Z"
   },
   {
    "duration": 49,
    "start_time": "2021-10-17T07:45:55.469Z"
   },
   {
    "duration": 13,
    "start_time": "2021-10-17T07:45:55.519Z"
   },
   {
    "duration": 12,
    "start_time": "2021-10-17T07:45:55.534Z"
   },
   {
    "duration": 2,
    "start_time": "2021-10-17T07:45:55.548Z"
   },
   {
    "duration": 15,
    "start_time": "2021-10-17T07:45:55.551Z"
   },
   {
    "duration": 28,
    "start_time": "2021-10-17T07:45:55.567Z"
   },
   {
    "duration": 13,
    "start_time": "2021-10-17T07:45:55.597Z"
   },
   {
    "duration": 9,
    "start_time": "2021-10-17T07:45:55.611Z"
   },
   {
    "duration": 4,
    "start_time": "2021-10-17T07:45:55.622Z"
   },
   {
    "duration": 8,
    "start_time": "2021-10-17T07:45:55.627Z"
   },
   {
    "duration": 4,
    "start_time": "2021-10-17T07:45:55.636Z"
   },
   {
    "duration": 12,
    "start_time": "2021-10-17T07:45:55.642Z"
   },
   {
    "duration": 38,
    "start_time": "2021-10-17T07:45:55.655Z"
   },
   {
    "duration": 877,
    "start_time": "2021-10-17T07:45:55.694Z"
   },
   {
    "duration": 21,
    "start_time": "2021-10-17T07:45:56.573Z"
   },
   {
    "duration": 35,
    "start_time": "2021-10-17T07:45:56.595Z"
   },
   {
    "duration": 11,
    "start_time": "2021-10-17T07:45:56.632Z"
   },
   {
    "duration": 8,
    "start_time": "2021-10-17T07:45:56.645Z"
   },
   {
    "duration": 5,
    "start_time": "2021-10-17T07:45:56.655Z"
   },
   {
    "duration": 6,
    "start_time": "2021-10-17T07:45:56.662Z"
   },
   {
    "duration": 3,
    "start_time": "2021-10-17T07:45:56.691Z"
   },
   {
    "duration": 9,
    "start_time": "2021-10-17T07:45:56.696Z"
   },
   {
    "duration": 4,
    "start_time": "2021-10-17T07:45:56.706Z"
   },
   {
    "duration": 5,
    "start_time": "2021-10-17T07:45:56.716Z"
   },
   {
    "duration": 2,
    "start_time": "2021-10-17T07:45:56.724Z"
   },
   {
    "duration": 6,
    "start_time": "2021-10-17T07:45:56.728Z"
   },
   {
    "duration": 4,
    "start_time": "2021-10-17T07:45:56.735Z"
   },
   {
    "duration": 7,
    "start_time": "2021-10-17T07:45:56.740Z"
   },
   {
    "duration": 5,
    "start_time": "2021-10-17T07:45:56.748Z"
   },
   {
    "duration": 6,
    "start_time": "2021-10-17T07:45:56.754Z"
   },
   {
    "duration": 29,
    "start_time": "2021-10-17T07:45:56.762Z"
   },
   {
    "duration": 5,
    "start_time": "2021-10-17T07:45:56.793Z"
   },
   {
    "duration": 260,
    "start_time": "2021-10-17T07:45:56.800Z"
   },
   {
    "duration": 247,
    "start_time": "2021-10-17T07:45:57.062Z"
   },
   {
    "duration": 9,
    "start_time": "2021-10-17T07:45:57.311Z"
   },
   {
    "duration": 12,
    "start_time": "2021-10-17T07:45:57.322Z"
   },
   {
    "duration": 8,
    "start_time": "2021-10-17T07:45:57.335Z"
   },
   {
    "duration": 58,
    "start_time": "2021-10-17T07:45:57.344Z"
   },
   {
    "duration": 4,
    "start_time": "2021-10-17T07:45:57.404Z"
   },
   {
    "duration": 14,
    "start_time": "2021-10-17T07:45:57.409Z"
   },
   {
    "duration": 8,
    "start_time": "2021-10-17T07:45:57.425Z"
   },
   {
    "duration": 15,
    "start_time": "2021-10-17T07:45:57.435Z"
   },
   {
    "duration": 7,
    "start_time": "2021-10-17T07:45:57.451Z"
   },
   {
    "duration": 285,
    "start_time": "2021-10-17T07:45:57.459Z"
   },
   {
    "duration": 13,
    "start_time": "2021-10-17T07:45:57.745Z"
   },
   {
    "duration": 242,
    "start_time": "2021-10-17T07:45:57.759Z"
   },
   {
    "duration": 227,
    "start_time": "2021-10-17T07:45:58.003Z"
   },
   {
    "duration": 215,
    "start_time": "2021-10-17T07:45:58.232Z"
   },
   {
    "duration": 4,
    "start_time": "2021-10-17T07:45:58.449Z"
   },
   {
    "duration": 203,
    "start_time": "2021-10-17T07:45:58.455Z"
   },
   {
    "duration": 5,
    "start_time": "2021-10-17T07:45:58.660Z"
   },
   {
    "duration": 7,
    "start_time": "2021-10-17T07:45:58.667Z"
   },
   {
    "duration": 121,
    "start_time": "2021-10-17T07:45:58.675Z"
   },
   {
    "duration": 20,
    "start_time": "2021-10-17T07:45:58.798Z"
   },
   {
    "duration": 7,
    "start_time": "2021-10-17T07:45:58.819Z"
   },
   {
    "duration": 3,
    "start_time": "2021-10-17T07:45:58.828Z"
   },
   {
    "duration": 10,
    "start_time": "2021-10-17T07:45:58.833Z"
   },
   {
    "duration": 483,
    "start_time": "2021-10-17T07:45:58.845Z"
   },
   {
    "duration": 144,
    "start_time": "2021-10-17T07:45:59.329Z"
   },
   {
    "duration": 594,
    "start_time": "2021-10-17T07:45:59.475Z"
   },
   {
    "duration": 126,
    "start_time": "2021-10-17T07:46:00.071Z"
   },
   {
    "duration": 4,
    "start_time": "2021-10-17T07:46:00.198Z"
   },
   {
    "duration": 8,
    "start_time": "2021-10-17T07:46:00.204Z"
   },
   {
    "duration": 9,
    "start_time": "2021-10-17T07:46:00.213Z"
   },
   {
    "duration": 6,
    "start_time": "2021-10-17T07:46:00.223Z"
   },
   {
    "duration": 335,
    "start_time": "2021-10-17T07:46:00.231Z"
   },
   {
    "duration": 6,
    "start_time": "2021-10-17T07:46:00.567Z"
   },
   {
    "duration": 18,
    "start_time": "2021-10-17T07:46:00.574Z"
   },
   {
    "duration": 537,
    "start_time": "2021-10-17T07:46:00.594Z"
   },
   {
    "duration": 140,
    "start_time": "2021-10-17T07:46:01.133Z"
   },
   {
    "duration": 137,
    "start_time": "2021-10-17T07:46:01.274Z"
   },
   {
    "duration": 4,
    "start_time": "2021-10-17T07:46:01.412Z"
   },
   {
    "duration": 11,
    "start_time": "2021-10-17T07:46:01.418Z"
   },
   {
    "duration": 7,
    "start_time": "2021-10-17T07:46:01.430Z"
   },
   {
    "duration": 16,
    "start_time": "2021-10-17T07:46:01.438Z"
   },
   {
    "duration": 480,
    "start_time": "2021-10-17T07:46:01.455Z"
   },
   {
    "duration": 8,
    "start_time": "2021-10-17T07:46:01.937Z"
   },
   {
    "duration": 27,
    "start_time": "2021-10-17T07:46:01.946Z"
   },
   {
    "duration": 481,
    "start_time": "2021-10-17T07:46:01.975Z"
   },
   {
    "duration": 7,
    "start_time": "2021-10-17T07:46:02.458Z"
   },
   {
    "duration": 15,
    "start_time": "2021-10-17T07:46:02.467Z"
   },
   {
    "duration": 17,
    "start_time": "2021-10-17T07:46:02.492Z"
   },
   {
    "duration": 196,
    "start_time": "2021-10-17T07:46:02.510Z"
   },
   {
    "duration": 4,
    "start_time": "2021-10-17T07:46:02.707Z"
   },
   {
    "duration": 26,
    "start_time": "2021-10-17T07:46:02.712Z"
   },
   {
    "duration": 16,
    "start_time": "2021-10-17T07:46:02.739Z"
   },
   {
    "duration": 37,
    "start_time": "2021-10-17T07:46:02.756Z"
   },
   {
    "duration": 429,
    "start_time": "2021-10-17T07:46:02.795Z"
   },
   {
    "duration": 5,
    "start_time": "2021-10-17T07:46:03.226Z"
   },
   {
    "duration": 47,
    "start_time": "2021-10-17T07:46:03.232Z"
   },
   {
    "duration": 41,
    "start_time": "2021-10-17T07:46:03.280Z"
   },
   {
    "duration": 42,
    "start_time": "2021-10-17T07:46:03.323Z"
   },
   {
    "duration": 34,
    "start_time": "2021-10-17T07:46:03.367Z"
   },
   {
    "duration": 158,
    "start_time": "2021-10-17T07:46:03.403Z"
   },
   {
    "duration": 130,
    "start_time": "2021-10-17T07:46:03.562Z"
   },
   {
    "duration": 2,
    "start_time": "2021-10-17T07:46:03.694Z"
   },
   {
    "duration": 29,
    "start_time": "2021-10-17T07:46:03.698Z"
   },
   {
    "duration": 21,
    "start_time": "2021-10-17T07:46:03.728Z"
   },
   {
    "duration": 8,
    "start_time": "2021-10-17T07:46:03.751Z"
   },
   {
    "duration": 33,
    "start_time": "2021-10-17T07:46:03.760Z"
   },
   {
    "duration": 31,
    "start_time": "2021-10-17T07:46:03.795Z"
   },
   {
    "duration": 27,
    "start_time": "2021-10-17T07:46:03.828Z"
   },
   {
    "duration": 29,
    "start_time": "2021-10-17T07:46:03.856Z"
   },
   {
    "duration": 158,
    "start_time": "2021-10-17T07:46:03.886Z"
   },
   {
    "duration": 292,
    "start_time": "2021-10-17T07:51:49.882Z"
   },
   {
    "duration": 231,
    "start_time": "2021-10-17T07:58:49.566Z"
   },
   {
    "duration": 216,
    "start_time": "2021-10-17T08:00:04.343Z"
   },
   {
    "duration": 210,
    "start_time": "2021-10-17T08:02:06.173Z"
   },
   {
    "duration": 5374,
    "start_time": "2021-10-17T08:04:24.794Z"
   },
   {
    "duration": 613,
    "start_time": "2021-10-17T08:05:06.828Z"
   },
   {
    "duration": 420,
    "start_time": "2021-10-17T08:05:07.442Z"
   },
   {
    "duration": 13,
    "start_time": "2021-10-17T08:05:07.864Z"
   },
   {
    "duration": 25,
    "start_time": "2021-10-17T08:05:07.879Z"
   },
   {
    "duration": 9,
    "start_time": "2021-10-17T08:05:07.905Z"
   },
   {
    "duration": 12,
    "start_time": "2021-10-17T08:05:07.916Z"
   },
   {
    "duration": 11,
    "start_time": "2021-10-17T08:05:07.930Z"
   },
   {
    "duration": 8,
    "start_time": "2021-10-17T08:05:07.943Z"
   },
   {
    "duration": 11,
    "start_time": "2021-10-17T08:05:07.953Z"
   },
   {
    "duration": 6,
    "start_time": "2021-10-17T08:05:07.966Z"
   },
   {
    "duration": 26,
    "start_time": "2021-10-17T08:05:07.973Z"
   },
   {
    "duration": 24,
    "start_time": "2021-10-17T08:05:08.000Z"
   },
   {
    "duration": 754,
    "start_time": "2021-10-17T08:05:08.026Z"
   },
   {
    "duration": 19,
    "start_time": "2021-10-17T08:05:08.782Z"
   },
   {
    "duration": 9,
    "start_time": "2021-10-17T08:05:08.802Z"
   },
   {
    "duration": 37,
    "start_time": "2021-10-17T08:05:08.812Z"
   },
   {
    "duration": 325,
    "start_time": "2021-10-17T08:05:08.851Z"
   },
   {
    "duration": 26,
    "start_time": "2021-10-17T08:05:09.178Z"
   },
   {
    "duration": 4,
    "start_time": "2021-10-17T08:05:09.205Z"
   },
   {
    "duration": 11,
    "start_time": "2021-10-17T08:05:09.211Z"
   },
   {
    "duration": 69,
    "start_time": "2021-10-17T08:05:09.224Z"
   },
   {
    "duration": 4,
    "start_time": "2021-10-17T08:05:09.294Z"
   },
   {
    "duration": 2,
    "start_time": "2021-10-17T08:05:09.302Z"
   },
   {
    "duration": 18,
    "start_time": "2021-10-17T08:05:09.306Z"
   },
   {
    "duration": 9,
    "start_time": "2021-10-17T08:05:09.325Z"
   },
   {
    "duration": 13,
    "start_time": "2021-10-17T08:05:09.335Z"
   },
   {
    "duration": 308,
    "start_time": "2021-10-17T08:05:09.350Z"
   },
   {
    "duration": 7,
    "start_time": "2021-10-17T08:05:09.659Z"
   },
   {
    "duration": 28,
    "start_time": "2021-10-17T08:05:09.667Z"
   },
   {
    "duration": 425,
    "start_time": "2021-10-17T08:05:09.696Z"
   },
   {
    "duration": 8,
    "start_time": "2021-10-17T08:05:10.122Z"
   },
   {
    "duration": 16,
    "start_time": "2021-10-17T08:05:10.132Z"
   },
   {
    "duration": 8,
    "start_time": "2021-10-17T08:05:10.150Z"
   },
   {
    "duration": 38,
    "start_time": "2021-10-17T08:05:10.160Z"
   },
   {
    "duration": 553,
    "start_time": "2021-10-17T08:05:10.200Z"
   },
   {
    "duration": 18,
    "start_time": "2021-10-17T08:05:10.755Z"
   },
   {
    "duration": 26,
    "start_time": "2021-10-17T08:05:10.774Z"
   },
   {
    "duration": 23,
    "start_time": "2021-10-17T08:05:10.802Z"
   },
   {
    "duration": 9,
    "start_time": "2021-10-17T08:05:10.826Z"
   },
   {
    "duration": 4,
    "start_time": "2021-10-17T08:05:10.836Z"
   },
   {
    "duration": 285,
    "start_time": "2021-10-17T08:05:10.841Z"
   },
   {
    "duration": 8,
    "start_time": "2021-10-17T08:05:11.128Z"
   },
   {
    "duration": 17,
    "start_time": "2021-10-17T08:05:11.137Z"
   },
   {
    "duration": 63,
    "start_time": "2021-10-17T08:05:11.155Z"
   },
   {
    "duration": 31,
    "start_time": "2021-10-17T08:05:11.219Z"
   },
   {
    "duration": 13,
    "start_time": "2021-10-17T08:05:11.252Z"
   },
   {
    "duration": 31,
    "start_time": "2021-10-17T08:05:11.267Z"
   },
   {
    "duration": 2,
    "start_time": "2021-10-17T08:05:11.300Z"
   },
   {
    "duration": 15,
    "start_time": "2021-10-17T08:05:11.303Z"
   },
   {
    "duration": 8,
    "start_time": "2021-10-17T08:05:11.320Z"
   },
   {
    "duration": 13,
    "start_time": "2021-10-17T08:05:11.330Z"
   },
   {
    "duration": 8,
    "start_time": "2021-10-17T08:05:11.345Z"
   },
   {
    "duration": 5,
    "start_time": "2021-10-17T08:05:11.355Z"
   },
   {
    "duration": 31,
    "start_time": "2021-10-17T08:05:11.361Z"
   },
   {
    "duration": 4,
    "start_time": "2021-10-17T08:05:11.394Z"
   },
   {
    "duration": 15,
    "start_time": "2021-10-17T08:05:11.399Z"
   },
   {
    "duration": 6,
    "start_time": "2021-10-17T08:05:11.416Z"
   },
   {
    "duration": 874,
    "start_time": "2021-10-17T08:05:11.424Z"
   },
   {
    "duration": 14,
    "start_time": "2021-10-17T08:05:12.299Z"
   },
   {
    "duration": 37,
    "start_time": "2021-10-17T08:05:12.314Z"
   },
   {
    "duration": 11,
    "start_time": "2021-10-17T08:05:12.353Z"
   },
   {
    "duration": 29,
    "start_time": "2021-10-17T08:05:12.365Z"
   },
   {
    "duration": 2,
    "start_time": "2021-10-17T08:05:12.395Z"
   },
   {
    "duration": 6,
    "start_time": "2021-10-17T08:05:12.399Z"
   },
   {
    "duration": 5,
    "start_time": "2021-10-17T08:05:12.407Z"
   },
   {
    "duration": 7,
    "start_time": "2021-10-17T08:05:12.413Z"
   },
   {
    "duration": 4,
    "start_time": "2021-10-17T08:05:12.421Z"
   },
   {
    "duration": 5,
    "start_time": "2021-10-17T08:05:12.431Z"
   },
   {
    "duration": 3,
    "start_time": "2021-10-17T08:05:12.438Z"
   },
   {
    "duration": 7,
    "start_time": "2021-10-17T08:05:12.442Z"
   },
   {
    "duration": 4,
    "start_time": "2021-10-17T08:05:12.450Z"
   },
   {
    "duration": 7,
    "start_time": "2021-10-17T08:05:12.455Z"
   },
   {
    "duration": 28,
    "start_time": "2021-10-17T08:05:12.464Z"
   },
   {
    "duration": 8,
    "start_time": "2021-10-17T08:05:12.493Z"
   },
   {
    "duration": 5,
    "start_time": "2021-10-17T08:05:12.502Z"
   },
   {
    "duration": 6,
    "start_time": "2021-10-17T08:05:12.508Z"
   },
   {
    "duration": 244,
    "start_time": "2021-10-17T08:05:12.516Z"
   },
   {
    "duration": 253,
    "start_time": "2021-10-17T08:05:12.762Z"
   },
   {
    "duration": 9,
    "start_time": "2021-10-17T08:05:13.017Z"
   },
   {
    "duration": 14,
    "start_time": "2021-10-17T08:05:13.027Z"
   },
   {
    "duration": 8,
    "start_time": "2021-10-17T08:05:13.042Z"
   },
   {
    "duration": 56,
    "start_time": "2021-10-17T08:05:13.052Z"
   },
   {
    "duration": 3,
    "start_time": "2021-10-17T08:05:13.110Z"
   },
   {
    "duration": 15,
    "start_time": "2021-10-17T08:05:13.115Z"
   },
   {
    "duration": 10,
    "start_time": "2021-10-17T08:05:13.132Z"
   },
   {
    "duration": 15,
    "start_time": "2021-10-17T08:05:13.143Z"
   },
   {
    "duration": 7,
    "start_time": "2021-10-17T08:05:13.160Z"
   },
   {
    "duration": 295,
    "start_time": "2021-10-17T08:05:13.169Z"
   },
   {
    "duration": 12,
    "start_time": "2021-10-17T08:05:13.466Z"
   },
   {
    "duration": 234,
    "start_time": "2021-10-17T08:05:13.491Z"
   },
   {
    "duration": 221,
    "start_time": "2021-10-17T08:05:13.726Z"
   },
   {
    "duration": 214,
    "start_time": "2021-10-17T08:05:13.949Z"
   },
   {
    "duration": 5,
    "start_time": "2021-10-17T08:05:14.165Z"
   },
   {
    "duration": 212,
    "start_time": "2021-10-17T08:05:14.171Z"
   },
   {
    "duration": 9,
    "start_time": "2021-10-17T08:05:14.385Z"
   },
   {
    "duration": 6,
    "start_time": "2021-10-17T08:05:14.396Z"
   },
   {
    "duration": 117,
    "start_time": "2021-10-17T08:05:14.403Z"
   },
   {
    "duration": 19,
    "start_time": "2021-10-17T08:05:14.522Z"
   },
   {
    "duration": 9,
    "start_time": "2021-10-17T08:05:14.543Z"
   },
   {
    "duration": 7,
    "start_time": "2021-10-17T08:05:14.553Z"
   },
   {
    "duration": 10,
    "start_time": "2021-10-17T08:05:14.561Z"
   },
   {
    "duration": 471,
    "start_time": "2021-10-17T08:05:14.591Z"
   },
   {
    "duration": 139,
    "start_time": "2021-10-17T08:05:15.063Z"
   },
   {
    "duration": 582,
    "start_time": "2021-10-17T08:05:15.203Z"
   },
   {
    "duration": 128,
    "start_time": "2021-10-17T08:05:15.786Z"
   },
   {
    "duration": 4,
    "start_time": "2021-10-17T08:05:15.916Z"
   },
   {
    "duration": 14,
    "start_time": "2021-10-17T08:05:15.921Z"
   },
   {
    "duration": 11,
    "start_time": "2021-10-17T08:05:15.936Z"
   },
   {
    "duration": 7,
    "start_time": "2021-10-17T08:05:15.949Z"
   },
   {
    "duration": 325,
    "start_time": "2021-10-17T08:05:15.957Z"
   },
   {
    "duration": 9,
    "start_time": "2021-10-17T08:05:16.284Z"
   },
   {
    "duration": 6,
    "start_time": "2021-10-17T08:05:16.295Z"
   },
   {
    "duration": 539,
    "start_time": "2021-10-17T08:05:16.303Z"
   },
   {
    "duration": 147,
    "start_time": "2021-10-17T08:05:16.844Z"
   },
   {
    "duration": 142,
    "start_time": "2021-10-17T08:05:16.993Z"
   },
   {
    "duration": 4,
    "start_time": "2021-10-17T08:05:17.137Z"
   },
   {
    "duration": 18,
    "start_time": "2021-10-17T08:05:17.142Z"
   },
   {
    "duration": 9,
    "start_time": "2021-10-17T08:05:17.162Z"
   },
   {
    "duration": 12,
    "start_time": "2021-10-17T08:05:17.173Z"
   },
   {
    "duration": 471,
    "start_time": "2021-10-17T08:05:17.186Z"
   },
   {
    "duration": 6,
    "start_time": "2021-10-17T08:05:17.659Z"
   },
   {
    "duration": 8,
    "start_time": "2021-10-17T08:05:17.666Z"
   },
   {
    "duration": 474,
    "start_time": "2021-10-17T08:05:17.676Z"
   },
   {
    "duration": 5,
    "start_time": "2021-10-17T08:05:18.152Z"
   },
   {
    "duration": 15,
    "start_time": "2021-10-17T08:05:18.159Z"
   },
   {
    "duration": 26,
    "start_time": "2021-10-17T08:05:18.175Z"
   },
   {
    "duration": 194,
    "start_time": "2021-10-17T08:05:18.202Z"
   },
   {
    "duration": 4,
    "start_time": "2021-10-17T08:05:18.397Z"
   },
   {
    "duration": 17,
    "start_time": "2021-10-17T08:05:18.403Z"
   },
   {
    "duration": 13,
    "start_time": "2021-10-17T08:05:18.422Z"
   },
   {
    "duration": 17,
    "start_time": "2021-10-17T08:05:18.436Z"
   },
   {
    "duration": 425,
    "start_time": "2021-10-17T08:05:18.455Z"
   },
   {
    "duration": 10,
    "start_time": "2021-10-17T08:05:18.881Z"
   },
   {
    "duration": 7,
    "start_time": "2021-10-17T08:05:18.892Z"
   },
   {
    "duration": 11,
    "start_time": "2021-10-17T08:05:18.900Z"
   },
   {
    "duration": 12,
    "start_time": "2021-10-17T08:05:18.913Z"
   },
   {
    "duration": 21,
    "start_time": "2021-10-17T08:05:18.927Z"
   },
   {
    "duration": 135,
    "start_time": "2021-10-17T08:05:18.949Z"
   },
   {
    "duration": 136,
    "start_time": "2021-10-17T08:05:19.085Z"
   },
   {
    "duration": 2,
    "start_time": "2021-10-17T08:05:19.223Z"
   },
   {
    "duration": 18,
    "start_time": "2021-10-17T08:05:19.226Z"
   },
   {
    "duration": 11,
    "start_time": "2021-10-17T08:05:19.245Z"
   },
   {
    "duration": 15,
    "start_time": "2021-10-17T08:05:19.257Z"
   },
   {
    "duration": 23,
    "start_time": "2021-10-17T08:05:19.273Z"
   },
   {
    "duration": 27,
    "start_time": "2021-10-17T08:05:19.297Z"
   },
   {
    "duration": 6,
    "start_time": "2021-10-17T08:05:19.325Z"
   },
   {
    "duration": 16,
    "start_time": "2021-10-17T08:05:19.333Z"
   },
   {
    "duration": 144,
    "start_time": "2021-10-17T08:05:19.351Z"
   },
   {
    "duration": 113,
    "start_time": "2021-10-17T08:06:29.160Z"
   },
   {
    "duration": 462,
    "start_time": "2021-10-17T08:12:52.011Z"
   },
   {
    "duration": 596,
    "start_time": "2021-10-17T08:17:35.040Z"
   },
   {
    "duration": 406,
    "start_time": "2021-10-17T08:17:35.637Z"
   },
   {
    "duration": 13,
    "start_time": "2021-10-17T08:17:36.045Z"
   },
   {
    "duration": 16,
    "start_time": "2021-10-17T08:17:36.059Z"
   },
   {
    "duration": 20,
    "start_time": "2021-10-17T08:17:36.077Z"
   },
   {
    "duration": 10,
    "start_time": "2021-10-17T08:17:36.098Z"
   },
   {
    "duration": 5,
    "start_time": "2021-10-17T08:17:36.109Z"
   },
   {
    "duration": 9,
    "start_time": "2021-10-17T08:17:36.117Z"
   },
   {
    "duration": 11,
    "start_time": "2021-10-17T08:17:36.128Z"
   },
   {
    "duration": 7,
    "start_time": "2021-10-17T08:17:36.140Z"
   },
   {
    "duration": 9,
    "start_time": "2021-10-17T08:17:36.148Z"
   },
   {
    "duration": 45,
    "start_time": "2021-10-17T08:17:36.158Z"
   },
   {
    "duration": 719,
    "start_time": "2021-10-17T08:17:36.204Z"
   },
   {
    "duration": 18,
    "start_time": "2021-10-17T08:17:36.925Z"
   },
   {
    "duration": 8,
    "start_time": "2021-10-17T08:17:36.944Z"
   },
   {
    "duration": 55,
    "start_time": "2021-10-17T08:17:36.953Z"
   },
   {
    "duration": 339,
    "start_time": "2021-10-17T08:17:37.009Z"
   },
   {
    "duration": 17,
    "start_time": "2021-10-17T08:17:37.349Z"
   },
   {
    "duration": 6,
    "start_time": "2021-10-17T08:17:37.367Z"
   },
   {
    "duration": 28,
    "start_time": "2021-10-17T08:17:37.375Z"
   },
   {
    "duration": 49,
    "start_time": "2021-10-17T08:17:37.405Z"
   },
   {
    "duration": 23,
    "start_time": "2021-10-17T08:17:37.456Z"
   },
   {
    "duration": 10,
    "start_time": "2021-10-17T08:17:37.482Z"
   },
   {
    "duration": 39,
    "start_time": "2021-10-17T08:17:37.494Z"
   },
   {
    "duration": 9,
    "start_time": "2021-10-17T08:17:37.534Z"
   },
   {
    "duration": 14,
    "start_time": "2021-10-17T08:17:37.545Z"
   },
   {
    "duration": 259,
    "start_time": "2021-10-17T08:17:37.560Z"
   },
   {
    "duration": 7,
    "start_time": "2021-10-17T08:17:37.822Z"
   },
   {
    "duration": 18,
    "start_time": "2021-10-17T08:17:37.831Z"
   },
   {
    "duration": 404,
    "start_time": "2021-10-17T08:17:37.851Z"
   },
   {
    "duration": 9,
    "start_time": "2021-10-17T08:17:38.257Z"
   },
   {
    "duration": 25,
    "start_time": "2021-10-17T08:17:38.268Z"
   },
   {
    "duration": 9,
    "start_time": "2021-10-17T08:17:38.294Z"
   },
   {
    "duration": 16,
    "start_time": "2021-10-17T08:17:38.305Z"
   },
   {
    "duration": 538,
    "start_time": "2021-10-17T08:17:38.323Z"
   },
   {
    "duration": 19,
    "start_time": "2021-10-17T08:17:38.863Z"
   },
   {
    "duration": 22,
    "start_time": "2021-10-17T08:17:38.883Z"
   },
   {
    "duration": 26,
    "start_time": "2021-10-17T08:17:38.907Z"
   },
   {
    "duration": 10,
    "start_time": "2021-10-17T08:17:38.934Z"
   },
   {
    "duration": 4,
    "start_time": "2021-10-17T08:17:38.946Z"
   },
   {
    "duration": 292,
    "start_time": "2021-10-17T08:17:38.952Z"
   },
   {
    "duration": 8,
    "start_time": "2021-10-17T08:17:39.246Z"
   },
   {
    "duration": 11,
    "start_time": "2021-10-17T08:17:39.256Z"
   },
   {
    "duration": 65,
    "start_time": "2021-10-17T08:17:39.268Z"
   },
   {
    "duration": 30,
    "start_time": "2021-10-17T08:17:39.334Z"
   },
   {
    "duration": 33,
    "start_time": "2021-10-17T08:17:39.365Z"
   },
   {
    "duration": 12,
    "start_time": "2021-10-17T08:17:39.399Z"
   },
   {
    "duration": 2,
    "start_time": "2021-10-17T08:17:39.412Z"
   },
   {
    "duration": 15,
    "start_time": "2021-10-17T08:17:39.416Z"
   },
   {
    "duration": 7,
    "start_time": "2021-10-17T08:17:39.433Z"
   },
   {
    "duration": 13,
    "start_time": "2021-10-17T08:17:39.441Z"
   },
   {
    "duration": 10,
    "start_time": "2021-10-17T08:17:39.455Z"
   },
   {
    "duration": 4,
    "start_time": "2021-10-17T08:17:39.491Z"
   },
   {
    "duration": 8,
    "start_time": "2021-10-17T08:17:39.497Z"
   },
   {
    "duration": 4,
    "start_time": "2021-10-17T08:17:39.506Z"
   },
   {
    "duration": 13,
    "start_time": "2021-10-17T08:17:39.511Z"
   },
   {
    "duration": 7,
    "start_time": "2021-10-17T08:17:39.525Z"
   },
   {
    "duration": 891,
    "start_time": "2021-10-17T08:17:39.533Z"
   },
   {
    "duration": 13,
    "start_time": "2021-10-17T08:17:40.426Z"
   },
   {
    "duration": 39,
    "start_time": "2021-10-17T08:17:40.440Z"
   },
   {
    "duration": 11,
    "start_time": "2021-10-17T08:17:40.492Z"
   },
   {
    "duration": 10,
    "start_time": "2021-10-17T08:17:40.504Z"
   },
   {
    "duration": 4,
    "start_time": "2021-10-17T08:17:40.515Z"
   },
   {
    "duration": 8,
    "start_time": "2021-10-17T08:17:40.520Z"
   },
   {
    "duration": 5,
    "start_time": "2021-10-17T08:17:40.529Z"
   },
   {
    "duration": 10,
    "start_time": "2021-10-17T08:17:40.535Z"
   },
   {
    "duration": 7,
    "start_time": "2021-10-17T08:17:40.546Z"
   },
   {
    "duration": 5,
    "start_time": "2021-10-17T08:17:40.559Z"
   },
   {
    "duration": 7,
    "start_time": "2021-10-17T08:17:40.566Z"
   },
   {
    "duration": 19,
    "start_time": "2021-10-17T08:17:40.575Z"
   },
   {
    "duration": 4,
    "start_time": "2021-10-17T08:17:40.595Z"
   },
   {
    "duration": 7,
    "start_time": "2021-10-17T08:17:40.601Z"
   },
   {
    "duration": 4,
    "start_time": "2021-10-17T08:17:40.609Z"
   },
   {
    "duration": 7,
    "start_time": "2021-10-17T08:17:40.614Z"
   },
   {
    "duration": 4,
    "start_time": "2021-10-17T08:17:40.623Z"
   },
   {
    "duration": 7,
    "start_time": "2021-10-17T08:17:40.629Z"
   },
   {
    "duration": 257,
    "start_time": "2021-10-17T08:17:40.637Z"
   },
   {
    "duration": 252,
    "start_time": "2021-10-17T08:17:40.895Z"
   },
   {
    "duration": 9,
    "start_time": "2021-10-17T08:17:41.149Z"
   },
   {
    "duration": 14,
    "start_time": "2021-10-17T08:17:41.159Z"
   },
   {
    "duration": 20,
    "start_time": "2021-10-17T08:17:41.175Z"
   },
   {
    "duration": 36,
    "start_time": "2021-10-17T08:17:41.197Z"
   },
   {
    "duration": 4,
    "start_time": "2021-10-17T08:17:41.234Z"
   },
   {
    "duration": 16,
    "start_time": "2021-10-17T08:17:41.239Z"
   },
   {
    "duration": 7,
    "start_time": "2021-10-17T08:17:41.256Z"
   },
   {
    "duration": 12,
    "start_time": "2021-10-17T08:17:41.292Z"
   },
   {
    "duration": 9,
    "start_time": "2021-10-17T08:17:41.305Z"
   },
   {
    "duration": 276,
    "start_time": "2021-10-17T08:17:41.315Z"
   },
   {
    "duration": 12,
    "start_time": "2021-10-17T08:17:41.593Z"
   },
   {
    "duration": 250,
    "start_time": "2021-10-17T08:17:41.606Z"
   },
   {
    "duration": 218,
    "start_time": "2021-10-17T08:17:41.857Z"
   },
   {
    "duration": 210,
    "start_time": "2021-10-17T08:17:42.076Z"
   },
   {
    "duration": 5,
    "start_time": "2021-10-17T08:17:42.288Z"
   },
   {
    "duration": 217,
    "start_time": "2021-10-17T08:17:42.294Z"
   },
   {
    "duration": 6,
    "start_time": "2021-10-17T08:17:42.512Z"
   },
   {
    "duration": 7,
    "start_time": "2021-10-17T08:17:42.519Z"
   },
   {
    "duration": 126,
    "start_time": "2021-10-17T08:17:42.527Z"
   },
   {
    "duration": 21,
    "start_time": "2021-10-17T08:17:42.654Z"
   },
   {
    "duration": 18,
    "start_time": "2021-10-17T08:17:42.676Z"
   },
   {
    "duration": 4,
    "start_time": "2021-10-17T08:17:42.696Z"
   },
   {
    "duration": 9,
    "start_time": "2021-10-17T08:17:42.702Z"
   },
   {
    "duration": 468,
    "start_time": "2021-10-17T08:17:42.712Z"
   },
   {
    "duration": 162,
    "start_time": "2021-10-17T08:17:43.182Z"
   },
   {
    "duration": 666,
    "start_time": "2021-10-17T08:17:43.345Z"
   },
   {
    "duration": 211,
    "start_time": "2021-10-17T08:17:44.013Z"
   },
   {
    "duration": 4,
    "start_time": "2021-10-17T08:17:44.226Z"
   },
   {
    "duration": 7,
    "start_time": "2021-10-17T08:17:44.231Z"
   },
   {
    "duration": 5,
    "start_time": "2021-10-17T08:17:44.240Z"
   },
   {
    "duration": 6,
    "start_time": "2021-10-17T08:17:44.247Z"
   },
   {
    "duration": 422,
    "start_time": "2021-10-17T08:17:44.254Z"
   },
   {
    "duration": 6,
    "start_time": "2021-10-17T08:17:44.677Z"
   },
   {
    "duration": 9,
    "start_time": "2021-10-17T08:17:44.684Z"
   },
   {
    "duration": 564,
    "start_time": "2021-10-17T08:17:44.695Z"
   },
   {
    "duration": 142,
    "start_time": "2021-10-17T08:17:45.260Z"
   },
   {
    "duration": 138,
    "start_time": "2021-10-17T08:17:45.403Z"
   },
   {
    "duration": 4,
    "start_time": "2021-10-17T08:17:45.543Z"
   },
   {
    "duration": 8,
    "start_time": "2021-10-17T08:17:45.548Z"
   },
   {
    "duration": 5,
    "start_time": "2021-10-17T08:17:45.557Z"
   },
   {
    "duration": 11,
    "start_time": "2021-10-17T08:17:45.564Z"
   },
   {
    "duration": 466,
    "start_time": "2021-10-17T08:17:45.576Z"
   },
   {
    "duration": 7,
    "start_time": "2021-10-17T08:17:46.044Z"
   },
   {
    "duration": 6,
    "start_time": "2021-10-17T08:17:46.052Z"
   },
   {
    "duration": 504,
    "start_time": "2021-10-17T08:17:46.059Z"
   },
   {
    "duration": 7,
    "start_time": "2021-10-17T08:17:46.565Z"
   },
   {
    "duration": 20,
    "start_time": "2021-10-17T08:17:46.573Z"
   },
   {
    "duration": 15,
    "start_time": "2021-10-17T08:17:46.594Z"
   },
   {
    "duration": 197,
    "start_time": "2021-10-17T08:17:46.610Z"
   },
   {
    "duration": 4,
    "start_time": "2021-10-17T08:17:46.808Z"
   },
   {
    "duration": 18,
    "start_time": "2021-10-17T08:17:46.814Z"
   },
   {
    "duration": 6,
    "start_time": "2021-10-17T08:17:46.834Z"
   },
   {
    "duration": 17,
    "start_time": "2021-10-17T08:17:46.841Z"
   },
   {
    "duration": 457,
    "start_time": "2021-10-17T08:17:46.859Z"
   },
   {
    "duration": 4,
    "start_time": "2021-10-17T08:17:47.318Z"
   },
   {
    "duration": 17,
    "start_time": "2021-10-17T08:17:47.324Z"
   },
   {
    "duration": 11,
    "start_time": "2021-10-17T08:17:47.343Z"
   },
   {
    "duration": 19,
    "start_time": "2021-10-17T08:17:47.355Z"
   },
   {
    "duration": 28,
    "start_time": "2021-10-17T08:17:47.376Z"
   },
   {
    "duration": 137,
    "start_time": "2021-10-17T08:17:47.406Z"
   },
   {
    "duration": 137,
    "start_time": "2021-10-17T08:17:47.545Z"
   },
   {
    "duration": 9,
    "start_time": "2021-10-17T08:17:47.683Z"
   },
   {
    "duration": 8,
    "start_time": "2021-10-17T08:17:47.693Z"
   },
   {
    "duration": 7,
    "start_time": "2021-10-17T08:17:47.703Z"
   },
   {
    "duration": 5,
    "start_time": "2021-10-17T08:17:47.712Z"
   },
   {
    "duration": 16,
    "start_time": "2021-10-17T08:17:47.718Z"
   },
   {
    "duration": 29,
    "start_time": "2021-10-17T08:17:47.736Z"
   },
   {
    "duration": 34,
    "start_time": "2021-10-17T08:17:47.767Z"
   },
   {
    "duration": 15,
    "start_time": "2021-10-17T08:17:47.802Z"
   },
   {
    "duration": 143,
    "start_time": "2021-10-17T08:17:47.819Z"
   },
   {
    "duration": 6123,
    "start_time": "2021-10-17T08:23:55.194Z"
   },
   {
    "duration": 580,
    "start_time": "2021-10-17T08:24:26.968Z"
   },
   {
    "duration": 404,
    "start_time": "2021-10-17T08:29:08.252Z"
   },
   {
    "duration": 330,
    "start_time": "2021-10-17T08:29:54.537Z"
   },
   {
    "duration": 727,
    "start_time": "2021-10-18T09:33:34.063Z"
   },
   {
    "duration": 393,
    "start_time": "2021-10-18T09:33:34.792Z"
   },
   {
    "duration": 14,
    "start_time": "2021-10-18T09:33:35.187Z"
   },
   {
    "duration": 17,
    "start_time": "2021-10-18T09:33:35.204Z"
   },
   {
    "duration": 7,
    "start_time": "2021-10-18T09:33:35.223Z"
   },
   {
    "duration": 17,
    "start_time": "2021-10-18T09:33:35.232Z"
   },
   {
    "duration": 7,
    "start_time": "2021-10-18T09:33:35.250Z"
   },
   {
    "duration": 17,
    "start_time": "2021-10-18T09:33:35.261Z"
   },
   {
    "duration": 18,
    "start_time": "2021-10-18T09:33:35.280Z"
   },
   {
    "duration": 14,
    "start_time": "2021-10-18T09:33:35.300Z"
   },
   {
    "duration": 11,
    "start_time": "2021-10-18T09:33:35.316Z"
   },
   {
    "duration": 31,
    "start_time": "2021-10-18T09:33:35.329Z"
   },
   {
    "duration": 698,
    "start_time": "2021-10-18T09:33:35.362Z"
   },
   {
    "duration": 19,
    "start_time": "2021-10-18T09:33:36.062Z"
   },
   {
    "duration": 9,
    "start_time": "2021-10-18T09:33:36.083Z"
   },
   {
    "duration": 54,
    "start_time": "2021-10-18T09:33:36.094Z"
   },
   {
    "duration": 303,
    "start_time": "2021-10-18T09:33:36.150Z"
   },
   {
    "duration": 21,
    "start_time": "2021-10-18T09:33:36.455Z"
   },
   {
    "duration": 5,
    "start_time": "2021-10-18T09:33:36.478Z"
   },
   {
    "duration": 12,
    "start_time": "2021-10-18T09:33:36.485Z"
   },
   {
    "duration": 75,
    "start_time": "2021-10-18T09:33:36.499Z"
   },
   {
    "duration": 5,
    "start_time": "2021-10-18T09:33:36.576Z"
   },
   {
    "duration": 4,
    "start_time": "2021-10-18T09:33:36.585Z"
   },
   {
    "duration": 19,
    "start_time": "2021-10-18T09:33:36.591Z"
   },
   {
    "duration": 8,
    "start_time": "2021-10-18T09:33:36.612Z"
   },
   {
    "duration": 28,
    "start_time": "2021-10-18T09:33:36.621Z"
   },
   {
    "duration": 270,
    "start_time": "2021-10-18T09:33:36.651Z"
   },
   {
    "duration": 7,
    "start_time": "2021-10-18T09:33:36.923Z"
   },
   {
    "duration": 24,
    "start_time": "2021-10-18T09:33:36.932Z"
   },
   {
    "duration": 410,
    "start_time": "2021-10-18T09:33:36.958Z"
   },
   {
    "duration": 8,
    "start_time": "2021-10-18T09:33:37.370Z"
   },
   {
    "duration": 14,
    "start_time": "2021-10-18T09:33:37.379Z"
   },
   {
    "duration": 9,
    "start_time": "2021-10-18T09:33:37.395Z"
   },
   {
    "duration": 43,
    "start_time": "2021-10-18T09:33:37.406Z"
   },
   {
    "duration": 526,
    "start_time": "2021-10-18T09:33:37.451Z"
   },
   {
    "duration": 18,
    "start_time": "2021-10-18T09:33:37.979Z"
   },
   {
    "duration": 17,
    "start_time": "2021-10-18T09:33:37.999Z"
   },
   {
    "duration": 47,
    "start_time": "2021-10-18T09:33:38.018Z"
   },
   {
    "duration": 9,
    "start_time": "2021-10-18T09:33:38.067Z"
   },
   {
    "duration": 4,
    "start_time": "2021-10-18T09:33:38.078Z"
   },
   {
    "duration": 262,
    "start_time": "2021-10-18T09:33:38.084Z"
   },
   {
    "duration": 8,
    "start_time": "2021-10-18T09:33:38.348Z"
   },
   {
    "duration": 13,
    "start_time": "2021-10-18T09:33:38.358Z"
   },
   {
    "duration": 46,
    "start_time": "2021-10-18T09:33:38.373Z"
   },
   {
    "duration": 45,
    "start_time": "2021-10-18T09:33:38.421Z"
   },
   {
    "duration": 14,
    "start_time": "2021-10-18T09:33:38.467Z"
   },
   {
    "duration": 18,
    "start_time": "2021-10-18T09:33:38.483Z"
   },
   {
    "duration": 3,
    "start_time": "2021-10-18T09:33:38.503Z"
   },
   {
    "duration": 35,
    "start_time": "2021-10-18T09:33:38.507Z"
   },
   {
    "duration": 18,
    "start_time": "2021-10-18T09:33:38.544Z"
   },
   {
    "duration": 12,
    "start_time": "2021-10-18T09:33:38.564Z"
   },
   {
    "duration": 21,
    "start_time": "2021-10-18T09:33:38.578Z"
   },
   {
    "duration": 18,
    "start_time": "2021-10-18T09:33:38.600Z"
   },
   {
    "duration": 12,
    "start_time": "2021-10-18T09:33:38.620Z"
   },
   {
    "duration": 4,
    "start_time": "2021-10-18T09:33:38.634Z"
   },
   {
    "duration": 20,
    "start_time": "2021-10-18T09:33:38.639Z"
   },
   {
    "duration": 18,
    "start_time": "2021-10-18T09:33:38.660Z"
   },
   {
    "duration": 919,
    "start_time": "2021-10-18T09:33:38.680Z"
   },
   {
    "duration": 13,
    "start_time": "2021-10-18T09:33:39.600Z"
   },
   {
    "duration": 48,
    "start_time": "2021-10-18T09:33:39.615Z"
   },
   {
    "duration": 10,
    "start_time": "2021-10-18T09:33:39.665Z"
   },
   {
    "duration": 10,
    "start_time": "2021-10-18T09:33:39.677Z"
   },
   {
    "duration": 8,
    "start_time": "2021-10-18T09:33:39.689Z"
   },
   {
    "duration": 8,
    "start_time": "2021-10-18T09:33:39.699Z"
   },
   {
    "duration": 5,
    "start_time": "2021-10-18T09:33:39.709Z"
   },
   {
    "duration": 14,
    "start_time": "2021-10-18T09:33:39.716Z"
   },
   {
    "duration": 15,
    "start_time": "2021-10-18T09:33:39.732Z"
   },
   {
    "duration": 8,
    "start_time": "2021-10-18T09:33:39.753Z"
   },
   {
    "duration": 14,
    "start_time": "2021-10-18T09:33:39.764Z"
   },
   {
    "duration": 7,
    "start_time": "2021-10-18T09:33:39.780Z"
   },
   {
    "duration": 4,
    "start_time": "2021-10-18T09:33:39.789Z"
   },
   {
    "duration": 15,
    "start_time": "2021-10-18T09:33:39.794Z"
   },
   {
    "duration": 5,
    "start_time": "2021-10-18T09:33:39.811Z"
   },
   {
    "duration": 8,
    "start_time": "2021-10-18T09:33:39.818Z"
   },
   {
    "duration": 10,
    "start_time": "2021-10-18T09:33:39.827Z"
   },
   {
    "duration": 11,
    "start_time": "2021-10-18T09:33:39.839Z"
   },
   {
    "duration": 241,
    "start_time": "2021-10-18T09:33:39.852Z"
   },
   {
    "duration": 233,
    "start_time": "2021-10-18T09:33:40.095Z"
   },
   {
    "duration": 14,
    "start_time": "2021-10-18T09:33:40.330Z"
   },
   {
    "duration": 18,
    "start_time": "2021-10-18T09:33:40.346Z"
   },
   {
    "duration": 11,
    "start_time": "2021-10-18T09:33:40.365Z"
   },
   {
    "duration": 38,
    "start_time": "2021-10-18T09:33:40.378Z"
   },
   {
    "duration": 4,
    "start_time": "2021-10-18T09:33:40.418Z"
   },
   {
    "duration": 30,
    "start_time": "2021-10-18T09:33:40.423Z"
   },
   {
    "duration": 19,
    "start_time": "2021-10-18T09:33:40.454Z"
   },
   {
    "duration": 18,
    "start_time": "2021-10-18T09:33:40.475Z"
   },
   {
    "duration": 11,
    "start_time": "2021-10-18T09:33:40.495Z"
   },
   {
    "duration": 279,
    "start_time": "2021-10-18T09:33:40.507Z"
   },
   {
    "duration": 12,
    "start_time": "2021-10-18T09:33:40.788Z"
   },
   {
    "duration": 244,
    "start_time": "2021-10-18T09:33:40.801Z"
   },
   {
    "duration": 220,
    "start_time": "2021-10-18T09:33:41.046Z"
   },
   {
    "duration": 202,
    "start_time": "2021-10-18T09:33:41.267Z"
   },
   {
    "duration": 4,
    "start_time": "2021-10-18T09:33:41.470Z"
   },
   {
    "duration": 208,
    "start_time": "2021-10-18T09:33:41.476Z"
   },
   {
    "duration": 5,
    "start_time": "2021-10-18T09:33:41.686Z"
   },
   {
    "duration": 20,
    "start_time": "2021-10-18T09:33:41.693Z"
   },
   {
    "duration": 128,
    "start_time": "2021-10-18T09:33:41.715Z"
   },
   {
    "duration": 20,
    "start_time": "2021-10-18T09:33:41.845Z"
   },
   {
    "duration": 7,
    "start_time": "2021-10-18T09:33:41.868Z"
   },
   {
    "duration": 13,
    "start_time": "2021-10-18T09:33:41.877Z"
   },
   {
    "duration": 14,
    "start_time": "2021-10-18T09:33:41.891Z"
   },
   {
    "duration": 472,
    "start_time": "2021-10-18T09:33:41.907Z"
   },
   {
    "duration": 144,
    "start_time": "2021-10-18T09:33:42.381Z"
   },
   {
    "duration": 587,
    "start_time": "2021-10-18T09:33:42.527Z"
   },
   {
    "duration": 141,
    "start_time": "2021-10-18T09:33:43.116Z"
   },
   {
    "duration": 6,
    "start_time": "2021-10-18T09:33:43.259Z"
   },
   {
    "duration": 7,
    "start_time": "2021-10-18T09:33:43.267Z"
   },
   {
    "duration": 6,
    "start_time": "2021-10-18T09:33:43.275Z"
   },
   {
    "duration": 8,
    "start_time": "2021-10-18T09:33:43.283Z"
   },
   {
    "duration": 320,
    "start_time": "2021-10-18T09:33:43.293Z"
   },
   {
    "duration": 7,
    "start_time": "2021-10-18T09:33:43.615Z"
   },
   {
    "duration": 22,
    "start_time": "2021-10-18T09:33:43.624Z"
   },
   {
    "duration": 524,
    "start_time": "2021-10-18T09:33:43.648Z"
   },
   {
    "duration": 140,
    "start_time": "2021-10-18T09:33:44.174Z"
   },
   {
    "duration": 137,
    "start_time": "2021-10-18T09:33:44.316Z"
   },
   {
    "duration": 5,
    "start_time": "2021-10-18T09:33:44.454Z"
   },
   {
    "duration": 7,
    "start_time": "2021-10-18T09:33:44.461Z"
   },
   {
    "duration": 6,
    "start_time": "2021-10-18T09:33:44.469Z"
   },
   {
    "duration": 6,
    "start_time": "2021-10-18T09:33:44.477Z"
   },
   {
    "duration": 468,
    "start_time": "2021-10-18T09:33:44.485Z"
   },
   {
    "duration": 7,
    "start_time": "2021-10-18T09:33:44.955Z"
   },
   {
    "duration": 8,
    "start_time": "2021-10-18T09:33:44.963Z"
   },
   {
    "duration": 476,
    "start_time": "2021-10-18T09:33:44.973Z"
   },
   {
    "duration": 7,
    "start_time": "2021-10-18T09:33:45.451Z"
   },
   {
    "duration": 6,
    "start_time": "2021-10-18T09:33:45.460Z"
   },
   {
    "duration": 19,
    "start_time": "2021-10-18T09:33:45.468Z"
   },
   {
    "duration": 208,
    "start_time": "2021-10-18T09:33:45.489Z"
   },
   {
    "duration": 4,
    "start_time": "2021-10-18T09:33:45.698Z"
   },
   {
    "duration": 20,
    "start_time": "2021-10-18T09:33:45.704Z"
   },
   {
    "duration": 2,
    "start_time": "2021-10-18T09:33:45.726Z"
   },
   {
    "duration": 18,
    "start_time": "2021-10-18T09:33:45.730Z"
   },
   {
    "duration": 531,
    "start_time": "2021-10-18T09:33:45.750Z"
   },
   {
    "duration": 4,
    "start_time": "2021-10-18T09:33:46.284Z"
   },
   {
    "duration": 9,
    "start_time": "2021-10-18T09:33:46.290Z"
   },
   {
    "duration": 7,
    "start_time": "2021-10-18T09:33:46.301Z"
   },
   {
    "duration": 11,
    "start_time": "2021-10-18T09:33:46.310Z"
   },
   {
    "duration": 28,
    "start_time": "2021-10-18T09:33:46.323Z"
   },
   {
    "duration": 136,
    "start_time": "2021-10-18T09:33:46.353Z"
   },
   {
    "duration": 144,
    "start_time": "2021-10-18T09:33:46.491Z"
   },
   {
    "duration": 8,
    "start_time": "2021-10-18T09:33:46.637Z"
   },
   {
    "duration": 7,
    "start_time": "2021-10-18T09:33:46.647Z"
   },
   {
    "duration": 6,
    "start_time": "2021-10-18T09:33:46.655Z"
   },
   {
    "duration": 10,
    "start_time": "2021-10-18T09:33:46.663Z"
   },
   {
    "duration": 15,
    "start_time": "2021-10-18T09:33:46.675Z"
   },
   {
    "duration": 59,
    "start_time": "2021-10-18T09:33:46.692Z"
   },
   {
    "duration": 9,
    "start_time": "2021-10-18T09:33:46.753Z"
   },
   {
    "duration": 12,
    "start_time": "2021-10-18T09:33:46.764Z"
   },
   {
    "duration": 153,
    "start_time": "2021-10-18T09:33:46.778Z"
   },
   {
    "duration": 5,
    "start_time": "2021-10-18T09:36:31.094Z"
   },
   {
    "duration": 4,
    "start_time": "2021-10-18T09:41:40.704Z"
   },
   {
    "duration": 4,
    "start_time": "2021-10-18T09:45:19.624Z"
   },
   {
    "duration": 7110,
    "start_time": "2021-10-18T09:46:40.364Z"
   },
   {
    "duration": 745,
    "start_time": "2021-10-18T09:47:09.415Z"
   },
   {
    "duration": 406,
    "start_time": "2021-10-18T09:47:10.162Z"
   },
   {
    "duration": 12,
    "start_time": "2021-10-18T09:47:10.570Z"
   },
   {
    "duration": 14,
    "start_time": "2021-10-18T09:47:10.584Z"
   },
   {
    "duration": 5,
    "start_time": "2021-10-18T09:47:10.600Z"
   },
   {
    "duration": 8,
    "start_time": "2021-10-18T09:47:10.607Z"
   },
   {
    "duration": 4,
    "start_time": "2021-10-18T09:47:10.616Z"
   },
   {
    "duration": 23,
    "start_time": "2021-10-18T09:47:10.621Z"
   },
   {
    "duration": 13,
    "start_time": "2021-10-18T09:47:10.647Z"
   },
   {
    "duration": 9,
    "start_time": "2021-10-18T09:47:10.662Z"
   },
   {
    "duration": 9,
    "start_time": "2021-10-18T09:47:10.672Z"
   },
   {
    "duration": 18,
    "start_time": "2021-10-18T09:47:10.683Z"
   },
   {
    "duration": 713,
    "start_time": "2021-10-18T09:47:10.702Z"
   },
   {
    "duration": 18,
    "start_time": "2021-10-18T09:47:11.417Z"
   },
   {
    "duration": 14,
    "start_time": "2021-10-18T09:47:11.436Z"
   },
   {
    "duration": 33,
    "start_time": "2021-10-18T09:47:11.452Z"
   },
   {
    "duration": 291,
    "start_time": "2021-10-18T09:47:11.487Z"
   },
   {
    "duration": 19,
    "start_time": "2021-10-18T09:47:11.780Z"
   },
   {
    "duration": 4,
    "start_time": "2021-10-18T09:47:11.801Z"
   },
   {
    "duration": 13,
    "start_time": "2021-10-18T09:47:11.806Z"
   },
   {
    "duration": 64,
    "start_time": "2021-10-18T09:47:11.820Z"
   },
   {
    "duration": 4,
    "start_time": "2021-10-18T09:47:11.886Z"
   },
   {
    "duration": 6,
    "start_time": "2021-10-18T09:47:11.891Z"
   },
   {
    "duration": 15,
    "start_time": "2021-10-18T09:47:11.899Z"
   },
   {
    "duration": 8,
    "start_time": "2021-10-18T09:47:11.916Z"
   },
   {
    "duration": 28,
    "start_time": "2021-10-18T09:47:11.925Z"
   },
   {
    "duration": 271,
    "start_time": "2021-10-18T09:47:11.957Z"
   },
   {
    "duration": 7,
    "start_time": "2021-10-18T09:47:12.230Z"
   },
   {
    "duration": 14,
    "start_time": "2021-10-18T09:47:12.244Z"
   },
   {
    "duration": 510,
    "start_time": "2021-10-18T09:47:12.260Z"
   },
   {
    "duration": 8,
    "start_time": "2021-10-18T09:47:12.771Z"
   },
   {
    "duration": 18,
    "start_time": "2021-10-18T09:47:12.780Z"
   },
   {
    "duration": 8,
    "start_time": "2021-10-18T09:47:12.799Z"
   },
   {
    "duration": 36,
    "start_time": "2021-10-18T09:47:12.808Z"
   },
   {
    "duration": 535,
    "start_time": "2021-10-18T09:47:12.846Z"
   },
   {
    "duration": 17,
    "start_time": "2021-10-18T09:47:13.383Z"
   },
   {
    "duration": 16,
    "start_time": "2021-10-18T09:47:13.401Z"
   },
   {
    "duration": 39,
    "start_time": "2021-10-18T09:47:13.418Z"
   },
   {
    "duration": 8,
    "start_time": "2021-10-18T09:47:13.459Z"
   },
   {
    "duration": 3,
    "start_time": "2021-10-18T09:47:13.469Z"
   },
   {
    "duration": 265,
    "start_time": "2021-10-18T09:47:13.473Z"
   },
   {
    "duration": 11,
    "start_time": "2021-10-18T09:47:13.740Z"
   },
   {
    "duration": 20,
    "start_time": "2021-10-18T09:47:13.753Z"
   },
   {
    "duration": 56,
    "start_time": "2021-10-18T09:47:13.776Z"
   },
   {
    "duration": 40,
    "start_time": "2021-10-18T09:47:13.834Z"
   },
   {
    "duration": 15,
    "start_time": "2021-10-18T09:47:13.876Z"
   },
   {
    "duration": 32,
    "start_time": "2021-10-18T09:47:13.893Z"
   },
   {
    "duration": 10,
    "start_time": "2021-10-18T09:47:13.927Z"
   },
   {
    "duration": 20,
    "start_time": "2021-10-18T09:47:13.939Z"
   },
   {
    "duration": 8,
    "start_time": "2021-10-18T09:47:13.961Z"
   },
   {
    "duration": 14,
    "start_time": "2021-10-18T09:47:13.971Z"
   },
   {
    "duration": 9,
    "start_time": "2021-10-18T09:47:13.987Z"
   },
   {
    "duration": 6,
    "start_time": "2021-10-18T09:47:13.998Z"
   },
   {
    "duration": 39,
    "start_time": "2021-10-18T09:47:14.005Z"
   },
   {
    "duration": 5,
    "start_time": "2021-10-18T09:47:14.047Z"
   },
   {
    "duration": 14,
    "start_time": "2021-10-18T09:47:14.054Z"
   },
   {
    "duration": 8,
    "start_time": "2021-10-18T09:47:14.070Z"
   },
   {
    "duration": 921,
    "start_time": "2021-10-18T09:47:14.081Z"
   },
   {
    "duration": 16,
    "start_time": "2021-10-18T09:47:15.004Z"
   },
   {
    "duration": 53,
    "start_time": "2021-10-18T09:47:15.022Z"
   },
   {
    "duration": 12,
    "start_time": "2021-10-18T09:47:15.076Z"
   },
   {
    "duration": 10,
    "start_time": "2021-10-18T09:47:15.090Z"
   },
   {
    "duration": 12,
    "start_time": "2021-10-18T09:47:15.102Z"
   },
   {
    "duration": 23,
    "start_time": "2021-10-18T09:47:15.116Z"
   },
   {
    "duration": 15,
    "start_time": "2021-10-18T09:47:15.141Z"
   },
   {
    "duration": 20,
    "start_time": "2021-10-18T09:47:15.157Z"
   },
   {
    "duration": 7,
    "start_time": "2021-10-18T09:47:15.179Z"
   },
   {
    "duration": 14,
    "start_time": "2021-10-18T09:47:15.187Z"
   },
   {
    "duration": 18,
    "start_time": "2021-10-18T09:47:15.203Z"
   },
   {
    "duration": 9,
    "start_time": "2021-10-18T09:47:15.223Z"
   },
   {
    "duration": 13,
    "start_time": "2021-10-18T09:47:15.234Z"
   },
   {
    "duration": 12,
    "start_time": "2021-10-18T09:47:15.249Z"
   },
   {
    "duration": 16,
    "start_time": "2021-10-18T09:47:15.263Z"
   },
   {
    "duration": 10,
    "start_time": "2021-10-18T09:47:15.281Z"
   },
   {
    "duration": 21,
    "start_time": "2021-10-18T09:47:15.293Z"
   },
   {
    "duration": 18,
    "start_time": "2021-10-18T09:47:15.315Z"
   },
   {
    "duration": 263,
    "start_time": "2021-10-18T09:47:15.335Z"
   },
   {
    "duration": 252,
    "start_time": "2021-10-18T09:47:15.600Z"
   },
   {
    "duration": 10,
    "start_time": "2021-10-18T09:47:15.854Z"
   },
   {
    "duration": 14,
    "start_time": "2021-10-18T09:47:15.866Z"
   },
   {
    "duration": 7,
    "start_time": "2021-10-18T09:47:15.886Z"
   },
   {
    "duration": 62,
    "start_time": "2021-10-18T09:47:15.896Z"
   },
   {
    "duration": 4,
    "start_time": "2021-10-18T09:47:15.959Z"
   },
   {
    "duration": 13,
    "start_time": "2021-10-18T09:47:15.965Z"
   },
   {
    "duration": 11,
    "start_time": "2021-10-18T09:47:15.980Z"
   },
   {
    "duration": 14,
    "start_time": "2021-10-18T09:47:15.993Z"
   },
   {
    "duration": 11,
    "start_time": "2021-10-18T09:47:16.009Z"
   },
   {
    "duration": 326,
    "start_time": "2021-10-18T09:47:16.022Z"
   },
   {
    "duration": 11,
    "start_time": "2021-10-18T09:47:16.350Z"
   },
   {
    "duration": 248,
    "start_time": "2021-10-18T09:47:16.363Z"
   },
   {
    "duration": 215,
    "start_time": "2021-10-18T09:47:16.612Z"
   },
   {
    "duration": 214,
    "start_time": "2021-10-18T09:47:16.828Z"
   },
   {
    "duration": 4,
    "start_time": "2021-10-18T09:47:17.044Z"
   },
   {
    "duration": 322,
    "start_time": "2021-10-18T09:47:17.050Z"
   },
   {
    "duration": 7,
    "start_time": "2021-10-18T09:47:17.374Z"
   },
   {
    "duration": 9,
    "start_time": "2021-10-18T09:47:17.382Z"
   },
   {
    "duration": 173,
    "start_time": "2021-10-18T09:47:17.392Z"
   },
   {
    "duration": 19,
    "start_time": "2021-10-18T09:47:17.567Z"
   },
   {
    "duration": 9,
    "start_time": "2021-10-18T09:47:17.588Z"
   },
   {
    "duration": 45,
    "start_time": "2021-10-18T09:47:17.599Z"
   },
   {
    "duration": 7,
    "start_time": "2021-10-18T09:47:17.646Z"
   },
   {
    "duration": 497,
    "start_time": "2021-10-18T09:47:17.655Z"
   },
   {
    "duration": 149,
    "start_time": "2021-10-18T09:47:18.154Z"
   },
   {
    "duration": 702,
    "start_time": "2021-10-18T09:47:18.305Z"
   },
   {
    "duration": 122,
    "start_time": "2021-10-18T09:47:19.009Z"
   },
   {
    "duration": 13,
    "start_time": "2021-10-18T09:47:19.133Z"
   },
   {
    "duration": 10,
    "start_time": "2021-10-18T09:47:19.148Z"
   },
   {
    "duration": 6,
    "start_time": "2021-10-18T09:47:19.160Z"
   },
   {
    "duration": 9,
    "start_time": "2021-10-18T09:47:19.167Z"
   },
   {
    "duration": 322,
    "start_time": "2021-10-18T09:47:19.177Z"
   },
   {
    "duration": 5,
    "start_time": "2021-10-18T09:47:19.501Z"
   },
   {
    "duration": 6,
    "start_time": "2021-10-18T09:47:19.508Z"
   },
   {
    "duration": 540,
    "start_time": "2021-10-18T09:47:19.516Z"
   },
   {
    "duration": 155,
    "start_time": "2021-10-18T09:47:20.058Z"
   },
   {
    "duration": 131,
    "start_time": "2021-10-18T09:47:20.215Z"
   },
   {
    "duration": 4,
    "start_time": "2021-10-18T09:47:20.347Z"
   },
   {
    "duration": 21,
    "start_time": "2021-10-18T09:47:20.353Z"
   },
   {
    "duration": 9,
    "start_time": "2021-10-18T09:47:20.376Z"
   },
   {
    "duration": 7,
    "start_time": "2021-10-18T09:47:20.387Z"
   },
   {
    "duration": 499,
    "start_time": "2021-10-18T09:47:20.395Z"
   },
   {
    "duration": 10,
    "start_time": "2021-10-18T09:47:20.896Z"
   },
   {
    "duration": 12,
    "start_time": "2021-10-18T09:47:20.908Z"
   },
   {
    "duration": 487,
    "start_time": "2021-10-18T09:47:20.922Z"
   },
   {
    "duration": 7,
    "start_time": "2021-10-18T09:47:21.410Z"
   },
   {
    "duration": 14,
    "start_time": "2021-10-18T09:47:21.418Z"
   },
   {
    "duration": 28,
    "start_time": "2021-10-18T09:47:21.434Z"
   },
   {
    "duration": 196,
    "start_time": "2021-10-18T09:47:21.464Z"
   },
   {
    "duration": 4,
    "start_time": "2021-10-18T09:47:21.661Z"
   },
   {
    "duration": 21,
    "start_time": "2021-10-18T09:47:21.667Z"
   },
   {
    "duration": 14,
    "start_time": "2021-10-18T09:47:21.690Z"
   },
   {
    "duration": 20,
    "start_time": "2021-10-18T09:47:21.705Z"
   },
   {
    "duration": 452,
    "start_time": "2021-10-18T09:47:21.726Z"
   },
   {
    "duration": 4,
    "start_time": "2021-10-18T09:47:22.180Z"
   },
   {
    "duration": 28,
    "start_time": "2021-10-18T09:47:22.186Z"
   },
   {
    "duration": 13,
    "start_time": "2021-10-18T09:47:22.216Z"
   },
   {
    "duration": 21,
    "start_time": "2021-10-18T09:47:22.231Z"
   },
   {
    "duration": 26,
    "start_time": "2021-10-18T09:47:22.254Z"
   },
   {
    "duration": 133,
    "start_time": "2021-10-18T09:47:22.282Z"
   },
   {
    "duration": 138,
    "start_time": "2021-10-18T09:47:22.417Z"
   },
   {
    "duration": 2,
    "start_time": "2021-10-18T09:47:22.557Z"
   },
   {
    "duration": 20,
    "start_time": "2021-10-18T09:47:22.560Z"
   },
   {
    "duration": 28,
    "start_time": "2021-10-18T09:47:22.582Z"
   },
   {
    "duration": 10,
    "start_time": "2021-10-18T09:47:22.612Z"
   },
   {
    "duration": 26,
    "start_time": "2021-10-18T09:47:22.624Z"
   },
   {
    "duration": 34,
    "start_time": "2021-10-18T09:47:22.652Z"
   },
   {
    "duration": 23,
    "start_time": "2021-10-18T09:47:22.688Z"
   },
   {
    "duration": 27,
    "start_time": "2021-10-18T09:47:22.712Z"
   },
   {
    "duration": 146,
    "start_time": "2021-10-18T09:47:22.741Z"
   },
   {
    "duration": 460,
    "start_time": "2021-10-18T09:49:23.184Z"
   },
   {
    "duration": 6,
    "start_time": "2021-10-18T09:55:31.715Z"
   },
   {
    "duration": 455,
    "start_time": "2021-10-18T09:58:31.465Z"
   },
   {
    "duration": 5,
    "start_time": "2021-10-18T10:02:43.055Z"
   },
   {
    "duration": 5,
    "start_time": "2021-10-18T10:10:17.385Z"
   },
   {
    "duration": 4,
    "start_time": "2021-10-18T10:15:36.846Z"
   },
   {
    "duration": 8,
    "start_time": "2021-10-18T10:19:05.256Z"
   },
   {
    "duration": 19,
    "start_time": "2021-10-18T10:21:54.926Z"
   },
   {
    "duration": 6,
    "start_time": "2021-10-18T10:24:39.140Z"
   },
   {
    "duration": 4,
    "start_time": "2021-10-18T10:25:44.415Z"
   },
   {
    "duration": 713,
    "start_time": "2021-10-18T10:34:39.389Z"
   },
   {
    "duration": 396,
    "start_time": "2021-10-18T10:34:40.104Z"
   },
   {
    "duration": 13,
    "start_time": "2021-10-18T10:34:40.502Z"
   },
   {
    "duration": 18,
    "start_time": "2021-10-18T10:34:40.516Z"
   },
   {
    "duration": 13,
    "start_time": "2021-10-18T10:34:40.536Z"
   },
   {
    "duration": 11,
    "start_time": "2021-10-18T10:34:40.551Z"
   },
   {
    "duration": 8,
    "start_time": "2021-10-18T10:34:40.564Z"
   },
   {
    "duration": 12,
    "start_time": "2021-10-18T10:34:40.574Z"
   },
   {
    "duration": 17,
    "start_time": "2021-10-18T10:34:40.588Z"
   },
   {
    "duration": 12,
    "start_time": "2021-10-18T10:34:40.607Z"
   },
   {
    "duration": 8,
    "start_time": "2021-10-18T10:34:40.621Z"
   },
   {
    "duration": 25,
    "start_time": "2021-10-18T10:34:40.631Z"
   },
   {
    "duration": 674,
    "start_time": "2021-10-18T10:34:40.658Z"
   },
   {
    "duration": 21,
    "start_time": "2021-10-18T10:34:41.333Z"
   },
   {
    "duration": 8,
    "start_time": "2021-10-18T10:34:41.356Z"
   },
   {
    "duration": 35,
    "start_time": "2021-10-18T10:34:41.365Z"
   },
   {
    "duration": 297,
    "start_time": "2021-10-18T10:34:41.401Z"
   },
   {
    "duration": 20,
    "start_time": "2021-10-18T10:34:41.699Z"
   },
   {
    "duration": 4,
    "start_time": "2021-10-18T10:34:41.720Z"
   },
   {
    "duration": 23,
    "start_time": "2021-10-18T10:34:41.725Z"
   },
   {
    "duration": 48,
    "start_time": "2021-10-18T10:34:41.749Z"
   },
   {
    "duration": 7,
    "start_time": "2021-10-18T10:34:41.799Z"
   },
   {
    "duration": 22,
    "start_time": "2021-10-18T10:34:41.807Z"
   },
   {
    "duration": 27,
    "start_time": "2021-10-18T10:34:41.831Z"
   },
   {
    "duration": 8,
    "start_time": "2021-10-18T10:34:41.860Z"
   },
   {
    "duration": 24,
    "start_time": "2021-10-18T10:34:41.869Z"
   },
   {
    "duration": 274,
    "start_time": "2021-10-18T10:34:41.897Z"
   },
   {
    "duration": 7,
    "start_time": "2021-10-18T10:34:42.174Z"
   },
   {
    "duration": 18,
    "start_time": "2021-10-18T10:34:42.182Z"
   },
   {
    "duration": 423,
    "start_time": "2021-10-18T10:34:42.202Z"
   },
   {
    "duration": 8,
    "start_time": "2021-10-18T10:34:42.626Z"
   },
   {
    "duration": 24,
    "start_time": "2021-10-18T10:34:42.635Z"
   },
   {
    "duration": 7,
    "start_time": "2021-10-18T10:34:42.661Z"
   },
   {
    "duration": 22,
    "start_time": "2021-10-18T10:34:42.670Z"
   },
   {
    "duration": 534,
    "start_time": "2021-10-18T10:34:42.694Z"
   },
   {
    "duration": 21,
    "start_time": "2021-10-18T10:34:43.230Z"
   },
   {
    "duration": 19,
    "start_time": "2021-10-18T10:34:43.253Z"
   },
   {
    "duration": 21,
    "start_time": "2021-10-18T10:34:43.274Z"
   },
   {
    "duration": 8,
    "start_time": "2021-10-18T10:34:43.297Z"
   },
   {
    "duration": 11,
    "start_time": "2021-10-18T10:34:43.306Z"
   },
   {
    "duration": 272,
    "start_time": "2021-10-18T10:34:43.319Z"
   },
   {
    "duration": 8,
    "start_time": "2021-10-18T10:34:43.593Z"
   },
   {
    "duration": 21,
    "start_time": "2021-10-18T10:34:43.603Z"
   },
   {
    "duration": 60,
    "start_time": "2021-10-18T10:34:43.625Z"
   },
   {
    "duration": 29,
    "start_time": "2021-10-18T10:34:43.687Z"
   },
   {
    "duration": 27,
    "start_time": "2021-10-18T10:34:43.717Z"
   },
   {
    "duration": 18,
    "start_time": "2021-10-18T10:34:43.746Z"
   },
   {
    "duration": 15,
    "start_time": "2021-10-18T10:34:43.766Z"
   },
   {
    "duration": 34,
    "start_time": "2021-10-18T10:34:43.783Z"
   },
   {
    "duration": 14,
    "start_time": "2021-10-18T10:34:43.819Z"
   },
   {
    "duration": 30,
    "start_time": "2021-10-18T10:34:43.835Z"
   },
   {
    "duration": 20,
    "start_time": "2021-10-18T10:34:43.867Z"
   },
   {
    "duration": 17,
    "start_time": "2021-10-18T10:34:43.889Z"
   },
   {
    "duration": 30,
    "start_time": "2021-10-18T10:34:43.908Z"
   },
   {
    "duration": 12,
    "start_time": "2021-10-18T10:34:43.940Z"
   },
   {
    "duration": 25,
    "start_time": "2021-10-18T10:34:43.954Z"
   },
   {
    "duration": 32,
    "start_time": "2021-10-18T10:34:43.981Z"
   },
   {
    "duration": 944,
    "start_time": "2021-10-18T10:34:44.015Z"
   },
   {
    "duration": 14,
    "start_time": "2021-10-18T10:34:44.960Z"
   },
   {
    "duration": 61,
    "start_time": "2021-10-18T10:34:44.976Z"
   },
   {
    "duration": 21,
    "start_time": "2021-10-18T10:34:45.039Z"
   },
   {
    "duration": 36,
    "start_time": "2021-10-18T10:34:45.062Z"
   },
   {
    "duration": 42,
    "start_time": "2021-10-18T10:34:45.100Z"
   },
   {
    "duration": 26,
    "start_time": "2021-10-18T10:34:45.144Z"
   },
   {
    "duration": 16,
    "start_time": "2021-10-18T10:34:45.172Z"
   },
   {
    "duration": 19,
    "start_time": "2021-10-18T10:34:45.190Z"
   },
   {
    "duration": 13,
    "start_time": "2021-10-18T10:34:45.211Z"
   },
   {
    "duration": 22,
    "start_time": "2021-10-18T10:34:45.226Z"
   },
   {
    "duration": 30,
    "start_time": "2021-10-18T10:34:45.250Z"
   },
   {
    "duration": 19,
    "start_time": "2021-10-18T10:34:45.282Z"
   },
   {
    "duration": 8,
    "start_time": "2021-10-18T10:34:45.302Z"
   },
   {
    "duration": 19,
    "start_time": "2021-10-18T10:34:45.311Z"
   },
   {
    "duration": 11,
    "start_time": "2021-10-18T10:34:45.332Z"
   },
   {
    "duration": 14,
    "start_time": "2021-10-18T10:34:45.345Z"
   },
   {
    "duration": 16,
    "start_time": "2021-10-18T10:34:45.360Z"
   },
   {
    "duration": 22,
    "start_time": "2021-10-18T10:34:45.378Z"
   },
   {
    "duration": 243,
    "start_time": "2021-10-18T10:34:45.402Z"
   },
   {
    "duration": 256,
    "start_time": "2021-10-18T10:34:45.647Z"
   },
   {
    "duration": 10,
    "start_time": "2021-10-18T10:34:45.904Z"
   },
   {
    "duration": 24,
    "start_time": "2021-10-18T10:34:45.915Z"
   },
   {
    "duration": 18,
    "start_time": "2021-10-18T10:34:45.950Z"
   },
   {
    "duration": 43,
    "start_time": "2021-10-18T10:34:45.971Z"
   },
   {
    "duration": 4,
    "start_time": "2021-10-18T10:34:46.016Z"
   },
   {
    "duration": 23,
    "start_time": "2021-10-18T10:34:46.022Z"
   },
   {
    "duration": 24,
    "start_time": "2021-10-18T10:34:46.047Z"
   },
   {
    "duration": 29,
    "start_time": "2021-10-18T10:34:46.073Z"
   },
   {
    "duration": 22,
    "start_time": "2021-10-18T10:34:46.104Z"
   },
   {
    "duration": 282,
    "start_time": "2021-10-18T10:34:46.128Z"
   },
   {
    "duration": 13,
    "start_time": "2021-10-18T10:34:46.413Z"
   },
   {
    "duration": 248,
    "start_time": "2021-10-18T10:34:46.428Z"
   },
   {
    "duration": 220,
    "start_time": "2021-10-18T10:34:46.678Z"
   },
   {
    "duration": 211,
    "start_time": "2021-10-18T10:34:46.900Z"
   },
   {
    "duration": 6,
    "start_time": "2021-10-18T10:34:47.113Z"
   },
   {
    "duration": 226,
    "start_time": "2021-10-18T10:34:47.120Z"
   },
   {
    "duration": 5,
    "start_time": "2021-10-18T10:34:47.347Z"
   },
   {
    "duration": 11,
    "start_time": "2021-10-18T10:34:47.354Z"
   },
   {
    "duration": 124,
    "start_time": "2021-10-18T10:34:47.366Z"
   },
   {
    "duration": 20,
    "start_time": "2021-10-18T10:34:47.491Z"
   },
   {
    "duration": 14,
    "start_time": "2021-10-18T10:34:47.513Z"
   },
   {
    "duration": 16,
    "start_time": "2021-10-18T10:34:47.528Z"
   },
   {
    "duration": 17,
    "start_time": "2021-10-18T10:34:47.546Z"
   },
   {
    "duration": 451,
    "start_time": "2021-10-18T10:34:47.564Z"
   },
   {
    "duration": 141,
    "start_time": "2021-10-18T10:34:48.017Z"
   },
   {
    "duration": 594,
    "start_time": "2021-10-18T10:34:48.159Z"
   },
   {
    "duration": 127,
    "start_time": "2021-10-18T10:34:48.755Z"
   },
   {
    "duration": 4,
    "start_time": "2021-10-18T10:34:48.884Z"
   },
   {
    "duration": 15,
    "start_time": "2021-10-18T10:34:48.889Z"
   },
   {
    "duration": 11,
    "start_time": "2021-10-18T10:34:48.906Z"
   },
   {
    "duration": 11,
    "start_time": "2021-10-18T10:34:48.919Z"
   },
   {
    "duration": 322,
    "start_time": "2021-10-18T10:34:48.932Z"
   },
   {
    "duration": 8,
    "start_time": "2021-10-18T10:34:49.256Z"
   },
   {
    "duration": 8,
    "start_time": "2021-10-18T10:34:49.266Z"
   },
   {
    "duration": 531,
    "start_time": "2021-10-18T10:34:49.276Z"
   },
   {
    "duration": 137,
    "start_time": "2021-10-18T10:34:49.809Z"
   },
   {
    "duration": 148,
    "start_time": "2021-10-18T10:34:49.947Z"
   },
   {
    "duration": 4,
    "start_time": "2021-10-18T10:34:50.096Z"
   },
   {
    "duration": 35,
    "start_time": "2021-10-18T10:34:50.102Z"
   },
   {
    "duration": 34,
    "start_time": "2021-10-18T10:34:50.138Z"
   },
   {
    "duration": 40,
    "start_time": "2021-10-18T10:34:50.174Z"
   },
   {
    "duration": 551,
    "start_time": "2021-10-18T10:34:50.215Z"
   },
   {
    "duration": 6,
    "start_time": "2021-10-18T10:34:50.767Z"
   },
   {
    "duration": 30,
    "start_time": "2021-10-18T10:34:50.775Z"
   },
   {
    "duration": 485,
    "start_time": "2021-10-18T10:34:50.807Z"
   },
   {
    "duration": 7,
    "start_time": "2021-10-18T10:34:51.294Z"
   },
   {
    "duration": 15,
    "start_time": "2021-10-18T10:34:51.302Z"
   },
   {
    "duration": 31,
    "start_time": "2021-10-18T10:34:51.318Z"
   },
   {
    "duration": 195,
    "start_time": "2021-10-18T10:34:51.352Z"
   },
   {
    "duration": 4,
    "start_time": "2021-10-18T10:34:51.550Z"
   },
   {
    "duration": 28,
    "start_time": "2021-10-18T10:34:51.556Z"
   },
   {
    "duration": 47,
    "start_time": "2021-10-18T10:34:51.586Z"
   },
   {
    "duration": 32,
    "start_time": "2021-10-18T10:34:51.634Z"
   },
   {
    "duration": 419,
    "start_time": "2021-10-18T10:34:51.667Z"
   },
   {
    "duration": 6,
    "start_time": "2021-10-18T10:34:52.088Z"
   },
   {
    "duration": 21,
    "start_time": "2021-10-18T10:34:52.096Z"
   },
   {
    "duration": 15,
    "start_time": "2021-10-18T10:34:52.119Z"
   },
   {
    "duration": 19,
    "start_time": "2021-10-18T10:34:52.136Z"
   },
   {
    "duration": 20,
    "start_time": "2021-10-18T10:34:52.157Z"
   },
   {
    "duration": 136,
    "start_time": "2021-10-18T10:34:52.179Z"
   },
   {
    "duration": 137,
    "start_time": "2021-10-18T10:34:52.317Z"
   },
   {
    "duration": 2,
    "start_time": "2021-10-18T10:34:52.456Z"
   },
   {
    "duration": 26,
    "start_time": "2021-10-18T10:34:52.460Z"
   },
   {
    "duration": 11,
    "start_time": "2021-10-18T10:34:52.488Z"
   },
   {
    "duration": 7,
    "start_time": "2021-10-18T10:34:52.501Z"
   },
   {
    "duration": 24,
    "start_time": "2021-10-18T10:34:52.509Z"
   },
   {
    "duration": 28,
    "start_time": "2021-10-18T10:34:52.535Z"
   },
   {
    "duration": 15,
    "start_time": "2021-10-18T10:34:52.565Z"
   },
   {
    "duration": 23,
    "start_time": "2021-10-18T10:34:52.582Z"
   },
   {
    "duration": 144,
    "start_time": "2021-10-18T10:34:52.606Z"
   }
  ],
  "kernelspec": {
   "display_name": "Python 3",
   "language": "python",
   "name": "python3"
  },
  "language_info": {
   "codemirror_mode": {
    "name": "ipython",
    "version": 3
   },
   "file_extension": ".py",
   "mimetype": "text/x-python",
   "name": "python",
   "nbconvert_exporter": "python",
   "pygments_lexer": "ipython3",
   "version": "3.7.8"
  },
  "toc": {
   "base_numbering": 1,
   "nav_menu": {},
   "number_sections": false,
   "sideBar": true,
   "skip_h1_title": false,
   "title_cell": "Table of Contents",
   "title_sidebar": "Contents",
   "toc_cell": false,
   "toc_position": {
    "height": "calc(100% - 180px)",
    "left": "10px",
    "top": "150px",
    "width": "207.6px"
   },
   "toc_section_display": true,
   "toc_window_display": false
  }
 },
 "nbformat": 4,
 "nbformat_minor": 2
}
