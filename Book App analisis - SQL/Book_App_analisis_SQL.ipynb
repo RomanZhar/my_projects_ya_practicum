{
 "cells": [
  {
   "cell_type": "markdown",
   "metadata": {},
   "source": [
    "## The purpose of the study"
   ]
  },
  {
   "cell_type": "markdown",
   "metadata": {},
   "source": [
    "Based on the data provided, form a value proposition for a new product: **App for book lovers**"
   ]
  },
  {
   "cell_type": "markdown",
   "metadata": {},
   "source": [
    "**Содержание:**"
   ]
  },
  {
   "cell_type": "markdown",
   "metadata": {},
   "source": [
    "[1. Overview of tables](#paragraph1)  \n",
    "[2. Counting the number of books](#paragraph2)  \n",
    "[3. Counting the number of reviews](#paragraph3)  \n",
    "[4. Definition of publishing house](#paragraph4)  \n",
    "[5. Definition of the author](#paragraph5)  \n",
    "[6. Counting the number of reviews](#paragraph6)  \n",
    "[7. Output](#paragraph7)\n"
   ]
  },
  {
   "cell_type": "markdown",
   "metadata": {},
   "source": [
    "importing libraries:"
   ]
  },
  {
   "cell_type": "code",
   "execution_count": 1,
   "metadata": {},
   "outputs": [],
   "source": [
    "import pandas as pd\n",
    "from sqlalchemy import create_engine"
   ]
  },
  {
   "cell_type": "markdown",
   "metadata": {},
   "source": [
    "Connecting to the database:"
   ]
  },
  {
   "cell_type": "code",
   "execution_count": 2,
   "metadata": {},
   "outputs": [],
   "source": [
    "db_config = {'user': 'praktikum_student', # имя пользователя\n",
    "'pwd': 'Sdf4$2;d-d30pp', # пароль\n",
    "'host': 'rc1b-wcoijxj3yxfsf3fs.mdb.yandexcloud.net',\n",
    "'port': 6432, # порт подключения\n",
    "'db': 'data-analyst-final-project-db'} # название базы данных\n",
    "connection_string = 'postgresql://{}:{}@{}:{}/{}'.format(db_config['user'],\n",
    "db_config['pwd'],\n",
    "db_config['host'],\n",
    "db_config['port'],\n",
    "db_config['db'])\n",
    "engine = create_engine(connection_string, connect_args={'sslmode':'require'})"
   ]
  },
  {
   "cell_type": "markdown",
   "metadata": {},
   "source": [
    "### 1. Overview of tables<a name=\"paragraph1\"></a>"
   ]
  },
  {
   "cell_type": "code",
   "execution_count": 3,
   "metadata": {},
   "outputs": [
    {
     "data": {
      "text/html": [
       "<div>\n",
       "<style scoped>\n",
       "    .dataframe tbody tr th:only-of-type {\n",
       "        vertical-align: middle;\n",
       "    }\n",
       "\n",
       "    .dataframe tbody tr th {\n",
       "        vertical-align: top;\n",
       "    }\n",
       "\n",
       "    .dataframe thead th {\n",
       "        text-align: right;\n",
       "    }\n",
       "</style>\n",
       "<table border=\"1\" class=\"dataframe\">\n",
       "  <thead>\n",
       "    <tr style=\"text-align: right;\">\n",
       "      <th></th>\n",
       "      <th>book_id</th>\n",
       "      <th>author_id</th>\n",
       "      <th>title</th>\n",
       "      <th>num_pages</th>\n",
       "      <th>publication_date</th>\n",
       "      <th>publisher_id</th>\n",
       "    </tr>\n",
       "  </thead>\n",
       "  <tbody>\n",
       "    <tr>\n",
       "      <td>0</td>\n",
       "      <td>1</td>\n",
       "      <td>546</td>\n",
       "      <td>'Salem's Lot</td>\n",
       "      <td>594</td>\n",
       "      <td>2005-11-01</td>\n",
       "      <td>93</td>\n",
       "    </tr>\n",
       "    <tr>\n",
       "      <td>1</td>\n",
       "      <td>2</td>\n",
       "      <td>465</td>\n",
       "      <td>1 000 Places to See Before You Die</td>\n",
       "      <td>992</td>\n",
       "      <td>2003-05-22</td>\n",
       "      <td>336</td>\n",
       "    </tr>\n",
       "    <tr>\n",
       "      <td>2</td>\n",
       "      <td>3</td>\n",
       "      <td>407</td>\n",
       "      <td>13 Little Blue Envelopes (Little Blue Envelope...</td>\n",
       "      <td>322</td>\n",
       "      <td>2010-12-21</td>\n",
       "      <td>135</td>\n",
       "    </tr>\n",
       "    <tr>\n",
       "      <td>3</td>\n",
       "      <td>4</td>\n",
       "      <td>82</td>\n",
       "      <td>1491: New Revelations of the Americas Before C...</td>\n",
       "      <td>541</td>\n",
       "      <td>2006-10-10</td>\n",
       "      <td>309</td>\n",
       "    </tr>\n",
       "    <tr>\n",
       "      <td>4</td>\n",
       "      <td>5</td>\n",
       "      <td>125</td>\n",
       "      <td>1776</td>\n",
       "      <td>386</td>\n",
       "      <td>2006-07-04</td>\n",
       "      <td>268</td>\n",
       "    </tr>\n",
       "    <tr>\n",
       "      <td>5</td>\n",
       "      <td>6</td>\n",
       "      <td>257</td>\n",
       "      <td>1st to Die (Women's Murder Club  #1)</td>\n",
       "      <td>424</td>\n",
       "      <td>2005-05-20</td>\n",
       "      <td>116</td>\n",
       "    </tr>\n",
       "    <tr>\n",
       "      <td>6</td>\n",
       "      <td>7</td>\n",
       "      <td>258</td>\n",
       "      <td>2nd Chance (Women's Murder Club  #2)</td>\n",
       "      <td>400</td>\n",
       "      <td>2005-05-20</td>\n",
       "      <td>116</td>\n",
       "    </tr>\n",
       "    <tr>\n",
       "      <td>7</td>\n",
       "      <td>8</td>\n",
       "      <td>260</td>\n",
       "      <td>4th of July (Women's Murder Club  #4)</td>\n",
       "      <td>448</td>\n",
       "      <td>2006-06-01</td>\n",
       "      <td>318</td>\n",
       "    </tr>\n",
       "    <tr>\n",
       "      <td>8</td>\n",
       "      <td>9</td>\n",
       "      <td>563</td>\n",
       "      <td>A Beautiful Mind</td>\n",
       "      <td>461</td>\n",
       "      <td>2002-02-04</td>\n",
       "      <td>104</td>\n",
       "    </tr>\n",
       "    <tr>\n",
       "      <td>9</td>\n",
       "      <td>10</td>\n",
       "      <td>445</td>\n",
       "      <td>A Bend in the Road</td>\n",
       "      <td>341</td>\n",
       "      <td>2005-04-01</td>\n",
       "      <td>116</td>\n",
       "    </tr>\n",
       "  </tbody>\n",
       "</table>\n",
       "</div>"
      ],
      "text/plain": [
       "   book_id  author_id                                              title  \\\n",
       "0        1        546                                       'Salem's Lot   \n",
       "1        2        465                 1 000 Places to See Before You Die   \n",
       "2        3        407  13 Little Blue Envelopes (Little Blue Envelope...   \n",
       "3        4         82  1491: New Revelations of the Americas Before C...   \n",
       "4        5        125                                               1776   \n",
       "5        6        257               1st to Die (Women's Murder Club  #1)   \n",
       "6        7        258               2nd Chance (Women's Murder Club  #2)   \n",
       "7        8        260              4th of July (Women's Murder Club  #4)   \n",
       "8        9        563                                   A Beautiful Mind   \n",
       "9       10        445                                 A Bend in the Road   \n",
       "\n",
       "   num_pages publication_date  publisher_id  \n",
       "0        594       2005-11-01            93  \n",
       "1        992       2003-05-22           336  \n",
       "2        322       2010-12-21           135  \n",
       "3        541       2006-10-10           309  \n",
       "4        386       2006-07-04           268  \n",
       "5        424       2005-05-20           116  \n",
       "6        400       2005-05-20           116  \n",
       "7        448       2006-06-01           318  \n",
       "8        461       2002-02-04           104  \n",
       "9        341       2005-04-01           116  "
      ]
     },
     "execution_count": 3,
     "metadata": {},
     "output_type": "execute_result"
    }
   ],
   "source": [
    "pd.io.sql.read_sql('SELECT * FROM books LIMIT 10', con = engine)"
   ]
  },
  {
   "cell_type": "code",
   "execution_count": 4,
   "metadata": {},
   "outputs": [
    {
     "data": {
      "text/html": [
       "<div>\n",
       "<style scoped>\n",
       "    .dataframe tbody tr th:only-of-type {\n",
       "        vertical-align: middle;\n",
       "    }\n",
       "\n",
       "    .dataframe tbody tr th {\n",
       "        vertical-align: top;\n",
       "    }\n",
       "\n",
       "    .dataframe thead th {\n",
       "        text-align: right;\n",
       "    }\n",
       "</style>\n",
       "<table border=\"1\" class=\"dataframe\">\n",
       "  <thead>\n",
       "    <tr style=\"text-align: right;\">\n",
       "      <th></th>\n",
       "      <th>author_id</th>\n",
       "      <th>author</th>\n",
       "    </tr>\n",
       "  </thead>\n",
       "  <tbody>\n",
       "    <tr>\n",
       "      <td>0</td>\n",
       "      <td>1</td>\n",
       "      <td>A.S. Byatt</td>\n",
       "    </tr>\n",
       "    <tr>\n",
       "      <td>1</td>\n",
       "      <td>2</td>\n",
       "      <td>Aesop/Laura Harris/Laura Gibbs</td>\n",
       "    </tr>\n",
       "    <tr>\n",
       "      <td>2</td>\n",
       "      <td>3</td>\n",
       "      <td>Agatha Christie</td>\n",
       "    </tr>\n",
       "    <tr>\n",
       "      <td>3</td>\n",
       "      <td>4</td>\n",
       "      <td>Alan Brennert</td>\n",
       "    </tr>\n",
       "    <tr>\n",
       "      <td>4</td>\n",
       "      <td>5</td>\n",
       "      <td>Alan Moore/David   Lloyd</td>\n",
       "    </tr>\n",
       "    <tr>\n",
       "      <td>5</td>\n",
       "      <td>6</td>\n",
       "      <td>Alan Paton</td>\n",
       "    </tr>\n",
       "    <tr>\n",
       "      <td>6</td>\n",
       "      <td>7</td>\n",
       "      <td>Albert Camus/Justin O'Brien</td>\n",
       "    </tr>\n",
       "    <tr>\n",
       "      <td>7</td>\n",
       "      <td>8</td>\n",
       "      <td>Aldous Huxley</td>\n",
       "    </tr>\n",
       "    <tr>\n",
       "      <td>8</td>\n",
       "      <td>9</td>\n",
       "      <td>Aldous Huxley/Christopher Hitchens</td>\n",
       "    </tr>\n",
       "    <tr>\n",
       "      <td>9</td>\n",
       "      <td>10</td>\n",
       "      <td>Aleksandr Solzhenitsyn/H.T. Willetts</td>\n",
       "    </tr>\n",
       "  </tbody>\n",
       "</table>\n",
       "</div>"
      ],
      "text/plain": [
       "   author_id                                author\n",
       "0          1                            A.S. Byatt\n",
       "1          2        Aesop/Laura Harris/Laura Gibbs\n",
       "2          3                       Agatha Christie\n",
       "3          4                         Alan Brennert\n",
       "4          5              Alan Moore/David   Lloyd\n",
       "5          6                            Alan Paton\n",
       "6          7           Albert Camus/Justin O'Brien\n",
       "7          8                         Aldous Huxley\n",
       "8          9    Aldous Huxley/Christopher Hitchens\n",
       "9         10  Aleksandr Solzhenitsyn/H.T. Willetts"
      ]
     },
     "execution_count": 4,
     "metadata": {},
     "output_type": "execute_result"
    }
   ],
   "source": [
    "pd.io.sql.read_sql('SELECT * FROM authors LIMIT 10', con = engine)"
   ]
  },
  {
   "cell_type": "code",
   "execution_count": 5,
   "metadata": {},
   "outputs": [
    {
     "data": {
      "text/html": [
       "<div>\n",
       "<style scoped>\n",
       "    .dataframe tbody tr th:only-of-type {\n",
       "        vertical-align: middle;\n",
       "    }\n",
       "\n",
       "    .dataframe tbody tr th {\n",
       "        vertical-align: top;\n",
       "    }\n",
       "\n",
       "    .dataframe thead th {\n",
       "        text-align: right;\n",
       "    }\n",
       "</style>\n",
       "<table border=\"1\" class=\"dataframe\">\n",
       "  <thead>\n",
       "    <tr style=\"text-align: right;\">\n",
       "      <th></th>\n",
       "      <th>publisher_id</th>\n",
       "      <th>publisher</th>\n",
       "    </tr>\n",
       "  </thead>\n",
       "  <tbody>\n",
       "    <tr>\n",
       "      <td>0</td>\n",
       "      <td>1</td>\n",
       "      <td>Ace</td>\n",
       "    </tr>\n",
       "    <tr>\n",
       "      <td>1</td>\n",
       "      <td>2</td>\n",
       "      <td>Ace Book</td>\n",
       "    </tr>\n",
       "    <tr>\n",
       "      <td>2</td>\n",
       "      <td>3</td>\n",
       "      <td>Ace Books</td>\n",
       "    </tr>\n",
       "    <tr>\n",
       "      <td>3</td>\n",
       "      <td>4</td>\n",
       "      <td>Ace Hardcover</td>\n",
       "    </tr>\n",
       "    <tr>\n",
       "      <td>4</td>\n",
       "      <td>5</td>\n",
       "      <td>Addison Wesley Publishing Company</td>\n",
       "    </tr>\n",
       "    <tr>\n",
       "      <td>5</td>\n",
       "      <td>6</td>\n",
       "      <td>Aladdin</td>\n",
       "    </tr>\n",
       "    <tr>\n",
       "      <td>6</td>\n",
       "      <td>7</td>\n",
       "      <td>Aladdin Paperbacks</td>\n",
       "    </tr>\n",
       "    <tr>\n",
       "      <td>7</td>\n",
       "      <td>8</td>\n",
       "      <td>Albin Michel</td>\n",
       "    </tr>\n",
       "    <tr>\n",
       "      <td>8</td>\n",
       "      <td>9</td>\n",
       "      <td>Alfred A. Knopf</td>\n",
       "    </tr>\n",
       "    <tr>\n",
       "      <td>9</td>\n",
       "      <td>10</td>\n",
       "      <td>Alfred A. Knopf Books for Young Readers</td>\n",
       "    </tr>\n",
       "  </tbody>\n",
       "</table>\n",
       "</div>"
      ],
      "text/plain": [
       "   publisher_id                                publisher\n",
       "0             1                                      Ace\n",
       "1             2                                 Ace Book\n",
       "2             3                                Ace Books\n",
       "3             4                            Ace Hardcover\n",
       "4             5        Addison Wesley Publishing Company\n",
       "5             6                                  Aladdin\n",
       "6             7                       Aladdin Paperbacks\n",
       "7             8                             Albin Michel\n",
       "8             9                          Alfred A. Knopf\n",
       "9            10  Alfred A. Knopf Books for Young Readers"
      ]
     },
     "execution_count": 5,
     "metadata": {},
     "output_type": "execute_result"
    }
   ],
   "source": [
    "pd.io.sql.read_sql('SELECT * FROM publishers LIMIT 10', con = engine)"
   ]
  },
  {
   "cell_type": "code",
   "execution_count": 6,
   "metadata": {},
   "outputs": [
    {
     "data": {
      "text/html": [
       "<div>\n",
       "<style scoped>\n",
       "    .dataframe tbody tr th:only-of-type {\n",
       "        vertical-align: middle;\n",
       "    }\n",
       "\n",
       "    .dataframe tbody tr th {\n",
       "        vertical-align: top;\n",
       "    }\n",
       "\n",
       "    .dataframe thead th {\n",
       "        text-align: right;\n",
       "    }\n",
       "</style>\n",
       "<table border=\"1\" class=\"dataframe\">\n",
       "  <thead>\n",
       "    <tr style=\"text-align: right;\">\n",
       "      <th></th>\n",
       "      <th>rating_id</th>\n",
       "      <th>book_id</th>\n",
       "      <th>username</th>\n",
       "      <th>rating</th>\n",
       "    </tr>\n",
       "  </thead>\n",
       "  <tbody>\n",
       "    <tr>\n",
       "      <td>0</td>\n",
       "      <td>1</td>\n",
       "      <td>1</td>\n",
       "      <td>ryanfranco</td>\n",
       "      <td>4</td>\n",
       "    </tr>\n",
       "    <tr>\n",
       "      <td>1</td>\n",
       "      <td>2</td>\n",
       "      <td>1</td>\n",
       "      <td>grantpatricia</td>\n",
       "      <td>2</td>\n",
       "    </tr>\n",
       "    <tr>\n",
       "      <td>2</td>\n",
       "      <td>3</td>\n",
       "      <td>1</td>\n",
       "      <td>brandtandrea</td>\n",
       "      <td>5</td>\n",
       "    </tr>\n",
       "    <tr>\n",
       "      <td>3</td>\n",
       "      <td>4</td>\n",
       "      <td>2</td>\n",
       "      <td>lorichen</td>\n",
       "      <td>3</td>\n",
       "    </tr>\n",
       "    <tr>\n",
       "      <td>4</td>\n",
       "      <td>5</td>\n",
       "      <td>2</td>\n",
       "      <td>mariokeller</td>\n",
       "      <td>2</td>\n",
       "    </tr>\n",
       "    <tr>\n",
       "      <td>5</td>\n",
       "      <td>6</td>\n",
       "      <td>3</td>\n",
       "      <td>johnsonamanda</td>\n",
       "      <td>4</td>\n",
       "    </tr>\n",
       "    <tr>\n",
       "      <td>6</td>\n",
       "      <td>7</td>\n",
       "      <td>3</td>\n",
       "      <td>scotttamara</td>\n",
       "      <td>5</td>\n",
       "    </tr>\n",
       "    <tr>\n",
       "      <td>7</td>\n",
       "      <td>8</td>\n",
       "      <td>3</td>\n",
       "      <td>lesliegibbs</td>\n",
       "      <td>5</td>\n",
       "    </tr>\n",
       "    <tr>\n",
       "      <td>8</td>\n",
       "      <td>9</td>\n",
       "      <td>4</td>\n",
       "      <td>abbottjames</td>\n",
       "      <td>5</td>\n",
       "    </tr>\n",
       "    <tr>\n",
       "      <td>9</td>\n",
       "      <td>10</td>\n",
       "      <td>4</td>\n",
       "      <td>valenciaanne</td>\n",
       "      <td>4</td>\n",
       "    </tr>\n",
       "  </tbody>\n",
       "</table>\n",
       "</div>"
      ],
      "text/plain": [
       "   rating_id  book_id       username  rating\n",
       "0          1        1     ryanfranco       4\n",
       "1          2        1  grantpatricia       2\n",
       "2          3        1   brandtandrea       5\n",
       "3          4        2       lorichen       3\n",
       "4          5        2    mariokeller       2\n",
       "5          6        3  johnsonamanda       4\n",
       "6          7        3    scotttamara       5\n",
       "7          8        3    lesliegibbs       5\n",
       "8          9        4    abbottjames       5\n",
       "9         10        4   valenciaanne       4"
      ]
     },
     "execution_count": 6,
     "metadata": {},
     "output_type": "execute_result"
    }
   ],
   "source": [
    "pd.io.sql.read_sql('SELECT * FROM ratings LIMIT 10', con = engine)"
   ]
  },
  {
   "cell_type": "code",
   "execution_count": 7,
   "metadata": {},
   "outputs": [
    {
     "data": {
      "text/html": [
       "<div>\n",
       "<style scoped>\n",
       "    .dataframe tbody tr th:only-of-type {\n",
       "        vertical-align: middle;\n",
       "    }\n",
       "\n",
       "    .dataframe tbody tr th {\n",
       "        vertical-align: top;\n",
       "    }\n",
       "\n",
       "    .dataframe thead th {\n",
       "        text-align: right;\n",
       "    }\n",
       "</style>\n",
       "<table border=\"1\" class=\"dataframe\">\n",
       "  <thead>\n",
       "    <tr style=\"text-align: right;\">\n",
       "      <th></th>\n",
       "      <th>review_id</th>\n",
       "      <th>book_id</th>\n",
       "      <th>username</th>\n",
       "      <th>text</th>\n",
       "    </tr>\n",
       "  </thead>\n",
       "  <tbody>\n",
       "    <tr>\n",
       "      <td>0</td>\n",
       "      <td>1</td>\n",
       "      <td>1</td>\n",
       "      <td>brandtandrea</td>\n",
       "      <td>Mention society tell send professor analysis. ...</td>\n",
       "    </tr>\n",
       "    <tr>\n",
       "      <td>1</td>\n",
       "      <td>2</td>\n",
       "      <td>1</td>\n",
       "      <td>ryanfranco</td>\n",
       "      <td>Foot glass pretty audience hit themselves. Amo...</td>\n",
       "    </tr>\n",
       "    <tr>\n",
       "      <td>2</td>\n",
       "      <td>3</td>\n",
       "      <td>2</td>\n",
       "      <td>lorichen</td>\n",
       "      <td>Listen treat keep worry. Miss husband tax but ...</td>\n",
       "    </tr>\n",
       "    <tr>\n",
       "      <td>3</td>\n",
       "      <td>4</td>\n",
       "      <td>3</td>\n",
       "      <td>johnsonamanda</td>\n",
       "      <td>Finally month interesting blue could nature cu...</td>\n",
       "    </tr>\n",
       "    <tr>\n",
       "      <td>4</td>\n",
       "      <td>5</td>\n",
       "      <td>3</td>\n",
       "      <td>scotttamara</td>\n",
       "      <td>Nation purpose heavy give wait song will. List...</td>\n",
       "    </tr>\n",
       "    <tr>\n",
       "      <td>5</td>\n",
       "      <td>6</td>\n",
       "      <td>3</td>\n",
       "      <td>lesliegibbs</td>\n",
       "      <td>Analysis no several cause international.</td>\n",
       "    </tr>\n",
       "    <tr>\n",
       "      <td>6</td>\n",
       "      <td>7</td>\n",
       "      <td>4</td>\n",
       "      <td>valenciaanne</td>\n",
       "      <td>One there cost another. Say type save. With pe...</td>\n",
       "    </tr>\n",
       "    <tr>\n",
       "      <td>7</td>\n",
       "      <td>8</td>\n",
       "      <td>4</td>\n",
       "      <td>abbottjames</td>\n",
       "      <td>Within enough mother. There at system full rec...</td>\n",
       "    </tr>\n",
       "    <tr>\n",
       "      <td>8</td>\n",
       "      <td>9</td>\n",
       "      <td>5</td>\n",
       "      <td>npowers</td>\n",
       "      <td>Thank now focus realize economy focus fly. Ite...</td>\n",
       "    </tr>\n",
       "    <tr>\n",
       "      <td>9</td>\n",
       "      <td>10</td>\n",
       "      <td>5</td>\n",
       "      <td>staylor</td>\n",
       "      <td>Game push lot reduce where remember. Including...</td>\n",
       "    </tr>\n",
       "  </tbody>\n",
       "</table>\n",
       "</div>"
      ],
      "text/plain": [
       "   review_id  book_id       username  \\\n",
       "0          1        1   brandtandrea   \n",
       "1          2        1     ryanfranco   \n",
       "2          3        2       lorichen   \n",
       "3          4        3  johnsonamanda   \n",
       "4          5        3    scotttamara   \n",
       "5          6        3    lesliegibbs   \n",
       "6          7        4   valenciaanne   \n",
       "7          8        4    abbottjames   \n",
       "8          9        5        npowers   \n",
       "9         10        5        staylor   \n",
       "\n",
       "                                                text  \n",
       "0  Mention society tell send professor analysis. ...  \n",
       "1  Foot glass pretty audience hit themselves. Amo...  \n",
       "2  Listen treat keep worry. Miss husband tax but ...  \n",
       "3  Finally month interesting blue could nature cu...  \n",
       "4  Nation purpose heavy give wait song will. List...  \n",
       "5           Analysis no several cause international.  \n",
       "6  One there cost another. Say type save. With pe...  \n",
       "7  Within enough mother. There at system full rec...  \n",
       "8  Thank now focus realize economy focus fly. Ite...  \n",
       "9  Game push lot reduce where remember. Including...  "
      ]
     },
     "execution_count": 7,
     "metadata": {},
     "output_type": "execute_result"
    }
   ],
   "source": [
    "pd.io.sql.read_sql('SELECT * FROM reviews LIMIT 10', con = engine)"
   ]
  },
  {
   "cell_type": "markdown",
   "metadata": {},
   "source": [
    "### 2. Counting the number of books released since January 2000<a name=\"paragraph2\"></a>"
   ]
  },
  {
   "cell_type": "code",
   "execution_count": 8,
   "metadata": {},
   "outputs": [],
   "source": [
    "query = '''\n",
    "SELECT\n",
    "    COUNT(book_id) as book_cnt\n",
    "FROM\n",
    "    books\n",
    "WHERE\n",
    "    publication_date > '2000-01-02'\n",
    "    '''"
   ]
  },
  {
   "cell_type": "code",
   "execution_count": 9,
   "metadata": {},
   "outputs": [
    {
     "data": {
      "text/html": [
       "<div>\n",
       "<style scoped>\n",
       "    .dataframe tbody tr th:only-of-type {\n",
       "        vertical-align: middle;\n",
       "    }\n",
       "\n",
       "    .dataframe tbody tr th {\n",
       "        vertical-align: top;\n",
       "    }\n",
       "\n",
       "    .dataframe thead th {\n",
       "        text-align: right;\n",
       "    }\n",
       "</style>\n",
       "<table border=\"1\" class=\"dataframe\">\n",
       "  <thead>\n",
       "    <tr style=\"text-align: right;\">\n",
       "      <th></th>\n",
       "      <th>book_cnt</th>\n",
       "    </tr>\n",
       "  </thead>\n",
       "  <tbody>\n",
       "    <tr>\n",
       "      <td>0</td>\n",
       "      <td>819</td>\n",
       "    </tr>\n",
       "  </tbody>\n",
       "</table>\n",
       "</div>"
      ],
      "text/plain": [
       "   book_cnt\n",
       "0       819"
      ]
     },
     "execution_count": 9,
     "metadata": {},
     "output_type": "execute_result"
    }
   ],
   "source": [
    "pd.io.sql.read_sql(query, con = engine)"
   ]
  },
  {
   "cell_type": "markdown",
   "metadata": {},
   "source": [
    "There were 819 books in the database"
   ]
  },
  {
   "cell_type": "markdown",
   "metadata": {},
   "source": [
    "### 3. Counting the number of user reviews and the average rating of each book<a name=\"paragraph3\"></a>"
   ]
  },
  {
   "cell_type": "code",
   "execution_count": 10,
   "metadata": {},
   "outputs": [],
   "source": [
    "query = '''\n",
    "SELECT\n",
    "    books.book_id,\n",
    "    books.title,\n",
    "    COUNT(DISTINCT review_id) as review_cnt,\n",
    "    AVG(rating) as avg_rating\n",
    "FROM \n",
    "    books\n",
    "INNER JOIN reviews ON  reviews.book_id = books.book_id\n",
    "INNER JOIN ratings ON  ratings.book_id = books.book_id\n",
    "GROUP BY\n",
    "    books.book_id\n",
    "ORDER BY\n",
    "    review_cnt DESC\n",
    "LIMIT 7\n",
    "'''"
   ]
  },
  {
   "cell_type": "code",
   "execution_count": 11,
   "metadata": {},
   "outputs": [
    {
     "data": {
      "text/html": [
       "<div>\n",
       "<style scoped>\n",
       "    .dataframe tbody tr th:only-of-type {\n",
       "        vertical-align: middle;\n",
       "    }\n",
       "\n",
       "    .dataframe tbody tr th {\n",
       "        vertical-align: top;\n",
       "    }\n",
       "\n",
       "    .dataframe thead th {\n",
       "        text-align: right;\n",
       "    }\n",
       "</style>\n",
       "<table border=\"1\" class=\"dataframe\">\n",
       "  <thead>\n",
       "    <tr style=\"text-align: right;\">\n",
       "      <th></th>\n",
       "      <th>book_id</th>\n",
       "      <th>title</th>\n",
       "      <th>review_cnt</th>\n",
       "      <th>avg_rating</th>\n",
       "    </tr>\n",
       "  </thead>\n",
       "  <tbody>\n",
       "    <tr>\n",
       "      <td>0</td>\n",
       "      <td>948</td>\n",
       "      <td>Twilight (Twilight  #1)</td>\n",
       "      <td>7</td>\n",
       "      <td>3.662500</td>\n",
       "    </tr>\n",
       "    <tr>\n",
       "      <td>1</td>\n",
       "      <td>656</td>\n",
       "      <td>The Book Thief</td>\n",
       "      <td>6</td>\n",
       "      <td>4.264151</td>\n",
       "    </tr>\n",
       "    <tr>\n",
       "      <td>2</td>\n",
       "      <td>207</td>\n",
       "      <td>Eat  Pray  Love</td>\n",
       "      <td>6</td>\n",
       "      <td>3.395833</td>\n",
       "    </tr>\n",
       "    <tr>\n",
       "      <td>3</td>\n",
       "      <td>299</td>\n",
       "      <td>Harry Potter and the Chamber of Secrets (Harry...</td>\n",
       "      <td>6</td>\n",
       "      <td>4.287500</td>\n",
       "    </tr>\n",
       "    <tr>\n",
       "      <td>4</td>\n",
       "      <td>497</td>\n",
       "      <td>Outlander (Outlander  #1)</td>\n",
       "      <td>6</td>\n",
       "      <td>4.125000</td>\n",
       "    </tr>\n",
       "    <tr>\n",
       "      <td>5</td>\n",
       "      <td>627</td>\n",
       "      <td>The Alchemist</td>\n",
       "      <td>6</td>\n",
       "      <td>3.789474</td>\n",
       "    </tr>\n",
       "    <tr>\n",
       "      <td>6</td>\n",
       "      <td>302</td>\n",
       "      <td>Harry Potter and the Prisoner of Azkaban (Harr...</td>\n",
       "      <td>6</td>\n",
       "      <td>4.414634</td>\n",
       "    </tr>\n",
       "  </tbody>\n",
       "</table>\n",
       "</div>"
      ],
      "text/plain": [
       "   book_id                                              title  review_cnt  \\\n",
       "0      948                            Twilight (Twilight  #1)           7   \n",
       "1      656                                     The Book Thief           6   \n",
       "2      207                                    Eat  Pray  Love           6   \n",
       "3      299  Harry Potter and the Chamber of Secrets (Harry...           6   \n",
       "4      497                          Outlander (Outlander  #1)           6   \n",
       "5      627                                      The Alchemist           6   \n",
       "6      302  Harry Potter and the Prisoner of Azkaban (Harr...           6   \n",
       "\n",
       "   avg_rating  \n",
       "0    3.662500  \n",
       "1    4.264151  \n",
       "2    3.395833  \n",
       "3    4.287500  \n",
       "4    4.125000  \n",
       "5    3.789474  \n",
       "6    4.414634  "
      ]
     },
     "execution_count": 11,
     "metadata": {},
     "output_type": "execute_result"
    }
   ],
   "source": [
    "pd.io.sql.read_sql(query, con = engine)"
   ]
  },
  {
   "cell_type": "code",
   "execution_count": 12,
   "metadata": {},
   "outputs": [],
   "source": [
    "#pd.io.sql.read_sql(query, con = engine).review_cnt.sum()"
   ]
  },
  {
   "cell_type": "markdown",
   "metadata": {},
   "source": [
    "Most user reviews were written for the book \"Twilight\" - 7"
   ]
  },
  {
   "cell_type": "markdown",
   "metadata": {},
   "source": [
    "### 4. Let's find out the publishing house that has released the largest number of books thicker than 50 pages<a name=\"paragraph4\"></a>"
   ]
  },
  {
   "cell_type": "code",
   "execution_count": 13,
   "metadata": {},
   "outputs": [],
   "source": [
    "query = '''\n",
    "SELECT\n",
    "    publisher,\n",
    "    COUNT(book_id) as book_cnt\n",
    "FROM\n",
    "    publishers\n",
    "LEFT JOIN books ON  books.publisher_id = publishers.publisher_id \n",
    "WHERE \n",
    "    num_pages > 50\n",
    "GROUP BY\n",
    "    publisher\n",
    "ORDER BY\n",
    "    book_cnt DESC\n",
    "'''"
   ]
  },
  {
   "cell_type": "code",
   "execution_count": 14,
   "metadata": {},
   "outputs": [
    {
     "data": {
      "text/html": [
       "<div>\n",
       "<style scoped>\n",
       "    .dataframe tbody tr th:only-of-type {\n",
       "        vertical-align: middle;\n",
       "    }\n",
       "\n",
       "    .dataframe tbody tr th {\n",
       "        vertical-align: top;\n",
       "    }\n",
       "\n",
       "    .dataframe thead th {\n",
       "        text-align: right;\n",
       "    }\n",
       "</style>\n",
       "<table border=\"1\" class=\"dataframe\">\n",
       "  <thead>\n",
       "    <tr style=\"text-align: right;\">\n",
       "      <th></th>\n",
       "      <th>publisher</th>\n",
       "      <th>book_cnt</th>\n",
       "    </tr>\n",
       "  </thead>\n",
       "  <tbody>\n",
       "    <tr>\n",
       "      <td>0</td>\n",
       "      <td>Penguin Books</td>\n",
       "      <td>42</td>\n",
       "    </tr>\n",
       "    <tr>\n",
       "      <td>1</td>\n",
       "      <td>Vintage</td>\n",
       "      <td>31</td>\n",
       "    </tr>\n",
       "    <tr>\n",
       "      <td>2</td>\n",
       "      <td>Grand Central Publishing</td>\n",
       "      <td>25</td>\n",
       "    </tr>\n",
       "    <tr>\n",
       "      <td>3</td>\n",
       "      <td>Penguin Classics</td>\n",
       "      <td>24</td>\n",
       "    </tr>\n",
       "    <tr>\n",
       "      <td>4</td>\n",
       "      <td>Ballantine Books</td>\n",
       "      <td>19</td>\n",
       "    </tr>\n",
       "    <tr>\n",
       "      <td>...</td>\n",
       "      <td>...</td>\n",
       "      <td>...</td>\n",
       "    </tr>\n",
       "    <tr>\n",
       "      <td>329</td>\n",
       "      <td>Turtleback</td>\n",
       "      <td>1</td>\n",
       "    </tr>\n",
       "    <tr>\n",
       "      <td>330</td>\n",
       "      <td>Atheneum Books for Young Readers: Richard Jack...</td>\n",
       "      <td>1</td>\n",
       "    </tr>\n",
       "    <tr>\n",
       "      <td>331</td>\n",
       "      <td>Penguin Signet</td>\n",
       "      <td>1</td>\n",
       "    </tr>\n",
       "    <tr>\n",
       "      <td>332</td>\n",
       "      <td>Victor Gollancz</td>\n",
       "      <td>1</td>\n",
       "    </tr>\n",
       "    <tr>\n",
       "      <td>333</td>\n",
       "      <td>Harvard Business Review Press</td>\n",
       "      <td>1</td>\n",
       "    </tr>\n",
       "  </tbody>\n",
       "</table>\n",
       "<p>334 rows × 2 columns</p>\n",
       "</div>"
      ],
      "text/plain": [
       "                                             publisher  book_cnt\n",
       "0                                        Penguin Books        42\n",
       "1                                              Vintage        31\n",
       "2                             Grand Central Publishing        25\n",
       "3                                     Penguin Classics        24\n",
       "4                                     Ballantine Books        19\n",
       "..                                                 ...       ...\n",
       "329                                         Turtleback         1\n",
       "330  Atheneum Books for Young Readers: Richard Jack...         1\n",
       "331                                     Penguin Signet         1\n",
       "332                                    Victor Gollancz         1\n",
       "333                      Harvard Business Review Press         1\n",
       "\n",
       "[334 rows x 2 columns]"
      ]
     },
     "execution_count": 14,
     "metadata": {},
     "output_type": "execute_result"
    }
   ],
   "source": [
    "pd.io.sql.read_sql(query, con = engine)"
   ]
  },
  {
   "cell_type": "markdown",
   "metadata": {},
   "source": [
    "Most of the books have been published by the publishing house **Penguin Books**"
   ]
  },
  {
   "cell_type": "markdown",
   "metadata": {},
   "source": [
    "### 5. Find out the author with the highest average rating of his works (of those with more than 50 ratings)<a name=\"paragraph5\"></a>"
   ]
  },
  {
   "cell_type": "code",
   "execution_count": 15,
   "metadata": {},
   "outputs": [],
   "source": [
    "query = '''\n",
    "SELECT\n",
    "    author,\n",
    "    AVG(sub.avg_rating) as total_avg_rating\n",
    "FROM\n",
    "    (SELECT\n",
    "        author,\n",
    "        books.book_id,\n",
    "        AVG(rating) as avg_rating\n",
    "    FROM \n",
    "        authors\n",
    "    LEFT JOIN books ON books.author_id = authors.author_id\n",
    "    LEFT JOIN ratings ON ratings.book_id = books.book_id\n",
    "    GROUP BY\n",
    "        author,\n",
    "        books.book_id\n",
    "    HAVING\n",
    "        COUNT(rating) > 50) as sub\n",
    "GROUP BY\n",
    "    author\n",
    "ORDER BY\n",
    "    total_avg_rating DESC\n",
    "'''"
   ]
  },
  {
   "cell_type": "code",
   "execution_count": 16,
   "metadata": {},
   "outputs": [
    {
     "data": {
      "text/html": [
       "<div>\n",
       "<style scoped>\n",
       "    .dataframe tbody tr th:only-of-type {\n",
       "        vertical-align: middle;\n",
       "    }\n",
       "\n",
       "    .dataframe tbody tr th {\n",
       "        vertical-align: top;\n",
       "    }\n",
       "\n",
       "    .dataframe thead th {\n",
       "        text-align: right;\n",
       "    }\n",
       "</style>\n",
       "<table border=\"1\" class=\"dataframe\">\n",
       "  <thead>\n",
       "    <tr style=\"text-align: right;\">\n",
       "      <th></th>\n",
       "      <th>author</th>\n",
       "      <th>total_avg_rating</th>\n",
       "    </tr>\n",
       "  </thead>\n",
       "  <tbody>\n",
       "    <tr>\n",
       "      <td>0</td>\n",
       "      <td>J.K. Rowling/Mary GrandPré</td>\n",
       "      <td>4.283844</td>\n",
       "    </tr>\n",
       "    <tr>\n",
       "      <td>1</td>\n",
       "      <td>Markus Zusak/Cao Xuân Việt Khương</td>\n",
       "      <td>4.264151</td>\n",
       "    </tr>\n",
       "    <tr>\n",
       "      <td>2</td>\n",
       "      <td>J.R.R. Tolkien</td>\n",
       "      <td>4.258446</td>\n",
       "    </tr>\n",
       "    <tr>\n",
       "      <td>3</td>\n",
       "      <td>Louisa May Alcott</td>\n",
       "      <td>4.192308</td>\n",
       "    </tr>\n",
       "    <tr>\n",
       "      <td>4</td>\n",
       "      <td>Rick Riordan</td>\n",
       "      <td>4.080645</td>\n",
       "    </tr>\n",
       "    <tr>\n",
       "      <td>5</td>\n",
       "      <td>William Golding</td>\n",
       "      <td>3.901408</td>\n",
       "    </tr>\n",
       "    <tr>\n",
       "      <td>6</td>\n",
       "      <td>J.D. Salinger</td>\n",
       "      <td>3.825581</td>\n",
       "    </tr>\n",
       "    <tr>\n",
       "      <td>7</td>\n",
       "      <td>Paulo Coelho/Alan R. Clarke/Özdemir İnce</td>\n",
       "      <td>3.789474</td>\n",
       "    </tr>\n",
       "    <tr>\n",
       "      <td>8</td>\n",
       "      <td>William Shakespeare/Paul Werstine/Barbara A. M...</td>\n",
       "      <td>3.787879</td>\n",
       "    </tr>\n",
       "    <tr>\n",
       "      <td>9</td>\n",
       "      <td>Dan Brown</td>\n",
       "      <td>3.754540</td>\n",
       "    </tr>\n",
       "    <tr>\n",
       "      <td>10</td>\n",
       "      <td>Lois Lowry</td>\n",
       "      <td>3.750000</td>\n",
       "    </tr>\n",
       "    <tr>\n",
       "      <td>11</td>\n",
       "      <td>George Orwell/Boris Grabnar/Peter Škerl</td>\n",
       "      <td>3.729730</td>\n",
       "    </tr>\n",
       "    <tr>\n",
       "      <td>12</td>\n",
       "      <td>Stephenie Meyer</td>\n",
       "      <td>3.662500</td>\n",
       "    </tr>\n",
       "    <tr>\n",
       "      <td>13</td>\n",
       "      <td>John Steinbeck</td>\n",
       "      <td>3.622951</td>\n",
       "    </tr>\n",
       "  </tbody>\n",
       "</table>\n",
       "</div>"
      ],
      "text/plain": [
       "                                               author  total_avg_rating\n",
       "0                          J.K. Rowling/Mary GrandPré          4.283844\n",
       "1                   Markus Zusak/Cao Xuân Việt Khương          4.264151\n",
       "2                                      J.R.R. Tolkien          4.258446\n",
       "3                                   Louisa May Alcott          4.192308\n",
       "4                                        Rick Riordan          4.080645\n",
       "5                                     William Golding          3.901408\n",
       "6                                       J.D. Salinger          3.825581\n",
       "7            Paulo Coelho/Alan R. Clarke/Özdemir İnce          3.789474\n",
       "8   William Shakespeare/Paul Werstine/Barbara A. M...          3.787879\n",
       "9                                           Dan Brown          3.754540\n",
       "10                                         Lois Lowry          3.750000\n",
       "11            George Orwell/Boris Grabnar/Peter Škerl          3.729730\n",
       "12                                    Stephenie Meyer          3.662500\n",
       "13                                     John Steinbeck          3.622951"
      ]
     },
     "execution_count": 16,
     "metadata": {},
     "output_type": "execute_result"
    }
   ],
   "source": [
    "pd.io.sql.read_sql(query, con = engine)"
   ]
  },
  {
   "cell_type": "markdown",
   "metadata": {},
   "source": [
    "**J.K. Rowling has the highest marks**"
   ]
  },
  {
   "cell_type": "markdown",
   "metadata": {},
   "source": [
    "### 6. The average number of text reviews among those readers who gave more than 50 ratings to books<a name=\"paragraph6\"></a>"
   ]
  },
  {
   "cell_type": "code",
   "execution_count": 17,
   "metadata": {},
   "outputs": [],
   "source": [
    "query = '''\n",
    "SELECT\n",
    "    ROUND(AVG(sub_text_cnt.text_cnt)) AS avg_text_cnt\n",
    "FROM\n",
    "    (SELECT\n",
    "        COUNT(text) as text_cnt\n",
    "    FROM \n",
    "        reviews\n",
    "    WHERE username IN\n",
    "        (SELECT username\n",
    "        FROM \n",
    "            ratings\n",
    "        GROUP BY\n",
    "            username\n",
    "        HAVING\n",
    "            COUNT(ratings) > 50)\n",
    "    GROUP BY \n",
    "            username\n",
    "    ) AS sub_text_cnt  \n",
    "'''"
   ]
  },
  {
   "cell_type": "code",
   "execution_count": 18,
   "metadata": {},
   "outputs": [
    {
     "data": {
      "text/html": [
       "<div>\n",
       "<style scoped>\n",
       "    .dataframe tbody tr th:only-of-type {\n",
       "        vertical-align: middle;\n",
       "    }\n",
       "\n",
       "    .dataframe tbody tr th {\n",
       "        vertical-align: top;\n",
       "    }\n",
       "\n",
       "    .dataframe thead th {\n",
       "        text-align: right;\n",
       "    }\n",
       "</style>\n",
       "<table border=\"1\" class=\"dataframe\">\n",
       "  <thead>\n",
       "    <tr style=\"text-align: right;\">\n",
       "      <th></th>\n",
       "      <th>avg_text_cnt</th>\n",
       "    </tr>\n",
       "  </thead>\n",
       "  <tbody>\n",
       "    <tr>\n",
       "      <td>0</td>\n",
       "      <td>24.0</td>\n",
       "    </tr>\n",
       "  </tbody>\n",
       "</table>\n",
       "</div>"
      ],
      "text/plain": [
       "   avg_text_cnt\n",
       "0          24.0"
      ]
     },
     "execution_count": 18,
     "metadata": {},
     "output_type": "execute_result"
    }
   ],
   "source": [
    "pd.io.sql.read_sql(query, con = engine)"
   ]
  },
  {
   "cell_type": "markdown",
   "metadata": {},
   "source": [
    "The average number of reviews written by readers who have rated more than 50 books is 24"
   ]
  },
  {
   "cell_type": "markdown",
   "metadata": {},
   "source": [
    "### 7. Conclusions:<a name=\"paragraph7\"></a>"
   ]
  },
  {
   "cell_type": "markdown",
   "metadata": {},
   "source": [
    "Based on the conducted research, we can say that:  \n",
    "- The most reviews have been written for the book **tWilight **  \n",
    "- The highest rating for the book **Harry Potter and the Prisoner of Azkaban**  \n",
    "- Publisher **Penguin Books** has released the most books thicker than 50 pages  \n",
    "- **J.K. Rowling** has the highest average score among authors with more than 50 ratings  \n",
    "- Users who have given more than 50 ratings to books, on average write ** 24 reviews**  "
   ]
  }
 ],
 "metadata": {
  "ExecuteTimeLog": [
   {
    "duration": 135,
    "start_time": "2021-07-30T13:33:17.286Z"
   },
   {
    "duration": 1049,
    "start_time": "2021-07-30T13:33:28.053Z"
   },
   {
    "duration": 45,
    "start_time": "2021-07-30T13:34:02.446Z"
   },
   {
    "duration": 231,
    "start_time": "2021-07-30T13:35:16.902Z"
   },
   {
    "duration": 63,
    "start_time": "2021-07-30T13:35:58.297Z"
   },
   {
    "duration": 64,
    "start_time": "2021-07-30T13:36:10.217Z"
   },
   {
    "duration": 64,
    "start_time": "2021-07-30T13:36:22.136Z"
   },
   {
    "duration": 64,
    "start_time": "2021-07-30T13:36:36.047Z"
   },
   {
    "duration": 147,
    "start_time": "2021-07-30T13:38:00.081Z"
   },
   {
    "duration": 3,
    "start_time": "2021-07-30T13:38:21.817Z"
   },
   {
    "duration": 59,
    "start_time": "2021-07-30T13:38:37.526Z"
   },
   {
    "duration": 184,
    "start_time": "2021-07-30T13:39:21.738Z"
   },
   {
    "duration": 4,
    "start_time": "2021-07-30T13:41:34.534Z"
   },
   {
    "duration": 83,
    "start_time": "2021-07-30T13:41:48.506Z"
   },
   {
    "duration": 69,
    "start_time": "2021-07-30T13:42:17.344Z"
   },
   {
    "duration": 3,
    "start_time": "2021-07-30T13:44:57.985Z"
   },
   {
    "duration": 68,
    "start_time": "2021-07-30T13:45:09.246Z"
   },
   {
    "duration": 140,
    "start_time": "2021-07-30T13:46:03.256Z"
   },
   {
    "duration": 4,
    "start_time": "2021-07-30T13:48:04.777Z"
   },
   {
    "duration": 68,
    "start_time": "2021-07-30T13:48:17.466Z"
   },
   {
    "duration": 3,
    "start_time": "2021-07-30T13:51:34.535Z"
   },
   {
    "duration": 65,
    "start_time": "2021-07-30T13:51:45.668Z"
   },
   {
    "duration": 3,
    "start_time": "2021-07-30T13:53:51.456Z"
   },
   {
    "duration": 165,
    "start_time": "2021-07-30T14:03:35.714Z"
   },
   {
    "duration": 68,
    "start_time": "2021-07-30T14:12:16.776Z"
   },
   {
    "duration": 94,
    "start_time": "2021-07-30T14:12:23.538Z"
   },
   {
    "duration": 63,
    "start_time": "2021-07-30T14:12:29.455Z"
   },
   {
    "duration": 64,
    "start_time": "2021-07-30T14:12:35.297Z"
   },
   {
    "duration": 66,
    "start_time": "2021-07-30T14:12:42.417Z"
   },
   {
    "duration": 4,
    "start_time": "2021-07-30T14:14:41.785Z"
   },
   {
    "duration": 8,
    "start_time": "2021-07-30T14:14:41.792Z"
   },
   {
    "duration": 215,
    "start_time": "2021-07-30T14:14:41.803Z"
   },
   {
    "duration": 61,
    "start_time": "2021-07-30T14:14:42.021Z"
   },
   {
    "duration": 63,
    "start_time": "2021-07-30T14:14:42.084Z"
   },
   {
    "duration": 63,
    "start_time": "2021-07-30T14:14:42.149Z"
   },
   {
    "duration": 63,
    "start_time": "2021-07-30T14:14:42.214Z"
   },
   {
    "duration": 3,
    "start_time": "2021-07-30T14:14:42.281Z"
   },
   {
    "duration": 64,
    "start_time": "2021-07-30T14:14:42.287Z"
   },
   {
    "duration": 3,
    "start_time": "2021-07-30T14:14:42.354Z"
   },
   {
    "duration": 77,
    "start_time": "2021-07-30T14:14:42.359Z"
   },
   {
    "duration": 3,
    "start_time": "2021-07-30T14:14:42.439Z"
   },
   {
    "duration": 13,
    "start_time": "2021-07-30T14:14:42.444Z"
   },
   {
    "duration": 70,
    "start_time": "2021-07-30T14:14:42.460Z"
   },
   {
    "duration": 3,
    "start_time": "2021-07-30T14:14:42.532Z"
   },
   {
    "duration": 73,
    "start_time": "2021-07-30T14:14:42.538Z"
   },
   {
    "duration": 4,
    "start_time": "2021-07-30T14:14:42.613Z"
   },
   {
    "duration": 68,
    "start_time": "2021-07-30T14:14:42.619Z"
   },
   {
    "duration": 144,
    "start_time": "2021-07-30T14:15:59.609Z"
   },
   {
    "duration": 134,
    "start_time": "2021-07-30T14:16:09.175Z"
   },
   {
    "duration": 64,
    "start_time": "2021-07-30T14:16:16.943Z"
   },
   {
    "duration": 3,
    "start_time": "2021-07-30T14:16:40.180Z"
   },
   {
    "duration": 73,
    "start_time": "2021-07-30T14:16:41.704Z"
   },
   {
    "duration": 917,
    "start_time": "2021-07-30T14:21:32.541Z"
   },
   {
    "duration": 39,
    "start_time": "2021-07-30T14:21:33.460Z"
   },
   {
    "duration": 220,
    "start_time": "2021-07-30T14:21:33.501Z"
   },
   {
    "duration": 62,
    "start_time": "2021-07-30T14:21:33.724Z"
   },
   {
    "duration": 63,
    "start_time": "2021-07-30T14:21:33.788Z"
   },
   {
    "duration": 65,
    "start_time": "2021-07-30T14:21:33.853Z"
   },
   {
    "duration": 65,
    "start_time": "2021-07-30T14:21:33.920Z"
   },
   {
    "duration": 4,
    "start_time": "2021-07-30T14:21:33.989Z"
   },
   {
    "duration": 65,
    "start_time": "2021-07-30T14:21:33.996Z"
   },
   {
    "duration": 3,
    "start_time": "2021-07-30T14:21:34.064Z"
   },
   {
    "duration": 78,
    "start_time": "2021-07-30T14:21:34.069Z"
   },
   {
    "duration": 3,
    "start_time": "2021-07-30T14:21:34.149Z"
   },
   {
    "duration": 6,
    "start_time": "2021-07-30T14:21:34.155Z"
   },
   {
    "duration": 69,
    "start_time": "2021-07-30T14:21:34.164Z"
   },
   {
    "duration": 4,
    "start_time": "2021-07-30T14:21:34.235Z"
   },
   {
    "duration": 77,
    "start_time": "2021-07-30T14:21:34.240Z"
   },
   {
    "duration": 3,
    "start_time": "2021-07-30T14:21:34.319Z"
   },
   {
    "duration": 67,
    "start_time": "2021-07-30T14:21:34.325Z"
   },
   {
    "duration": 566,
    "start_time": "2021-07-31T09:33:44.221Z"
   },
   {
    "duration": 26,
    "start_time": "2021-07-31T09:33:44.789Z"
   },
   {
    "duration": 276,
    "start_time": "2021-07-31T09:33:44.817Z"
   },
   {
    "duration": 77,
    "start_time": "2021-07-31T09:33:45.095Z"
   },
   {
    "duration": 76,
    "start_time": "2021-07-31T09:33:45.173Z"
   },
   {
    "duration": 76,
    "start_time": "2021-07-31T09:33:45.251Z"
   },
   {
    "duration": 76,
    "start_time": "2021-07-31T09:33:45.328Z"
   },
   {
    "duration": 2,
    "start_time": "2021-07-31T09:33:45.406Z"
   },
   {
    "duration": 77,
    "start_time": "2021-07-31T09:33:45.410Z"
   },
   {
    "duration": 2,
    "start_time": "2021-07-31T09:33:45.489Z"
   },
   {
    "duration": 90,
    "start_time": "2021-07-31T09:33:45.492Z"
   },
   {
    "duration": 2,
    "start_time": "2021-07-31T09:33:45.583Z"
   },
   {
    "duration": 5,
    "start_time": "2021-07-31T09:33:45.587Z"
   },
   {
    "duration": 83,
    "start_time": "2021-07-31T09:33:45.594Z"
   },
   {
    "duration": 2,
    "start_time": "2021-07-31T09:33:45.678Z"
   },
   {
    "duration": 86,
    "start_time": "2021-07-31T09:33:45.682Z"
   },
   {
    "duration": 2,
    "start_time": "2021-07-31T09:33:45.770Z"
   },
   {
    "duration": 84,
    "start_time": "2021-07-31T09:33:45.774Z"
   },
   {
    "duration": 753,
    "start_time": "2021-10-01T09:35:36.731Z"
   },
   {
    "duration": 37,
    "start_time": "2021-10-01T09:35:37.486Z"
   },
   {
    "duration": 43,
    "start_time": "2021-10-01T09:35:37.526Z"
   },
   {
    "duration": 13,
    "start_time": "2021-10-01T09:35:37.571Z"
   },
   {
    "duration": 14,
    "start_time": "2021-10-01T09:35:37.586Z"
   },
   {
    "duration": 12,
    "start_time": "2021-10-01T09:35:37.603Z"
   },
   {
    "duration": 12,
    "start_time": "2021-10-01T09:35:37.617Z"
   },
   {
    "duration": 3,
    "start_time": "2021-10-01T09:35:37.630Z"
   },
   {
    "duration": 12,
    "start_time": "2021-10-01T09:35:37.635Z"
   },
   {
    "duration": 3,
    "start_time": "2021-10-01T09:35:37.649Z"
   },
   {
    "duration": 57,
    "start_time": "2021-10-01T09:35:37.653Z"
   },
   {
    "duration": 2,
    "start_time": "2021-10-01T09:35:37.712Z"
   },
   {
    "duration": 10,
    "start_time": "2021-10-01T09:35:37.716Z"
   },
   {
    "duration": 19,
    "start_time": "2021-10-01T09:35:37.728Z"
   },
   {
    "duration": 3,
    "start_time": "2021-10-01T09:35:37.749Z"
   },
   {
    "duration": 23,
    "start_time": "2021-10-01T09:35:37.754Z"
   },
   {
    "duration": 3,
    "start_time": "2021-10-01T09:35:37.778Z"
   },
   {
    "duration": 18,
    "start_time": "2021-10-01T09:35:37.782Z"
   }
  ],
  "kernelspec": {
   "display_name": "Python 3",
   "language": "python",
   "name": "python3"
  },
  "language_info": {
   "codemirror_mode": {
    "name": "ipython",
    "version": 3
   },
   "file_extension": ".py",
   "mimetype": "text/x-python",
   "name": "python",
   "nbconvert_exporter": "python",
   "pygments_lexer": "ipython3",
   "version": "3.7.8"
  },
  "toc": {
   "base_numbering": 1,
   "nav_menu": {},
   "number_sections": false,
   "sideBar": true,
   "skip_h1_title": false,
   "title_cell": "Table of Contents",
   "title_sidebar": "Contents",
   "toc_cell": false,
   "toc_position": {},
   "toc_section_display": true,
   "toc_window_display": false
  }
 },
 "nbformat": 4,
 "nbformat_minor": 2
}
